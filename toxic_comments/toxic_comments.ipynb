{
 "cells": [
  {
   "cell_type": "markdown",
   "metadata": {},
   "source": [
    "# Проект для «Викишоп»"
   ]
  },
  {
   "cell_type": "markdown",
   "metadata": {},
   "source": [
    "Интернет-магазин «Викишоп» запускает новый сервис. Теперь пользователи могут редактировать и дополнять описания товаров, как в вики-сообществах. То есть клиенты предлагают свои правки и комментируют изменения других. Магазину нужен инструмент, который будет искать токсичные комментарии и отправлять их на модерацию. \n",
    "\n",
    "Обучите модель классифицировать комментарии на позитивные и негативные. В вашем распоряжении набор данных с разметкой о токсичности правок.\n",
    "\n",
    "Постройте модель со значением метрики качества *F1* не меньше 0.75. "
   ]
  },
  {
   "cell_type": "markdown",
   "metadata": {},
   "source": [
    "## Подготовка"
   ]
  },
  {
   "cell_type": "code",
   "execution_count": 1,
   "metadata": {},
   "outputs": [],
   "source": [
    "import pandas as pd\n",
    "import matplotlib.pyplot as plt\n",
    "import random\n",
    "from sklearn.utils import resample\n",
    "import re\n",
    "from sklearn.model_selection import train_test_split, cross_val_score, GridSearchCV\n",
    "from sklearn.utils import shuffle\n",
    "import nltk\n",
    "from nltk.stem import WordNetLemmatizer\n",
    "from nltk.corpus import stopwords as nltk_stopwords\n",
    "from sklearn.feature_extraction.text import TfidfVectorizer\n",
    "\n",
    "from sklearn.svm import SVC\n",
    "from sklearn.preprocessing import StandardScaler\n",
    "from sklearn.pipeline import Pipeline\n",
    "\n",
    "from sklearn.linear_model import LogisticRegression, SGDClassifier\n",
    "from sklearn.tree import DecisionTreeClassifier\n",
    "from sklearn.ensemble import RandomForestClassifier\n",
    "from catboost import CatBoostClassifier\n",
    "from sklearn.metrics import f1_score, precision_score, recall_score, accuracy_score, roc_auc_score, roc_curve\n",
    "# import warnings\n",
    "# warnings.filterwarnings('ignore')"
   ]
  },
  {
   "cell_type": "code",
   "execution_count": 2,
   "metadata": {},
   "outputs": [
    {
     "data": {
      "text/html": [
       "<div>\n",
       "<style scoped>\n",
       "    .dataframe tbody tr th:only-of-type {\n",
       "        vertical-align: middle;\n",
       "    }\n",
       "\n",
       "    .dataframe tbody tr th {\n",
       "        vertical-align: top;\n",
       "    }\n",
       "\n",
       "    .dataframe thead th {\n",
       "        text-align: right;\n",
       "    }\n",
       "</style>\n",
       "<table border=\"1\" class=\"dataframe\">\n",
       "  <thead>\n",
       "    <tr style=\"text-align: right;\">\n",
       "      <th></th>\n",
       "      <th>text</th>\n",
       "      <th>toxic</th>\n",
       "    </tr>\n",
       "  </thead>\n",
       "  <tbody>\n",
       "    <tr>\n",
       "      <th>0</th>\n",
       "      <td>Explanation\\nWhy the edits made under my usern...</td>\n",
       "      <td>0</td>\n",
       "    </tr>\n",
       "    <tr>\n",
       "      <th>1</th>\n",
       "      <td>D'aww! He matches this background colour I'm s...</td>\n",
       "      <td>0</td>\n",
       "    </tr>\n",
       "    <tr>\n",
       "      <th>2</th>\n",
       "      <td>Hey man, I'm really not trying to edit war. It...</td>\n",
       "      <td>0</td>\n",
       "    </tr>\n",
       "    <tr>\n",
       "      <th>3</th>\n",
       "      <td>\"\\nMore\\nI can't make any real suggestions on ...</td>\n",
       "      <td>0</td>\n",
       "    </tr>\n",
       "    <tr>\n",
       "      <th>4</th>\n",
       "      <td>You, sir, are my hero. Any chance you remember...</td>\n",
       "      <td>0</td>\n",
       "    </tr>\n",
       "    <tr>\n",
       "      <th>...</th>\n",
       "      <td>...</td>\n",
       "      <td>...</td>\n",
       "    </tr>\n",
       "    <tr>\n",
       "      <th>159566</th>\n",
       "      <td>\":::::And for the second time of asking, when ...</td>\n",
       "      <td>0</td>\n",
       "    </tr>\n",
       "    <tr>\n",
       "      <th>159567</th>\n",
       "      <td>You should be ashamed of yourself \\n\\nThat is ...</td>\n",
       "      <td>0</td>\n",
       "    </tr>\n",
       "    <tr>\n",
       "      <th>159568</th>\n",
       "      <td>Spitzer \\n\\nUmm, theres no actual article for ...</td>\n",
       "      <td>0</td>\n",
       "    </tr>\n",
       "    <tr>\n",
       "      <th>159569</th>\n",
       "      <td>And it looks like it was actually you who put ...</td>\n",
       "      <td>0</td>\n",
       "    </tr>\n",
       "    <tr>\n",
       "      <th>159570</th>\n",
       "      <td>\"\\nAnd ... I really don't think you understand...</td>\n",
       "      <td>0</td>\n",
       "    </tr>\n",
       "  </tbody>\n",
       "</table>\n",
       "<p>159571 rows × 2 columns</p>\n",
       "</div>"
      ],
      "text/plain": [
       "                                                     text  toxic\n",
       "0       Explanation\\nWhy the edits made under my usern...      0\n",
       "1       D'aww! He matches this background colour I'm s...      0\n",
       "2       Hey man, I'm really not trying to edit war. It...      0\n",
       "3       \"\\nMore\\nI can't make any real suggestions on ...      0\n",
       "4       You, sir, are my hero. Any chance you remember...      0\n",
       "...                                                   ...    ...\n",
       "159566  \":::::And for the second time of asking, when ...      0\n",
       "159567  You should be ashamed of yourself \\n\\nThat is ...      0\n",
       "159568  Spitzer \\n\\nUmm, theres no actual article for ...      0\n",
       "159569  And it looks like it was actually you who put ...      0\n",
       "159570  \"\\nAnd ... I really don't think you understand...      0\n",
       "\n",
       "[159571 rows x 2 columns]"
      ]
     },
     "execution_count": 2,
     "metadata": {},
     "output_type": "execute_result"
    }
   ],
   "source": [
    "df = pd.read_csv('/datasets/toxic_comments.csv')"
   ]
  },
  {
   "cell_type": "code",
   "execution_count": 3,
   "metadata": {},
   "outputs": [
    {
     "name": "stdout",
     "output_type": "stream",
     "text": [
      "<class 'pandas.core.frame.DataFrame'>\n",
      "RangeIndex: 159571 entries, 0 to 159570\n",
      "Data columns (total 2 columns):\n",
      " #   Column  Non-Null Count   Dtype \n",
      "---  ------  --------------   ----- \n",
      " 0   text    159571 non-null  object\n",
      " 1   toxic   159571 non-null  int64 \n",
      "dtypes: int64(1), object(1)\n",
      "memory usage: 2.4+ MB\n"
     ]
    }
   ],
   "source": [
    "df.info()"
   ]
  },
  {
   "cell_type": "code",
   "execution_count": 4,
   "metadata": {},
   "outputs": [
    {
     "data": {
      "text/plain": [
       "0    143346\n",
       "1     16225\n",
       "Name: toxic, dtype: int64"
      ]
     },
     "execution_count": 4,
     "metadata": {},
     "output_type": "execute_result"
    }
   ],
   "source": [
    "sizes = df.toxic.value_counts()\n",
    "sizes"
   ]
  },
  {
   "cell_type": "markdown",
   "metadata": {},
   "source": [
    "Видим большой дисбаланс классов."
   ]
  },
  {
   "cell_type": "code",
   "execution_count": 5,
   "metadata": {},
   "outputs": [
    {
     "data": {
      "text/html": [
       "<div>\n",
       "<style scoped>\n",
       "    .dataframe tbody tr th:only-of-type {\n",
       "        vertical-align: middle;\n",
       "    }\n",
       "\n",
       "    .dataframe tbody tr th {\n",
       "        vertical-align: top;\n",
       "    }\n",
       "\n",
       "    .dataframe thead th {\n",
       "        text-align: right;\n",
       "    }\n",
       "</style>\n",
       "<table border=\"1\" class=\"dataframe\">\n",
       "  <thead>\n",
       "    <tr style=\"text-align: right;\">\n",
       "      <th></th>\n",
       "      <th>text</th>\n",
       "      <th>toxic</th>\n",
       "    </tr>\n",
       "  </thead>\n",
       "  <tbody>\n",
       "    <tr>\n",
       "      <th>0</th>\n",
       "      <td>Ahh shut the fuck up you douchebag sand nigger...</td>\n",
       "      <td>1</td>\n",
       "    </tr>\n",
       "    <tr>\n",
       "      <th>1</th>\n",
       "      <td>\"\\n\\nREPLY: There is no such thing as Texas Co...</td>\n",
       "      <td>0</td>\n",
       "    </tr>\n",
       "    <tr>\n",
       "      <th>2</th>\n",
       "      <td>Reply\\nHey, you could at least mention Jasenov...</td>\n",
       "      <td>0</td>\n",
       "    </tr>\n",
       "    <tr>\n",
       "      <th>3</th>\n",
       "      <td>Thats fine, there is no deadline )   chi?</td>\n",
       "      <td>0</td>\n",
       "    </tr>\n",
       "    <tr>\n",
       "      <th>4</th>\n",
       "      <td>\"\\n\\nDYK nomination of Mustarabim\\n Hello! You...</td>\n",
       "      <td>0</td>\n",
       "    </tr>\n",
       "    <tr>\n",
       "      <th>...</th>\n",
       "      <td>...</td>\n",
       "      <td>...</td>\n",
       "    </tr>\n",
       "    <tr>\n",
       "      <th>127652</th>\n",
       "      <td>\"\\n\\n Remove NPOV  \\n\\nI guess the days of NPO...</td>\n",
       "      <td>0</td>\n",
       "    </tr>\n",
       "    <tr>\n",
       "      <th>127653</th>\n",
       "      <td>\"do you accept the stereotype that women are i...</td>\n",
       "      <td>0</td>\n",
       "    </tr>\n",
       "    <tr>\n",
       "      <th>127654</th>\n",
       "      <td>vandalism \\n\\ndisagree ... you limeys are just...</td>\n",
       "      <td>0</td>\n",
       "    </tr>\n",
       "    <tr>\n",
       "      <th>127655</th>\n",
       "      <td>\"\\nWelcome!\\n\\nHello, , and welcome to Wikiped...</td>\n",
       "      <td>0</td>\n",
       "    </tr>\n",
       "    <tr>\n",
       "      <th>127656</th>\n",
       "      <td>\":::::::::*\"\"White House\"\" and \"\"AACS encrypti...</td>\n",
       "      <td>0</td>\n",
       "    </tr>\n",
       "  </tbody>\n",
       "</table>\n",
       "<p>127657 rows × 2 columns</p>\n",
       "</div>"
      ],
      "text/plain": [
       "                                                     text  toxic\n",
       "0       Ahh shut the fuck up you douchebag sand nigger...      1\n",
       "1       \"\\n\\nREPLY: There is no such thing as Texas Co...      0\n",
       "2       Reply\\nHey, you could at least mention Jasenov...      0\n",
       "3               Thats fine, there is no deadline )   chi?      0\n",
       "4       \"\\n\\nDYK nomination of Mustarabim\\n Hello! You...      0\n",
       "...                                                   ...    ...\n",
       "127652  \"\\n\\n Remove NPOV  \\n\\nI guess the days of NPO...      0\n",
       "127653  \"do you accept the stereotype that women are i...      0\n",
       "127654  vandalism \\n\\ndisagree ... you limeys are just...      0\n",
       "127655  \"\\nWelcome!\\n\\nHello, , and welcome to Wikiped...      0\n",
       "127656  \":::::::::*\"\"White House\"\" and \"\"AACS encrypti...      0\n",
       "\n",
       "[127657 rows x 2 columns]"
      ]
     },
     "execution_count": 5,
     "metadata": {},
     "output_type": "execute_result"
    }
   ],
   "source": [
    "# уменьшеие исходной выборки\n",
    "df = df.sample(frac=0.8, random_state=12345).reset_index(drop=True)\n",
    "df"
   ]
  },
  {
   "cell_type": "code",
   "execution_count": 6,
   "metadata": {
    "scrolled": true
   },
   "outputs": [
    {
     "name": "stdout",
     "output_type": "stream",
     "text": [
      "Wall time: 3min 2s\n"
     ]
    }
   ],
   "source": [
    "%%time\n",
    "wnl = WordNetLemmatizer()\n",
    "\n",
    "def lemmatize(text):\n",
    "    \"\"\"функция лемматизации и очистки текстов\"\"\"\n",
    "    text = text.lower()\n",
    "    word_list = nltk.word_tokenize(text)\n",
    "    lemmas = ' '.join([wnl.lemmatize(w) for w in word_list])\n",
    "    clear = re.sub(r'[^a-zA-Z]', ' ', lemmas) \n",
    "    return \" \".join(clear.split())\n",
    "\n",
    "df['lemmas'] = df['text'].apply(lemmatize)\n",
    "df = df.drop(['text'], axis=1)"
   ]
  },
  {
   "cell_type": "code",
   "execution_count": 7,
   "metadata": {
    "scrolled": false
   },
   "outputs": [
    {
     "data": {
      "text/html": [
       "<div>\n",
       "<style scoped>\n",
       "    .dataframe tbody tr th:only-of-type {\n",
       "        vertical-align: middle;\n",
       "    }\n",
       "\n",
       "    .dataframe tbody tr th {\n",
       "        vertical-align: top;\n",
       "    }\n",
       "\n",
       "    .dataframe thead th {\n",
       "        text-align: right;\n",
       "    }\n",
       "</style>\n",
       "<table border=\"1\" class=\"dataframe\">\n",
       "  <thead>\n",
       "    <tr style=\"text-align: right;\">\n",
       "      <th></th>\n",
       "      <th>toxic</th>\n",
       "      <th>lemmas</th>\n",
       "    </tr>\n",
       "  </thead>\n",
       "  <tbody>\n",
       "    <tr>\n",
       "      <th>0</th>\n",
       "      <td>1</td>\n",
       "      <td>ahh shut the fuck up you douchebag sand nigger...</td>\n",
       "    </tr>\n",
       "    <tr>\n",
       "      <th>1</th>\n",
       "      <td>0</td>\n",
       "      <td>reply there is no such thing a texas commerce ...</td>\n",
       "    </tr>\n",
       "    <tr>\n",
       "      <th>2</th>\n",
       "      <td>0</td>\n",
       "      <td>reply hey you could at least mention jasenovac...</td>\n",
       "    </tr>\n",
       "    <tr>\n",
       "      <th>3</th>\n",
       "      <td>0</td>\n",
       "      <td>thats fine there is no deadline chi</td>\n",
       "    </tr>\n",
       "    <tr>\n",
       "      <th>4</th>\n",
       "      <td>0</td>\n",
       "      <td>dyk nomination of mustarabim hello your submis...</td>\n",
       "    </tr>\n",
       "    <tr>\n",
       "      <th>...</th>\n",
       "      <td>...</td>\n",
       "      <td>...</td>\n",
       "    </tr>\n",
       "    <tr>\n",
       "      <th>127652</th>\n",
       "      <td>0</td>\n",
       "      <td>remove npov i guess the day of npov are now ov...</td>\n",
       "    </tr>\n",
       "    <tr>\n",
       "      <th>127653</th>\n",
       "      <td>0</td>\n",
       "      <td>do you accept the stereotype that woman are in...</td>\n",
       "    </tr>\n",
       "    <tr>\n",
       "      <th>127654</th>\n",
       "      <td>0</td>\n",
       "      <td>vandalism disagree you limey are just frustrat...</td>\n",
       "    </tr>\n",
       "    <tr>\n",
       "      <th>127655</th>\n",
       "      <td>0</td>\n",
       "      <td>welcome hello and welcome to wikipedia thank y...</td>\n",
       "    </tr>\n",
       "    <tr>\n",
       "      <th>127656</th>\n",
       "      <td>0</td>\n",
       "      <td>white house and aacs encryption key are not pe...</td>\n",
       "    </tr>\n",
       "  </tbody>\n",
       "</table>\n",
       "<p>127657 rows × 2 columns</p>\n",
       "</div>"
      ],
      "text/plain": [
       "        toxic                                             lemmas\n",
       "0           1  ahh shut the fuck up you douchebag sand nigger...\n",
       "1           0  reply there is no such thing a texas commerce ...\n",
       "2           0  reply hey you could at least mention jasenovac...\n",
       "3           0                thats fine there is no deadline chi\n",
       "4           0  dyk nomination of mustarabim hello your submis...\n",
       "...       ...                                                ...\n",
       "127652      0  remove npov i guess the day of npov are now ov...\n",
       "127653      0  do you accept the stereotype that woman are in...\n",
       "127654      0  vandalism disagree you limey are just frustrat...\n",
       "127655      0  welcome hello and welcome to wikipedia thank y...\n",
       "127656      0  white house and aacs encryption key are not pe...\n",
       "\n",
       "[127657 rows x 2 columns]"
      ]
     },
     "execution_count": 7,
     "metadata": {},
     "output_type": "execute_result"
    }
   ],
   "source": [
    "df"
   ]
  },
  {
   "cell_type": "markdown",
   "metadata": {},
   "source": [
    "### Вывод"
   ]
  },
  {
   "cell_type": "markdown",
   "metadata": {},
   "source": [
    "Данные подготовлены для обучения моделей."
   ]
  },
  {
   "cell_type": "markdown",
   "metadata": {},
   "source": [
    "## Обучение"
   ]
  },
  {
   "cell_type": "code",
   "execution_count": 8,
   "metadata": {
    "scrolled": true
   },
   "outputs": [
    {
     "data": {
      "text/plain": [
       "(95742, 2)"
      ]
     },
     "metadata": {},
     "output_type": "display_data"
    },
    {
     "data": {
      "text/plain": [
       "(31915, 2)"
      ]
     },
     "metadata": {},
     "output_type": "display_data"
    }
   ],
   "source": [
    "# разобиваем данные на обучающую и тестовую выборки\n",
    "df_train, df_test = train_test_split(df, test_size=0.25, random_state=12345)\n",
    "\n",
    "df_train.toxic.value_counts()\n",
    "\n",
    "# проверка\n",
    "display(df_train.shape, df_test.shape)"
   ]
  },
  {
   "cell_type": "code",
   "execution_count": 9,
   "metadata": {},
   "outputs": [
    {
     "data": {
      "text/plain": [
       "0    86012\n",
       "1     9730\n",
       "Name: toxic, dtype: int64"
      ]
     },
     "execution_count": 9,
     "metadata": {},
     "output_type": "execute_result"
    }
   ],
   "source": [
    "sizes = df_train.toxic.value_counts()\n",
    "sizes"
   ]
  },
  {
   "cell_type": "code",
   "execution_count": 10,
   "metadata": {},
   "outputs": [
    {
     "data": {
      "text/plain": [
       "8.839876670092497"
      ]
     },
     "execution_count": 10,
     "metadata": {},
     "output_type": "execute_result"
    }
   ],
   "source": [
    "size = sizes[0]/sizes[1]\n",
    "size"
   ]
  },
  {
   "cell_type": "markdown",
   "metadata": {},
   "source": [
    "Выявлен дисбаланс классов на тренировочной выборке. Устраним его."
   ]
  },
  {
   "cell_type": "code",
   "execution_count": 11,
   "metadata": {},
   "outputs": [
    {
     "data": {
      "text/plain": [
       "1    86012\n",
       "0    86012\n",
       "Name: toxic, dtype: int64"
      ]
     },
     "execution_count": 11,
     "metadata": {},
     "output_type": "execute_result"
    }
   ],
   "source": [
    "# увеличение выборки для устранения дисбаланса\n",
    "df_train_ds = resample(df_train[df_train['toxic'] == 1], replace=True, n_samples=sizes[0], random_state=12345)\n",
    "df_train = pd.concat([df_train_ds, df_train[df_train['toxic'] == 0]]).reset_index(drop=True)\n",
    "df_train['toxic'].value_counts()"
   ]
  },
  {
   "cell_type": "code",
   "execution_count": 12,
   "metadata": {},
   "outputs": [
    {
     "data": {
      "text/plain": [
       "(172024, 1)"
      ]
     },
     "metadata": {},
     "output_type": "display_data"
    },
    {
     "data": {
      "text/plain": [
       "(31915, 1)"
      ]
     },
     "metadata": {},
     "output_type": "display_data"
    },
    {
     "data": {
      "text/plain": [
       "(172024,)"
      ]
     },
     "metadata": {},
     "output_type": "display_data"
    },
    {
     "data": {
      "text/plain": [
       "(31915,)"
      ]
     },
     "metadata": {},
     "output_type": "display_data"
    }
   ],
   "source": [
    "features_train = df_train.drop('toxic', axis=1)\n",
    "features_test = df_test.drop('toxic', axis=1)\n",
    "target_train = df_train['toxic']\n",
    "target_test = df_test['toxic']\n",
    "\n",
    "# проверка\n",
    "display(features_train.shape, features_test.shape)\n",
    "display(target_train.shape, target_test.shape)"
   ]
  },
  {
   "cell_type": "code",
   "execution_count": 13,
   "metadata": {},
   "outputs": [
    {
     "name": "stderr",
     "output_type": "stream",
     "text": [
      "[nltk_data] Downloading package stopwords to\n",
      "[nltk_data]     C:\\Users\\ilyag\\AppData\\Roaming\\nltk_data...\n",
      "[nltk_data]   Package stopwords is already up-to-date!\n"
     ]
    }
   ],
   "source": [
    "# загрузим список стоп-слов\n",
    "nltk.download('stopwords')\n",
    "stopwords = set(nltk_stopwords.words('english'))"
   ]
  },
  {
   "cell_type": "markdown",
   "metadata": {},
   "source": [
    "Токенизируем строки."
   ]
  },
  {
   "cell_type": "code",
   "execution_count": 14,
   "metadata": {},
   "outputs": [],
   "source": [
    "tf_idf = TfidfVectorizer(ngram_range=(1,3), stop_words=stopwords)"
   ]
  },
  {
   "cell_type": "code",
   "execution_count": 15,
   "metadata": {
    "scrolled": true
   },
   "outputs": [
    {
     "data": {
      "text/plain": [
       "(172024, 4432270)"
      ]
     },
     "metadata": {},
     "output_type": "display_data"
    },
    {
     "data": {
      "text/plain": [
       "(31915, 4432270)"
      ]
     },
     "execution_count": 15,
     "metadata": {},
     "output_type": "execute_result"
    }
   ],
   "source": [
    "features_train = tf_idf.fit_transform(features_train['lemmas'])\n",
    "features_test = tf_idf.transform(features_test['lemmas'])\n",
    "display(features_train.shape)\n",
    "features_test.shape"
   ]
  },
  {
   "cell_type": "markdown",
   "metadata": {},
   "source": [
    "### SGDClassifier"
   ]
  },
  {
   "cell_type": "code",
   "execution_count": 16,
   "metadata": {},
   "outputs": [
    {
     "name": "stdout",
     "output_type": "stream",
     "text": [
      "f1_score: 0.6763817776027308\n",
      "Wall time: 2.35 s\n"
     ]
    }
   ],
   "source": [
    "%%time\n",
    "model_sgd = SGDClassifier(shuffle=True, random_state=12345)\n",
    "model_sgd.fit(features_train, target_train)\n",
    "predict_sgd = model_sgd.predict(features_test)\n",
    "f1_sgd = f1_score(target_test, predict_sgd)\n",
    "print('f1_score:', f1_sgd)"
   ]
  },
  {
   "cell_type": "markdown",
   "metadata": {},
   "source": [
    "### LogisticRegression"
   ]
  },
  {
   "cell_type": "code",
   "execution_count": 17,
   "metadata": {},
   "outputs": [
    {
     "name": "stdout",
     "output_type": "stream",
     "text": [
      "Лучшие параметры логистической регрессии {'C': 100}\n",
      "f1_score: 0.7598978288633462\n",
      "Wall time: 59min\n"
     ]
    }
   ],
   "source": [
    "%%time\n",
    "model_lr = LogisticRegression(max_iter=1000)\n",
    "parameters = {'C':[1, 10, 100]}\n",
    "model_lr_grid = GridSearchCV(model_lr, parameters)\n",
    "model_lr_grid.fit(features_train, target_train)\n",
    "predict_lr = model_lr_grid.predict(features_test)\n",
    "f1_lr = f1_score(target_test, predict_lr)\n",
    "print('Лучшие параметры логистической регрессии' , model_lr_grid.best_params_)\n",
    "print('f1_score:', f1_lr)"
   ]
  },
  {
   "cell_type": "code",
   "execution_count": 18,
   "metadata": {},
   "outputs": [
    {
     "data": {
      "text/html": [
       "<div>\n",
       "<style scoped>\n",
       "    .dataframe tbody tr th:only-of-type {\n",
       "        vertical-align: middle;\n",
       "    }\n",
       "\n",
       "    .dataframe tbody tr th {\n",
       "        vertical-align: top;\n",
       "    }\n",
       "\n",
       "    .dataframe thead th {\n",
       "        text-align: right;\n",
       "    }\n",
       "</style>\n",
       "<table border=\"1\" class=\"dataframe\">\n",
       "  <thead>\n",
       "    <tr style=\"text-align: right;\">\n",
       "      <th></th>\n",
       "      <th>f1_score</th>\n",
       "    </tr>\n",
       "    <tr>\n",
       "      <th>model_name</th>\n",
       "      <th></th>\n",
       "    </tr>\n",
       "  </thead>\n",
       "  <tbody>\n",
       "    <tr>\n",
       "      <th>SGDClassifier</th>\n",
       "      <td>0.68</td>\n",
       "    </tr>\n",
       "    <tr>\n",
       "      <th>LogisticRegression</th>\n",
       "      <td>0.76</td>\n",
       "    </tr>\n",
       "  </tbody>\n",
       "</table>\n",
       "</div>"
      ],
      "text/plain": [
       "                    f1_score\n",
       "model_name                  \n",
       "SGDClassifier           0.68\n",
       "LogisticRegression      0.76"
      ]
     },
     "execution_count": 18,
     "metadata": {},
     "output_type": "execute_result"
    }
   ],
   "source": [
    "model_dict = {'model_name': ['SGDClassifier',\n",
    "                             'LogisticRegression'],\n",
    "             'f1_score': [0.68, 0.76]}\n",
    "df_result = pd.DataFrame(model_dict).set_index('model_name')\n",
    "df_result"
   ]
  },
  {
   "cell_type": "code",
   "execution_count": 19,
   "metadata": {},
   "outputs": [
    {
     "data": {
      "image/png": "[encoded data removed]",
      "text/plain": [
       "<Figure size 1152x648 with 1 Axes>"
      ]
     },
     "metadata": {
      "needs_background": "light"
     },
     "output_type": "display_data"
    }
   ],
   "source": [
    "plt.subplot(111)\n",
    "df_result.plot(kind='bar',\n",
    "                      figsize=(16,9),\n",
    "                      title='Сравнительная диаграмма f1_score моделей',\n",
    "                      ax=plt.gca()).hlines(.75, -1, 5, color='red');"
   ]
  },
  {
   "cell_type": "markdown",
   "metadata": {},
   "source": [
    "### Выводы"
   ]
  },
  {
   "cell_type": "markdown",
   "metadata": {},
   "source": [
    "* Обучены и протестированы модели SGDClassifier и LogisticRegression\n",
    "* Лучший результат на тестовой выборке показала модель LogisticRegression\n",
    "* Получено целевое значение метрики f1_score "
   ]
  },
  {
   "cell_type": "markdown",
   "metadata": {},
   "source": [
    "## Общий вывод"
   ]
  },
  {
   "cell_type": "markdown",
   "metadata": {},
   "source": [
    "* Была проведена подготовка данных для обучения моделей; выполнена лемматизация, устранён дисбаланс классов\n",
    "* В качестве токенизатора использовали TF-IDF\n",
    "* Было получено целевое значение метрики f1 > 0.75\n",
    "* Лучшее значение метрики f1 показала модель LogisticRegression. f1 = 0.76"
   ]
  }
 ],
 "metadata": {
  "ExecuteTimeLog": [
   {
    "duration": 71,
    "start_time": "2022-06-28T03:55:25.126Z"
   },
   {
    "duration": 415,
    "start_time": "2022-06-28T03:55:28.907Z"
   },
   {
    "duration": 3720,
    "start_time": "2022-06-28T03:55:46.571Z"
   },
   {
    "duration": 33,
    "start_time": "2022-06-28T15:43:06.445Z"
   },
   {
    "duration": 7,
    "start_time": "2022-06-28T15:43:26.596Z"
   },
   {
    "duration": 992,
    "start_time": "2022-06-28T15:53:30.086Z"
   },
   {
    "duration": 3,
    "start_time": "2022-06-28T15:53:47.755Z"
   },
   {
    "duration": 2,
    "start_time": "2022-06-28T16:05:48.807Z"
   },
   {
    "duration": 39,
    "start_time": "2022-06-28T16:26:20.322Z"
   },
   {
    "duration": 1280,
    "start_time": "2022-06-28T16:27:37.589Z"
   },
   {
    "duration": 3776,
    "start_time": "2022-06-28T16:27:38.871Z"
   },
   {
    "duration": 33,
    "start_time": "2022-06-28T16:27:42.649Z"
   },
   {
    "duration": 7,
    "start_time": "2022-06-28T16:27:42.685Z"
   },
   {
    "duration": 69,
    "start_time": "2022-06-28T16:28:20.314Z"
   },
   {
    "duration": 1368,
    "start_time": "2022-06-28T16:28:31.136Z"
   },
   {
    "duration": 3603,
    "start_time": "2022-06-28T16:28:32.506Z"
   },
   {
    "duration": 47,
    "start_time": "2022-06-28T16:28:36.111Z"
   },
   {
    "duration": 9,
    "start_time": "2022-06-28T16:28:36.161Z"
   },
   {
    "duration": 69,
    "start_time": "2022-06-28T16:30:37.333Z"
   },
   {
    "duration": 1481,
    "start_time": "2022-06-28T16:30:47.260Z"
   },
   {
    "duration": 4117,
    "start_time": "2022-06-28T16:30:48.743Z"
   },
   {
    "duration": 32,
    "start_time": "2022-06-28T16:30:52.863Z"
   },
   {
    "duration": 28,
    "start_time": "2022-06-28T16:30:52.897Z"
   },
   {
    "duration": 37,
    "start_time": "2022-06-28T16:30:52.933Z"
   },
   {
    "duration": 40,
    "start_time": "2022-06-28T16:30:52.971Z"
   },
   {
    "duration": 129,
    "start_time": "2022-06-28T16:31:55.760Z"
   },
   {
    "duration": 6,
    "start_time": "2022-06-28T16:31:58.665Z"
   },
   {
    "duration": 4,
    "start_time": "2022-06-28T16:32:42.082Z"
   },
   {
    "duration": 7,
    "start_time": "2022-06-28T16:32:51.250Z"
   },
   {
    "duration": 11,
    "start_time": "2022-06-28T16:33:05.050Z"
   },
   {
    "duration": 1337,
    "start_time": "2022-06-28T16:33:31.691Z"
   },
   {
    "duration": 881,
    "start_time": "2022-06-28T16:33:33.033Z"
   },
   {
    "duration": 42,
    "start_time": "2022-06-28T16:33:33.916Z"
   },
   {
    "duration": 17,
    "start_time": "2022-06-28T16:33:33.961Z"
   },
   {
    "duration": 9,
    "start_time": "2022-06-28T16:33:33.980Z"
   },
   {
    "duration": 15,
    "start_time": "2022-06-28T16:33:33.991Z"
   },
   {
    "duration": 137,
    "start_time": "2022-06-28T16:33:40.152Z"
   },
   {
    "duration": 717,
    "start_time": "2022-06-28T16:34:10.553Z"
   },
   {
    "duration": 73,
    "start_time": "2022-06-28T16:34:50.476Z"
   },
   {
    "duration": 36,
    "start_time": "2022-06-28T16:35:17.918Z"
   },
   {
    "duration": 37,
    "start_time": "2022-06-28T16:35:35.276Z"
   },
   {
    "duration": 724,
    "start_time": "2022-06-28T16:36:23.191Z"
   },
   {
    "duration": 740,
    "start_time": "2022-06-28T16:36:31.546Z"
   },
   {
    "duration": 4,
    "start_time": "2022-06-28T20:25:52.935Z"
   },
   {
    "duration": 8,
    "start_time": "2022-06-28T20:29:50.814Z"
   },
   {
    "duration": 5,
    "start_time": "2022-06-28T20:30:01.245Z"
   },
   {
    "duration": 5,
    "start_time": "2022-06-28T20:30:04.238Z"
   },
   {
    "duration": 1581,
    "start_time": "2022-06-28T20:33:46.480Z"
   },
   {
    "duration": 799,
    "start_time": "2022-06-28T20:33:49.881Z"
   },
   {
    "duration": 33,
    "start_time": "2022-06-28T20:33:52.937Z"
   },
   {
    "duration": 6,
    "start_time": "2022-06-28T20:33:55.167Z"
   },
   {
    "duration": 91,
    "start_time": "2022-06-28T20:33:57.765Z"
   },
   {
    "duration": 18,
    "start_time": "2022-06-28T20:36:41.181Z"
   },
   {
    "duration": 112,
    "start_time": "2022-06-28T20:37:16.839Z"
   },
   {
    "duration": 1339,
    "start_time": "2022-06-28T20:37:25.730Z"
   },
   {
    "duration": 786,
    "start_time": "2022-06-28T20:37:27.071Z"
   },
   {
    "duration": 30,
    "start_time": "2022-06-28T20:37:27.859Z"
   },
   {
    "duration": 6,
    "start_time": "2022-06-28T20:37:27.891Z"
   },
   {
    "duration": 52,
    "start_time": "2022-06-28T20:37:27.899Z"
   },
   {
    "duration": 1604,
    "start_time": "2022-06-28T20:48:13.631Z"
   },
   {
    "duration": 3,
    "start_time": "2022-06-28T20:48:44.696Z"
   },
   {
    "duration": 514,
    "start_time": "2022-06-28T20:49:30.469Z"
   },
   {
    "duration": 18458,
    "start_time": "2022-06-28T20:49:47.312Z"
   },
   {
    "duration": 10,
    "start_time": "2022-06-28T20:50:22.983Z"
   },
   {
    "duration": 1287,
    "start_time": "2022-06-28T20:52:09.041Z"
   },
   {
    "duration": 799,
    "start_time": "2022-06-28T20:52:10.330Z"
   },
   {
    "duration": 31,
    "start_time": "2022-06-28T20:52:11.131Z"
   },
   {
    "duration": 7,
    "start_time": "2022-06-28T20:52:11.164Z"
   },
   {
    "duration": 60,
    "start_time": "2022-06-28T20:52:11.172Z"
   },
   {
    "duration": 3,
    "start_time": "2022-06-28T20:52:11.233Z"
   },
   {
    "duration": 5,
    "start_time": "2022-06-28T20:52:11.237Z"
   },
   {
    "duration": 18181,
    "start_time": "2022-06-28T20:52:11.244Z"
   },
   {
    "duration": 9,
    "start_time": "2022-06-28T20:52:29.427Z"
   },
   {
    "duration": 1144,
    "start_time": "2022-06-28T21:16:41.651Z"
   },
   {
    "duration": 9,
    "start_time": "2022-06-28T21:16:50.988Z"
   },
   {
    "duration": 1235,
    "start_time": "2022-06-28T21:17:03.298Z"
   },
   {
    "duration": 799,
    "start_time": "2022-06-28T21:17:04.535Z"
   },
   {
    "duration": 35,
    "start_time": "2022-06-28T21:17:05.336Z"
   },
   {
    "duration": 15,
    "start_time": "2022-06-28T21:17:05.373Z"
   },
   {
    "duration": 45,
    "start_time": "2022-06-28T21:17:05.390Z"
   },
   {
    "duration": 3,
    "start_time": "2022-06-28T21:17:05.436Z"
   },
   {
    "duration": 12,
    "start_time": "2022-06-28T21:17:05.440Z"
   },
   {
    "duration": 17412,
    "start_time": "2022-06-28T21:17:05.453Z"
   },
   {
    "duration": 9,
    "start_time": "2022-06-28T21:17:22.867Z"
   },
   {
    "duration": 1155,
    "start_time": "2022-06-28T21:17:22.880Z"
   },
   {
    "duration": 10,
    "start_time": "2022-06-28T21:17:24.037Z"
   },
   {
    "duration": 190,
    "start_time": "2022-06-28T21:17:37.043Z"
   },
   {
    "duration": 3,
    "start_time": "2022-06-28T21:19:19.236Z"
   },
   {
    "duration": 16,
    "start_time": "2022-06-28T21:22:23.276Z"
   },
   {
    "duration": 8,
    "start_time": "2022-06-28T21:22:40.567Z"
   },
   {
    "duration": 1204,
    "start_time": "2022-06-28T21:24:24.910Z"
   },
   {
    "duration": 798,
    "start_time": "2022-06-28T21:24:26.116Z"
   },
   {
    "duration": 34,
    "start_time": "2022-06-28T21:24:26.916Z"
   },
   {
    "duration": 7,
    "start_time": "2022-06-28T21:24:26.952Z"
   },
   {
    "duration": 33,
    "start_time": "2022-06-28T21:24:26.961Z"
   },
   {
    "duration": 2,
    "start_time": "2022-06-28T21:24:26.996Z"
   },
   {
    "duration": 30,
    "start_time": "2022-06-28T21:24:27.000Z"
   },
   {
    "duration": 17067,
    "start_time": "2022-06-28T21:24:27.032Z"
   },
   {
    "duration": 9,
    "start_time": "2022-06-28T21:24:44.100Z"
   },
   {
    "duration": 1156,
    "start_time": "2022-06-28T21:24:44.126Z"
   },
   {
    "duration": 11,
    "start_time": "2022-06-28T21:24:45.284Z"
   },
   {
    "duration": 245,
    "start_time": "2022-06-28T21:24:45.296Z"
   },
   {
    "duration": 117,
    "start_time": "2022-06-28T21:24:45.543Z"
   },
   {
    "duration": 13,
    "start_time": "2022-06-28T21:25:05.218Z"
   },
   {
    "duration": 1339,
    "start_time": "2022-06-29T15:51:38.148Z"
   },
   {
    "duration": 1452,
    "start_time": "2022-06-29T15:51:39.488Z"
   },
   {
    "duration": 33,
    "start_time": "2022-06-29T15:51:40.941Z"
   },
   {
    "duration": 6,
    "start_time": "2022-06-29T15:51:40.976Z"
   },
   {
    "duration": 51,
    "start_time": "2022-06-29T15:51:40.984Z"
   },
   {
    "duration": 2,
    "start_time": "2022-06-29T15:51:41.037Z"
   },
   {
    "duration": 5,
    "start_time": "2022-06-29T15:51:41.041Z"
   },
   {
    "duration": 18266,
    "start_time": "2022-06-29T15:51:41.048Z"
   },
   {
    "duration": 20,
    "start_time": "2022-06-29T15:51:59.316Z"
   },
   {
    "duration": 1121,
    "start_time": "2022-06-29T15:51:59.339Z"
   },
   {
    "duration": 11,
    "start_time": "2022-06-29T15:52:00.462Z"
   },
   {
    "duration": 16,
    "start_time": "2022-06-29T15:52:00.475Z"
   },
   {
    "duration": 202,
    "start_time": "2022-06-29T15:52:00.493Z"
   },
   {
    "duration": 6,
    "start_time": "2022-06-29T15:52:00.696Z"
   },
   {
    "duration": 1207,
    "start_time": "2022-06-29T15:52:00.704Z"
   },
   {
    "duration": 6,
    "start_time": "2022-06-29T15:53:03.581Z"
   },
   {
    "duration": 18,
    "start_time": "2022-06-29T16:17:20.906Z"
   },
   {
    "duration": 1268,
    "start_time": "2022-06-29T16:36:30.868Z"
   },
   {
    "duration": 6,
    "start_time": "2022-06-29T16:37:18.067Z"
   },
   {
    "duration": 1424,
    "start_time": "2022-06-29T16:37:26.364Z"
   },
   {
    "duration": 863,
    "start_time": "2022-06-29T16:37:27.790Z"
   },
   {
    "duration": 32,
    "start_time": "2022-06-29T16:37:28.655Z"
   },
   {
    "duration": 11,
    "start_time": "2022-06-29T16:37:28.690Z"
   },
   {
    "duration": 54,
    "start_time": "2022-06-29T16:37:28.702Z"
   },
   {
    "duration": 7,
    "start_time": "2022-06-29T16:37:28.757Z"
   },
   {
    "duration": 23,
    "start_time": "2022-06-29T16:37:28.766Z"
   },
   {
    "duration": 18796,
    "start_time": "2022-06-29T16:37:28.791Z"
   },
   {
    "duration": 9,
    "start_time": "2022-06-29T16:37:47.589Z"
   },
   {
    "duration": 1226,
    "start_time": "2022-06-29T16:37:47.601Z"
   },
   {
    "duration": 9,
    "start_time": "2022-06-29T16:37:48.829Z"
   },
   {
    "duration": 20,
    "start_time": "2022-06-29T16:37:48.840Z"
   },
   {
    "duration": 6,
    "start_time": "2022-06-29T16:37:48.862Z"
   },
   {
    "duration": 233,
    "start_time": "2022-06-29T16:37:48.869Z"
   },
   {
    "duration": 3,
    "start_time": "2022-06-29T16:37:49.104Z"
   },
   {
    "duration": 1285,
    "start_time": "2022-06-29T16:37:49.108Z"
   },
   {
    "duration": 0,
    "start_time": "2022-06-29T16:37:50.395Z"
   },
   {
    "duration": 1457,
    "start_time": "2022-06-29T16:40:48.196Z"
   },
   {
    "duration": 874,
    "start_time": "2022-06-29T16:40:49.655Z"
   },
   {
    "duration": 33,
    "start_time": "2022-06-29T16:40:50.531Z"
   },
   {
    "duration": 5,
    "start_time": "2022-06-29T16:40:50.566Z"
   },
   {
    "duration": 58,
    "start_time": "2022-06-29T16:40:50.574Z"
   },
   {
    "duration": 2,
    "start_time": "2022-06-29T16:40:50.634Z"
   },
   {
    "duration": 7,
    "start_time": "2022-06-29T16:40:50.637Z"
   },
   {
    "duration": 18659,
    "start_time": "2022-06-29T16:40:50.645Z"
   },
   {
    "duration": 21,
    "start_time": "2022-06-29T16:41:09.306Z"
   },
   {
    "duration": 1189,
    "start_time": "2022-06-29T16:41:09.328Z"
   },
   {
    "duration": 13,
    "start_time": "2022-06-29T16:41:10.519Z"
   },
   {
    "duration": 134,
    "start_time": "2022-06-29T16:41:10.534Z"
   },
   {
    "duration": 0,
    "start_time": "2022-06-29T16:41:10.670Z"
   },
   {
    "duration": 0,
    "start_time": "2022-06-29T16:41:10.671Z"
   },
   {
    "duration": 1,
    "start_time": "2022-06-29T16:41:10.672Z"
   },
   {
    "duration": 15,
    "start_time": "2022-06-29T16:41:36.036Z"
   },
   {
    "duration": 8,
    "start_time": "2022-06-29T16:41:38.472Z"
   },
   {
    "duration": 191,
    "start_time": "2022-06-29T16:41:42.858Z"
   },
   {
    "duration": 3,
    "start_time": "2022-06-29T16:41:44.706Z"
   },
   {
    "duration": 19,
    "start_time": "2022-06-29T16:41:46.523Z"
   },
   {
    "duration": 8,
    "start_time": "2022-06-29T16:42:09.483Z"
   },
   {
    "duration": 9,
    "start_time": "2022-06-29T16:42:23.811Z"
   },
   {
    "duration": 3,
    "start_time": "2022-06-29T16:43:16.542Z"
   },
   {
    "duration": 14,
    "start_time": "2022-06-29T16:43:18.300Z"
   },
   {
    "duration": 1398,
    "start_time": "2022-06-29T16:43:24.397Z"
   },
   {
    "duration": 914,
    "start_time": "2022-06-29T16:43:25.797Z"
   },
   {
    "duration": 44,
    "start_time": "2022-06-29T16:43:26.713Z"
   },
   {
    "duration": 7,
    "start_time": "2022-06-29T16:43:26.759Z"
   },
   {
    "duration": 58,
    "start_time": "2022-06-29T16:43:26.769Z"
   },
   {
    "duration": 3,
    "start_time": "2022-06-29T16:43:26.829Z"
   },
   {
    "duration": 15,
    "start_time": "2022-06-29T16:43:26.834Z"
   },
   {
    "duration": 18821,
    "start_time": "2022-06-29T16:43:26.851Z"
   },
   {
    "duration": 11,
    "start_time": "2022-06-29T16:43:45.674Z"
   },
   {
    "duration": 1218,
    "start_time": "2022-06-29T16:43:45.686Z"
   },
   {
    "duration": 10,
    "start_time": "2022-06-29T16:43:46.905Z"
   },
   {
    "duration": 17,
    "start_time": "2022-06-29T16:43:46.925Z"
   },
   {
    "duration": 189,
    "start_time": "2022-06-29T16:43:46.943Z"
   },
   {
    "duration": 3,
    "start_time": "2022-06-29T16:43:47.134Z"
   },
   {
    "duration": 135,
    "start_time": "2022-06-29T16:43:47.139Z"
   },
   {
    "duration": 0,
    "start_time": "2022-06-29T16:43:47.276Z"
   },
   {
    "duration": 8,
    "start_time": "2022-06-29T16:47:57.129Z"
   },
   {
    "duration": 343,
    "start_time": "2022-06-29T16:53:57.562Z"
   },
   {
    "duration": 10,
    "start_time": "2022-06-29T16:56:19.864Z"
   },
   {
    "duration": 345,
    "start_time": "2022-06-29T16:56:23.305Z"
   },
   {
    "duration": 1716,
    "start_time": "2022-06-29T17:00:23.728Z"
   },
   {
    "duration": 3156,
    "start_time": "2022-06-29T17:00:25.446Z"
   },
   {
    "duration": 35,
    "start_time": "2022-06-29T17:00:28.603Z"
   },
   {
    "duration": 7,
    "start_time": "2022-06-29T17:00:28.639Z"
   },
   {
    "duration": 35,
    "start_time": "2022-06-29T17:00:28.648Z"
   },
   {
    "duration": 2,
    "start_time": "2022-06-29T17:00:28.685Z"
   },
   {
    "duration": 4,
    "start_time": "2022-06-29T17:00:28.689Z"
   },
   {
    "duration": 18436,
    "start_time": "2022-06-29T17:00:28.694Z"
   },
   {
    "duration": 10,
    "start_time": "2022-06-29T17:00:47.133Z"
   },
   {
    "duration": 9,
    "start_time": "2022-06-29T17:00:47.146Z"
   },
   {
    "duration": 16,
    "start_time": "2022-06-29T17:00:47.156Z"
   },
   {
    "duration": 242,
    "start_time": "2022-06-29T17:00:47.174Z"
   },
   {
    "duration": 3,
    "start_time": "2022-06-29T17:00:47.417Z"
   },
   {
    "duration": 13,
    "start_time": "2022-06-29T17:00:47.422Z"
   },
   {
    "duration": 452,
    "start_time": "2022-06-29T17:00:47.436Z"
   },
   {
    "duration": 0,
    "start_time": "2022-06-29T17:00:47.890Z"
   },
   {
    "duration": 1349,
    "start_time": "2022-06-29T17:02:21.282Z"
   },
   {
    "duration": 878,
    "start_time": "2022-06-29T17:02:22.633Z"
   },
   {
    "duration": 36,
    "start_time": "2022-06-29T17:02:23.513Z"
   },
   {
    "duration": 5,
    "start_time": "2022-06-29T17:02:23.551Z"
   },
   {
    "duration": 45,
    "start_time": "2022-06-29T17:02:23.558Z"
   },
   {
    "duration": 2,
    "start_time": "2022-06-29T17:02:23.606Z"
   },
   {
    "duration": 7,
    "start_time": "2022-06-29T17:02:23.625Z"
   },
   {
    "duration": 18391,
    "start_time": "2022-06-29T17:02:23.634Z"
   },
   {
    "duration": 11,
    "start_time": "2022-06-29T17:02:42.027Z"
   },
   {
    "duration": 12,
    "start_time": "2022-06-29T17:02:42.039Z"
   },
   {
    "duration": 22,
    "start_time": "2022-06-29T17:02:42.052Z"
   },
   {
    "duration": 16,
    "start_time": "2022-06-29T17:02:47.048Z"
   },
   {
    "duration": 8,
    "start_time": "2022-06-29T17:02:54.765Z"
   },
   {
    "duration": 9,
    "start_time": "2022-06-29T17:03:02.271Z"
   },
   {
    "duration": 5,
    "start_time": "2022-06-29T17:03:11.367Z"
   },
   {
    "duration": 5,
    "start_time": "2022-06-29T17:03:16.464Z"
   },
   {
    "duration": 242,
    "start_time": "2022-06-29T17:03:43.959Z"
   },
   {
    "duration": 4,
    "start_time": "2022-06-29T17:03:46.581Z"
   },
   {
    "duration": 456,
    "start_time": "2022-06-29T17:03:48.762Z"
   },
   {
    "duration": 1362,
    "start_time": "2022-06-29T17:15:43.865Z"
   },
   {
    "duration": 858,
    "start_time": "2022-06-29T17:15:45.229Z"
   },
   {
    "duration": 40,
    "start_time": "2022-06-29T17:15:46.089Z"
   },
   {
    "duration": 5,
    "start_time": "2022-06-29T17:15:46.131Z"
   },
   {
    "duration": 37,
    "start_time": "2022-06-29T17:15:46.138Z"
   },
   {
    "duration": 2,
    "start_time": "2022-06-29T17:15:46.177Z"
   },
   {
    "duration": 6,
    "start_time": "2022-06-29T17:15:46.181Z"
   },
   {
    "duration": 18445,
    "start_time": "2022-06-29T17:15:46.189Z"
   },
   {
    "duration": 10,
    "start_time": "2022-06-29T17:16:04.637Z"
   },
   {
    "duration": 8,
    "start_time": "2022-06-29T17:16:04.648Z"
   },
   {
    "duration": 17,
    "start_time": "2022-06-29T17:16:04.657Z"
   },
   {
    "duration": 160,
    "start_time": "2022-06-29T17:16:04.676Z"
   },
   {
    "duration": 117,
    "start_time": "2022-06-29T17:16:04.838Z"
   },
   {
    "duration": 0,
    "start_time": "2022-06-29T17:16:04.956Z"
   },
   {
    "duration": 0,
    "start_time": "2022-06-29T17:16:04.957Z"
   },
   {
    "duration": 11,
    "start_time": "2022-06-29T17:16:25.204Z"
   },
   {
    "duration": 12,
    "start_time": "2022-06-29T17:16:30.571Z"
   },
   {
    "duration": 10,
    "start_time": "2022-06-29T17:16:35.813Z"
   },
   {
    "duration": 10,
    "start_time": "2022-06-29T17:19:25.318Z"
   },
   {
    "duration": 47,
    "start_time": "2022-06-29T17:20:20.548Z"
   },
   {
    "duration": 1311,
    "start_time": "2022-06-29T17:21:07.874Z"
   },
   {
    "duration": 870,
    "start_time": "2022-06-29T17:21:09.187Z"
   },
   {
    "duration": 36,
    "start_time": "2022-06-29T17:21:10.058Z"
   },
   {
    "duration": 9,
    "start_time": "2022-06-29T17:21:10.096Z"
   },
   {
    "duration": 38,
    "start_time": "2022-06-29T17:21:10.126Z"
   },
   {
    "duration": 2,
    "start_time": "2022-06-29T17:21:10.166Z"
   },
   {
    "duration": 11,
    "start_time": "2022-06-29T17:21:10.169Z"
   },
   {
    "duration": 18369,
    "start_time": "2022-06-29T17:21:10.182Z"
   },
   {
    "duration": 10,
    "start_time": "2022-06-29T17:21:28.553Z"
   },
   {
    "duration": 7,
    "start_time": "2022-06-29T17:21:28.565Z"
   },
   {
    "duration": 19,
    "start_time": "2022-06-29T17:21:28.574Z"
   },
   {
    "duration": 211,
    "start_time": "2022-06-29T17:21:28.595Z"
   },
   {
    "duration": 124,
    "start_time": "2022-06-29T17:21:28.808Z"
   },
   {
    "duration": 0,
    "start_time": "2022-06-29T17:21:28.934Z"
   },
   {
    "duration": 0,
    "start_time": "2022-06-29T17:21:28.935Z"
   },
   {
    "duration": 3,
    "start_time": "2022-06-29T17:22:04.168Z"
   },
   {
    "duration": 4303,
    "start_time": "2022-06-29T17:22:12.055Z"
   },
   {
    "duration": 3,
    "start_time": "2022-06-29T17:22:25.815Z"
   },
   {
    "duration": 1265,
    "start_time": "2022-06-29T17:28:43.671Z"
   },
   {
    "duration": 858,
    "start_time": "2022-06-29T17:28:44.937Z"
   },
   {
    "duration": 39,
    "start_time": "2022-06-29T17:28:45.796Z"
   },
   {
    "duration": 7,
    "start_time": "2022-06-29T17:28:45.836Z"
   },
   {
    "duration": 34,
    "start_time": "2022-06-29T17:28:45.846Z"
   },
   {
    "duration": 2,
    "start_time": "2022-06-29T17:28:45.882Z"
   },
   {
    "duration": 5,
    "start_time": "2022-06-29T17:28:45.885Z"
   },
   {
    "duration": 18271,
    "start_time": "2022-06-29T17:28:45.892Z"
   },
   {
    "duration": 9,
    "start_time": "2022-06-29T17:29:04.165Z"
   },
   {
    "duration": 22,
    "start_time": "2022-06-29T17:29:04.176Z"
   },
   {
    "duration": 249,
    "start_time": "2022-06-29T17:29:04.199Z"
   },
   {
    "duration": 2,
    "start_time": "2022-06-29T17:29:04.450Z"
   },
   {
    "duration": 4237,
    "start_time": "2022-06-29T17:29:04.454Z"
   },
   {
    "duration": 95,
    "start_time": "2022-06-29T17:56:02.698Z"
   },
   {
    "duration": 4,
    "start_time": "2022-06-29T18:05:48.873Z"
   },
   {
    "duration": 15113,
    "start_time": "2022-06-29T18:05:53.538Z"
   },
   {
    "duration": 6387,
    "start_time": "2022-06-29T18:19:58.383Z"
   },
   {
    "duration": 8195,
    "start_time": "2022-06-29T18:21:46.881Z"
   },
   {
    "duration": 14885,
    "start_time": "2022-06-29T18:22:35.993Z"
   },
   {
    "duration": 15226,
    "start_time": "2022-06-29T18:24:53.603Z"
   },
   {
    "duration": 14237,
    "start_time": "2022-06-29T18:27:39.706Z"
   },
   {
    "duration": 8764,
    "start_time": "2022-06-29T18:49:16.385Z"
   },
   {
    "duration": 464502,
    "start_time": "2022-06-29T18:49:42.103Z"
   },
   {
    "duration": 38081,
    "start_time": "2022-06-29T19:00:25.983Z"
   },
   {
    "duration": 15025,
    "start_time": "2022-06-29T19:01:23.799Z"
   },
   {
    "duration": 359864,
    "start_time": "2022-06-29T19:07:47.093Z"
   },
   {
    "duration": 49478,
    "start_time": "2022-06-29T19:15:44.425Z"
   },
   {
    "duration": 9199411,
    "start_time": "2022-06-29T19:17:00.729Z"
   },
   {
    "duration": 1864561,
    "start_time": "2022-06-29T21:50:23.860Z"
   },
   {
    "duration": 1353,
    "start_time": "2022-07-02T00:29:34.774Z"
   },
   {
    "duration": 2500,
    "start_time": "2022-07-02T00:29:36.129Z"
   },
   {
    "duration": 36,
    "start_time": "2022-07-02T00:29:38.631Z"
   },
   {
    "duration": 25,
    "start_time": "2022-07-02T00:29:38.668Z"
   },
   {
    "duration": 30,
    "start_time": "2022-07-02T00:29:38.695Z"
   },
   {
    "duration": 2,
    "start_time": "2022-07-02T00:29:38.726Z"
   },
   {
    "duration": 4,
    "start_time": "2022-07-02T00:29:38.730Z"
   },
   {
    "duration": 16963,
    "start_time": "2022-07-02T00:29:38.736Z"
   },
   {
    "duration": 7,
    "start_time": "2022-07-02T00:29:55.701Z"
   },
   {
    "duration": 21,
    "start_time": "2022-07-02T00:29:55.710Z"
   },
   {
    "duration": 245,
    "start_time": "2022-07-02T00:29:55.732Z"
   },
   {
    "duration": 3,
    "start_time": "2022-07-02T00:29:55.978Z"
   },
   {
    "duration": 3999,
    "start_time": "2022-07-02T00:29:55.982Z"
   },
   {
    "duration": 385292,
    "start_time": "2022-07-02T00:29:59.983Z"
   },
   {
    "duration": 1770448,
    "start_time": "2022-07-02T00:36:25.277Z"
   },
   {
    "duration": 215,
    "start_time": "2022-07-02T01:05:55.727Z"
   },
   {
    "duration": 10,
    "start_time": "2022-07-02T06:44:19.126Z"
   },
   {
    "duration": 9,
    "start_time": "2022-07-02T06:44:40.021Z"
   },
   {
    "duration": 9,
    "start_time": "2022-07-02T06:44:47.195Z"
   },
   {
    "duration": 9,
    "start_time": "2022-07-02T06:44:54.918Z"
   },
   {
    "duration": 89,
    "start_time": "2022-07-02T06:47:16.430Z"
   },
   {
    "duration": 63,
    "start_time": "2022-07-02T06:47:33.902Z"
   },
   {
    "duration": 42,
    "start_time": "2022-07-02T06:49:09.773Z"
   },
   {
    "duration": 109,
    "start_time": "2022-07-02T06:49:26.012Z"
   },
   {
    "duration": 13225682,
    "start_time": "2022-07-02T06:50:42.644Z"
   },
   {
    "duration": 350591,
    "start_time": "2022-07-02T11:57:52.579Z"
   },
   {
    "duration": 10,
    "start_time": "2022-07-02T12:12:41.783Z"
   },
   {
    "duration": 10,
    "start_time": "2022-07-02T12:12:50.576Z"
   },
   {
    "duration": 515,
    "start_time": "2022-07-02T12:13:12.593Z"
   },
   {
    "duration": 173,
    "start_time": "2022-07-02T12:13:17.232Z"
   },
   {
    "duration": 10,
    "start_time": "2022-07-02T12:13:47.743Z"
   },
   {
    "duration": 11,
    "start_time": "2022-07-02T12:13:52.880Z"
   },
   {
    "duration": 8,
    "start_time": "2022-07-02T12:14:50.008Z"
   },
   {
    "duration": 9,
    "start_time": "2022-07-02T12:15:37.015Z"
   },
   {
    "duration": 181,
    "start_time": "2022-07-02T12:15:40.648Z"
   },
   {
    "duration": 10,
    "start_time": "2022-07-02T12:16:17.407Z"
   },
   {
    "duration": 186,
    "start_time": "2022-07-02T12:16:19.535Z"
   },
   {
    "duration": 8,
    "start_time": "2022-07-02T13:08:38.913Z"
   },
   {
    "duration": 11,
    "start_time": "2022-07-02T13:08:54.802Z"
   },
   {
    "duration": 171,
    "start_time": "2022-07-02T13:08:57.263Z"
   },
   {
    "duration": 57,
    "start_time": "2022-07-03T09:07:16.314Z"
   },
   {
    "duration": 54,
    "start_time": "2022-07-03T09:07:46.681Z"
   },
   {
    "duration": 50,
    "start_time": "2022-07-03T09:08:07.742Z"
   },
   {
    "duration": 80,
    "start_time": "2022-07-03T09:09:17.797Z"
   },
   {
    "duration": 1894,
    "start_time": "2022-07-03T09:36:06.441Z"
   },
   {
    "duration": 1570,
    "start_time": "2022-07-03T14:11:36.682Z"
   },
   {
    "duration": 2443,
    "start_time": "2022-07-03T14:11:38.254Z"
   },
   {
    "duration": 111,
    "start_time": "2022-07-03T14:11:40.699Z"
   },
   {
    "duration": 13,
    "start_time": "2022-07-03T14:11:40.811Z"
   },
   {
    "duration": 55,
    "start_time": "2022-07-03T14:11:40.827Z"
   },
   {
    "duration": 4,
    "start_time": "2022-07-03T14:11:40.884Z"
   },
   {
    "duration": 2407,
    "start_time": "2022-07-03T14:11:43.749Z"
   },
   {
    "duration": 9,
    "start_time": "2022-07-03T14:11:53.796Z"
   },
   {
    "duration": 1658,
    "start_time": "2022-07-03T14:12:41.309Z"
   },
   {
    "duration": 860,
    "start_time": "2022-07-03T14:12:42.970Z"
   },
   {
    "duration": 132,
    "start_time": "2022-07-03T14:12:43.833Z"
   },
   {
    "duration": 5,
    "start_time": "2022-07-03T14:12:43.967Z"
   },
   {
    "duration": 35,
    "start_time": "2022-07-03T14:12:43.974Z"
   },
   {
    "duration": 20632,
    "start_time": "2022-07-03T14:12:44.010Z"
   },
   {
    "duration": 5,
    "start_time": "2022-07-03T14:13:04.644Z"
   },
   {
    "duration": 10,
    "start_time": "2022-07-03T14:13:15.795Z"
   },
   {
    "duration": 1173,
    "start_time": "2022-07-03T14:13:28.595Z"
   },
   {
    "duration": 1565,
    "start_time": "2022-07-03T14:13:52.457Z"
   },
   {
    "duration": 816,
    "start_time": "2022-07-03T14:13:54.025Z"
   },
   {
    "duration": 129,
    "start_time": "2022-07-03T14:13:54.843Z"
   },
   {
    "duration": 5,
    "start_time": "2022-07-03T14:13:54.974Z"
   },
   {
    "duration": 55,
    "start_time": "2022-07-03T14:13:54.981Z"
   },
   {
    "duration": 3,
    "start_time": "2022-07-03T14:13:55.040Z"
   },
   {
    "duration": 2426,
    "start_time": "2022-07-03T14:13:55.045Z"
   },
   {
    "duration": 11,
    "start_time": "2022-07-03T14:14:09.636Z"
   },
   {
    "duration": 9,
    "start_time": "2022-07-03T14:50:01.667Z"
   },
   {
    "duration": 1937,
    "start_time": "2022-07-03T14:50:46.941Z"
   },
   {
    "duration": 987,
    "start_time": "2022-07-03T14:50:48.880Z"
   },
   {
    "duration": 128,
    "start_time": "2022-07-03T14:50:49.869Z"
   },
   {
    "duration": 9,
    "start_time": "2022-07-03T14:50:50.000Z"
   },
   {
    "duration": 64,
    "start_time": "2022-07-03T14:50:50.010Z"
   },
   {
    "duration": 23087,
    "start_time": "2022-07-03T14:50:50.076Z"
   },
   {
    "duration": 5,
    "start_time": "2022-07-03T14:51:13.170Z"
   },
   {
    "duration": 12,
    "start_time": "2022-07-03T14:51:17.137Z"
   },
   {
    "duration": 1866,
    "start_time": "2022-07-03T14:51:35.168Z"
   },
   {
    "duration": 971,
    "start_time": "2022-07-03T14:51:37.036Z"
   },
   {
    "duration": 156,
    "start_time": "2022-07-03T14:51:38.009Z"
   },
   {
    "duration": 7,
    "start_time": "2022-07-03T14:51:38.170Z"
   },
   {
    "duration": 31,
    "start_time": "2022-07-03T14:51:38.179Z"
   },
   {
    "duration": 18,
    "start_time": "2022-07-03T14:51:38.212Z"
   },
   {
    "duration": 2954,
    "start_time": "2022-07-03T14:51:38.238Z"
   },
   {
    "duration": 8,
    "start_time": "2022-07-03T14:51:47.400Z"
   },
   {
    "duration": 1800,
    "start_time": "2022-07-03T14:53:36.999Z"
   },
   {
    "duration": 1029,
    "start_time": "2022-07-03T14:53:38.801Z"
   },
   {
    "duration": 141,
    "start_time": "2022-07-03T14:53:39.832Z"
   },
   {
    "duration": 10,
    "start_time": "2022-07-03T14:53:39.979Z"
   },
   {
    "duration": 90,
    "start_time": "2022-07-03T14:53:39.992Z"
   },
   {
    "duration": 4,
    "start_time": "2022-07-03T14:53:40.084Z"
   },
   {
    "duration": 18,
    "start_time": "2022-07-03T14:53:40.090Z"
   },
   {
    "duration": 2288,
    "start_time": "2022-07-03T14:53:40.110Z"
   },
   {
    "duration": 15,
    "start_time": "2022-07-03T14:59:33.661Z"
   },
   {
    "duration": 1813,
    "start_time": "2022-07-03T14:59:45.803Z"
   },
   {
    "duration": 1082,
    "start_time": "2022-07-03T14:59:47.618Z"
   },
   {
    "duration": 147,
    "start_time": "2022-07-03T14:59:48.702Z"
   },
   {
    "duration": 12,
    "start_time": "2022-07-03T14:59:48.851Z"
   },
   {
    "duration": 62,
    "start_time": "2022-07-03T14:59:48.867Z"
   },
   {
    "duration": 2,
    "start_time": "2022-07-03T14:59:48.931Z"
   },
   {
    "duration": 45,
    "start_time": "2022-07-03T14:59:48.934Z"
   },
   {
    "duration": 2348,
    "start_time": "2022-07-03T14:59:48.981Z"
   },
   {
    "duration": 13,
    "start_time": "2022-07-03T14:59:53.661Z"
   },
   {
    "duration": 1930,
    "start_time": "2022-07-03T15:00:05.896Z"
   },
   {
    "duration": 1158,
    "start_time": "2022-07-03T15:00:07.831Z"
   },
   {
    "duration": 170,
    "start_time": "2022-07-03T15:00:08.990Z"
   },
   {
    "duration": 8,
    "start_time": "2022-07-03T15:00:09.162Z"
   },
   {
    "duration": 55,
    "start_time": "2022-07-03T15:00:09.175Z"
   },
   {
    "duration": 3,
    "start_time": "2022-07-03T15:00:09.240Z"
   },
   {
    "duration": 43,
    "start_time": "2022-07-03T15:00:09.244Z"
   },
   {
    "duration": 21,
    "start_time": "2022-07-03T15:00:13.016Z"
   },
   {
    "duration": 1903,
    "start_time": "2022-07-03T15:00:22.781Z"
   },
   {
    "duration": 919,
    "start_time": "2022-07-03T15:00:24.687Z"
   },
   {
    "duration": 126,
    "start_time": "2022-07-03T15:00:25.608Z"
   },
   {
    "duration": 32,
    "start_time": "2022-07-03T15:00:25.735Z"
   },
   {
    "duration": 31,
    "start_time": "2022-07-03T15:00:25.770Z"
   },
   {
    "duration": 2,
    "start_time": "2022-07-03T15:00:25.805Z"
   },
   {
    "duration": 9,
    "start_time": "2022-07-03T15:00:25.808Z"
   },
   {
    "duration": 2894,
    "start_time": "2022-07-03T15:00:25.818Z"
   },
   {
    "duration": 10,
    "start_time": "2022-07-03T15:00:31.192Z"
   },
   {
    "duration": 1787,
    "start_time": "2022-07-03T15:01:09.361Z"
   },
   {
    "duration": 939,
    "start_time": "2022-07-03T15:01:11.151Z"
   },
   {
    "duration": 127,
    "start_time": "2022-07-03T15:01:12.091Z"
   },
   {
    "duration": 7,
    "start_time": "2022-07-03T15:01:12.220Z"
   },
   {
    "duration": 70,
    "start_time": "2022-07-03T15:01:12.229Z"
   },
   {
    "duration": 20618,
    "start_time": "2022-07-03T15:01:12.301Z"
   },
   {
    "duration": 18,
    "start_time": "2022-07-03T15:01:32.921Z"
   },
   {
    "duration": 1572,
    "start_time": "2022-07-03T15:08:27.092Z"
   },
   {
    "duration": 853,
    "start_time": "2022-07-03T15:08:28.666Z"
   },
   {
    "duration": 141,
    "start_time": "2022-07-03T15:08:29.520Z"
   },
   {
    "duration": 6,
    "start_time": "2022-07-03T15:08:29.663Z"
   },
   {
    "duration": 9,
    "start_time": "2022-07-03T15:08:29.671Z"
   },
   {
    "duration": 1892,
    "start_time": "2022-07-03T15:21:05.415Z"
   },
   {
    "duration": 1026,
    "start_time": "2022-07-03T15:21:07.309Z"
   },
   {
    "duration": 135,
    "start_time": "2022-07-03T15:21:08.337Z"
   },
   {
    "duration": 6,
    "start_time": "2022-07-03T15:21:08.475Z"
   },
   {
    "duration": 2,
    "start_time": "2022-07-03T15:21:08.484Z"
   },
   {
    "duration": 6,
    "start_time": "2022-07-03T15:21:08.487Z"
   },
   {
    "duration": 6,
    "start_time": "2022-07-03T15:21:08.494Z"
   },
   {
    "duration": 8921,
    "start_time": "2022-07-03T15:21:08.502Z"
   },
   {
    "duration": 12,
    "start_time": "2022-07-03T15:21:17.424Z"
   },
   {
    "duration": 17,
    "start_time": "2022-07-03T15:21:34.953Z"
   },
   {
    "duration": 1443,
    "start_time": "2022-07-03T15:21:48.467Z"
   },
   {
    "duration": 190,
    "start_time": "2022-07-03T15:26:51.399Z"
   },
   {
    "duration": 30,
    "start_time": "2022-07-03T15:27:13.498Z"
   },
   {
    "duration": 11,
    "start_time": "2022-07-03T15:27:19.999Z"
   },
   {
    "duration": 10,
    "start_time": "2022-07-03T15:27:33.019Z"
   },
   {
    "duration": 48,
    "start_time": "2022-07-03T15:31:49.241Z"
   },
   {
    "duration": 50,
    "start_time": "2022-07-03T15:34:05.315Z"
   },
   {
    "duration": 26,
    "start_time": "2022-07-03T15:34:11.779Z"
   },
   {
    "duration": 30,
    "start_time": "2022-07-03T15:34:20.800Z"
   },
   {
    "duration": 1842,
    "start_time": "2022-07-03T15:34:32.853Z"
   },
   {
    "duration": 1038,
    "start_time": "2022-07-03T15:34:34.697Z"
   },
   {
    "duration": 158,
    "start_time": "2022-07-03T15:34:35.737Z"
   },
   {
    "duration": 5,
    "start_time": "2022-07-03T15:34:35.897Z"
   },
   {
    "duration": 4,
    "start_time": "2022-07-03T15:34:35.904Z"
   },
   {
    "duration": 7,
    "start_time": "2022-07-03T15:34:35.910Z"
   },
   {
    "duration": 34,
    "start_time": "2022-07-03T15:34:35.919Z"
   },
   {
    "duration": 9292,
    "start_time": "2022-07-03T15:34:35.955Z"
   },
   {
    "duration": 12,
    "start_time": "2022-07-03T15:34:45.250Z"
   },
   {
    "duration": 39,
    "start_time": "2022-07-03T15:34:45.264Z"
   },
   {
    "duration": 41,
    "start_time": "2022-07-03T15:34:45.306Z"
   },
   {
    "duration": 37,
    "start_time": "2022-07-03T15:34:45.350Z"
   },
   {
    "duration": 44,
    "start_time": "2022-07-03T15:34:50.747Z"
   },
   {
    "duration": 6,
    "start_time": "2022-07-03T15:35:17.375Z"
   },
   {
    "duration": 7,
    "start_time": "2022-07-03T15:35:40.303Z"
   },
   {
    "duration": 18,
    "start_time": "2022-07-03T15:35:43.698Z"
   },
   {
    "duration": 1835,
    "start_time": "2022-07-03T15:39:49.786Z"
   },
   {
    "duration": 1065,
    "start_time": "2022-07-03T15:39:51.624Z"
   },
   {
    "duration": 161,
    "start_time": "2022-07-03T15:39:52.691Z"
   },
   {
    "duration": 5,
    "start_time": "2022-07-03T15:39:52.854Z"
   },
   {
    "duration": 45,
    "start_time": "2022-07-03T15:39:52.864Z"
   },
   {
    "duration": 35,
    "start_time": "2022-07-03T15:39:52.912Z"
   },
   {
    "duration": 32,
    "start_time": "2022-07-03T15:39:52.949Z"
   },
   {
    "duration": 9172,
    "start_time": "2022-07-03T15:39:52.983Z"
   },
   {
    "duration": 14,
    "start_time": "2022-07-03T15:40:02.165Z"
   },
   {
    "duration": 25,
    "start_time": "2022-07-03T15:40:02.180Z"
   },
   {
    "duration": 55,
    "start_time": "2022-07-03T15:40:02.206Z"
   },
   {
    "duration": 20,
    "start_time": "2022-07-03T15:40:02.263Z"
   },
   {
    "duration": 8,
    "start_time": "2022-07-03T15:40:02.285Z"
   },
   {
    "duration": 50,
    "start_time": "2022-07-03T15:40:02.295Z"
   },
   {
    "duration": 28,
    "start_time": "2022-07-03T15:40:02.350Z"
   },
   {
    "duration": 1803,
    "start_time": "2022-07-03T15:40:45.199Z"
   },
   {
    "duration": 964,
    "start_time": "2022-07-03T15:40:47.004Z"
   },
   {
    "duration": 151,
    "start_time": "2022-07-03T15:40:47.971Z"
   },
   {
    "duration": 3,
    "start_time": "2022-07-03T15:40:48.130Z"
   },
   {
    "duration": 39,
    "start_time": "2022-07-03T15:40:48.136Z"
   },
   {
    "duration": 5,
    "start_time": "2022-07-03T15:40:48.177Z"
   },
   {
    "duration": 9,
    "start_time": "2022-07-03T15:40:48.184Z"
   },
   {
    "duration": 9490,
    "start_time": "2022-07-03T15:40:48.194Z"
   },
   {
    "duration": 9,
    "start_time": "2022-07-03T15:40:57.685Z"
   },
   {
    "duration": 13,
    "start_time": "2022-07-03T15:40:57.695Z"
   },
   {
    "duration": 58,
    "start_time": "2022-07-03T15:40:57.710Z"
   },
   {
    "duration": 12,
    "start_time": "2022-07-03T15:40:57.771Z"
   },
   {
    "duration": 6,
    "start_time": "2022-07-03T15:40:57.784Z"
   },
   {
    "duration": 52,
    "start_time": "2022-07-03T15:40:57.793Z"
   },
   {
    "duration": 23,
    "start_time": "2022-07-03T15:40:57.847Z"
   },
   {
    "duration": 4,
    "start_time": "2022-07-03T15:40:57.872Z"
   },
   {
    "duration": 251,
    "start_time": "2022-07-03T15:40:57.878Z"
   },
   {
    "duration": 3,
    "start_time": "2022-07-03T15:40:58.131Z"
   },
   {
    "duration": 7861,
    "start_time": "2022-07-03T15:40:58.135Z"
   },
   {
    "duration": 3,
    "start_time": "2022-07-03T15:41:06.003Z"
   },
   {
    "duration": 526481,
    "start_time": "2022-07-03T15:41:06.011Z"
   },
   {
    "duration": 2126,
    "start_time": "2022-07-03T16:22:28.290Z"
   },
   {
    "duration": 1055,
    "start_time": "2022-07-03T16:22:30.418Z"
   },
   {
    "duration": 145,
    "start_time": "2022-07-03T16:22:31.476Z"
   },
   {
    "duration": 6,
    "start_time": "2022-07-03T16:22:31.623Z"
   },
   {
    "duration": 57,
    "start_time": "2022-07-03T16:22:31.634Z"
   },
   {
    "duration": 8,
    "start_time": "2022-07-03T16:22:31.693Z"
   },
   {
    "duration": 63,
    "start_time": "2022-07-03T16:22:31.703Z"
   },
   {
    "duration": 9255,
    "start_time": "2022-07-03T16:22:31.775Z"
   },
   {
    "duration": 12,
    "start_time": "2022-07-03T16:22:41.031Z"
   },
   {
    "duration": 53,
    "start_time": "2022-07-03T16:22:41.044Z"
   },
   {
    "duration": 70,
    "start_time": "2022-07-03T16:22:41.099Z"
   },
   {
    "duration": 20,
    "start_time": "2022-07-03T16:22:41.170Z"
   },
   {
    "duration": 186,
    "start_time": "2022-07-03T16:22:51.016Z"
   },
   {
    "duration": 6,
    "start_time": "2022-07-03T16:22:55.713Z"
   },
   {
    "duration": 16,
    "start_time": "2022-07-03T16:22:58.277Z"
   },
   {
    "duration": 52,
    "start_time": "2022-07-03T16:23:32.299Z"
   },
   {
    "duration": 63,
    "start_time": "2022-07-03T16:23:40.248Z"
   },
   {
    "duration": 73,
    "start_time": "2022-07-03T16:26:12.192Z"
   },
   {
    "duration": 1769,
    "start_time": "2022-07-03T16:26:19.056Z"
   },
   {
    "duration": 941,
    "start_time": "2022-07-03T16:26:20.827Z"
   },
   {
    "duration": 123,
    "start_time": "2022-07-03T16:26:21.771Z"
   },
   {
    "duration": 2,
    "start_time": "2022-07-03T16:26:21.896Z"
   },
   {
    "duration": 9,
    "start_time": "2022-07-03T16:26:21.899Z"
   },
   {
    "duration": 19,
    "start_time": "2022-07-03T16:26:21.909Z"
   },
   {
    "duration": 43,
    "start_time": "2022-07-03T16:26:21.931Z"
   },
   {
    "duration": 8687,
    "start_time": "2022-07-03T16:26:21.976Z"
   },
   {
    "duration": 9,
    "start_time": "2022-07-03T16:26:30.666Z"
   },
   {
    "duration": 26,
    "start_time": "2022-07-03T16:26:30.678Z"
   },
   {
    "duration": 55,
    "start_time": "2022-07-03T16:26:30.705Z"
   },
   {
    "duration": 21,
    "start_time": "2022-07-03T16:26:30.763Z"
   },
   {
    "duration": 30,
    "start_time": "2022-07-03T16:26:30.786Z"
   },
   {
    "duration": 101,
    "start_time": "2022-07-03T16:26:30.818Z"
   },
   {
    "duration": 20,
    "start_time": "2022-07-03T16:26:44.897Z"
   },
   {
    "duration": 4,
    "start_time": "2022-07-03T16:27:02.557Z"
   },
   {
    "duration": 247,
    "start_time": "2022-07-03T16:27:02.563Z"
   },
   {
    "duration": 4,
    "start_time": "2022-07-03T16:27:02.812Z"
   },
   {
    "duration": 32222,
    "start_time": "2022-07-03T16:27:02.817Z"
   },
   {
    "duration": 3,
    "start_time": "2022-07-03T16:27:35.042Z"
   },
   {
    "duration": 1650737,
    "start_time": "2022-07-03T16:27:35.047Z"
   },
   {
    "duration": 120,
    "start_time": "2022-07-03T17:57:55.483Z"
   },
   {
    "duration": 1992,
    "start_time": "2022-07-03T17:59:06.452Z"
   },
   {
    "duration": 2447,
    "start_time": "2022-07-03T17:59:08.447Z"
   },
   {
    "duration": 113,
    "start_time": "2022-07-03T17:59:10.896Z"
   },
   {
    "duration": 3,
    "start_time": "2022-07-03T17:59:11.010Z"
   },
   {
    "duration": 11,
    "start_time": "2022-07-03T17:59:11.028Z"
   },
   {
    "duration": 20,
    "start_time": "2022-07-03T17:59:11.041Z"
   },
   {
    "duration": 8,
    "start_time": "2022-07-03T17:59:11.062Z"
   },
   {
    "duration": 8642,
    "start_time": "2022-07-03T17:59:11.072Z"
   },
   {
    "duration": 11,
    "start_time": "2022-07-03T17:59:19.716Z"
   },
   {
    "duration": 24,
    "start_time": "2022-07-03T17:59:19.729Z"
   },
   {
    "duration": 31,
    "start_time": "2022-07-03T17:59:19.755Z"
   },
   {
    "duration": 6,
    "start_time": "2022-07-03T17:59:19.788Z"
   },
   {
    "duration": 11,
    "start_time": "2022-07-03T17:59:19.796Z"
   },
   {
    "duration": 61,
    "start_time": "2022-07-03T17:59:19.809Z"
   },
   {
    "duration": 21,
    "start_time": "2022-07-03T17:59:19.871Z"
   },
   {
    "duration": 3,
    "start_time": "2022-07-03T17:59:19.894Z"
   },
   {
    "duration": 278,
    "start_time": "2022-07-03T17:59:19.898Z"
   },
   {
    "duration": 3,
    "start_time": "2022-07-03T17:59:20.177Z"
   },
   {
    "duration": 26585,
    "start_time": "2022-07-03T17:59:20.181Z"
   },
   {
    "duration": 3,
    "start_time": "2022-07-03T17:59:46.767Z"
   },
   {
    "duration": 7,
    "start_time": "2022-07-03T17:59:46.771Z"
   },
   {
    "duration": 107,
    "start_time": "2022-07-03T18:01:39.000Z"
   },
   {
    "duration": 1799,
    "start_time": "2022-07-03T18:02:06.194Z"
   },
   {
    "duration": 2544,
    "start_time": "2022-07-03T18:02:07.996Z"
   },
   {
    "duration": 122,
    "start_time": "2022-07-03T18:02:10.542Z"
   },
   {
    "duration": 2,
    "start_time": "2022-07-03T18:02:10.665Z"
   },
   {
    "duration": 5,
    "start_time": "2022-07-03T18:02:10.669Z"
   },
   {
    "duration": 11,
    "start_time": "2022-07-03T18:02:10.675Z"
   },
   {
    "duration": 8,
    "start_time": "2022-07-03T18:02:10.688Z"
   },
   {
    "duration": 8554,
    "start_time": "2022-07-03T18:02:10.723Z"
   },
   {
    "duration": 10,
    "start_time": "2022-07-03T18:02:19.279Z"
   },
   {
    "duration": 14,
    "start_time": "2022-07-03T18:02:19.291Z"
   },
   {
    "duration": 47,
    "start_time": "2022-07-03T18:02:19.307Z"
   },
   {
    "duration": 6,
    "start_time": "2022-07-03T18:02:19.356Z"
   },
   {
    "duration": 6,
    "start_time": "2022-07-03T18:02:19.363Z"
   },
   {
    "duration": 82,
    "start_time": "2022-07-03T18:02:19.372Z"
   },
   {
    "duration": 20,
    "start_time": "2022-07-03T18:02:19.456Z"
   },
   {
    "duration": 2,
    "start_time": "2022-07-03T18:02:19.478Z"
   },
   {
    "duration": 157,
    "start_time": "2022-07-03T18:02:19.481Z"
   },
   {
    "duration": 3,
    "start_time": "2022-07-03T18:02:19.640Z"
   },
   {
    "duration": 28433,
    "start_time": "2022-07-03T18:02:19.644Z"
   },
   {
    "duration": 2,
    "start_time": "2022-07-03T18:02:48.079Z"
   },
   {
    "duration": 9,
    "start_time": "2022-07-03T18:02:48.082Z"
   },
   {
    "duration": 48,
    "start_time": "2022-07-03T18:19:08.715Z"
   },
   {
    "duration": 1647,
    "start_time": "2022-07-03T18:19:26.901Z"
   },
   {
    "duration": 2333,
    "start_time": "2022-07-03T18:19:28.550Z"
   },
   {
    "duration": 116,
    "start_time": "2022-07-03T18:19:30.884Z"
   },
   {
    "duration": 22,
    "start_time": "2022-07-03T18:19:31.002Z"
   },
   {
    "duration": 14,
    "start_time": "2022-07-03T18:19:31.026Z"
   },
   {
    "duration": 30,
    "start_time": "2022-07-03T18:19:31.042Z"
   },
   {
    "duration": 15,
    "start_time": "2022-07-03T18:19:31.075Z"
   },
   {
    "duration": 6968,
    "start_time": "2022-07-03T18:19:31.092Z"
   },
   {
    "duration": 2,
    "start_time": "2022-07-03T18:19:38.062Z"
   },
   {
    "duration": 31,
    "start_time": "2022-07-03T18:19:38.066Z"
   },
   {
    "duration": 6,
    "start_time": "2022-07-03T18:19:57.808Z"
   },
   {
    "duration": 9,
    "start_time": "2022-07-03T18:19:59.919Z"
   },
   {
    "duration": 6,
    "start_time": "2022-07-03T18:20:02.032Z"
   },
   {
    "duration": 6,
    "start_time": "2022-07-03T18:20:06.005Z"
   },
   {
    "duration": 21,
    "start_time": "2022-07-03T18:20:08.916Z"
   },
   {
    "duration": 14,
    "start_time": "2022-07-03T18:20:12.806Z"
   },
   {
    "duration": 147,
    "start_time": "2022-07-03T18:20:19.927Z"
   },
   {
    "duration": 3,
    "start_time": "2022-07-03T18:20:22.357Z"
   },
   {
    "duration": 4588,
    "start_time": "2022-07-03T18:20:24.159Z"
   },
   {
    "duration": 3,
    "start_time": "2022-07-03T18:20:48.738Z"
   },
   {
    "duration": 660113,
    "start_time": "2022-07-03T18:20:48.744Z"
   },
   {
    "duration": 1303702,
    "start_time": "2022-07-03T18:31:48.859Z"
   },
   {
    "duration": 1674,
    "start_time": "2022-07-03T18:56:07.173Z"
   },
   {
    "duration": 823,
    "start_time": "2022-07-03T18:56:08.849Z"
   },
   {
    "duration": 128,
    "start_time": "2022-07-03T18:56:09.674Z"
   },
   {
    "duration": 3,
    "start_time": "2022-07-03T18:56:09.804Z"
   },
   {
    "duration": 14,
    "start_time": "2022-07-03T18:56:09.809Z"
   },
   {
    "duration": 16,
    "start_time": "2022-07-03T18:56:09.824Z"
   },
   {
    "duration": 12,
    "start_time": "2022-07-03T18:56:09.841Z"
   },
   {
    "duration": 6934,
    "start_time": "2022-07-03T18:56:09.855Z"
   },
   {
    "duration": 2,
    "start_time": "2022-07-03T18:56:16.791Z"
   },
   {
    "duration": 7,
    "start_time": "2022-07-03T18:56:16.795Z"
   },
   {
    "duration": 129,
    "start_time": "2022-07-03T18:56:32.009Z"
   },
   {
    "duration": 11,
    "start_time": "2022-07-03T18:57:14.414Z"
   },
   {
    "duration": 12,
    "start_time": "2022-07-03T18:57:31.132Z"
   },
   {
    "duration": 20,
    "start_time": "2022-07-03T19:00:13.139Z"
   },
   {
    "duration": 13,
    "start_time": "2022-07-03T19:00:31.787Z"
   },
   {
    "duration": 1577,
    "start_time": "2022-07-03T19:00:54.130Z"
   },
   {
    "duration": 818,
    "start_time": "2022-07-03T19:00:55.709Z"
   },
   {
    "duration": 122,
    "start_time": "2022-07-03T19:00:56.528Z"
   },
   {
    "duration": 3,
    "start_time": "2022-07-03T19:00:56.652Z"
   },
   {
    "duration": 6,
    "start_time": "2022-07-03T19:00:56.657Z"
   },
   {
    "duration": 7,
    "start_time": "2022-07-03T19:00:56.665Z"
   },
   {
    "duration": 8,
    "start_time": "2022-07-03T19:00:56.673Z"
   },
   {
    "duration": 7038,
    "start_time": "2022-07-03T19:00:56.683Z"
   },
   {
    "duration": 3,
    "start_time": "2022-07-03T19:01:03.723Z"
   },
   {
    "duration": 24,
    "start_time": "2022-07-03T19:01:10.160Z"
   },
   {
    "duration": 8,
    "start_time": "2022-07-03T19:01:17.112Z"
   },
   {
    "duration": 9,
    "start_time": "2022-07-03T19:01:19.320Z"
   },
   {
    "duration": 6,
    "start_time": "2022-07-03T19:01:21.096Z"
   },
   {
    "duration": 7,
    "start_time": "2022-07-03T19:01:23.152Z"
   },
   {
    "duration": 21,
    "start_time": "2022-07-03T19:01:25.389Z"
   },
   {
    "duration": 14,
    "start_time": "2022-07-03T19:01:27.552Z"
   },
   {
    "duration": 206,
    "start_time": "2022-07-03T19:01:36.289Z"
   },
   {
    "duration": 4,
    "start_time": "2022-07-03T19:01:39.153Z"
   },
   {
    "duration": 5732,
    "start_time": "2022-07-03T19:01:42.787Z"
   },
   {
    "duration": 577729,
    "start_time": "2022-07-03T19:02:05.096Z"
   },
   {
    "duration": 21377,
    "start_time": "2022-07-03T19:11:42.827Z"
   },
   {
    "duration": 3,
    "start_time": "2022-07-03T19:12:04.208Z"
   },
   {
    "duration": 5,
    "start_time": "2022-07-03T19:12:10.235Z"
   },
   {
    "duration": 812955,
    "start_time": "2022-07-03T19:12:22.696Z"
   },
   {
    "duration": 48,
    "start_time": "2022-07-03T19:33:53.261Z"
   },
   {
    "duration": 1544,
    "start_time": "2022-07-03T19:34:00.270Z"
   },
   {
    "duration": 856,
    "start_time": "2022-07-03T19:34:01.816Z"
   },
   {
    "duration": 141,
    "start_time": "2022-07-03T19:34:02.674Z"
   },
   {
    "duration": 2,
    "start_time": "2022-07-03T19:34:02.817Z"
   },
   {
    "duration": 22,
    "start_time": "2022-07-03T19:34:02.825Z"
   },
   {
    "duration": 4,
    "start_time": "2022-07-03T19:34:02.849Z"
   },
   {
    "duration": 6,
    "start_time": "2022-07-03T19:34:02.855Z"
   },
   {
    "duration": 3824,
    "start_time": "2022-07-03T19:34:02.863Z"
   },
   {
    "duration": 0,
    "start_time": "2022-07-03T19:34:06.689Z"
   },
   {
    "duration": 0,
    "start_time": "2022-07-03T19:34:06.690Z"
   },
   {
    "duration": 0,
    "start_time": "2022-07-03T19:34:06.691Z"
   },
   {
    "duration": 0,
    "start_time": "2022-07-03T19:34:06.692Z"
   },
   {
    "duration": 0,
    "start_time": "2022-07-03T19:34:06.693Z"
   },
   {
    "duration": 0,
    "start_time": "2022-07-03T19:34:06.694Z"
   },
   {
    "duration": 0,
    "start_time": "2022-07-03T19:34:06.695Z"
   },
   {
    "duration": 1500,
    "start_time": "2022-07-03T19:36:15.081Z"
   },
   {
    "duration": 834,
    "start_time": "2022-07-03T19:36:16.583Z"
   },
   {
    "duration": 124,
    "start_time": "2022-07-03T19:36:17.419Z"
   },
   {
    "duration": 3,
    "start_time": "2022-07-03T19:36:17.544Z"
   },
   {
    "duration": 7,
    "start_time": "2022-07-03T19:36:17.548Z"
   },
   {
    "duration": 8,
    "start_time": "2022-07-03T19:36:17.557Z"
   },
   {
    "duration": 9,
    "start_time": "2022-07-03T19:36:17.566Z"
   },
   {
    "duration": 7403,
    "start_time": "2022-07-03T19:36:17.576Z"
   },
   {
    "duration": 2,
    "start_time": "2022-07-03T19:36:24.981Z"
   },
   {
    "duration": 5,
    "start_time": "2022-07-03T19:36:24.986Z"
   },
   {
    "duration": 53,
    "start_time": "2022-07-03T19:36:24.993Z"
   },
   {
    "duration": 3,
    "start_time": "2022-07-03T19:36:25.048Z"
   },
   {
    "duration": 9,
    "start_time": "2022-07-03T19:36:25.052Z"
   },
   {
    "duration": 4,
    "start_time": "2022-07-03T19:36:38.194Z"
   },
   {
    "duration": 1658,
    "start_time": "2022-07-03T19:41:02.924Z"
   },
   {
    "duration": 812,
    "start_time": "2022-07-03T19:41:04.584Z"
   },
   {
    "duration": 132,
    "start_time": "2022-07-03T19:41:05.398Z"
   },
   {
    "duration": 5,
    "start_time": "2022-07-03T19:41:05.535Z"
   },
   {
    "duration": 6,
    "start_time": "2022-07-03T19:41:05.542Z"
   },
   {
    "duration": 9,
    "start_time": "2022-07-03T19:41:05.550Z"
   },
   {
    "duration": 5,
    "start_time": "2022-07-03T19:41:05.561Z"
   },
   {
    "duration": 7583,
    "start_time": "2022-07-03T19:41:05.567Z"
   },
   {
    "duration": 3,
    "start_time": "2022-07-03T19:41:13.152Z"
   },
   {
    "duration": 8,
    "start_time": "2022-07-03T19:41:13.156Z"
   },
   {
    "duration": 6,
    "start_time": "2022-07-03T19:41:13.166Z"
   },
   {
    "duration": 66,
    "start_time": "2022-07-03T19:41:13.174Z"
   },
   {
    "duration": 147,
    "start_time": "2022-07-03T19:41:13.244Z"
   },
   {
    "duration": 0,
    "start_time": "2022-07-03T19:41:13.393Z"
   },
   {
    "duration": 6,
    "start_time": "2022-07-03T19:42:03.075Z"
   },
   {
    "duration": 4,
    "start_time": "2022-07-03T19:42:08.603Z"
   },
   {
    "duration": 40,
    "start_time": "2022-07-03T19:43:16.374Z"
   },
   {
    "duration": 4,
    "start_time": "2022-07-03T19:43:40.540Z"
   },
   {
    "duration": 11,
    "start_time": "2022-07-03T19:45:04.643Z"
   },
   {
    "duration": 1514,
    "start_time": "2022-07-03T19:45:10.762Z"
   },
   {
    "duration": 862,
    "start_time": "2022-07-03T19:45:12.277Z"
   },
   {
    "duration": 114,
    "start_time": "2022-07-03T19:45:13.141Z"
   },
   {
    "duration": 5,
    "start_time": "2022-07-03T19:45:13.256Z"
   },
   {
    "duration": 6,
    "start_time": "2022-07-03T19:45:13.263Z"
   },
   {
    "duration": 10,
    "start_time": "2022-07-03T19:45:13.270Z"
   },
   {
    "duration": 5,
    "start_time": "2022-07-03T19:45:13.281Z"
   },
   {
    "duration": 7205,
    "start_time": "2022-07-03T19:45:13.287Z"
   },
   {
    "duration": 3,
    "start_time": "2022-07-03T19:45:20.494Z"
   },
   {
    "duration": 9,
    "start_time": "2022-07-03T19:45:20.498Z"
   },
   {
    "duration": 5,
    "start_time": "2022-07-03T19:45:20.509Z"
   },
   {
    "duration": 45,
    "start_time": "2022-07-03T19:45:20.515Z"
   },
   {
    "duration": 5,
    "start_time": "2022-07-03T19:45:20.562Z"
   },
   {
    "duration": 7,
    "start_time": "2022-07-03T19:45:20.569Z"
   },
   {
    "duration": 148,
    "start_time": "2022-07-03T19:45:20.578Z"
   },
   {
    "duration": 1552,
    "start_time": "2022-07-03T19:56:44.443Z"
   },
   {
    "duration": 806,
    "start_time": "2022-07-03T19:56:45.998Z"
   },
   {
    "duration": 136,
    "start_time": "2022-07-03T19:56:46.805Z"
   },
   {
    "duration": 3,
    "start_time": "2022-07-03T19:56:46.942Z"
   },
   {
    "duration": 10,
    "start_time": "2022-07-03T19:56:46.947Z"
   },
   {
    "duration": 23,
    "start_time": "2022-07-03T19:56:46.959Z"
   },
   {
    "duration": 10,
    "start_time": "2022-07-03T19:56:46.984Z"
   },
   {
    "duration": 7417,
    "start_time": "2022-07-03T19:56:46.995Z"
   },
   {
    "duration": 2,
    "start_time": "2022-07-03T19:56:54.414Z"
   },
   {
    "duration": 13,
    "start_time": "2022-07-03T19:56:54.423Z"
   },
   {
    "duration": 35,
    "start_time": "2022-07-03T19:56:54.439Z"
   },
   {
    "duration": 14,
    "start_time": "2022-07-03T19:56:54.476Z"
   },
   {
    "duration": 8,
    "start_time": "2022-07-03T19:56:54.491Z"
   },
   {
    "duration": 7,
    "start_time": "2022-07-03T19:56:54.502Z"
   },
   {
    "duration": 5,
    "start_time": "2022-07-03T19:56:54.510Z"
   },
   {
    "duration": 38,
    "start_time": "2022-07-03T19:56:54.523Z"
   },
   {
    "duration": 203,
    "start_time": "2022-07-03T19:58:00.651Z"
   },
   {
    "duration": 1519,
    "start_time": "2022-07-03T20:02:53.797Z"
   },
   {
    "duration": 773,
    "start_time": "2022-07-03T20:02:55.318Z"
   },
   {
    "duration": 114,
    "start_time": "2022-07-03T20:02:56.093Z"
   },
   {
    "duration": 2,
    "start_time": "2022-07-03T20:02:56.209Z"
   },
   {
    "duration": 2,
    "start_time": "2022-07-03T20:02:56.224Z"
   },
   {
    "duration": 9,
    "start_time": "2022-07-03T20:02:56.228Z"
   },
   {
    "duration": 4,
    "start_time": "2022-07-03T20:02:56.239Z"
   },
   {
    "duration": 6803,
    "start_time": "2022-07-03T20:02:56.244Z"
   },
   {
    "duration": 2,
    "start_time": "2022-07-03T20:03:03.048Z"
   },
   {
    "duration": 8,
    "start_time": "2022-07-03T20:03:03.052Z"
   },
   {
    "duration": 39,
    "start_time": "2022-07-03T20:03:03.062Z"
   },
   {
    "duration": 2,
    "start_time": "2022-07-03T20:03:03.102Z"
   },
   {
    "duration": 5,
    "start_time": "2022-07-03T20:03:03.106Z"
   },
   {
    "duration": 12,
    "start_time": "2022-07-03T20:03:03.113Z"
   },
   {
    "duration": 3,
    "start_time": "2022-07-03T20:03:03.126Z"
   },
   {
    "duration": 39,
    "start_time": "2022-07-03T20:03:03.131Z"
   },
   {
    "duration": 11,
    "start_time": "2022-07-03T20:03:03.171Z"
   },
   {
    "duration": 1456,
    "start_time": "2022-07-03T20:04:37.268Z"
   },
   {
    "duration": 805,
    "start_time": "2022-07-03T20:04:38.726Z"
   },
   {
    "duration": 120,
    "start_time": "2022-07-03T20:04:39.533Z"
   },
   {
    "duration": 2,
    "start_time": "2022-07-03T20:04:39.654Z"
   },
   {
    "duration": 5,
    "start_time": "2022-07-03T20:04:39.658Z"
   },
   {
    "duration": 4,
    "start_time": "2022-07-03T20:04:39.665Z"
   },
   {
    "duration": 5,
    "start_time": "2022-07-03T20:04:39.671Z"
   },
   {
    "duration": 6809,
    "start_time": "2022-07-03T20:04:39.677Z"
   },
   {
    "duration": 3,
    "start_time": "2022-07-03T20:04:46.487Z"
   },
   {
    "duration": 11,
    "start_time": "2022-07-03T20:04:46.492Z"
   },
   {
    "duration": 34,
    "start_time": "2022-07-03T20:04:46.504Z"
   },
   {
    "duration": 2,
    "start_time": "2022-07-03T20:04:46.540Z"
   },
   {
    "duration": 6,
    "start_time": "2022-07-03T20:04:46.544Z"
   },
   {
    "duration": 7,
    "start_time": "2022-07-03T20:04:46.552Z"
   },
   {
    "duration": 3,
    "start_time": "2022-07-03T20:04:46.561Z"
   },
   {
    "duration": 34,
    "start_time": "2022-07-03T20:04:46.565Z"
   },
   {
    "duration": 160,
    "start_time": "2022-07-03T20:04:46.601Z"
   },
   {
    "duration": 1553,
    "start_time": "2022-07-03T20:08:23.954Z"
   },
   {
    "duration": 810,
    "start_time": "2022-07-03T20:08:25.509Z"
   },
   {
    "duration": 116,
    "start_time": "2022-07-03T20:08:26.320Z"
   },
   {
    "duration": 3,
    "start_time": "2022-07-03T20:08:26.437Z"
   },
   {
    "duration": 5,
    "start_time": "2022-07-03T20:08:26.442Z"
   },
   {
    "duration": 5,
    "start_time": "2022-07-03T20:08:26.449Z"
   },
   {
    "duration": 5,
    "start_time": "2022-07-03T20:08:26.455Z"
   },
   {
    "duration": 6896,
    "start_time": "2022-07-03T20:08:26.461Z"
   },
   {
    "duration": 2,
    "start_time": "2022-07-03T20:08:33.359Z"
   },
   {
    "duration": 6,
    "start_time": "2022-07-03T20:08:33.363Z"
   },
   {
    "duration": 32,
    "start_time": "2022-07-03T20:08:33.370Z"
   },
   {
    "duration": 2,
    "start_time": "2022-07-03T20:08:33.404Z"
   },
   {
    "duration": 15,
    "start_time": "2022-07-03T20:08:33.408Z"
   },
   {
    "duration": 13,
    "start_time": "2022-07-03T20:08:33.425Z"
   },
   {
    "duration": 10,
    "start_time": "2022-07-03T20:08:33.439Z"
   },
   {
    "duration": 40,
    "start_time": "2022-07-03T20:08:33.450Z"
   },
   {
    "duration": 34,
    "start_time": "2022-07-03T20:08:33.492Z"
   },
   {
    "duration": 2,
    "start_time": "2022-07-03T20:08:33.529Z"
   },
   {
    "duration": 207,
    "start_time": "2022-07-03T20:08:33.533Z"
   },
   {
    "duration": 3,
    "start_time": "2022-07-03T20:08:33.741Z"
   },
   {
    "duration": 3067,
    "start_time": "2022-07-03T20:08:33.746Z"
   },
   {
    "duration": 2,
    "start_time": "2022-07-03T20:08:36.815Z"
   },
   {
    "duration": 1494,
    "start_time": "2022-07-03T20:09:30.211Z"
   },
   {
    "duration": 791,
    "start_time": "2022-07-03T20:09:31.707Z"
   },
   {
    "duration": 137,
    "start_time": "2022-07-03T20:09:32.500Z"
   },
   {
    "duration": 3,
    "start_time": "2022-07-03T20:09:32.639Z"
   },
   {
    "duration": 6,
    "start_time": "2022-07-03T20:09:32.645Z"
   },
   {
    "duration": 8,
    "start_time": "2022-07-03T20:09:32.652Z"
   },
   {
    "duration": 9,
    "start_time": "2022-07-03T20:09:32.662Z"
   },
   {
    "duration": 7678,
    "start_time": "2022-07-03T20:09:32.673Z"
   },
   {
    "duration": 2,
    "start_time": "2022-07-03T20:09:40.353Z"
   },
   {
    "duration": 6,
    "start_time": "2022-07-03T20:09:40.357Z"
   },
   {
    "duration": 58,
    "start_time": "2022-07-03T20:09:40.366Z"
   },
   {
    "duration": 2,
    "start_time": "2022-07-03T20:09:40.426Z"
   },
   {
    "duration": 8,
    "start_time": "2022-07-03T20:09:40.429Z"
   },
   {
    "duration": 8,
    "start_time": "2022-07-03T20:09:40.440Z"
   },
   {
    "duration": 5,
    "start_time": "2022-07-03T20:09:40.449Z"
   },
   {
    "duration": 37,
    "start_time": "2022-07-03T20:09:40.455Z"
   },
   {
    "duration": 43,
    "start_time": "2022-07-03T20:09:40.494Z"
   },
   {
    "duration": 7,
    "start_time": "2022-07-03T20:09:40.538Z"
   },
   {
    "duration": 150,
    "start_time": "2022-07-03T20:09:40.547Z"
   },
   {
    "duration": 2,
    "start_time": "2022-07-03T20:09:40.699Z"
   },
   {
    "duration": 3134,
    "start_time": "2022-07-03T20:09:40.703Z"
   },
   {
    "duration": 2,
    "start_time": "2022-07-03T20:09:43.839Z"
   },
   {
    "duration": 542487,
    "start_time": "2022-07-03T20:09:43.843Z"
   },
   {
    "duration": 1433,
    "start_time": "2022-07-03T20:24:44.354Z"
   },
   {
    "duration": 771,
    "start_time": "2022-07-03T20:24:45.789Z"
   },
   {
    "duration": 112,
    "start_time": "2022-07-03T20:24:46.561Z"
   },
   {
    "duration": 2,
    "start_time": "2022-07-03T20:24:46.674Z"
   },
   {
    "duration": 14,
    "start_time": "2022-07-03T20:24:46.678Z"
   },
   {
    "duration": 87800,
    "start_time": "2022-07-03T20:24:46.694Z"
   },
   {
    "duration": 11,
    "start_time": "2022-07-03T20:26:14.496Z"
   },
   {
    "duration": 17,
    "start_time": "2022-07-03T20:26:14.509Z"
   },
   {
    "duration": 12,
    "start_time": "2022-07-03T20:26:14.528Z"
   },
   {
    "duration": 5,
    "start_time": "2022-07-03T20:26:14.542Z"
   },
   {
    "duration": 34,
    "start_time": "2022-07-03T20:26:14.549Z"
   },
   {
    "duration": 2,
    "start_time": "2022-07-03T20:26:14.586Z"
   },
   {
    "duration": 6,
    "start_time": "2022-07-03T20:26:14.590Z"
   },
   {
    "duration": 8,
    "start_time": "2022-07-03T20:26:14.599Z"
   },
   {
    "duration": 4,
    "start_time": "2022-07-03T20:26:14.623Z"
   },
   {
    "duration": 35,
    "start_time": "2022-07-03T20:26:14.628Z"
   },
   {
    "duration": 16,
    "start_time": "2022-07-03T20:26:14.664Z"
   },
   {
    "duration": 3,
    "start_time": "2022-07-03T20:26:14.681Z"
   },
   {
    "duration": 225,
    "start_time": "2022-07-03T20:26:14.685Z"
   },
   {
    "duration": 3,
    "start_time": "2022-07-03T20:26:14.912Z"
   },
   {
    "duration": 3017,
    "start_time": "2022-07-03T20:26:14.916Z"
   },
   {
    "duration": 3,
    "start_time": "2022-07-03T20:26:17.934Z"
   },
   {
    "duration": 557797,
    "start_time": "2022-07-03T20:26:17.939Z"
   },
   {
    "duration": 168672,
    "start_time": "2022-07-03T20:35:35.738Z"
   },
   {
    "duration": 1593,
    "start_time": "2022-07-03T20:38:43.998Z"
   },
   {
    "duration": 780,
    "start_time": "2022-07-03T20:38:45.593Z"
   },
   {
    "duration": 120,
    "start_time": "2022-07-03T20:38:46.375Z"
   },
   {
    "duration": 3,
    "start_time": "2022-07-03T20:38:46.497Z"
   },
   {
    "duration": 4,
    "start_time": "2022-07-03T20:38:46.503Z"
   },
   {
    "duration": 3,
    "start_time": "2022-07-03T20:38:46.522Z"
   },
   {
    "duration": 11,
    "start_time": "2022-07-03T20:38:46.526Z"
   },
   {
    "duration": 6740,
    "start_time": "2022-07-03T20:38:46.539Z"
   },
   {
    "duration": 3,
    "start_time": "2022-07-03T20:38:53.280Z"
   },
   {
    "duration": 10,
    "start_time": "2022-07-03T20:38:53.285Z"
   },
   {
    "duration": 40,
    "start_time": "2022-07-03T20:38:53.297Z"
   },
   {
    "duration": 3,
    "start_time": "2022-07-03T20:38:53.338Z"
   },
   {
    "duration": 7,
    "start_time": "2022-07-03T20:38:53.342Z"
   },
   {
    "duration": 8,
    "start_time": "2022-07-03T20:38:53.352Z"
   },
   {
    "duration": 5,
    "start_time": "2022-07-03T20:38:53.362Z"
   },
   {
    "duration": 32,
    "start_time": "2022-07-03T20:38:53.368Z"
   },
   {
    "duration": 31,
    "start_time": "2022-07-03T20:38:53.402Z"
   },
   {
    "duration": 5,
    "start_time": "2022-07-03T20:38:53.435Z"
   },
   {
    "duration": 4,
    "start_time": "2022-07-03T20:38:53.442Z"
   },
   {
    "duration": 203,
    "start_time": "2022-07-03T20:38:53.447Z"
   },
   {
    "duration": 4,
    "start_time": "2022-07-03T20:38:53.652Z"
   },
   {
    "duration": 4739,
    "start_time": "2022-07-03T20:38:53.658Z"
   },
   {
    "duration": 3,
    "start_time": "2022-07-03T20:38:58.399Z"
   },
   {
    "duration": 510255,
    "start_time": "2022-07-03T20:38:58.403Z"
   },
   {
    "duration": 1444,
    "start_time": "2022-07-03T20:53:46.173Z"
   },
   {
    "duration": 812,
    "start_time": "2022-07-03T20:53:47.619Z"
   },
   {
    "duration": 134,
    "start_time": "2022-07-03T20:53:48.433Z"
   },
   {
    "duration": 3,
    "start_time": "2022-07-03T20:53:48.569Z"
   },
   {
    "duration": 5,
    "start_time": "2022-07-03T20:53:48.575Z"
   },
   {
    "duration": 5,
    "start_time": "2022-07-03T20:53:48.582Z"
   },
   {
    "duration": 18,
    "start_time": "2022-07-03T20:53:48.589Z"
   },
   {
    "duration": 6838,
    "start_time": "2022-07-03T20:53:48.609Z"
   },
   {
    "duration": 2,
    "start_time": "2022-07-03T20:53:55.449Z"
   },
   {
    "duration": 25,
    "start_time": "2022-07-03T20:53:55.453Z"
   },
   {
    "duration": 2,
    "start_time": "2022-07-03T20:53:55.480Z"
   },
   {
    "duration": 8,
    "start_time": "2022-07-03T20:53:55.483Z"
   },
   {
    "duration": 14,
    "start_time": "2022-07-03T20:53:55.493Z"
   },
   {
    "duration": 123,
    "start_time": "2022-07-03T20:53:55.524Z"
   },
   {
    "duration": 0,
    "start_time": "2022-07-03T20:53:55.648Z"
   },
   {
    "duration": 0,
    "start_time": "2022-07-03T20:53:55.650Z"
   },
   {
    "duration": 0,
    "start_time": "2022-07-03T20:53:55.651Z"
   },
   {
    "duration": 0,
    "start_time": "2022-07-03T20:53:55.652Z"
   },
   {
    "duration": 0,
    "start_time": "2022-07-03T20:53:55.654Z"
   },
   {
    "duration": 0,
    "start_time": "2022-07-03T20:53:55.655Z"
   },
   {
    "duration": 0,
    "start_time": "2022-07-03T20:53:55.657Z"
   },
   {
    "duration": 0,
    "start_time": "2022-07-03T20:53:55.659Z"
   },
   {
    "duration": 0,
    "start_time": "2022-07-03T20:53:55.660Z"
   },
   {
    "duration": 0,
    "start_time": "2022-07-03T20:53:55.661Z"
   },
   {
    "duration": 0,
    "start_time": "2022-07-03T20:53:55.663Z"
   },
   {
    "duration": 0,
    "start_time": "2022-07-03T20:53:55.665Z"
   },
   {
    "duration": 0,
    "start_time": "2022-07-03T20:53:55.666Z"
   },
   {
    "duration": 0,
    "start_time": "2022-07-03T20:53:55.667Z"
   },
   {
    "duration": 12,
    "start_time": "2022-07-03T20:54:20.003Z"
   },
   {
    "duration": 5,
    "start_time": "2022-07-03T20:54:26.524Z"
   },
   {
    "duration": 5,
    "start_time": "2022-07-03T20:54:29.602Z"
   },
   {
    "duration": 11,
    "start_time": "2022-07-03T20:54:40.266Z"
   },
   {
    "duration": 5,
    "start_time": "2022-07-03T21:01:46.828Z"
   },
   {
    "duration": 6,
    "start_time": "2022-07-03T21:02:00.006Z"
   },
   {
    "duration": 678,
    "start_time": "2022-07-03T21:03:30.596Z"
   },
   {
    "duration": 2,
    "start_time": "2022-07-03T21:08:44.243Z"
   },
   {
    "duration": 9,
    "start_time": "2022-07-03T21:09:41.219Z"
   },
   {
    "duration": 1633,
    "start_time": "2022-07-03T21:09:47.440Z"
   },
   {
    "duration": 773,
    "start_time": "2022-07-03T21:09:49.075Z"
   },
   {
    "duration": 115,
    "start_time": "2022-07-03T21:09:49.849Z"
   },
   {
    "duration": 2,
    "start_time": "2022-07-03T21:09:49.966Z"
   },
   {
    "duration": 4,
    "start_time": "2022-07-03T21:09:49.970Z"
   },
   {
    "duration": 6,
    "start_time": "2022-07-03T21:09:49.975Z"
   },
   {
    "duration": 11,
    "start_time": "2022-07-03T21:09:49.982Z"
   },
   {
    "duration": 6693,
    "start_time": "2022-07-03T21:09:49.995Z"
   },
   {
    "duration": 2,
    "start_time": "2022-07-03T21:09:56.690Z"
   },
   {
    "duration": 30,
    "start_time": "2022-07-03T21:09:56.694Z"
   },
   {
    "duration": 10,
    "start_time": "2022-07-03T21:09:56.725Z"
   },
   {
    "duration": 11,
    "start_time": "2022-07-03T21:09:56.736Z"
   },
   {
    "duration": 2,
    "start_time": "2022-07-03T21:09:56.748Z"
   },
   {
    "duration": 9,
    "start_time": "2022-07-03T21:09:56.753Z"
   },
   {
    "duration": 7,
    "start_time": "2022-07-03T21:09:56.763Z"
   },
   {
    "duration": 15,
    "start_time": "2022-07-03T21:09:56.771Z"
   },
   {
    "duration": 44,
    "start_time": "2022-07-03T21:09:56.787Z"
   },
   {
    "duration": 7,
    "start_time": "2022-07-03T21:10:08.305Z"
   },
   {
    "duration": 191,
    "start_time": "2022-07-03T21:10:23.385Z"
   },
   {
    "duration": 1493,
    "start_time": "2022-07-03T21:10:37.580Z"
   },
   {
    "duration": 790,
    "start_time": "2022-07-03T21:10:39.075Z"
   },
   {
    "duration": 122,
    "start_time": "2022-07-03T21:10:39.867Z"
   },
   {
    "duration": 2,
    "start_time": "2022-07-03T21:10:39.991Z"
   },
   {
    "duration": 6,
    "start_time": "2022-07-03T21:10:39.995Z"
   },
   {
    "duration": 8,
    "start_time": "2022-07-03T21:10:40.002Z"
   },
   {
    "duration": 10,
    "start_time": "2022-07-03T21:10:40.022Z"
   },
   {
    "duration": 6829,
    "start_time": "2022-07-03T21:10:40.035Z"
   },
   {
    "duration": 3,
    "start_time": "2022-07-03T21:10:46.865Z"
   },
   {
    "duration": 25,
    "start_time": "2022-07-03T21:10:46.870Z"
   },
   {
    "duration": 8,
    "start_time": "2022-07-03T21:10:46.896Z"
   },
   {
    "duration": 25,
    "start_time": "2022-07-03T21:10:46.906Z"
   },
   {
    "duration": 4,
    "start_time": "2022-07-03T21:10:46.933Z"
   },
   {
    "duration": 8,
    "start_time": "2022-07-03T21:10:46.939Z"
   },
   {
    "duration": 9,
    "start_time": "2022-07-03T21:10:46.948Z"
   },
   {
    "duration": 18,
    "start_time": "2022-07-03T21:10:46.958Z"
   },
   {
    "duration": 5,
    "start_time": "2022-07-03T21:10:46.977Z"
   },
   {
    "duration": 4,
    "start_time": "2022-07-03T21:10:46.984Z"
   },
   {
    "duration": 7,
    "start_time": "2022-07-03T21:10:46.990Z"
   },
   {
    "duration": 171,
    "start_time": "2022-07-03T21:10:46.999Z"
   },
   {
    "duration": 3,
    "start_time": "2022-07-03T21:10:47.171Z"
   },
   {
    "duration": 3090,
    "start_time": "2022-07-03T21:10:47.175Z"
   },
   {
    "duration": 3,
    "start_time": "2022-07-03T21:10:50.266Z"
   },
   {
    "duration": 313170,
    "start_time": "2022-07-03T21:10:50.270Z"
   },
   {
    "duration": 1501,
    "start_time": "2022-07-03T21:25:34.229Z"
   },
   {
    "duration": 775,
    "start_time": "2022-07-03T21:25:35.733Z"
   },
   {
    "duration": 117,
    "start_time": "2022-07-03T21:25:36.510Z"
   },
   {
    "duration": 3,
    "start_time": "2022-07-03T21:25:36.628Z"
   },
   {
    "duration": 8,
    "start_time": "2022-07-03T21:25:36.633Z"
   },
   {
    "duration": 5,
    "start_time": "2022-07-03T21:25:36.642Z"
   },
   {
    "duration": 13,
    "start_time": "2022-07-03T21:25:36.648Z"
   },
   {
    "duration": 6688,
    "start_time": "2022-07-03T21:25:36.663Z"
   },
   {
    "duration": 2,
    "start_time": "2022-07-03T21:25:43.352Z"
   },
   {
    "duration": 24,
    "start_time": "2022-07-03T21:25:43.356Z"
   },
   {
    "duration": 10,
    "start_time": "2022-07-03T21:25:43.382Z"
   },
   {
    "duration": 31,
    "start_time": "2022-07-03T21:25:43.394Z"
   },
   {
    "duration": 3,
    "start_time": "2022-07-03T21:25:43.426Z"
   },
   {
    "duration": 7,
    "start_time": "2022-07-03T21:25:43.431Z"
   },
   {
    "duration": 6,
    "start_time": "2022-07-03T21:25:43.440Z"
   },
   {
    "duration": 19,
    "start_time": "2022-07-03T21:25:43.448Z"
   },
   {
    "duration": 5,
    "start_time": "2022-07-03T21:25:43.468Z"
   },
   {
    "duration": 8,
    "start_time": "2022-07-03T21:25:43.475Z"
   },
   {
    "duration": 10,
    "start_time": "2022-07-03T21:25:43.484Z"
   },
   {
    "duration": 135,
    "start_time": "2022-07-03T21:25:43.495Z"
   },
   {
    "duration": 3,
    "start_time": "2022-07-03T21:25:43.632Z"
   },
   {
    "duration": 6050,
    "start_time": "2022-07-03T21:25:43.636Z"
   },
   {
    "duration": 2,
    "start_time": "2022-07-03T21:25:49.688Z"
   },
   {
    "duration": 670774,
    "start_time": "2022-07-03T21:25:49.692Z"
   },
   {
    "duration": 1532,
    "start_time": "2022-07-03T21:41:08.758Z"
   },
   {
    "duration": 756,
    "start_time": "2022-07-03T21:41:10.292Z"
   },
   {
    "duration": 110,
    "start_time": "2022-07-03T21:41:11.049Z"
   },
   {
    "duration": 2,
    "start_time": "2022-07-03T21:41:11.160Z"
   },
   {
    "duration": 7,
    "start_time": "2022-07-03T21:41:11.164Z"
   },
   {
    "duration": 5,
    "start_time": "2022-07-03T21:41:11.173Z"
   },
   {
    "duration": 11,
    "start_time": "2022-07-03T21:41:11.179Z"
   },
   {
    "duration": 6729,
    "start_time": "2022-07-03T21:41:11.191Z"
   },
   {
    "duration": 2,
    "start_time": "2022-07-03T21:41:17.922Z"
   },
   {
    "duration": 30,
    "start_time": "2022-07-03T21:41:17.925Z"
   },
   {
    "duration": 2,
    "start_time": "2022-07-03T21:41:17.957Z"
   },
   {
    "duration": 10,
    "start_time": "2022-07-03T21:41:17.961Z"
   },
   {
    "duration": 20,
    "start_time": "2022-07-03T21:41:17.973Z"
   },
   {
    "duration": 138,
    "start_time": "2022-07-03T21:41:17.996Z"
   },
   {
    "duration": 0,
    "start_time": "2022-07-03T21:41:18.135Z"
   },
   {
    "duration": 0,
    "start_time": "2022-07-03T21:41:18.137Z"
   },
   {
    "duration": 0,
    "start_time": "2022-07-03T21:41:18.139Z"
   },
   {
    "duration": 0,
    "start_time": "2022-07-03T21:41:18.140Z"
   },
   {
    "duration": 0,
    "start_time": "2022-07-03T21:41:18.141Z"
   },
   {
    "duration": 0,
    "start_time": "2022-07-03T21:41:18.143Z"
   },
   {
    "duration": 0,
    "start_time": "2022-07-03T21:41:18.144Z"
   },
   {
    "duration": 0,
    "start_time": "2022-07-03T21:41:18.146Z"
   },
   {
    "duration": 0,
    "start_time": "2022-07-03T21:41:18.147Z"
   },
   {
    "duration": 0,
    "start_time": "2022-07-03T21:41:18.149Z"
   },
   {
    "duration": 0,
    "start_time": "2022-07-03T21:41:18.150Z"
   },
   {
    "duration": 0,
    "start_time": "2022-07-03T21:41:18.151Z"
   },
   {
    "duration": 0,
    "start_time": "2022-07-03T21:41:18.152Z"
   },
   {
    "duration": 0,
    "start_time": "2022-07-03T21:41:18.153Z"
   },
   {
    "duration": 1475,
    "start_time": "2022-07-03T21:41:40.643Z"
   },
   {
    "duration": 788,
    "start_time": "2022-07-03T21:41:42.120Z"
   },
   {
    "duration": 116,
    "start_time": "2022-07-03T21:41:42.910Z"
   },
   {
    "duration": 2,
    "start_time": "2022-07-03T21:41:43.028Z"
   },
   {
    "duration": 6,
    "start_time": "2022-07-03T21:41:43.032Z"
   },
   {
    "duration": 7,
    "start_time": "2022-07-03T21:41:43.040Z"
   },
   {
    "duration": 12,
    "start_time": "2022-07-03T21:41:43.048Z"
   },
   {
    "duration": 6722,
    "start_time": "2022-07-03T21:41:43.061Z"
   },
   {
    "duration": 3,
    "start_time": "2022-07-03T21:41:49.784Z"
   },
   {
    "duration": 26,
    "start_time": "2022-07-03T21:41:49.788Z"
   },
   {
    "duration": 3,
    "start_time": "2022-07-03T21:41:49.823Z"
   },
   {
    "duration": 8,
    "start_time": "2022-07-03T21:41:49.827Z"
   },
   {
    "duration": 18,
    "start_time": "2022-07-03T21:41:49.837Z"
   },
   {
    "duration": 3,
    "start_time": "2022-07-03T21:41:49.858Z"
   },
   {
    "duration": 11,
    "start_time": "2022-07-03T21:41:49.863Z"
   },
   {
    "duration": 15,
    "start_time": "2022-07-03T21:41:49.875Z"
   },
   {
    "duration": 9,
    "start_time": "2022-07-03T21:41:49.892Z"
   },
   {
    "duration": 6,
    "start_time": "2022-07-03T21:41:49.902Z"
   },
   {
    "duration": 5,
    "start_time": "2022-07-03T21:41:49.909Z"
   },
   {
    "duration": 240,
    "start_time": "2022-07-03T21:41:49.916Z"
   },
   {
    "duration": 3,
    "start_time": "2022-07-03T21:41:50.157Z"
   },
   {
    "duration": 4744,
    "start_time": "2022-07-03T21:41:50.161Z"
   },
   {
    "duration": 2,
    "start_time": "2022-07-03T21:41:54.907Z"
   },
   {
    "duration": 540249,
    "start_time": "2022-07-03T21:41:54.910Z"
   },
   {
    "duration": 1542,
    "start_time": "2022-07-03T21:54:55.029Z"
   },
   {
    "duration": 750,
    "start_time": "2022-07-03T21:54:56.572Z"
   },
   {
    "duration": 113,
    "start_time": "2022-07-03T21:54:57.323Z"
   },
   {
    "duration": 2,
    "start_time": "2022-07-03T21:54:57.438Z"
   },
   {
    "duration": 6,
    "start_time": "2022-07-03T21:54:57.441Z"
   },
   {
    "duration": 5,
    "start_time": "2022-07-03T21:54:57.449Z"
   },
   {
    "duration": 16,
    "start_time": "2022-07-03T21:54:57.455Z"
   },
   {
    "duration": 6686,
    "start_time": "2022-07-03T21:54:57.473Z"
   },
   {
    "duration": 3,
    "start_time": "2022-07-03T21:55:04.160Z"
   },
   {
    "duration": 5,
    "start_time": "2022-07-03T21:55:04.165Z"
   },
   {
    "duration": 6,
    "start_time": "2022-07-03T21:55:04.171Z"
   },
   {
    "duration": 5,
    "start_time": "2022-07-03T21:55:04.178Z"
   },
   {
    "duration": 54,
    "start_time": "2022-07-03T21:55:04.184Z"
   },
   {
    "duration": 3,
    "start_time": "2022-07-03T21:55:04.239Z"
   },
   {
    "duration": 6,
    "start_time": "2022-07-03T21:55:04.243Z"
   },
   {
    "duration": 7,
    "start_time": "2022-07-03T21:55:04.250Z"
   },
   {
    "duration": 9,
    "start_time": "2022-07-03T21:55:04.258Z"
   },
   {
    "duration": 5,
    "start_time": "2022-07-03T21:55:04.268Z"
   },
   {
    "duration": 5,
    "start_time": "2022-07-03T21:55:04.274Z"
   },
   {
    "duration": 196,
    "start_time": "2022-07-03T21:55:04.280Z"
   },
   {
    "duration": 2,
    "start_time": "2022-07-03T21:55:04.478Z"
   },
   {
    "duration": 21479,
    "start_time": "2022-07-03T21:55:04.482Z"
   },
   {
    "duration": 3,
    "start_time": "2022-07-03T21:55:25.962Z"
   },
   {
    "duration": 168,
    "start_time": "2022-07-03T21:55:25.966Z"
   },
   {
    "duration": 1552,
    "start_time": "2022-07-03T21:56:06.308Z"
   },
   {
    "duration": 821,
    "start_time": "2022-07-03T21:56:07.862Z"
   },
   {
    "duration": 122,
    "start_time": "2022-07-03T21:56:08.684Z"
   },
   {
    "duration": 3,
    "start_time": "2022-07-03T21:56:08.807Z"
   },
   {
    "duration": 14,
    "start_time": "2022-07-03T21:56:08.812Z"
   },
   {
    "duration": 5,
    "start_time": "2022-07-03T21:56:08.827Z"
   },
   {
    "duration": 13,
    "start_time": "2022-07-03T21:56:08.833Z"
   },
   {
    "duration": 6668,
    "start_time": "2022-07-03T21:56:08.848Z"
   },
   {
    "duration": 5,
    "start_time": "2022-07-03T21:56:15.518Z"
   },
   {
    "duration": 5,
    "start_time": "2022-07-03T21:56:15.524Z"
   },
   {
    "duration": 5,
    "start_time": "2022-07-03T21:56:15.530Z"
   },
   {
    "duration": 7,
    "start_time": "2022-07-03T21:56:15.536Z"
   },
   {
    "duration": 41,
    "start_time": "2022-07-03T21:56:15.545Z"
   },
   {
    "duration": 2,
    "start_time": "2022-07-03T21:56:15.588Z"
   },
   {
    "duration": 5,
    "start_time": "2022-07-03T21:56:15.592Z"
   },
   {
    "duration": 5,
    "start_time": "2022-07-03T21:56:15.598Z"
   },
   {
    "duration": 3,
    "start_time": "2022-07-03T21:56:15.624Z"
   },
   {
    "duration": 5,
    "start_time": "2022-07-03T21:56:15.629Z"
   },
   {
    "duration": 7,
    "start_time": "2022-07-03T21:56:15.636Z"
   },
   {
    "duration": 126,
    "start_time": "2022-07-03T21:56:15.645Z"
   },
   {
    "duration": 2,
    "start_time": "2022-07-03T21:56:15.773Z"
   },
   {
    "duration": 21442,
    "start_time": "2022-07-03T21:56:15.777Z"
   },
   {
    "duration": 3,
    "start_time": "2022-07-03T21:56:37.221Z"
   },
   {
    "duration": 1950041,
    "start_time": "2022-07-03T21:56:37.226Z"
   },
   {
    "duration": 1592,
    "start_time": "2022-07-04T03:44:12.215Z"
   },
   {
    "duration": 2252,
    "start_time": "2022-07-04T03:44:13.809Z"
   },
   {
    "duration": 106,
    "start_time": "2022-07-04T03:44:16.063Z"
   },
   {
    "duration": 2,
    "start_time": "2022-07-04T03:44:16.171Z"
   },
   {
    "duration": 6,
    "start_time": "2022-07-04T03:44:16.175Z"
   },
   {
    "duration": 4,
    "start_time": "2022-07-04T03:44:16.183Z"
   },
   {
    "duration": 15,
    "start_time": "2022-07-04T03:44:16.188Z"
   },
   {
    "duration": 6580,
    "start_time": "2022-07-04T03:44:16.204Z"
   },
   {
    "duration": 2,
    "start_time": "2022-07-04T03:44:22.786Z"
   },
   {
    "duration": 34,
    "start_time": "2022-07-04T03:44:22.789Z"
   },
   {
    "duration": 3,
    "start_time": "2022-07-04T03:44:22.824Z"
   },
   {
    "duration": 6,
    "start_time": "2022-07-04T03:44:22.828Z"
   },
   {
    "duration": 18,
    "start_time": "2022-07-04T03:44:22.836Z"
   },
   {
    "duration": 2,
    "start_time": "2022-07-04T03:44:22.857Z"
   },
   {
    "duration": 10,
    "start_time": "2022-07-04T03:44:22.860Z"
   },
   {
    "duration": 12,
    "start_time": "2022-07-04T03:44:22.872Z"
   },
   {
    "duration": 13,
    "start_time": "2022-07-04T03:44:22.886Z"
   },
   {
    "duration": 8,
    "start_time": "2022-07-04T03:44:22.900Z"
   },
   {
    "duration": 5,
    "start_time": "2022-07-04T03:44:22.910Z"
   },
   {
    "duration": 144,
    "start_time": "2022-07-04T03:44:22.917Z"
   },
   {
    "duration": 3,
    "start_time": "2022-07-04T03:44:23.062Z"
   },
   {
    "duration": 4521,
    "start_time": "2022-07-04T03:44:23.066Z"
   },
   {
    "duration": 3,
    "start_time": "2022-07-04T03:44:27.588Z"
   },
   {
    "duration": 568968,
    "start_time": "2022-07-04T03:44:27.592Z"
   },
   {
    "duration": 2033284,
    "start_time": "2022-07-04T03:53:56.561Z"
   },
   {
    "duration": 29965598,
    "start_time": "2022-07-04T04:27:49.847Z"
   },
   {
    "duration": 10,
    "start_time": "2022-07-04T12:47:15.454Z"
   },
   {
    "duration": 256,
    "start_time": "2022-07-04T12:47:15.465Z"
   },
   {
    "duration": 582843,
    "start_time": "2022-07-04T18:04:53.152Z"
   },
   {
    "duration": 40972,
    "start_time": "2022-07-04T18:19:58.194Z"
   },
   {
    "duration": 76,
    "start_time": "2022-07-04T18:52:14.270Z"
   },
   {
    "duration": 24,
    "start_time": "2022-07-04T18:52:57.574Z"
   },
   {
    "duration": 309,
    "start_time": "2022-07-04T18:54:03.957Z"
   },
   {
    "duration": 1635,
    "start_time": "2022-07-04T18:54:52.153Z"
   },
   {
    "duration": 2513,
    "start_time": "2022-07-04T18:54:53.790Z"
   },
   {
    "duration": 122,
    "start_time": "2022-07-04T18:54:56.305Z"
   },
   {
    "duration": 2,
    "start_time": "2022-07-04T18:54:56.429Z"
   },
   {
    "duration": 10,
    "start_time": "2022-07-04T18:54:56.432Z"
   },
   {
    "duration": 8,
    "start_time": "2022-07-04T18:54:56.444Z"
   },
   {
    "duration": 12,
    "start_time": "2022-07-04T18:54:56.453Z"
   },
   {
    "duration": 6942,
    "start_time": "2022-07-04T18:54:56.467Z"
   },
   {
    "duration": 2,
    "start_time": "2022-07-04T18:55:03.411Z"
   },
   {
    "duration": 32,
    "start_time": "2022-07-04T18:55:03.416Z"
   },
   {
    "duration": 3,
    "start_time": "2022-07-04T18:55:03.450Z"
   },
   {
    "duration": 10,
    "start_time": "2022-07-04T18:55:03.454Z"
   },
   {
    "duration": 6,
    "start_time": "2022-07-04T18:55:03.466Z"
   },
   {
    "duration": 24,
    "start_time": "2022-07-04T18:55:03.473Z"
   },
   {
    "duration": 2,
    "start_time": "2022-07-04T18:55:03.499Z"
   },
   {
    "duration": 11,
    "start_time": "2022-07-04T18:55:03.502Z"
   },
   {
    "duration": 7,
    "start_time": "2022-07-04T18:55:03.514Z"
   },
   {
    "duration": 8,
    "start_time": "2022-07-04T18:55:03.522Z"
   },
   {
    "duration": 9,
    "start_time": "2022-07-04T18:55:03.531Z"
   },
   {
    "duration": 6,
    "start_time": "2022-07-04T18:55:03.541Z"
   },
   {
    "duration": 403,
    "start_time": "2022-07-04T18:55:03.548Z"
   },
   {
    "duration": 3,
    "start_time": "2022-07-04T18:55:03.953Z"
   },
   {
    "duration": 3969,
    "start_time": "2022-07-04T18:55:03.957Z"
   },
   {
    "duration": 3,
    "start_time": "2022-07-04T18:55:07.928Z"
   },
   {
    "duration": 431923,
    "start_time": "2022-07-04T18:55:07.933Z"
   },
   {
    "duration": 10,
    "start_time": "2022-07-04T19:10:03.736Z"
   },
   {
    "duration": 1507,
    "start_time": "2022-07-04T19:11:17.703Z"
   },
   {
    "duration": 801,
    "start_time": "2022-07-04T19:11:19.212Z"
   },
   {
    "duration": 123,
    "start_time": "2022-07-04T19:11:20.015Z"
   },
   {
    "duration": 3,
    "start_time": "2022-07-04T19:11:20.140Z"
   },
   {
    "duration": 7,
    "start_time": "2022-07-04T19:11:20.145Z"
   },
   {
    "duration": 11,
    "start_time": "2022-07-04T19:11:20.153Z"
   },
   {
    "duration": 12,
    "start_time": "2022-07-04T19:11:20.166Z"
   },
   {
    "duration": 1557,
    "start_time": "2022-07-04T19:11:29.023Z"
   },
   {
    "duration": 848,
    "start_time": "2022-07-04T19:11:30.583Z"
   },
   {
    "duration": 122,
    "start_time": "2022-07-04T19:11:31.433Z"
   },
   {
    "duration": 6,
    "start_time": "2022-07-04T19:11:31.557Z"
   },
   {
    "duration": 9,
    "start_time": "2022-07-04T19:11:31.565Z"
   },
   {
    "duration": 7,
    "start_time": "2022-07-04T19:11:31.575Z"
   },
   {
    "duration": 16,
    "start_time": "2022-07-04T19:11:31.583Z"
   },
   {
    "duration": 6892,
    "start_time": "2022-07-04T19:11:31.600Z"
   },
   {
    "duration": 2,
    "start_time": "2022-07-04T19:11:38.494Z"
   },
   {
    "duration": 29,
    "start_time": "2022-07-04T19:11:38.498Z"
   },
   {
    "duration": 3,
    "start_time": "2022-07-04T19:11:38.528Z"
   },
   {
    "duration": 7,
    "start_time": "2022-07-04T19:11:38.532Z"
   },
   {
    "duration": 7,
    "start_time": "2022-07-04T19:11:38.541Z"
   },
   {
    "duration": 33,
    "start_time": "2022-07-04T19:11:38.550Z"
   },
   {
    "duration": 2,
    "start_time": "2022-07-04T19:11:38.585Z"
   },
   {
    "duration": 14,
    "start_time": "2022-07-04T19:11:38.589Z"
   },
   {
    "duration": 13,
    "start_time": "2022-07-04T19:11:38.605Z"
   },
   {
    "duration": 8,
    "start_time": "2022-07-04T19:11:38.619Z"
   },
   {
    "duration": 5,
    "start_time": "2022-07-04T19:11:38.628Z"
   },
   {
    "duration": 4,
    "start_time": "2022-07-04T19:11:38.635Z"
   },
   {
    "duration": 215,
    "start_time": "2022-07-04T19:11:38.640Z"
   },
   {
    "duration": 3,
    "start_time": "2022-07-04T19:11:38.858Z"
   },
   {
    "duration": 5046,
    "start_time": "2022-07-04T19:11:38.863Z"
   },
   {
    "duration": 4,
    "start_time": "2022-07-04T19:11:43.911Z"
   },
   {
    "duration": 3,
    "start_time": "2022-07-04T19:14:40.570Z"
   },
   {
    "duration": 4,
    "start_time": "2022-07-04T19:14:46.409Z"
   },
   {
    "duration": 4,
    "start_time": "2022-07-04T19:14:51.953Z"
   },
   {
    "duration": 1561,
    "start_time": "2022-07-04T19:17:50.367Z"
   },
   {
    "duration": 827,
    "start_time": "2022-07-04T19:17:51.930Z"
   },
   {
    "duration": 126,
    "start_time": "2022-07-04T19:17:52.759Z"
   },
   {
    "duration": 2,
    "start_time": "2022-07-04T19:17:52.886Z"
   },
   {
    "duration": 8,
    "start_time": "2022-07-04T19:17:52.890Z"
   },
   {
    "duration": 5,
    "start_time": "2022-07-04T19:17:52.899Z"
   },
   {
    "duration": 11,
    "start_time": "2022-07-04T19:17:52.906Z"
   },
   {
    "duration": 6791,
    "start_time": "2022-07-04T19:17:52.918Z"
   },
   {
    "duration": 3,
    "start_time": "2022-07-04T19:17:59.710Z"
   },
   {
    "duration": 25,
    "start_time": "2022-07-04T19:17:59.714Z"
   },
   {
    "duration": 2,
    "start_time": "2022-07-04T19:17:59.741Z"
   },
   {
    "duration": 8,
    "start_time": "2022-07-04T19:17:59.744Z"
   },
   {
    "duration": 11,
    "start_time": "2022-07-04T19:17:59.753Z"
   },
   {
    "duration": 22,
    "start_time": "2022-07-04T19:17:59.767Z"
   },
   {
    "duration": 2,
    "start_time": "2022-07-04T19:17:59.790Z"
   },
   {
    "duration": 7,
    "start_time": "2022-07-04T19:17:59.793Z"
   },
   {
    "duration": 5,
    "start_time": "2022-07-04T19:17:59.801Z"
   },
   {
    "duration": 6,
    "start_time": "2022-07-04T19:17:59.807Z"
   },
   {
    "duration": 6,
    "start_time": "2022-07-04T19:17:59.814Z"
   },
   {
    "duration": 8,
    "start_time": "2022-07-04T19:17:59.822Z"
   },
   {
    "duration": 255,
    "start_time": "2022-07-04T19:17:59.831Z"
   },
   {
    "duration": 3,
    "start_time": "2022-07-04T19:18:00.088Z"
   },
   {
    "duration": 4264,
    "start_time": "2022-07-04T19:18:00.092Z"
   },
   {
    "duration": 6,
    "start_time": "2022-07-04T19:18:04.358Z"
   },
   {
    "duration": 467419,
    "start_time": "2022-07-04T19:18:07.266Z"
   },
   {
    "duration": 21982,
    "start_time": "2022-07-04T19:34:23.688Z"
   },
   {
    "duration": 1467,
    "start_time": "2022-07-04T20:22:54.677Z"
   },
   {
    "duration": 816,
    "start_time": "2022-07-04T20:22:56.146Z"
   },
   {
    "duration": 124,
    "start_time": "2022-07-04T20:22:56.964Z"
   },
   {
    "duration": 3,
    "start_time": "2022-07-04T20:22:57.090Z"
   },
   {
    "duration": 7,
    "start_time": "2022-07-04T20:22:57.095Z"
   },
   {
    "duration": 6,
    "start_time": "2022-07-04T20:22:57.104Z"
   },
   {
    "duration": 13,
    "start_time": "2022-07-04T20:22:57.112Z"
   },
   {
    "duration": 6781,
    "start_time": "2022-07-04T20:22:57.126Z"
   },
   {
    "duration": 9,
    "start_time": "2022-07-04T20:23:03.909Z"
   },
   {
    "duration": 985,
    "start_time": "2022-07-04T20:23:15.013Z"
   },
   {
    "duration": 1493,
    "start_time": "2022-07-04T20:23:25.780Z"
   },
   {
    "duration": 801,
    "start_time": "2022-07-04T20:23:27.275Z"
   },
   {
    "duration": 123,
    "start_time": "2022-07-04T20:23:28.079Z"
   },
   {
    "duration": 3,
    "start_time": "2022-07-04T20:23:28.204Z"
   },
   {
    "duration": 3,
    "start_time": "2022-07-04T20:23:28.209Z"
   },
   {
    "duration": 7,
    "start_time": "2022-07-04T20:23:28.214Z"
   },
   {
    "duration": 17,
    "start_time": "2022-07-04T20:23:28.222Z"
   },
   {
    "duration": 6850,
    "start_time": "2022-07-04T20:23:28.241Z"
   },
   {
    "duration": 10,
    "start_time": "2022-07-04T20:23:38.580Z"
   },
   {
    "duration": 1451,
    "start_time": "2022-07-04T20:28:43.611Z"
   },
   {
    "duration": 790,
    "start_time": "2022-07-04T20:28:45.064Z"
   },
   {
    "duration": 124,
    "start_time": "2022-07-04T20:28:45.856Z"
   },
   {
    "duration": 2,
    "start_time": "2022-07-04T20:28:45.982Z"
   },
   {
    "duration": 10,
    "start_time": "2022-07-04T20:28:45.986Z"
   },
   {
    "duration": 8,
    "start_time": "2022-07-04T20:28:45.997Z"
   },
   {
    "duration": 12,
    "start_time": "2022-07-04T20:28:46.006Z"
   },
   {
    "duration": 11,
    "start_time": "2022-07-04T20:28:46.020Z"
   },
   {
    "duration": 6840,
    "start_time": "2022-07-04T20:28:46.033Z"
   },
   {
    "duration": 8,
    "start_time": "2022-07-04T20:28:52.875Z"
   },
   {
    "duration": 1434,
    "start_time": "2022-07-04T20:44:16.199Z"
   },
   {
    "duration": 780,
    "start_time": "2022-07-04T20:44:17.635Z"
   },
   {
    "duration": 112,
    "start_time": "2022-07-04T20:44:18.417Z"
   },
   {
    "duration": 3,
    "start_time": "2022-07-04T20:44:18.530Z"
   },
   {
    "duration": 6,
    "start_time": "2022-07-04T20:44:18.535Z"
   },
   {
    "duration": 6,
    "start_time": "2022-07-04T20:44:18.542Z"
   },
   {
    "duration": 19,
    "start_time": "2022-07-04T20:44:18.550Z"
   },
   {
    "duration": 9,
    "start_time": "2022-07-04T20:44:18.571Z"
   },
   {
    "duration": 6816,
    "start_time": "2022-07-04T20:44:18.582Z"
   },
   {
    "duration": 11,
    "start_time": "2022-07-04T20:44:25.400Z"
   },
   {
    "duration": 27,
    "start_time": "2022-07-04T20:44:25.412Z"
   },
   {
    "duration": 25,
    "start_time": "2022-07-04T20:44:25.441Z"
   },
   {
    "duration": 9,
    "start_time": "2022-07-04T20:44:33.710Z"
   },
   {
    "duration": 5,
    "start_time": "2022-07-04T20:44:47.221Z"
   },
   {
    "duration": 10,
    "start_time": "2022-07-04T20:45:02.829Z"
   },
   {
    "duration": 1527,
    "start_time": "2022-07-04T20:45:36.151Z"
   },
   {
    "duration": 794,
    "start_time": "2022-07-04T20:45:37.680Z"
   },
   {
    "duration": 124,
    "start_time": "2022-07-04T20:45:38.476Z"
   },
   {
    "duration": 3,
    "start_time": "2022-07-04T20:45:38.602Z"
   },
   {
    "duration": 4,
    "start_time": "2022-07-04T20:45:38.607Z"
   },
   {
    "duration": 5,
    "start_time": "2022-07-04T20:45:38.613Z"
   },
   {
    "duration": 11,
    "start_time": "2022-07-04T20:45:38.619Z"
   },
   {
    "duration": 11,
    "start_time": "2022-07-04T20:45:38.631Z"
   },
   {
    "duration": 6823,
    "start_time": "2022-07-04T20:45:38.644Z"
   },
   {
    "duration": 10,
    "start_time": "2022-07-04T20:45:45.469Z"
   },
   {
    "duration": 7,
    "start_time": "2022-07-04T20:45:45.480Z"
   },
   {
    "duration": 31,
    "start_time": "2022-07-04T20:45:45.489Z"
   },
   {
    "duration": 4,
    "start_time": "2022-07-04T20:45:45.522Z"
   },
   {
    "duration": 10,
    "start_time": "2022-07-04T20:45:54.584Z"
   },
   {
    "duration": 145,
    "start_time": "2022-07-04T20:48:13.584Z"
   },
   {
    "duration": 6,
    "start_time": "2022-07-04T20:48:51.575Z"
   },
   {
    "duration": 4,
    "start_time": "2022-07-04T20:48:59.480Z"
   },
   {
    "duration": 29,
    "start_time": "2022-07-04T20:49:08.737Z"
   },
   {
    "duration": 9,
    "start_time": "2022-07-04T20:49:13.528Z"
   },
   {
    "duration": 6,
    "start_time": "2022-07-04T20:57:41.405Z"
   },
   {
    "duration": 6,
    "start_time": "2022-07-04T20:57:52.887Z"
   },
   {
    "duration": 1580,
    "start_time": "2022-07-04T21:00:11.439Z"
   },
   {
    "duration": 785,
    "start_time": "2022-07-04T21:00:13.021Z"
   },
   {
    "duration": 116,
    "start_time": "2022-07-04T21:00:13.808Z"
   },
   {
    "duration": 2,
    "start_time": "2022-07-04T21:00:13.926Z"
   },
   {
    "duration": 8,
    "start_time": "2022-07-04T21:00:13.930Z"
   },
   {
    "duration": 14,
    "start_time": "2022-07-04T21:00:13.939Z"
   },
   {
    "duration": 12,
    "start_time": "2022-07-04T21:00:13.955Z"
   },
   {
    "duration": 10,
    "start_time": "2022-07-04T21:00:13.969Z"
   },
   {
    "duration": 6853,
    "start_time": "2022-07-04T21:00:13.980Z"
   },
   {
    "duration": 9,
    "start_time": "2022-07-04T21:00:20.835Z"
   },
   {
    "duration": 8,
    "start_time": "2022-07-04T21:00:20.846Z"
   },
   {
    "duration": 38,
    "start_time": "2022-07-04T21:00:20.856Z"
   },
   {
    "duration": 6,
    "start_time": "2022-07-04T21:00:20.895Z"
   },
   {
    "duration": 7,
    "start_time": "2022-07-04T21:00:20.904Z"
   },
   {
    "duration": 53,
    "start_time": "2022-07-04T21:00:20.913Z"
   },
   {
    "duration": 5,
    "start_time": "2022-07-04T21:00:20.968Z"
   },
   {
    "duration": 19,
    "start_time": "2022-07-04T21:00:20.974Z"
   },
   {
    "duration": 10,
    "start_time": "2022-07-04T21:00:20.995Z"
   },
   {
    "duration": 6,
    "start_time": "2022-07-04T21:00:21.006Z"
   },
   {
    "duration": 5,
    "start_time": "2022-07-04T21:00:21.013Z"
   },
   {
    "duration": 7,
    "start_time": "2022-07-04T21:00:21.020Z"
   },
   {
    "duration": 204,
    "start_time": "2022-07-04T21:00:21.028Z"
   },
   {
    "duration": 3,
    "start_time": "2022-07-04T21:00:21.233Z"
   },
   {
    "duration": 4587,
    "start_time": "2022-07-04T21:00:21.237Z"
   },
   {
    "duration": 2,
    "start_time": "2022-07-04T21:00:25.825Z"
   },
   {
    "duration": 9,
    "start_time": "2022-07-04T21:00:25.829Z"
   },
   {
    "duration": 6,
    "start_time": "2022-07-04T21:00:25.840Z"
   },
   {
    "duration": 456764,
    "start_time": "2022-07-04T21:00:25.847Z"
   },
   {
    "duration": 1555,
    "start_time": "2022-07-04T21:11:45.509Z"
   },
   {
    "duration": 794,
    "start_time": "2022-07-04T21:11:47.067Z"
   },
   {
    "duration": 136,
    "start_time": "2022-07-04T21:11:47.863Z"
   },
   {
    "duration": 3,
    "start_time": "2022-07-04T21:11:48.001Z"
   },
   {
    "duration": 7,
    "start_time": "2022-07-04T21:11:48.005Z"
   },
   {
    "duration": 5,
    "start_time": "2022-07-04T21:11:48.014Z"
   },
   {
    "duration": 13,
    "start_time": "2022-07-04T21:11:48.020Z"
   },
   {
    "duration": 10,
    "start_time": "2022-07-04T21:11:48.034Z"
   },
   {
    "duration": 7068,
    "start_time": "2022-07-04T21:11:48.063Z"
   },
   {
    "duration": 9,
    "start_time": "2022-07-04T21:11:55.134Z"
   },
   {
    "duration": 4,
    "start_time": "2022-07-04T21:11:55.145Z"
   },
   {
    "duration": 42,
    "start_time": "2022-07-04T21:11:55.151Z"
   },
   {
    "duration": 3,
    "start_time": "2022-07-04T21:11:55.195Z"
   },
   {
    "duration": 8,
    "start_time": "2022-07-04T21:11:55.199Z"
   },
   {
    "duration": 5,
    "start_time": "2022-07-04T21:11:55.208Z"
   },
   {
    "duration": 5,
    "start_time": "2022-07-04T21:11:55.214Z"
   },
   {
    "duration": 20,
    "start_time": "2022-07-04T21:11:55.220Z"
   },
   {
    "duration": 24,
    "start_time": "2022-07-04T21:11:55.241Z"
   },
   {
    "duration": 7,
    "start_time": "2022-07-04T21:11:55.267Z"
   },
   {
    "duration": 6,
    "start_time": "2022-07-04T21:11:55.276Z"
   },
   {
    "duration": 6,
    "start_time": "2022-07-04T21:11:55.284Z"
   },
   {
    "duration": 206,
    "start_time": "2022-07-04T21:11:55.293Z"
   },
   {
    "duration": 2,
    "start_time": "2022-07-04T21:11:55.501Z"
   },
   {
    "duration": 22377,
    "start_time": "2022-07-04T21:11:55.505Z"
   },
   {
    "duration": 3,
    "start_time": "2022-07-04T21:12:17.885Z"
   },
   {
    "duration": 5,
    "start_time": "2022-07-04T21:12:17.891Z"
   },
   {
    "duration": 8,
    "start_time": "2022-07-04T21:12:17.898Z"
   },
   {
    "duration": 2200308,
    "start_time": "2022-07-04T21:12:17.909Z"
   },
   {
    "duration": 1557,
    "start_time": "2022-07-04T21:58:03.006Z"
   },
   {
    "duration": 809,
    "start_time": "2022-07-04T21:58:04.565Z"
   },
   {
    "duration": 131,
    "start_time": "2022-07-04T21:58:05.376Z"
   },
   {
    "duration": 2,
    "start_time": "2022-07-04T21:58:05.509Z"
   },
   {
    "duration": 7,
    "start_time": "2022-07-04T21:58:05.512Z"
   },
   {
    "duration": 15,
    "start_time": "2022-07-04T21:58:05.520Z"
   },
   {
    "duration": 13,
    "start_time": "2022-07-04T21:58:05.536Z"
   },
   {
    "duration": 9,
    "start_time": "2022-07-04T21:58:05.551Z"
   },
   {
    "duration": 7403,
    "start_time": "2022-07-04T21:58:05.564Z"
   },
   {
    "duration": 10,
    "start_time": "2022-07-04T21:58:12.970Z"
   },
   {
    "duration": 15,
    "start_time": "2022-07-04T21:58:12.982Z"
   },
   {
    "duration": 31,
    "start_time": "2022-07-04T21:58:12.999Z"
   },
   {
    "duration": 6,
    "start_time": "2022-07-04T21:58:13.032Z"
   },
   {
    "duration": 25,
    "start_time": "2022-07-04T21:58:13.039Z"
   },
   {
    "duration": 38,
    "start_time": "2022-07-04T21:58:13.067Z"
   },
   {
    "duration": 5,
    "start_time": "2022-07-04T21:58:13.107Z"
   },
   {
    "duration": 12,
    "start_time": "2022-07-04T21:58:13.115Z"
   },
   {
    "duration": 4,
    "start_time": "2022-07-04T21:58:13.128Z"
   },
   {
    "duration": 4,
    "start_time": "2022-07-04T21:58:13.166Z"
   },
   {
    "duration": 9,
    "start_time": "2022-07-04T21:58:13.172Z"
   },
   {
    "duration": 8,
    "start_time": "2022-07-04T21:58:13.183Z"
   },
   {
    "duration": 202,
    "start_time": "2022-07-04T21:58:13.193Z"
   },
   {
    "duration": 3,
    "start_time": "2022-07-04T21:58:13.397Z"
   },
   {
    "duration": 5181,
    "start_time": "2022-07-04T21:58:13.402Z"
   },
   {
    "duration": 3,
    "start_time": "2022-07-04T21:58:18.586Z"
   },
   {
    "duration": 8,
    "start_time": "2022-07-04T21:58:18.591Z"
   },
   {
    "duration": 5,
    "start_time": "2022-07-04T21:58:18.601Z"
   },
   {
    "duration": 575180,
    "start_time": "2022-07-04T21:58:18.609Z"
   },
   {
    "duration": 10,
    "start_time": "2022-07-04T22:10:01.439Z"
   },
   {
    "duration": 1613,
    "start_time": "2022-07-04T22:10:15.892Z"
   },
   {
    "duration": 851,
    "start_time": "2022-07-04T22:10:17.508Z"
   },
   {
    "duration": 119,
    "start_time": "2022-07-04T22:10:18.366Z"
   },
   {
    "duration": 3,
    "start_time": "2022-07-04T22:10:18.487Z"
   },
   {
    "duration": 10,
    "start_time": "2022-07-04T22:10:18.492Z"
   },
   {
    "duration": 7,
    "start_time": "2022-07-04T22:10:18.504Z"
   },
   {
    "duration": 16,
    "start_time": "2022-07-04T22:10:18.512Z"
   },
   {
    "duration": 13,
    "start_time": "2022-07-04T22:10:18.529Z"
   },
   {
    "duration": 7688,
    "start_time": "2022-07-04T22:10:18.544Z"
   },
   {
    "duration": 9,
    "start_time": "2022-07-04T22:10:26.234Z"
   },
   {
    "duration": 8,
    "start_time": "2022-07-04T22:10:26.245Z"
   },
   {
    "duration": 52,
    "start_time": "2022-07-04T22:10:26.255Z"
   },
   {
    "duration": 7,
    "start_time": "2022-07-04T22:10:26.309Z"
   },
   {
    "duration": 6,
    "start_time": "2022-07-04T22:10:26.320Z"
   },
   {
    "duration": 57,
    "start_time": "2022-07-04T22:10:26.328Z"
   },
   {
    "duration": 8,
    "start_time": "2022-07-04T22:10:26.388Z"
   },
   {
    "duration": 15,
    "start_time": "2022-07-04T22:10:26.398Z"
   },
   {
    "duration": 12,
    "start_time": "2022-07-04T22:10:26.416Z"
   },
   {
    "duration": 4,
    "start_time": "2022-07-04T22:10:26.430Z"
   },
   {
    "duration": 30,
    "start_time": "2022-07-04T22:10:26.435Z"
   },
   {
    "duration": 23,
    "start_time": "2022-07-04T22:10:26.468Z"
   },
   {
    "duration": 7,
    "start_time": "2022-07-04T22:10:26.494Z"
   },
   {
    "duration": 155,
    "start_time": "2022-07-04T22:10:26.503Z"
   },
   {
    "duration": 3,
    "start_time": "2022-07-04T22:10:26.660Z"
   },
   {
    "duration": 3673,
    "start_time": "2022-07-04T22:10:26.664Z"
   },
   {
    "duration": 2,
    "start_time": "2022-07-04T22:10:30.339Z"
   },
   {
    "duration": 46,
    "start_time": "2022-07-04T22:10:30.343Z"
   },
   {
    "duration": 17,
    "start_time": "2022-07-04T22:10:30.391Z"
   },
   {
    "duration": 638285,
    "start_time": "2022-07-04T22:10:30.410Z"
   },
   {
    "duration": 1580,
    "start_time": "2022-07-05T15:43:07.613Z"
   },
   {
    "duration": 1517,
    "start_time": "2022-07-05T15:43:09.195Z"
   },
   {
    "duration": 0,
    "start_time": "2022-07-05T15:43:10.716Z"
   },
   {
    "duration": 0,
    "start_time": "2022-07-05T15:43:10.717Z"
   },
   {
    "duration": 0,
    "start_time": "2022-07-05T15:43:10.718Z"
   },
   {
    "duration": 0,
    "start_time": "2022-07-05T15:43:10.719Z"
   },
   {
    "duration": 0,
    "start_time": "2022-07-05T15:43:10.720Z"
   },
   {
    "duration": 0,
    "start_time": "2022-07-05T15:43:10.721Z"
   },
   {
    "duration": 0,
    "start_time": "2022-07-05T15:43:10.722Z"
   },
   {
    "duration": 0,
    "start_time": "2022-07-05T15:43:10.723Z"
   },
   {
    "duration": 0,
    "start_time": "2022-07-05T15:43:10.724Z"
   },
   {
    "duration": 0,
    "start_time": "2022-07-05T15:43:10.726Z"
   },
   {
    "duration": 0,
    "start_time": "2022-07-05T15:43:10.728Z"
   },
   {
    "duration": 0,
    "start_time": "2022-07-05T15:43:10.728Z"
   },
   {
    "duration": 0,
    "start_time": "2022-07-05T15:43:10.729Z"
   },
   {
    "duration": 0,
    "start_time": "2022-07-05T15:43:10.731Z"
   },
   {
    "duration": 0,
    "start_time": "2022-07-05T15:43:10.732Z"
   },
   {
    "duration": 0,
    "start_time": "2022-07-05T15:43:10.733Z"
   },
   {
    "duration": 0,
    "start_time": "2022-07-05T15:43:10.734Z"
   },
   {
    "duration": 0,
    "start_time": "2022-07-05T15:43:10.737Z"
   },
   {
    "duration": 0,
    "start_time": "2022-07-05T15:43:10.738Z"
   },
   {
    "duration": 0,
    "start_time": "2022-07-05T15:43:10.740Z"
   },
   {
    "duration": 0,
    "start_time": "2022-07-05T15:43:10.741Z"
   },
   {
    "duration": 0,
    "start_time": "2022-07-05T15:43:10.742Z"
   },
   {
    "duration": 0,
    "start_time": "2022-07-05T15:43:10.743Z"
   },
   {
    "duration": 0,
    "start_time": "2022-07-05T15:43:10.835Z"
   },
   {
    "duration": 0,
    "start_time": "2022-07-05T15:43:10.837Z"
   },
   {
    "duration": 0,
    "start_time": "2022-07-05T15:43:10.838Z"
   },
   {
    "duration": 0,
    "start_time": "2022-07-05T15:43:10.863Z"
   },
   {
    "duration": 0,
    "start_time": "2022-07-05T15:43:10.865Z"
   },
   {
    "duration": 0,
    "start_time": "2022-07-05T15:43:10.866Z"
   },
   {
    "duration": 0,
    "start_time": "2022-07-05T15:43:10.867Z"
   },
   {
    "duration": 0,
    "start_time": "2022-07-05T15:43:10.868Z"
   },
   {
    "duration": 0,
    "start_time": "2022-07-05T15:43:10.870Z"
   },
   {
    "duration": 1673,
    "start_time": "2022-07-05T15:43:22.158Z"
   },
   {
    "duration": 1650,
    "start_time": "2022-07-05T15:43:23.833Z"
   },
   {
    "duration": 125,
    "start_time": "2022-07-05T15:43:25.485Z"
   },
   {
    "duration": 2,
    "start_time": "2022-07-05T15:43:25.613Z"
   },
   {
    "duration": 9,
    "start_time": "2022-07-05T15:43:25.617Z"
   },
   {
    "duration": 12,
    "start_time": "2022-07-05T15:43:25.627Z"
   },
   {
    "duration": 12,
    "start_time": "2022-07-05T15:43:25.641Z"
   },
   {
    "duration": 15,
    "start_time": "2022-07-05T15:43:25.655Z"
   },
   {
    "duration": 6852,
    "start_time": "2022-07-05T15:43:25.672Z"
   },
   {
    "duration": 12,
    "start_time": "2022-07-05T15:43:32.528Z"
   },
   {
    "duration": 11,
    "start_time": "2022-07-05T15:43:32.541Z"
   },
   {
    "duration": 46,
    "start_time": "2022-07-05T15:43:32.554Z"
   },
   {
    "duration": 6,
    "start_time": "2022-07-05T15:43:32.602Z"
   },
   {
    "duration": 7,
    "start_time": "2022-07-05T15:43:32.610Z"
   },
   {
    "duration": 63,
    "start_time": "2022-07-05T15:43:32.619Z"
   },
   {
    "duration": 7,
    "start_time": "2022-07-05T15:43:32.684Z"
   },
   {
    "duration": 19,
    "start_time": "2022-07-05T15:43:32.693Z"
   },
   {
    "duration": 13,
    "start_time": "2022-07-05T15:43:32.714Z"
   },
   {
    "duration": 18,
    "start_time": "2022-07-05T15:43:32.729Z"
   },
   {
    "duration": 16,
    "start_time": "2022-07-05T15:43:32.749Z"
   },
   {
    "duration": 6,
    "start_time": "2022-07-05T15:43:32.767Z"
   },
   {
    "duration": 5,
    "start_time": "2022-07-05T15:43:32.775Z"
   },
   {
    "duration": 239,
    "start_time": "2022-07-05T15:43:32.781Z"
   },
   {
    "duration": 4,
    "start_time": "2022-07-05T15:43:33.021Z"
   },
   {
    "duration": 3008,
    "start_time": "2022-07-05T15:43:33.027Z"
   },
   {
    "duration": 3,
    "start_time": "2022-07-05T15:43:36.036Z"
   },
   {
    "duration": 146,
    "start_time": "2022-07-05T15:43:36.040Z"
   },
   {
    "duration": 2,
    "start_time": "2022-07-05T15:47:44.930Z"
   },
   {
    "duration": 1603,
    "start_time": "2022-07-05T15:50:08.682Z"
   },
   {
    "duration": 813,
    "start_time": "2022-07-05T15:50:10.287Z"
   },
   {
    "duration": 115,
    "start_time": "2022-07-05T15:50:11.102Z"
   },
   {
    "duration": 2,
    "start_time": "2022-07-05T15:50:11.220Z"
   },
   {
    "duration": 11,
    "start_time": "2022-07-05T15:50:11.224Z"
   },
   {
    "duration": 16,
    "start_time": "2022-07-05T15:50:11.236Z"
   },
   {
    "duration": 20,
    "start_time": "2022-07-05T15:50:11.253Z"
   },
   {
    "duration": 13,
    "start_time": "2022-07-05T15:50:11.276Z"
   },
   {
    "duration": 6959,
    "start_time": "2022-07-05T15:50:11.291Z"
   },
   {
    "duration": 11,
    "start_time": "2022-07-05T15:50:18.253Z"
   },
   {
    "duration": 14,
    "start_time": "2022-07-05T15:50:18.266Z"
   },
   {
    "duration": 39,
    "start_time": "2022-07-05T15:50:18.282Z"
   },
   {
    "duration": 5,
    "start_time": "2022-07-05T15:50:18.322Z"
   },
   {
    "duration": 26,
    "start_time": "2022-07-05T15:50:18.328Z"
   },
   {
    "duration": 39,
    "start_time": "2022-07-05T15:50:18.356Z"
   },
   {
    "duration": 5,
    "start_time": "2022-07-05T15:50:18.396Z"
   },
   {
    "duration": 35,
    "start_time": "2022-07-05T15:50:18.403Z"
   },
   {
    "duration": 22,
    "start_time": "2022-07-05T15:50:18.440Z"
   },
   {
    "duration": 4,
    "start_time": "2022-07-05T15:50:18.464Z"
   },
   {
    "duration": 14,
    "start_time": "2022-07-05T15:50:18.469Z"
   },
   {
    "duration": 33,
    "start_time": "2022-07-05T15:50:18.485Z"
   },
   {
    "duration": 5,
    "start_time": "2022-07-05T15:50:18.520Z"
   },
   {
    "duration": 206,
    "start_time": "2022-07-05T15:50:18.526Z"
   },
   {
    "duration": 3,
    "start_time": "2022-07-05T15:50:18.734Z"
   },
   {
    "duration": 3191,
    "start_time": "2022-07-05T15:50:18.738Z"
   },
   {
    "duration": 3,
    "start_time": "2022-07-05T15:50:21.931Z"
   },
   {
    "duration": 7,
    "start_time": "2022-07-05T15:50:21.936Z"
   },
   {
    "duration": 482,
    "start_time": "2022-07-05T15:50:21.945Z"
   },
   {
    "duration": 332,
    "start_time": "2022-07-05T15:51:36.333Z"
   },
   {
    "duration": 1619,
    "start_time": "2022-07-05T15:54:50.248Z"
   },
   {
    "duration": 824,
    "start_time": "2022-07-05T15:54:51.868Z"
   },
   {
    "duration": 126,
    "start_time": "2022-07-05T15:54:52.694Z"
   },
   {
    "duration": 2,
    "start_time": "2022-07-05T15:54:52.822Z"
   },
   {
    "duration": 9,
    "start_time": "2022-07-05T15:54:52.826Z"
   },
   {
    "duration": 13,
    "start_time": "2022-07-05T15:54:52.837Z"
   },
   {
    "duration": 16,
    "start_time": "2022-07-05T15:54:52.852Z"
   },
   {
    "duration": 13,
    "start_time": "2022-07-05T15:54:52.869Z"
   },
   {
    "duration": 6932,
    "start_time": "2022-07-05T15:54:52.883Z"
   },
   {
    "duration": 10,
    "start_time": "2022-07-05T15:54:59.819Z"
   },
   {
    "duration": 4,
    "start_time": "2022-07-05T15:54:59.830Z"
   },
   {
    "duration": 44,
    "start_time": "2022-07-05T15:54:59.836Z"
   },
   {
    "duration": 2,
    "start_time": "2022-07-05T15:54:59.881Z"
   },
   {
    "duration": 6,
    "start_time": "2022-07-05T15:54:59.885Z"
   },
   {
    "duration": 6,
    "start_time": "2022-07-05T15:54:59.892Z"
   },
   {
    "duration": 7,
    "start_time": "2022-07-05T15:54:59.899Z"
   },
   {
    "duration": 4,
    "start_time": "2022-07-05T15:54:59.908Z"
   },
   {
    "duration": 23,
    "start_time": "2022-07-05T15:54:59.913Z"
   },
   {
    "duration": 2,
    "start_time": "2022-07-05T15:54:59.964Z"
   },
   {
    "duration": 6,
    "start_time": "2022-07-05T15:54:59.968Z"
   },
   {
    "duration": 5,
    "start_time": "2022-07-05T15:54:59.976Z"
   },
   {
    "duration": 6,
    "start_time": "2022-07-05T15:54:59.983Z"
   },
   {
    "duration": 202,
    "start_time": "2022-07-05T15:54:59.990Z"
   },
   {
    "duration": 3,
    "start_time": "2022-07-05T15:55:00.193Z"
   },
   {
    "duration": 21817,
    "start_time": "2022-07-05T15:55:00.197Z"
   },
   {
    "duration": 2,
    "start_time": "2022-07-05T15:55:22.016Z"
   },
   {
    "duration": 8,
    "start_time": "2022-07-05T15:55:22.020Z"
   },
   {
    "duration": 1036,
    "start_time": "2022-07-05T15:55:22.031Z"
   },
   {
    "duration": 1584,
    "start_time": "2022-07-05T15:56:19.077Z"
   },
   {
    "duration": 830,
    "start_time": "2022-07-05T15:56:20.664Z"
   },
   {
    "duration": 115,
    "start_time": "2022-07-05T15:56:21.496Z"
   },
   {
    "duration": 4,
    "start_time": "2022-07-05T15:56:21.613Z"
   },
   {
    "duration": 11,
    "start_time": "2022-07-05T15:56:21.619Z"
   },
   {
    "duration": 6,
    "start_time": "2022-07-05T15:56:21.632Z"
   },
   {
    "duration": 13,
    "start_time": "2022-07-05T15:56:21.639Z"
   },
   {
    "duration": 16,
    "start_time": "2022-07-05T15:56:21.653Z"
   },
   {
    "duration": 6973,
    "start_time": "2022-07-05T15:56:21.670Z"
   },
   {
    "duration": 10,
    "start_time": "2022-07-05T15:56:28.645Z"
   },
   {
    "duration": 27,
    "start_time": "2022-07-05T15:56:28.664Z"
   },
   {
    "duration": 45,
    "start_time": "2022-07-05T15:56:28.692Z"
   },
   {
    "duration": 29,
    "start_time": "2022-07-05T15:56:28.739Z"
   },
   {
    "duration": 9,
    "start_time": "2022-07-05T15:56:28.770Z"
   },
   {
    "duration": 18,
    "start_time": "2022-07-05T15:56:28.781Z"
   },
   {
    "duration": 15,
    "start_time": "2022-07-05T15:56:28.801Z"
   },
   {
    "duration": 12,
    "start_time": "2022-07-05T15:56:28.818Z"
   },
   {
    "duration": 32,
    "start_time": "2022-07-05T15:56:28.832Z"
   },
   {
    "duration": 2,
    "start_time": "2022-07-05T15:56:28.866Z"
   },
   {
    "duration": 20,
    "start_time": "2022-07-05T15:56:28.870Z"
   },
   {
    "duration": 19,
    "start_time": "2022-07-05T15:56:28.892Z"
   },
   {
    "duration": 18,
    "start_time": "2022-07-05T15:56:28.912Z"
   },
   {
    "duration": 173,
    "start_time": "2022-07-05T15:56:28.932Z"
   },
   {
    "duration": 3,
    "start_time": "2022-07-05T15:56:29.106Z"
   },
   {
    "duration": 16791,
    "start_time": "2022-07-05T15:56:29.111Z"
   },
   {
    "duration": 2,
    "start_time": "2022-07-05T15:56:45.904Z"
   },
   {
    "duration": 13,
    "start_time": "2022-07-05T15:56:45.908Z"
   },
   {
    "duration": 761,
    "start_time": "2022-07-05T15:56:45.924Z"
   },
   {
    "duration": 1598,
    "start_time": "2022-07-05T16:23:28.786Z"
   },
   {
    "duration": 811,
    "start_time": "2022-07-05T16:23:30.386Z"
   },
   {
    "duration": 128,
    "start_time": "2022-07-05T16:23:31.199Z"
   },
   {
    "duration": 13,
    "start_time": "2022-07-05T16:23:31.329Z"
   },
   {
    "duration": 23,
    "start_time": "2022-07-05T16:23:31.345Z"
   },
   {
    "duration": 36,
    "start_time": "2022-07-05T16:23:31.370Z"
   },
   {
    "duration": 26,
    "start_time": "2022-07-05T16:23:31.407Z"
   },
   {
    "duration": 6768,
    "start_time": "2022-07-05T16:23:31.435Z"
   },
   {
    "duration": 9,
    "start_time": "2022-07-05T16:23:38.205Z"
   },
   {
    "duration": 34,
    "start_time": "2022-07-05T16:23:38.215Z"
   },
   {
    "duration": 30,
    "start_time": "2022-07-05T16:23:38.251Z"
   },
   {
    "duration": 5,
    "start_time": "2022-07-05T16:23:38.282Z"
   },
   {
    "duration": 6,
    "start_time": "2022-07-05T16:23:38.288Z"
   },
   {
    "duration": 24,
    "start_time": "2022-07-05T16:23:38.297Z"
   },
   {
    "duration": 5,
    "start_time": "2022-07-05T16:23:38.322Z"
   },
   {
    "duration": 38,
    "start_time": "2022-07-05T16:23:38.328Z"
   },
   {
    "duration": 14,
    "start_time": "2022-07-05T16:23:38.367Z"
   },
   {
    "duration": 4,
    "start_time": "2022-07-05T16:23:38.382Z"
   },
   {
    "duration": 8,
    "start_time": "2022-07-05T16:23:38.387Z"
   },
   {
    "duration": 6,
    "start_time": "2022-07-05T16:23:38.396Z"
   },
   {
    "duration": 7,
    "start_time": "2022-07-05T16:23:38.404Z"
   },
   {
    "duration": 212,
    "start_time": "2022-07-05T16:23:38.412Z"
   },
   {
    "duration": 2,
    "start_time": "2022-07-05T16:23:38.626Z"
   },
   {
    "duration": 1930,
    "start_time": "2022-07-05T16:23:38.630Z"
   },
   {
    "duration": 2,
    "start_time": "2022-07-05T16:23:40.563Z"
   },
   {
    "duration": 6,
    "start_time": "2022-07-05T16:23:40.567Z"
   },
   {
    "duration": 275,
    "start_time": "2022-07-05T16:23:40.575Z"
   },
   {
    "duration": 1439,
    "start_time": "2022-07-05T16:26:39.111Z"
   },
   {
    "duration": 801,
    "start_time": "2022-07-05T16:26:40.552Z"
   },
   {
    "duration": 121,
    "start_time": "2022-07-05T16:26:41.354Z"
   },
   {
    "duration": 2,
    "start_time": "2022-07-05T16:26:41.476Z"
   },
   {
    "duration": 4,
    "start_time": "2022-07-05T16:26:41.480Z"
   },
   {
    "duration": 5,
    "start_time": "2022-07-05T16:26:41.486Z"
   },
   {
    "duration": 11,
    "start_time": "2022-07-05T16:26:41.492Z"
   },
   {
    "duration": 6879,
    "start_time": "2022-07-05T16:26:41.504Z"
   },
   {
    "duration": 9,
    "start_time": "2022-07-05T16:26:48.384Z"
   },
   {
    "duration": 33,
    "start_time": "2022-07-05T16:26:48.395Z"
   },
   {
    "duration": 35,
    "start_time": "2022-07-05T16:26:48.430Z"
   },
   {
    "duration": 5,
    "start_time": "2022-07-05T16:26:48.467Z"
   },
   {
    "duration": 8,
    "start_time": "2022-07-05T16:26:48.474Z"
   },
   {
    "duration": 23,
    "start_time": "2022-07-05T16:26:48.484Z"
   },
   {
    "duration": 5,
    "start_time": "2022-07-05T16:26:48.509Z"
   },
   {
    "duration": 5,
    "start_time": "2022-07-05T16:26:48.515Z"
   },
   {
    "duration": 41,
    "start_time": "2022-07-05T16:26:48.522Z"
   },
   {
    "duration": 198,
    "start_time": "2022-07-05T16:27:00.860Z"
   },
   {
    "duration": 3,
    "start_time": "2022-07-05T16:27:03.219Z"
   },
   {
    "duration": 2741,
    "start_time": "2022-07-05T16:27:05.235Z"
   },
   {
    "duration": 221,
    "start_time": "2022-07-05T16:27:13.124Z"
   },
   {
    "duration": 1581,
    "start_time": "2022-07-05T16:27:52.754Z"
   },
   {
    "duration": 797,
    "start_time": "2022-07-05T16:27:54.337Z"
   },
   {
    "duration": 112,
    "start_time": "2022-07-05T16:27:55.135Z"
   },
   {
    "duration": 10,
    "start_time": "2022-07-05T16:27:55.249Z"
   },
   {
    "duration": 13,
    "start_time": "2022-07-05T16:27:55.264Z"
   },
   {
    "duration": 89526,
    "start_time": "2022-07-05T16:27:55.278Z"
   },
   {
    "duration": 11,
    "start_time": "2022-07-05T16:29:24.806Z"
   },
   {
    "duration": 11,
    "start_time": "2022-07-05T16:29:24.819Z"
   },
   {
    "duration": 12,
    "start_time": "2022-07-05T16:29:24.832Z"
   },
   {
    "duration": 43,
    "start_time": "2022-07-05T16:29:24.846Z"
   },
   {
    "duration": 21,
    "start_time": "2022-07-05T16:29:24.891Z"
   },
   {
    "duration": 5,
    "start_time": "2022-07-05T16:29:24.914Z"
   },
   {
    "duration": 5,
    "start_time": "2022-07-05T16:29:24.920Z"
   },
   {
    "duration": 57,
    "start_time": "2022-07-05T16:29:24.928Z"
   },
   {
    "duration": 5,
    "start_time": "2022-07-05T16:29:24.987Z"
   },
   {
    "duration": 4,
    "start_time": "2022-07-05T16:29:24.994Z"
   },
   {
    "duration": 15,
    "start_time": "2022-07-05T16:29:24.999Z"
   },
   {
    "duration": 3,
    "start_time": "2022-07-05T16:29:25.015Z"
   },
   {
    "duration": 6,
    "start_time": "2022-07-05T16:29:25.020Z"
   },
   {
    "duration": 10,
    "start_time": "2022-07-05T16:29:25.028Z"
   },
   {
    "duration": 26,
    "start_time": "2022-07-05T16:29:25.039Z"
   },
   {
    "duration": 159,
    "start_time": "2022-07-05T16:29:25.067Z"
   },
   {
    "duration": 2,
    "start_time": "2022-07-05T16:29:25.229Z"
   },
   {
    "duration": 2690,
    "start_time": "2022-07-05T16:29:25.233Z"
   },
   {
    "duration": 3,
    "start_time": "2022-07-05T16:29:27.925Z"
   },
   {
    "duration": 9,
    "start_time": "2022-07-05T16:29:27.930Z"
   },
   {
    "duration": 314,
    "start_time": "2022-07-05T16:29:27.940Z"
   },
   {
    "duration": 1660,
    "start_time": "2022-07-05T16:33:31.867Z"
   },
   {
    "duration": 803,
    "start_time": "2022-07-05T16:33:33.529Z"
   },
   {
    "duration": 133,
    "start_time": "2022-07-05T16:33:34.334Z"
   },
   {
    "duration": 2,
    "start_time": "2022-07-05T16:33:34.470Z"
   },
   {
    "duration": 12,
    "start_time": "2022-07-05T16:33:34.474Z"
   },
   {
    "duration": 13,
    "start_time": "2022-07-05T16:33:34.487Z"
   },
   {
    "duration": 12,
    "start_time": "2022-07-05T16:33:34.502Z"
   },
   {
    "duration": 6940,
    "start_time": "2022-07-05T16:33:34.516Z"
   },
   {
    "duration": 13,
    "start_time": "2022-07-05T16:33:41.457Z"
   },
   {
    "duration": 7,
    "start_time": "2022-07-05T16:33:41.473Z"
   },
   {
    "duration": 33,
    "start_time": "2022-07-05T16:33:41.481Z"
   },
   {
    "duration": 7,
    "start_time": "2022-07-05T16:33:41.516Z"
   },
   {
    "duration": 9,
    "start_time": "2022-07-05T16:33:41.525Z"
   },
   {
    "duration": 52,
    "start_time": "2022-07-05T16:33:41.535Z"
   },
   {
    "duration": 6,
    "start_time": "2022-07-05T16:33:41.589Z"
   },
   {
    "duration": 6,
    "start_time": "2022-07-05T16:33:41.596Z"
   },
   {
    "duration": 14,
    "start_time": "2022-07-05T16:33:41.604Z"
   },
   {
    "duration": 4,
    "start_time": "2022-07-05T16:33:41.620Z"
   },
   {
    "duration": 7,
    "start_time": "2022-07-05T16:33:41.625Z"
   },
   {
    "duration": 5,
    "start_time": "2022-07-05T16:33:41.634Z"
   },
   {
    "duration": 6,
    "start_time": "2022-07-05T16:33:41.664Z"
   },
   {
    "duration": 202,
    "start_time": "2022-07-05T16:33:41.672Z"
   },
   {
    "duration": 3,
    "start_time": "2022-07-05T16:33:41.875Z"
   },
   {
    "duration": 4865,
    "start_time": "2022-07-05T16:33:41.880Z"
   },
   {
    "duration": 3,
    "start_time": "2022-07-05T16:33:46.747Z"
   },
   {
    "duration": 8,
    "start_time": "2022-07-05T16:33:46.764Z"
   },
   {
    "duration": 396,
    "start_time": "2022-07-05T16:33:46.774Z"
   },
   {
    "duration": 1548,
    "start_time": "2022-07-05T16:34:05.295Z"
   },
   {
    "duration": 826,
    "start_time": "2022-07-05T16:34:06.844Z"
   },
   {
    "duration": 129,
    "start_time": "2022-07-05T16:34:07.671Z"
   },
   {
    "duration": 8,
    "start_time": "2022-07-05T16:34:07.802Z"
   },
   {
    "duration": 23,
    "start_time": "2022-07-05T16:34:07.813Z"
   },
   {
    "duration": 24,
    "start_time": "2022-07-05T16:34:07.838Z"
   },
   {
    "duration": 29,
    "start_time": "2022-07-05T16:34:07.863Z"
   },
   {
    "duration": 7040,
    "start_time": "2022-07-05T16:34:07.894Z"
   },
   {
    "duration": 10,
    "start_time": "2022-07-05T16:34:14.936Z"
   },
   {
    "duration": 7,
    "start_time": "2022-07-05T16:34:14.947Z"
   },
   {
    "duration": 34,
    "start_time": "2022-07-05T16:34:14.964Z"
   },
   {
    "duration": 6,
    "start_time": "2022-07-05T16:34:15.000Z"
   },
   {
    "duration": 15,
    "start_time": "2022-07-05T16:34:15.007Z"
   },
   {
    "duration": 48,
    "start_time": "2022-07-05T16:34:15.025Z"
   },
   {
    "duration": 5,
    "start_time": "2022-07-05T16:34:15.075Z"
   },
   {
    "duration": 7,
    "start_time": "2022-07-05T16:34:15.082Z"
   },
   {
    "duration": 52,
    "start_time": "2022-07-05T16:34:15.090Z"
   },
   {
    "duration": 3,
    "start_time": "2022-07-05T16:34:15.143Z"
   },
   {
    "duration": 7,
    "start_time": "2022-07-05T16:34:15.147Z"
   },
   {
    "duration": 9,
    "start_time": "2022-07-05T16:34:15.155Z"
   },
   {
    "duration": 10,
    "start_time": "2022-07-05T16:34:15.165Z"
   },
   {
    "duration": 167,
    "start_time": "2022-07-05T16:34:15.177Z"
   },
   {
    "duration": 3,
    "start_time": "2022-07-05T16:34:15.346Z"
   },
   {
    "duration": 4631,
    "start_time": "2022-07-05T16:34:15.350Z"
   },
   {
    "duration": 2,
    "start_time": "2022-07-05T16:34:19.983Z"
   },
   {
    "duration": 13,
    "start_time": "2022-07-05T16:34:19.987Z"
   },
   {
    "duration": 367,
    "start_time": "2022-07-05T16:34:20.001Z"
   },
   {
    "duration": 2759,
    "start_time": "2022-07-05T17:24:24.341Z"
   },
   {
    "duration": 3576,
    "start_time": "2022-07-05T17:24:27.102Z"
   },
   {
    "duration": 223,
    "start_time": "2022-07-05T17:24:30.681Z"
   },
   {
    "duration": 2,
    "start_time": "2022-07-05T17:24:30.907Z"
   },
   {
    "duration": 16,
    "start_time": "2022-07-05T17:24:30.912Z"
   },
   {
    "duration": 22,
    "start_time": "2022-07-05T17:24:30.930Z"
   },
   {
    "duration": 18,
    "start_time": "2022-07-05T17:24:30.954Z"
   },
   {
    "duration": 37,
    "start_time": "2022-07-05T17:24:30.974Z"
   },
   {
    "duration": 17070,
    "start_time": "2022-07-05T17:24:31.013Z"
   },
   {
    "duration": 11,
    "start_time": "2022-07-05T17:24:48.086Z"
   },
   {
    "duration": 6,
    "start_time": "2022-07-05T17:24:48.099Z"
   },
   {
    "duration": 41,
    "start_time": "2022-07-05T17:24:48.106Z"
   },
   {
    "duration": 6,
    "start_time": "2022-07-05T17:24:48.149Z"
   },
   {
    "duration": 22,
    "start_time": "2022-07-05T17:24:48.165Z"
   },
   {
    "duration": 37,
    "start_time": "2022-07-05T17:24:48.189Z"
   },
   {
    "duration": 5,
    "start_time": "2022-07-05T17:24:48.228Z"
   },
   {
    "duration": 15,
    "start_time": "2022-07-05T17:24:48.235Z"
   },
   {
    "duration": 28,
    "start_time": "2022-07-05T17:24:48.252Z"
   },
   {
    "duration": 8,
    "start_time": "2022-07-05T17:24:48.282Z"
   },
   {
    "duration": 7,
    "start_time": "2022-07-05T17:24:48.292Z"
   },
   {
    "duration": 7,
    "start_time": "2022-07-05T17:24:48.301Z"
   },
   {
    "duration": 178,
    "start_time": "2022-07-05T17:24:48.310Z"
   },
   {
    "duration": 3,
    "start_time": "2022-07-05T17:24:48.490Z"
   },
   {
    "duration": 139,
    "start_time": "2022-07-05T17:24:48.495Z"
   },
   {
    "duration": 1,
    "start_time": "2022-07-05T17:24:48.635Z"
   },
   {
    "duration": 0,
    "start_time": "2022-07-05T17:24:48.637Z"
   },
   {
    "duration": 0,
    "start_time": "2022-07-05T17:24:48.639Z"
   },
   {
    "duration": 15,
    "start_time": "2022-07-05T17:25:38.880Z"
   },
   {
    "duration": 1650,
    "start_time": "2022-07-05T17:25:50.430Z"
   },
   {
    "duration": 895,
    "start_time": "2022-07-05T17:25:52.082Z"
   },
   {
    "duration": 130,
    "start_time": "2022-07-05T17:25:52.979Z"
   },
   {
    "duration": 2,
    "start_time": "2022-07-05T17:25:53.112Z"
   },
   {
    "duration": 3,
    "start_time": "2022-07-05T17:25:53.118Z"
   },
   {
    "duration": 13,
    "start_time": "2022-07-05T17:25:53.123Z"
   },
   {
    "duration": 26,
    "start_time": "2022-07-05T17:25:53.138Z"
   },
   {
    "duration": 6,
    "start_time": "2022-07-05T17:25:53.165Z"
   },
   {
    "duration": 15493,
    "start_time": "2022-07-05T17:25:53.172Z"
   },
   {
    "duration": 12,
    "start_time": "2022-07-05T17:26:08.667Z"
   },
   {
    "duration": 4,
    "start_time": "2022-07-05T17:26:08.681Z"
   },
   {
    "duration": 55,
    "start_time": "2022-07-05T17:26:08.687Z"
   },
   {
    "duration": 8,
    "start_time": "2022-07-05T17:26:08.764Z"
   },
   {
    "duration": 5,
    "start_time": "2022-07-05T17:26:08.777Z"
   },
   {
    "duration": 48,
    "start_time": "2022-07-05T17:26:08.785Z"
   },
   {
    "duration": 7,
    "start_time": "2022-07-05T17:26:08.835Z"
   },
   {
    "duration": 18,
    "start_time": "2022-07-05T17:26:08.865Z"
   },
   {
    "duration": 3,
    "start_time": "2022-07-05T17:26:08.886Z"
   },
   {
    "duration": 23,
    "start_time": "2022-07-05T17:26:08.891Z"
   },
   {
    "duration": 4,
    "start_time": "2022-07-05T17:26:08.916Z"
   },
   {
    "duration": 6,
    "start_time": "2022-07-05T17:26:08.922Z"
   },
   {
    "duration": 234,
    "start_time": "2022-07-05T17:26:08.931Z"
   },
   {
    "duration": 5,
    "start_time": "2022-07-05T17:26:09.167Z"
   },
   {
    "duration": 3281,
    "start_time": "2022-07-05T17:26:09.174Z"
   },
   {
    "duration": 3,
    "start_time": "2022-07-05T17:26:12.463Z"
   },
   {
    "duration": 9,
    "start_time": "2022-07-05T17:26:12.468Z"
   },
   {
    "duration": 383,
    "start_time": "2022-07-05T17:26:12.479Z"
   },
   {
    "duration": 1630,
    "start_time": "2022-07-05T17:27:05.041Z"
   },
   {
    "duration": 909,
    "start_time": "2022-07-05T17:27:06.674Z"
   },
   {
    "duration": 145,
    "start_time": "2022-07-05T17:27:07.585Z"
   },
   {
    "duration": 5,
    "start_time": "2022-07-05T17:27:07.732Z"
   },
   {
    "duration": 24,
    "start_time": "2022-07-05T17:27:07.740Z"
   },
   {
    "duration": 36,
    "start_time": "2022-07-05T17:27:07.767Z"
   },
   {
    "duration": 29,
    "start_time": "2022-07-05T17:27:07.805Z"
   },
   {
    "duration": 38,
    "start_time": "2022-07-05T17:27:07.836Z"
   },
   {
    "duration": 15251,
    "start_time": "2022-07-05T17:27:07.876Z"
   },
   {
    "duration": 13,
    "start_time": "2022-07-05T17:27:23.129Z"
   },
   {
    "duration": 24,
    "start_time": "2022-07-05T17:27:23.144Z"
   },
   {
    "duration": 61,
    "start_time": "2022-07-05T17:27:23.171Z"
   },
   {
    "duration": 5,
    "start_time": "2022-07-05T17:27:23.234Z"
   },
   {
    "duration": 5,
    "start_time": "2022-07-05T17:27:23.242Z"
   },
   {
    "duration": 42,
    "start_time": "2022-07-05T17:27:23.249Z"
   },
   {
    "duration": 5,
    "start_time": "2022-07-05T17:27:23.293Z"
   },
   {
    "duration": 7,
    "start_time": "2022-07-05T17:27:23.300Z"
   },
   {
    "duration": 5,
    "start_time": "2022-07-05T17:27:23.308Z"
   },
   {
    "duration": 46,
    "start_time": "2022-07-05T17:27:23.315Z"
   },
   {
    "duration": 11,
    "start_time": "2022-07-05T17:27:23.362Z"
   },
   {
    "duration": 23,
    "start_time": "2022-07-05T17:27:23.375Z"
   },
   {
    "duration": 135,
    "start_time": "2022-07-05T17:27:23.399Z"
   },
   {
    "duration": 3,
    "start_time": "2022-07-05T17:27:23.536Z"
   },
   {
    "duration": 4659,
    "start_time": "2022-07-05T17:27:23.541Z"
   },
   {
    "duration": 4,
    "start_time": "2022-07-05T17:27:28.202Z"
   },
   {
    "duration": 9,
    "start_time": "2022-07-05T17:27:28.208Z"
   },
   {
    "duration": 311,
    "start_time": "2022-07-05T17:27:28.219Z"
   },
   {
    "duration": 197,
    "start_time": "2022-07-05T17:27:47.008Z"
   },
   {
    "duration": 391,
    "start_time": "2022-07-05T17:27:51.528Z"
   },
   {
    "duration": 1729,
    "start_time": "2022-07-05T17:32:07.791Z"
   },
   {
    "duration": 937,
    "start_time": "2022-07-05T17:32:09.523Z"
   },
   {
    "duration": 134,
    "start_time": "2022-07-05T17:32:10.462Z"
   },
   {
    "duration": 3,
    "start_time": "2022-07-05T17:32:10.598Z"
   },
   {
    "duration": 4,
    "start_time": "2022-07-05T17:32:10.603Z"
   },
   {
    "duration": 8,
    "start_time": "2022-07-05T17:32:10.609Z"
   },
   {
    "duration": 15,
    "start_time": "2022-07-05T17:32:10.619Z"
   },
   {
    "duration": 75,
    "start_time": "2022-07-05T17:32:10.636Z"
   },
   {
    "duration": 3,
    "start_time": "2022-07-05T17:32:10.713Z"
   },
   {
    "duration": 11642,
    "start_time": "2022-07-05T17:32:10.718Z"
   },
   {
    "duration": 15,
    "start_time": "2022-07-05T17:32:22.363Z"
   },
   {
    "duration": 58,
    "start_time": "2022-07-05T17:32:22.380Z"
   },
   {
    "duration": 7,
    "start_time": "2022-07-05T17:32:22.439Z"
   },
   {
    "duration": 20,
    "start_time": "2022-07-05T17:32:22.448Z"
   },
   {
    "duration": 62,
    "start_time": "2022-07-05T17:32:22.470Z"
   },
   {
    "duration": 14,
    "start_time": "2022-07-05T17:32:22.534Z"
   },
   {
    "duration": 71,
    "start_time": "2022-07-05T17:32:22.551Z"
   },
   {
    "duration": 15,
    "start_time": "2022-07-05T17:32:22.624Z"
   },
   {
    "duration": 28,
    "start_time": "2022-07-05T17:32:22.642Z"
   },
   {
    "duration": 34,
    "start_time": "2022-07-05T17:32:22.671Z"
   },
   {
    "duration": 48,
    "start_time": "2022-07-05T17:32:22.709Z"
   },
   {
    "duration": 291,
    "start_time": "2022-07-05T17:32:22.760Z"
   },
   {
    "duration": 4,
    "start_time": "2022-07-05T17:32:23.053Z"
   },
   {
    "duration": 2721,
    "start_time": "2022-07-05T17:32:23.059Z"
   },
   {
    "duration": 5,
    "start_time": "2022-07-05T17:32:25.782Z"
   },
   {
    "duration": 67,
    "start_time": "2022-07-05T17:32:25.789Z"
   },
   {
    "duration": 368,
    "start_time": "2022-07-05T17:32:25.859Z"
   },
   {
    "duration": 1702,
    "start_time": "2022-07-05T17:34:39.432Z"
   },
   {
    "duration": 832,
    "start_time": "2022-07-05T17:34:41.137Z"
   },
   {
    "duration": 154,
    "start_time": "2022-07-05T17:34:41.971Z"
   },
   {
    "duration": 11,
    "start_time": "2022-07-05T17:34:42.127Z"
   },
   {
    "duration": 21,
    "start_time": "2022-07-05T17:34:42.141Z"
   },
   {
    "duration": 25,
    "start_time": "2022-07-05T17:34:42.165Z"
   },
   {
    "duration": 51,
    "start_time": "2022-07-05T17:34:42.192Z"
   },
   {
    "duration": 73,
    "start_time": "2022-07-05T17:34:42.245Z"
   },
   {
    "duration": 3,
    "start_time": "2022-07-05T17:34:42.320Z"
   },
   {
    "duration": 10686,
    "start_time": "2022-07-05T17:34:42.325Z"
   },
   {
    "duration": 11,
    "start_time": "2022-07-05T17:34:53.014Z"
   },
   {
    "duration": 39,
    "start_time": "2022-07-05T17:34:53.027Z"
   },
   {
    "duration": 3,
    "start_time": "2022-07-05T17:34:53.068Z"
   },
   {
    "duration": 7,
    "start_time": "2022-07-05T17:34:53.074Z"
   },
   {
    "duration": 6,
    "start_time": "2022-07-05T17:34:53.084Z"
   },
   {
    "duration": 7,
    "start_time": "2022-07-05T17:34:53.092Z"
   },
   {
    "duration": 6,
    "start_time": "2022-07-05T17:34:53.101Z"
   },
   {
    "duration": 6,
    "start_time": "2022-07-05T17:34:53.109Z"
   },
   {
    "duration": 53,
    "start_time": "2022-07-05T17:34:53.117Z"
   },
   {
    "duration": 4,
    "start_time": "2022-07-05T17:34:53.172Z"
   },
   {
    "duration": 11,
    "start_time": "2022-07-05T17:34:53.178Z"
   },
   {
    "duration": 216,
    "start_time": "2022-07-05T17:34:53.192Z"
   },
   {
    "duration": 3,
    "start_time": "2022-07-05T17:34:53.410Z"
   },
   {
    "duration": 15954,
    "start_time": "2022-07-05T17:34:53.415Z"
   },
   {
    "duration": 21,
    "start_time": "2022-07-05T17:35:09.370Z"
   },
   {
    "duration": 10,
    "start_time": "2022-07-05T17:35:09.397Z"
   },
   {
    "duration": 866,
    "start_time": "2022-07-05T17:35:09.410Z"
   },
   {
    "duration": 4,
    "start_time": "2022-07-05T17:48:26.814Z"
   },
   {
    "duration": 1810,
    "start_time": "2022-07-05T18:10:15.518Z"
   },
   {
    "duration": 922,
    "start_time": "2022-07-05T18:10:17.330Z"
   },
   {
    "duration": 148,
    "start_time": "2022-07-05T18:10:18.254Z"
   },
   {
    "duration": 16,
    "start_time": "2022-07-05T18:10:18.405Z"
   },
   {
    "duration": 8,
    "start_time": "2022-07-05T18:10:18.423Z"
   },
   {
    "duration": 6,
    "start_time": "2022-07-05T18:10:18.433Z"
   },
   {
    "duration": 16,
    "start_time": "2022-07-05T18:10:18.441Z"
   },
   {
    "duration": 88,
    "start_time": "2022-07-05T18:10:18.459Z"
   },
   {
    "duration": 105238,
    "start_time": "2022-07-05T18:10:18.549Z"
   },
   {
    "duration": 17,
    "start_time": "2022-07-05T18:12:03.789Z"
   },
   {
    "duration": 28,
    "start_time": "2022-07-05T18:12:03.808Z"
   },
   {
    "duration": 3,
    "start_time": "2022-07-05T18:12:03.838Z"
   },
   {
    "duration": 5,
    "start_time": "2022-07-05T18:12:03.843Z"
   },
   {
    "duration": 25,
    "start_time": "2022-07-05T18:12:03.849Z"
   },
   {
    "duration": 27,
    "start_time": "2022-07-05T18:12:03.877Z"
   },
   {
    "duration": 5,
    "start_time": "2022-07-05T18:12:03.906Z"
   },
   {
    "duration": 12,
    "start_time": "2022-07-05T18:12:03.913Z"
   },
   {
    "duration": 29,
    "start_time": "2022-07-05T18:12:03.927Z"
   },
   {
    "duration": 183,
    "start_time": "2022-07-05T18:12:03.958Z"
   },
   {
    "duration": 0,
    "start_time": "2022-07-05T18:12:04.143Z"
   },
   {
    "duration": 0,
    "start_time": "2022-07-05T18:12:04.144Z"
   },
   {
    "duration": 0,
    "start_time": "2022-07-05T18:12:04.145Z"
   },
   {
    "duration": 0,
    "start_time": "2022-07-05T18:12:04.146Z"
   },
   {
    "duration": 0,
    "start_time": "2022-07-05T18:12:04.147Z"
   },
   {
    "duration": 0,
    "start_time": "2022-07-05T18:12:04.149Z"
   },
   {
    "duration": 0,
    "start_time": "2022-07-05T18:12:04.150Z"
   },
   {
    "duration": 0,
    "start_time": "2022-07-05T18:12:04.165Z"
   },
   {
    "duration": 0,
    "start_time": "2022-07-05T18:12:04.166Z"
   },
   {
    "duration": 9,
    "start_time": "2022-07-05T18:15:06.290Z"
   },
   {
    "duration": 31,
    "start_time": "2022-07-05T18:15:15.292Z"
   },
   {
    "duration": 3,
    "start_time": "2022-07-05T18:15:18.895Z"
   },
   {
    "duration": 239,
    "start_time": "2022-07-05T18:15:21.413Z"
   },
   {
    "duration": 4,
    "start_time": "2022-07-05T18:15:28.506Z"
   },
   {
    "duration": 4725,
    "start_time": "2022-07-05T18:15:31.490Z"
   },
   {
    "duration": 307,
    "start_time": "2022-07-05T18:15:39.438Z"
   },
   {
    "duration": 1738,
    "start_time": "2022-07-05T18:41:45.760Z"
   },
   {
    "duration": 904,
    "start_time": "2022-07-05T18:41:47.500Z"
   },
   {
    "duration": 118,
    "start_time": "2022-07-05T18:41:48.406Z"
   },
   {
    "duration": 2,
    "start_time": "2022-07-05T18:41:48.526Z"
   },
   {
    "duration": 4,
    "start_time": "2022-07-05T18:41:48.531Z"
   },
   {
    "duration": 5,
    "start_time": "2022-07-05T18:41:48.537Z"
   },
   {
    "duration": 24,
    "start_time": "2022-07-05T18:41:48.543Z"
   },
   {
    "duration": 29,
    "start_time": "2022-07-05T18:41:48.574Z"
   },
   {
    "duration": 171593,
    "start_time": "2022-07-05T18:41:48.605Z"
   },
   {
    "duration": 14,
    "start_time": "2022-07-05T18:44:40.199Z"
   },
   {
    "duration": 55,
    "start_time": "2022-07-05T18:44:49.960Z"
   },
   {
    "duration": 7,
    "start_time": "2022-07-05T18:44:57.221Z"
   },
   {
    "duration": 4,
    "start_time": "2022-07-05T18:44:59.116Z"
   },
   {
    "duration": 31,
    "start_time": "2022-07-05T18:45:15.510Z"
   },
   {
    "duration": 7,
    "start_time": "2022-07-05T18:48:18.990Z"
   },
   {
    "duration": 3,
    "start_time": "2022-07-05T18:48:39.728Z"
   },
   {
    "duration": 23,
    "start_time": "2022-07-05T18:48:42.361Z"
   },
   {
    "duration": 1838,
    "start_time": "2022-07-05T18:52:10.094Z"
   },
   {
    "duration": 980,
    "start_time": "2022-07-05T18:52:11.934Z"
   },
   {
    "duration": 166,
    "start_time": "2022-07-05T18:52:12.919Z"
   },
   {
    "duration": 27,
    "start_time": "2022-07-05T18:52:13.088Z"
   },
   {
    "duration": 5,
    "start_time": "2022-07-05T18:52:13.117Z"
   },
   {
    "duration": 9,
    "start_time": "2022-07-05T18:52:13.124Z"
   },
   {
    "duration": 16,
    "start_time": "2022-07-05T18:52:13.135Z"
   },
   {
    "duration": 5,
    "start_time": "2022-07-05T18:52:13.152Z"
   },
   {
    "duration": 58537,
    "start_time": "2022-07-05T18:52:13.158Z"
   },
   {
    "duration": 0,
    "start_time": "2022-07-05T18:53:11.699Z"
   },
   {
    "duration": 0,
    "start_time": "2022-07-05T18:53:11.700Z"
   },
   {
    "duration": 0,
    "start_time": "2022-07-05T18:53:11.702Z"
   },
   {
    "duration": 0,
    "start_time": "2022-07-05T18:53:11.704Z"
   },
   {
    "duration": 0,
    "start_time": "2022-07-05T18:53:11.705Z"
   },
   {
    "duration": 0,
    "start_time": "2022-07-05T18:53:11.707Z"
   },
   {
    "duration": 0,
    "start_time": "2022-07-05T18:53:11.709Z"
   },
   {
    "duration": 0,
    "start_time": "2022-07-05T18:53:11.710Z"
   },
   {
    "duration": 0,
    "start_time": "2022-07-05T18:53:11.712Z"
   },
   {
    "duration": 0,
    "start_time": "2022-07-05T18:53:11.713Z"
   },
   {
    "duration": 0,
    "start_time": "2022-07-05T18:53:11.715Z"
   },
   {
    "duration": 0,
    "start_time": "2022-07-05T18:53:11.716Z"
   },
   {
    "duration": 0,
    "start_time": "2022-07-05T18:53:11.718Z"
   },
   {
    "duration": 0,
    "start_time": "2022-07-05T18:53:11.720Z"
   },
   {
    "duration": 0,
    "start_time": "2022-07-05T18:53:11.721Z"
   },
   {
    "duration": 0,
    "start_time": "2022-07-05T18:53:11.723Z"
   },
   {
    "duration": 0,
    "start_time": "2022-07-05T18:53:11.724Z"
   },
   {
    "duration": 1855,
    "start_time": "2022-07-05T18:53:38.887Z"
   },
   {
    "duration": 894,
    "start_time": "2022-07-05T18:53:40.744Z"
   },
   {
    "duration": 142,
    "start_time": "2022-07-05T18:53:41.640Z"
   },
   {
    "duration": 35,
    "start_time": "2022-07-05T18:53:41.784Z"
   },
   {
    "duration": 18,
    "start_time": "2022-07-05T18:53:41.821Z"
   },
   {
    "duration": 7,
    "start_time": "2022-07-05T18:53:41.841Z"
   },
   {
    "duration": 20,
    "start_time": "2022-07-05T18:53:41.850Z"
   },
   {
    "duration": 75,
    "start_time": "2022-07-05T18:53:41.871Z"
   },
   {
    "duration": 111370,
    "start_time": "2022-07-05T18:53:41.947Z"
   },
   {
    "duration": 16,
    "start_time": "2022-07-05T18:55:33.325Z"
   },
   {
    "duration": 55,
    "start_time": "2022-07-05T18:55:33.342Z"
   },
   {
    "duration": 37,
    "start_time": "2022-07-05T18:55:33.399Z"
   },
   {
    "duration": 20,
    "start_time": "2022-07-05T18:55:33.438Z"
   },
   {
    "duration": 87,
    "start_time": "2022-07-05T18:55:33.461Z"
   },
   {
    "duration": 5,
    "start_time": "2022-07-05T18:55:33.550Z"
   },
   {
    "duration": 55,
    "start_time": "2022-07-05T18:55:33.557Z"
   },
   {
    "duration": 18,
    "start_time": "2022-07-05T18:55:33.617Z"
   },
   {
    "duration": 16,
    "start_time": "2022-07-05T18:55:33.637Z"
   },
   {
    "duration": 7,
    "start_time": "2022-07-05T18:55:33.654Z"
   },
   {
    "duration": 63,
    "start_time": "2022-07-05T18:55:33.663Z"
   },
   {
    "duration": 202,
    "start_time": "2022-07-05T18:55:33.728Z"
   },
   {
    "duration": 4,
    "start_time": "2022-07-05T18:55:33.932Z"
   },
   {
    "duration": 2111,
    "start_time": "2022-07-05T18:55:33.937Z"
   },
   {
    "duration": 2,
    "start_time": "2022-07-05T18:55:36.050Z"
   },
   {
    "duration": 23,
    "start_time": "2022-07-05T18:55:36.054Z"
   },
   {
    "duration": 272,
    "start_time": "2022-07-05T18:55:36.087Z"
   },
   {
    "duration": 1776,
    "start_time": "2022-07-05T18:59:30.311Z"
   },
   {
    "duration": 990,
    "start_time": "2022-07-05T18:59:32.089Z"
   },
   {
    "duration": 134,
    "start_time": "2022-07-05T18:59:33.081Z"
   },
   {
    "duration": 2,
    "start_time": "2022-07-05T18:59:33.219Z"
   },
   {
    "duration": 8,
    "start_time": "2022-07-05T18:59:33.223Z"
   },
   {
    "duration": 10,
    "start_time": "2022-07-05T18:59:33.233Z"
   },
   {
    "duration": 35,
    "start_time": "2022-07-05T18:59:33.245Z"
   },
   {
    "duration": 69,
    "start_time": "2022-07-05T18:59:33.284Z"
   },
   {
    "duration": 35,
    "start_time": "2022-07-05T18:59:40.308Z"
   },
   {
    "duration": 44,
    "start_time": "2022-07-05T18:59:49.638Z"
   },
   {
    "duration": 1758,
    "start_time": "2022-07-05T18:59:57.049Z"
   },
   {
    "duration": 941,
    "start_time": "2022-07-05T18:59:58.809Z"
   },
   {
    "duration": 147,
    "start_time": "2022-07-05T18:59:59.751Z"
   },
   {
    "duration": 29,
    "start_time": "2022-07-05T18:59:59.900Z"
   },
   {
    "duration": 8,
    "start_time": "2022-07-05T18:59:59.932Z"
   },
   {
    "duration": 7,
    "start_time": "2022-07-05T18:59:59.942Z"
   },
   {
    "duration": 25,
    "start_time": "2022-07-05T18:59:59.951Z"
   },
   {
    "duration": 72,
    "start_time": "2022-07-05T18:59:59.980Z"
   },
   {
    "duration": 174,
    "start_time": "2022-07-05T19:00:42.481Z"
   },
   {
    "duration": 17,
    "start_time": "2022-07-05T19:02:26.259Z"
   },
   {
    "duration": 6,
    "start_time": "2022-07-05T19:03:01.404Z"
   },
   {
    "duration": 24,
    "start_time": "2022-07-05T19:03:08.499Z"
   },
   {
    "duration": 32,
    "start_time": "2022-07-05T19:09:03.412Z"
   },
   {
    "duration": 23,
    "start_time": "2022-07-05T19:09:17.499Z"
   },
   {
    "duration": 1719,
    "start_time": "2022-07-05T19:09:24.658Z"
   },
   {
    "duration": 899,
    "start_time": "2022-07-05T19:09:26.383Z"
   },
   {
    "duration": 145,
    "start_time": "2022-07-05T19:09:27.287Z"
   },
   {
    "duration": 3,
    "start_time": "2022-07-05T19:09:27.434Z"
   },
   {
    "duration": 12,
    "start_time": "2022-07-05T19:09:27.439Z"
   },
   {
    "duration": 8,
    "start_time": "2022-07-05T19:09:27.453Z"
   },
   {
    "duration": 59,
    "start_time": "2022-07-05T19:09:27.462Z"
   },
   {
    "duration": 36,
    "start_time": "2022-07-05T19:09:27.523Z"
   },
   {
    "duration": 34,
    "start_time": "2022-07-05T19:09:41.909Z"
   },
   {
    "duration": 1867,
    "start_time": "2022-07-05T19:09:49.757Z"
   },
   {
    "duration": 966,
    "start_time": "2022-07-05T19:09:51.627Z"
   },
   {
    "duration": 150,
    "start_time": "2022-07-05T19:09:52.601Z"
   },
   {
    "duration": 46,
    "start_time": "2022-07-05T19:09:52.754Z"
   },
   {
    "duration": 26,
    "start_time": "2022-07-05T19:09:52.803Z"
   },
   {
    "duration": 69,
    "start_time": "2022-07-05T19:09:52.835Z"
   },
   {
    "duration": 79,
    "start_time": "2022-07-05T19:09:52.906Z"
   },
   {
    "duration": 100,
    "start_time": "2022-07-05T19:09:52.990Z"
   },
   {
    "duration": 38,
    "start_time": "2022-07-05T19:11:18.309Z"
   },
   {
    "duration": 1748,
    "start_time": "2022-07-05T19:11:53.299Z"
   },
   {
    "duration": 1072,
    "start_time": "2022-07-05T19:11:55.050Z"
   },
   {
    "duration": 129,
    "start_time": "2022-07-05T19:11:56.127Z"
   },
   {
    "duration": 7,
    "start_time": "2022-07-05T19:11:56.258Z"
   },
   {
    "duration": 7,
    "start_time": "2022-07-05T19:11:56.267Z"
   },
   {
    "duration": 51,
    "start_time": "2022-07-05T19:11:56.275Z"
   },
   {
    "duration": 45,
    "start_time": "2022-07-05T19:11:56.327Z"
   },
   {
    "duration": 107132,
    "start_time": "2022-07-05T19:11:56.374Z"
   },
   {
    "duration": 10,
    "start_time": "2022-07-05T19:13:43.514Z"
   },
   {
    "duration": 26,
    "start_time": "2022-07-05T19:13:43.526Z"
   },
   {
    "duration": 6,
    "start_time": "2022-07-05T19:13:43.554Z"
   },
   {
    "duration": 50,
    "start_time": "2022-07-05T19:13:43.561Z"
   },
   {
    "duration": 27,
    "start_time": "2022-07-05T19:13:43.613Z"
   },
   {
    "duration": 5,
    "start_time": "2022-07-05T19:13:43.643Z"
   },
   {
    "duration": 12,
    "start_time": "2022-07-05T19:13:43.649Z"
   },
   {
    "duration": 12,
    "start_time": "2022-07-05T19:13:43.663Z"
   },
   {
    "duration": 44,
    "start_time": "2022-07-05T19:13:43.681Z"
   },
   {
    "duration": 3,
    "start_time": "2022-07-05T19:13:43.727Z"
   },
   {
    "duration": 5,
    "start_time": "2022-07-05T19:13:43.732Z"
   },
   {
    "duration": 267,
    "start_time": "2022-07-05T19:13:43.738Z"
   },
   {
    "duration": 4,
    "start_time": "2022-07-05T19:13:44.011Z"
   },
   {
    "duration": 1817,
    "start_time": "2022-07-05T19:13:44.016Z"
   },
   {
    "duration": 3,
    "start_time": "2022-07-05T19:13:45.835Z"
   },
   {
    "duration": 11,
    "start_time": "2022-07-05T19:13:45.839Z"
   },
   {
    "duration": 305,
    "start_time": "2022-07-05T19:13:45.852Z"
   },
   {
    "duration": 1710,
    "start_time": "2022-07-05T19:23:52.020Z"
   },
   {
    "duration": 893,
    "start_time": "2022-07-05T19:23:53.732Z"
   },
   {
    "duration": 141,
    "start_time": "2022-07-05T19:23:54.627Z"
   },
   {
    "duration": 4,
    "start_time": "2022-07-05T19:23:54.769Z"
   },
   {
    "duration": 29,
    "start_time": "2022-07-05T19:23:54.775Z"
   },
   {
    "duration": 8,
    "start_time": "2022-07-05T19:23:54.806Z"
   },
   {
    "duration": 39,
    "start_time": "2022-07-05T19:23:54.816Z"
   },
   {
    "duration": 93211,
    "start_time": "2022-07-05T19:23:54.857Z"
   },
   {
    "duration": 12,
    "start_time": "2022-07-05T19:25:28.070Z"
   },
   {
    "duration": 46,
    "start_time": "2022-07-05T19:25:28.084Z"
   },
   {
    "duration": 6,
    "start_time": "2022-07-05T19:25:28.131Z"
   },
   {
    "duration": 12,
    "start_time": "2022-07-05T19:25:28.138Z"
   },
   {
    "duration": 28,
    "start_time": "2022-07-05T19:25:28.152Z"
   },
   {
    "duration": 22,
    "start_time": "2022-07-05T19:25:28.183Z"
   },
   {
    "duration": 11,
    "start_time": "2022-07-05T19:25:28.207Z"
   },
   {
    "duration": 9,
    "start_time": "2022-07-05T19:25:28.220Z"
   },
   {
    "duration": 19,
    "start_time": "2022-07-05T19:25:28.231Z"
   },
   {
    "duration": 247,
    "start_time": "2022-07-05T19:25:28.252Z"
   },
   {
    "duration": 4,
    "start_time": "2022-07-05T19:25:28.501Z"
   },
   {
    "duration": 1827,
    "start_time": "2022-07-05T19:25:28.507Z"
   },
   {
    "duration": 306486,
    "start_time": "2022-07-05T19:25:30.336Z"
   },
   {
    "duration": 3,
    "start_time": "2022-07-05T19:30:36.825Z"
   },
   {
    "duration": 223,
    "start_time": "2022-07-05T19:30:36.829Z"
   },
   {
    "duration": 287291,
    "start_time": "2022-07-05T19:32:54.640Z"
   },
   {
    "duration": 12273,
    "start_time": "2022-07-05T19:37:41.933Z"
   },
   {
    "duration": 301955,
    "start_time": "2022-07-05T19:37:54.214Z"
   },
   {
    "duration": 783504,
    "start_time": "2022-07-05T19:42:56.172Z"
   },
   {
    "duration": 1964,
    "start_time": "2022-07-06T20:23:27.199Z"
   },
   {
    "duration": 2380,
    "start_time": "2022-07-06T20:23:29.165Z"
   },
   {
    "duration": 110,
    "start_time": "2022-07-06T20:23:31.547Z"
   },
   {
    "duration": 2,
    "start_time": "2022-07-06T20:23:31.664Z"
   },
   {
    "duration": 19,
    "start_time": "2022-07-06T20:23:31.668Z"
   },
   {
    "duration": 11,
    "start_time": "2022-07-06T20:23:31.688Z"
   },
   {
    "duration": 59,
    "start_time": "2022-07-06T20:23:31.701Z"
   },
   {
    "duration": 78137,
    "start_time": "2022-07-06T20:23:31.763Z"
   },
   {
    "duration": 10,
    "start_time": "2022-07-06T20:24:49.902Z"
   },
   {
    "duration": 22,
    "start_time": "2022-07-06T20:24:49.914Z"
   },
   {
    "duration": 27,
    "start_time": "2022-07-06T20:24:49.938Z"
   },
   {
    "duration": 3,
    "start_time": "2022-07-06T20:24:49.967Z"
   },
   {
    "duration": 31,
    "start_time": "2022-07-06T20:24:49.972Z"
   },
   {
    "duration": 6,
    "start_time": "2022-07-06T20:24:50.005Z"
   },
   {
    "duration": 15,
    "start_time": "2022-07-06T20:24:50.012Z"
   },
   {
    "duration": 3,
    "start_time": "2022-07-06T20:24:50.029Z"
   },
   {
    "duration": 34,
    "start_time": "2022-07-06T20:24:50.033Z"
   },
   {
    "duration": 259,
    "start_time": "2022-07-06T20:24:50.069Z"
   },
   {
    "duration": 3,
    "start_time": "2022-07-06T20:24:50.330Z"
   },
   {
    "duration": 1746,
    "start_time": "2022-07-06T20:24:50.335Z"
   },
   {
    "duration": 3,
    "start_time": "2022-07-06T20:24:52.082Z"
   },
   {
    "duration": 9,
    "start_time": "2022-07-06T20:24:52.086Z"
   },
   {
    "duration": 249,
    "start_time": "2022-07-06T20:24:52.096Z"
   },
   {
    "duration": 1430,
    "start_time": "2022-07-06T20:31:10.615Z"
   },
   {
    "duration": 821,
    "start_time": "2022-07-06T20:31:12.047Z"
   },
   {
    "duration": 110,
    "start_time": "2022-07-06T20:31:12.869Z"
   },
   {
    "duration": 6,
    "start_time": "2022-07-06T20:31:12.981Z"
   },
   {
    "duration": 15,
    "start_time": "2022-07-06T20:31:12.989Z"
   },
   {
    "duration": 7,
    "start_time": "2022-07-06T20:31:13.006Z"
   },
   {
    "duration": 37,
    "start_time": "2022-07-06T20:31:13.015Z"
   },
   {
    "duration": 76807,
    "start_time": "2022-07-06T20:31:13.053Z"
   },
   {
    "duration": 10,
    "start_time": "2022-07-06T20:32:29.862Z"
   },
   {
    "duration": 23,
    "start_time": "2022-07-06T20:32:29.873Z"
   },
   {
    "duration": 5,
    "start_time": "2022-07-06T20:32:29.897Z"
   },
   {
    "duration": 4,
    "start_time": "2022-07-06T20:32:29.903Z"
   },
   {
    "duration": 23,
    "start_time": "2022-07-06T20:32:29.908Z"
   },
   {
    "duration": 34,
    "start_time": "2022-07-06T20:32:29.933Z"
   },
   {
    "duration": 9,
    "start_time": "2022-07-06T20:32:29.969Z"
   },
   {
    "duration": 4,
    "start_time": "2022-07-06T20:32:29.979Z"
   },
   {
    "duration": 14,
    "start_time": "2022-07-06T20:32:29.985Z"
   },
   {
    "duration": 128,
    "start_time": "2022-07-06T20:32:30.000Z"
   },
   {
    "duration": 3,
    "start_time": "2022-07-06T20:32:30.130Z"
   },
   {
    "duration": 1852,
    "start_time": "2022-07-06T20:32:30.135Z"
   },
   {
    "duration": 3,
    "start_time": "2022-07-06T20:32:31.990Z"
   },
   {
    "duration": 10,
    "start_time": "2022-07-06T20:32:31.994Z"
   },
   {
    "duration": 221,
    "start_time": "2022-07-06T20:32:32.006Z"
   },
   {
    "duration": 4,
    "start_time": "2022-07-06T20:32:32.228Z"
   },
   {
    "duration": 0,
    "start_time": "2022-07-06T20:32:32.234Z"
   },
   {
    "duration": 0,
    "start_time": "2022-07-06T20:32:32.236Z"
   },
   {
    "duration": 11705,
    "start_time": "2022-07-06T20:44:50.470Z"
   },
   {
    "duration": 379401,
    "start_time": "2022-07-06T20:45:02.177Z"
   },
   {
    "duration": 1090743,
    "start_time": "2022-07-06T20:51:21.580Z"
   },
   {
    "duration": 1651,
    "start_time": "2022-07-08T15:42:04.130Z"
   },
   {
    "duration": 802,
    "start_time": "2022-07-08T15:42:05.784Z"
   },
   {
    "duration": 128,
    "start_time": "2022-07-08T15:42:06.588Z"
   },
   {
    "duration": 2,
    "start_time": "2022-07-08T15:42:06.718Z"
   },
   {
    "duration": 4,
    "start_time": "2022-07-08T15:42:06.723Z"
   },
   {
    "duration": 5,
    "start_time": "2022-07-08T15:42:06.728Z"
   },
   {
    "duration": 55,
    "start_time": "2022-07-08T15:42:06.735Z"
   },
   {
    "duration": 91876,
    "start_time": "2022-07-08T15:42:06.793Z"
   },
   {
    "duration": 10,
    "start_time": "2022-07-08T15:43:38.671Z"
   },
   {
    "duration": 34,
    "start_time": "2022-07-08T15:43:38.682Z"
   },
   {
    "duration": 8,
    "start_time": "2022-07-08T15:43:38.717Z"
   },
   {
    "duration": 21,
    "start_time": "2022-07-08T15:43:38.727Z"
   },
   {
    "duration": 53,
    "start_time": "2022-07-08T15:43:38.749Z"
   },
   {
    "duration": 13,
    "start_time": "2022-07-08T15:43:38.805Z"
   },
   {
    "duration": 16,
    "start_time": "2022-07-08T15:43:38.819Z"
   },
   {
    "duration": 21,
    "start_time": "2022-07-08T15:43:38.836Z"
   },
   {
    "duration": 40,
    "start_time": "2022-07-08T15:43:38.859Z"
   },
   {
    "duration": 140,
    "start_time": "2022-07-08T15:43:38.901Z"
   },
   {
    "duration": 2,
    "start_time": "2022-07-08T15:43:39.043Z"
   },
   {
    "duration": 2181,
    "start_time": "2022-07-08T15:43:39.047Z"
   },
   {
    "duration": 2,
    "start_time": "2022-07-08T15:43:41.230Z"
   },
   {
    "duration": 16,
    "start_time": "2022-07-08T15:43:41.234Z"
   },
   {
    "duration": 337,
    "start_time": "2022-07-08T15:43:41.252Z"
   },
   {
    "duration": 19993,
    "start_time": "2022-07-08T15:43:41.591Z"
   },
   {
    "duration": 376288,
    "start_time": "2022-07-08T15:44:01.586Z"
   },
   {
    "duration": 1566,
    "start_time": "2022-07-08T15:51:09.625Z"
   },
   {
    "duration": 854,
    "start_time": "2022-07-08T15:51:11.193Z"
   },
   {
    "duration": 126,
    "start_time": "2022-07-08T15:51:12.049Z"
   },
   {
    "duration": 2,
    "start_time": "2022-07-08T15:51:12.177Z"
   },
   {
    "duration": 6,
    "start_time": "2022-07-08T15:51:12.181Z"
   },
   {
    "duration": 6,
    "start_time": "2022-07-08T15:51:12.188Z"
   },
   {
    "duration": 38,
    "start_time": "2022-07-08T15:51:12.195Z"
   },
   {
    "duration": 95298,
    "start_time": "2022-07-08T15:51:12.235Z"
   },
   {
    "duration": 9,
    "start_time": "2022-07-08T15:52:47.534Z"
   },
   {
    "duration": 36,
    "start_time": "2022-07-08T15:52:47.545Z"
   },
   {
    "duration": 5,
    "start_time": "2022-07-08T15:52:47.582Z"
   },
   {
    "duration": 12,
    "start_time": "2022-07-08T15:52:47.589Z"
   },
   {
    "duration": 26,
    "start_time": "2022-07-08T15:52:47.602Z"
   },
   {
    "duration": 6,
    "start_time": "2022-07-08T15:52:47.630Z"
   },
   {
    "duration": 3,
    "start_time": "2022-07-08T15:52:47.637Z"
   },
   {
    "duration": 11,
    "start_time": "2022-07-08T15:52:47.664Z"
   },
   {
    "duration": 15,
    "start_time": "2022-07-08T15:52:47.676Z"
   },
   {
    "duration": 201,
    "start_time": "2022-07-08T15:52:47.693Z"
   },
   {
    "duration": 3,
    "start_time": "2022-07-08T15:52:47.896Z"
   },
   {
    "duration": 3495,
    "start_time": "2022-07-08T15:52:47.901Z"
   },
   {
    "duration": 2,
    "start_time": "2022-07-08T15:52:51.398Z"
   },
   {
    "duration": 10,
    "start_time": "2022-07-08T15:52:51.402Z"
   },
   {
    "duration": 274,
    "start_time": "2022-07-08T15:52:51.413Z"
   },
   {
    "duration": 18410,
    "start_time": "2022-07-08T15:52:51.688Z"
   },
   {
    "duration": 375380,
    "start_time": "2022-07-08T15:53:10.100Z"
   },
   {
    "duration": 1547,
    "start_time": "2022-07-08T16:01:41.301Z"
   },
   {
    "duration": 855,
    "start_time": "2022-07-08T16:01:42.850Z"
   },
   {
    "duration": 124,
    "start_time": "2022-07-08T16:01:43.707Z"
   },
   {
    "duration": 2,
    "start_time": "2022-07-08T16:01:43.833Z"
   },
   {
    "duration": 7,
    "start_time": "2022-07-08T16:01:43.837Z"
   },
   {
    "duration": 18,
    "start_time": "2022-07-08T16:01:43.845Z"
   },
   {
    "duration": 55,
    "start_time": "2022-07-08T16:01:43.864Z"
   },
   {
    "duration": 95568,
    "start_time": "2022-07-08T16:01:43.921Z"
   },
   {
    "duration": 10,
    "start_time": "2022-07-08T16:03:19.491Z"
   },
   {
    "duration": 30,
    "start_time": "2022-07-08T16:03:19.503Z"
   },
   {
    "duration": 6,
    "start_time": "2022-07-08T16:03:19.535Z"
   },
   {
    "duration": 25,
    "start_time": "2022-07-08T16:03:19.543Z"
   },
   {
    "duration": 4,
    "start_time": "2022-07-08T16:03:19.570Z"
   },
   {
    "duration": 13,
    "start_time": "2022-07-08T16:03:19.577Z"
   },
   {
    "duration": 7,
    "start_time": "2022-07-08T16:03:19.592Z"
   },
   {
    "duration": 6,
    "start_time": "2022-07-08T16:03:19.601Z"
   },
   {
    "duration": 19,
    "start_time": "2022-07-08T16:03:19.609Z"
   },
   {
    "duration": 248,
    "start_time": "2022-07-08T16:03:19.630Z"
   },
   {
    "duration": 3,
    "start_time": "2022-07-08T16:03:19.879Z"
   },
   {
    "duration": 15263,
    "start_time": "2022-07-08T16:03:19.883Z"
   },
   {
    "duration": 3,
    "start_time": "2022-07-08T16:03:35.147Z"
   },
   {
    "duration": 28,
    "start_time": "2022-07-08T16:03:35.151Z"
   },
   {
    "duration": 602,
    "start_time": "2022-07-08T16:03:35.181Z"
   },
   {
    "duration": 81213,
    "start_time": "2022-07-08T16:03:35.863Z"
   },
   {
    "duration": 152482,
    "start_time": "2022-07-08T16:04:57.078Z"
   },
   {
    "duration": 1493,
    "start_time": "2022-07-08T16:07:46.957Z"
   },
   {
    "duration": 801,
    "start_time": "2022-07-08T16:07:48.451Z"
   },
   {
    "duration": 131,
    "start_time": "2022-07-08T16:07:49.254Z"
   },
   {
    "duration": 3,
    "start_time": "2022-07-08T16:07:49.387Z"
   },
   {
    "duration": 5,
    "start_time": "2022-07-08T16:07:49.392Z"
   },
   {
    "duration": 10,
    "start_time": "2022-07-08T16:07:49.398Z"
   },
   {
    "duration": 5,
    "start_time": "2022-07-08T16:07:49.410Z"
   },
   {
    "duration": 134699,
    "start_time": "2022-07-08T16:07:49.417Z"
   },
   {
    "duration": 10,
    "start_time": "2022-07-08T16:10:04.118Z"
   },
   {
    "duration": 7,
    "start_time": "2022-07-08T16:10:04.130Z"
   },
   {
    "duration": 124,
    "start_time": "2022-07-08T16:10:37.178Z"
   },
   {
    "duration": 7,
    "start_time": "2022-07-08T16:10:49.577Z"
   },
   {
    "duration": 4,
    "start_time": "2022-07-08T16:10:52.277Z"
   },
   {
    "duration": 1627,
    "start_time": "2022-07-08T16:14:39.977Z"
   },
   {
    "duration": 802,
    "start_time": "2022-07-08T16:14:41.606Z"
   },
   {
    "duration": 117,
    "start_time": "2022-07-08T16:14:42.409Z"
   },
   {
    "duration": 3,
    "start_time": "2022-07-08T16:14:42.528Z"
   },
   {
    "duration": 7,
    "start_time": "2022-07-08T16:14:42.534Z"
   },
   {
    "duration": 34,
    "start_time": "2022-07-08T16:14:42.543Z"
   },
   {
    "duration": 13,
    "start_time": "2022-07-08T16:14:42.579Z"
   },
   {
    "duration": 133793,
    "start_time": "2022-07-08T16:14:42.594Z"
   },
   {
    "duration": 9,
    "start_time": "2022-07-08T16:16:56.389Z"
   },
   {
    "duration": 34,
    "start_time": "2022-07-08T16:16:56.399Z"
   },
   {
    "duration": 5,
    "start_time": "2022-07-08T16:16:56.435Z"
   },
   {
    "duration": 25,
    "start_time": "2022-07-08T16:16:56.441Z"
   },
   {
    "duration": 4,
    "start_time": "2022-07-08T16:16:56.468Z"
   },
   {
    "duration": 10,
    "start_time": "2022-07-08T16:16:56.475Z"
   },
   {
    "duration": 9,
    "start_time": "2022-07-08T16:16:56.487Z"
   },
   {
    "duration": 3,
    "start_time": "2022-07-08T16:24:24.269Z"
   },
   {
    "duration": 1577,
    "start_time": "2022-07-08T16:25:39.177Z"
   },
   {
    "duration": 812,
    "start_time": "2022-07-08T16:25:40.756Z"
   },
   {
    "duration": 118,
    "start_time": "2022-07-08T16:25:41.569Z"
   },
   {
    "duration": 2,
    "start_time": "2022-07-08T16:25:41.689Z"
   },
   {
    "duration": 6,
    "start_time": "2022-07-08T16:25:41.692Z"
   },
   {
    "duration": 5,
    "start_time": "2022-07-08T16:25:41.700Z"
   },
   {
    "duration": 40,
    "start_time": "2022-07-08T16:25:41.706Z"
   },
   {
    "duration": 94801,
    "start_time": "2022-07-08T16:25:41.747Z"
   },
   {
    "duration": 10,
    "start_time": "2022-07-08T16:27:16.549Z"
   },
   {
    "duration": 30,
    "start_time": "2022-07-08T16:27:16.568Z"
   },
   {
    "duration": 5,
    "start_time": "2022-07-08T16:27:16.599Z"
   },
   {
    "duration": 5,
    "start_time": "2022-07-08T16:27:16.605Z"
   },
   {
    "duration": 4,
    "start_time": "2022-07-08T16:27:16.612Z"
   },
   {
    "duration": 61,
    "start_time": "2022-07-08T16:27:16.618Z"
   },
   {
    "duration": 5,
    "start_time": "2022-07-08T16:27:16.681Z"
   },
   {
    "duration": 3,
    "start_time": "2022-07-08T16:27:16.688Z"
   },
   {
    "duration": 15,
    "start_time": "2022-07-08T16:27:16.692Z"
   },
   {
    "duration": 20,
    "start_time": "2022-07-08T16:27:16.708Z"
   },
   {
    "duration": 127,
    "start_time": "2022-07-08T16:27:16.729Z"
   },
   {
    "duration": 2,
    "start_time": "2022-07-08T16:27:16.858Z"
   },
   {
    "duration": 18316,
    "start_time": "2022-07-08T16:27:16.862Z"
   },
   {
    "duration": 3,
    "start_time": "2022-07-08T16:27:35.180Z"
   },
   {
    "duration": 7,
    "start_time": "2022-07-08T16:27:35.185Z"
   },
   {
    "duration": 1275,
    "start_time": "2022-07-08T16:27:35.194Z"
   },
   {
    "duration": 115285,
    "start_time": "2022-07-08T16:27:36.471Z"
   },
   {
    "duration": 1752690,
    "start_time": "2022-07-08T16:29:31.764Z"
   },
   {
    "duration": 1504,
    "start_time": "2022-07-08T17:05:37.441Z"
   },
   {
    "duration": 812,
    "start_time": "2022-07-08T17:05:38.947Z"
   },
   {
    "duration": 118,
    "start_time": "2022-07-08T17:05:39.760Z"
   },
   {
    "duration": 7,
    "start_time": "2022-07-08T17:05:39.880Z"
   },
   {
    "duration": 6,
    "start_time": "2022-07-08T17:05:39.890Z"
   },
   {
    "duration": 6,
    "start_time": "2022-07-08T17:05:39.897Z"
   },
   {
    "duration": 5,
    "start_time": "2022-07-08T17:05:39.904Z"
   },
   {
    "duration": 133332,
    "start_time": "2022-07-08T17:05:39.910Z"
   },
   {
    "duration": 9,
    "start_time": "2022-07-08T17:07:53.244Z"
   },
   {
    "duration": 51,
    "start_time": "2022-07-08T17:07:53.255Z"
   },
   {
    "duration": 6,
    "start_time": "2022-07-08T17:07:53.308Z"
   },
   {
    "duration": 4,
    "start_time": "2022-07-08T17:07:53.315Z"
   },
   {
    "duration": 4,
    "start_time": "2022-07-08T17:07:53.321Z"
   },
   {
    "duration": 84,
    "start_time": "2022-07-08T17:07:53.327Z"
   },
   {
    "duration": 5,
    "start_time": "2022-07-08T17:07:53.413Z"
   },
   {
    "duration": 4,
    "start_time": "2022-07-08T17:07:53.420Z"
   },
   {
    "duration": 10,
    "start_time": "2022-07-08T17:07:53.426Z"
   },
   {
    "duration": 37,
    "start_time": "2022-07-08T17:07:53.437Z"
   },
   {
    "duration": 210,
    "start_time": "2022-07-08T17:07:53.475Z"
   },
   {
    "duration": 3,
    "start_time": "2022-07-08T17:07:53.686Z"
   },
   {
    "duration": 26668,
    "start_time": "2022-07-08T17:07:53.691Z"
   },
   {
    "duration": 3,
    "start_time": "2022-07-08T17:08:20.363Z"
   },
   {
    "duration": 19,
    "start_time": "2022-07-08T17:08:20.373Z"
   },
   {
    "duration": 1489,
    "start_time": "2022-07-08T17:08:20.395Z"
   },
   {
    "duration": 106999,
    "start_time": "2022-07-08T17:08:21.886Z"
   },
   {
    "duration": 2293015,
    "start_time": "2022-07-08T17:10:08.887Z"
   },
   {
    "duration": 2128,
    "start_time": "2022-07-08T18:15:47.010Z"
   },
   {
    "duration": 2574,
    "start_time": "2022-07-08T18:15:49.140Z"
   },
   {
    "duration": 116,
    "start_time": "2022-07-08T18:15:51.716Z"
   },
   {
    "duration": 3,
    "start_time": "2022-07-08T18:15:51.833Z"
   },
   {
    "duration": 12,
    "start_time": "2022-07-08T18:15:51.838Z"
   },
   {
    "duration": 21,
    "start_time": "2022-07-08T18:15:51.851Z"
   },
   {
    "duration": 45,
    "start_time": "2022-07-08T18:15:51.873Z"
   },
   {
    "duration": 120527,
    "start_time": "2022-07-08T18:15:51.920Z"
   },
   {
    "duration": 24,
    "start_time": "2022-07-08T18:17:52.449Z"
   },
   {
    "duration": 28,
    "start_time": "2022-07-08T18:17:52.476Z"
   },
   {
    "duration": 5,
    "start_time": "2022-07-08T18:17:52.505Z"
   },
   {
    "duration": 10,
    "start_time": "2022-07-08T18:17:52.512Z"
   },
   {
    "duration": 28,
    "start_time": "2022-07-08T18:17:52.524Z"
   },
   {
    "duration": 72,
    "start_time": "2022-07-08T18:17:52.556Z"
   },
   {
    "duration": 7,
    "start_time": "2022-07-08T18:17:52.630Z"
   },
   {
    "duration": 9,
    "start_time": "2022-07-08T18:17:52.639Z"
   },
   {
    "duration": 14,
    "start_time": "2022-07-08T18:17:52.650Z"
   },
   {
    "duration": 40,
    "start_time": "2022-07-08T18:17:52.666Z"
   },
   {
    "duration": 209,
    "start_time": "2022-07-08T18:17:52.708Z"
   },
   {
    "duration": 3,
    "start_time": "2022-07-08T18:17:52.919Z"
   },
   {
    "duration": 23174,
    "start_time": "2022-07-08T18:17:52.923Z"
   },
   {
    "duration": 2,
    "start_time": "2022-07-08T18:18:16.099Z"
   },
   {
    "duration": 7,
    "start_time": "2022-07-08T18:18:16.102Z"
   },
   {
    "duration": 1472,
    "start_time": "2022-07-08T18:18:16.111Z"
   },
   {
    "duration": 193849,
    "start_time": "2022-07-08T18:18:17.584Z"
   },
   {
    "duration": 2028068,
    "start_time": "2022-07-08T18:21:31.435Z"
   },
   {
    "duration": 1722,
    "start_time": "2022-07-08T19:00:28.980Z"
   },
   {
    "duration": 916,
    "start_time": "2022-07-08T19:00:30.704Z"
   },
   {
    "duration": 125,
    "start_time": "2022-07-08T19:00:31.622Z"
   },
   {
    "duration": 8,
    "start_time": "2022-07-08T19:00:31.748Z"
   },
   {
    "duration": 2,
    "start_time": "2022-07-08T19:00:31.765Z"
   },
   {
    "duration": 29,
    "start_time": "2022-07-08T19:00:31.771Z"
   },
   {
    "duration": 50,
    "start_time": "2022-07-08T19:00:31.802Z"
   },
   {
    "duration": 1446,
    "start_time": "2022-07-08T19:00:31.854Z"
   },
   {
    "duration": 8,
    "start_time": "2022-07-08T19:00:33.302Z"
   },
   {
    "duration": 107,
    "start_time": "2022-07-08T19:02:04.301Z"
   },
   {
    "duration": 1207,
    "start_time": "2022-07-08T19:02:26.942Z"
   },
   {
    "duration": 951,
    "start_time": "2022-07-08T19:02:44.897Z"
   },
   {
    "duration": 11,
    "start_time": "2022-07-08T19:03:01.021Z"
   },
   {
    "duration": 15,
    "start_time": "2022-07-08T19:03:19.477Z"
   },
   {
    "duration": 3,
    "start_time": "2022-07-08T19:03:26.748Z"
   },
   {
    "duration": 1609,
    "start_time": "2022-07-08T19:04:09.853Z"
   },
   {
    "duration": 850,
    "start_time": "2022-07-08T19:04:11.464Z"
   },
   {
    "duration": 123,
    "start_time": "2022-07-08T19:04:12.315Z"
   },
   {
    "duration": 8,
    "start_time": "2022-07-08T19:04:12.440Z"
   },
   {
    "duration": 20,
    "start_time": "2022-07-08T19:04:12.450Z"
   },
   {
    "duration": 8,
    "start_time": "2022-07-08T19:04:12.476Z"
   },
   {
    "duration": 40,
    "start_time": "2022-07-08T19:04:12.486Z"
   },
   {
    "duration": 4,
    "start_time": "2022-07-08T19:04:52.879Z"
   },
   {
    "duration": 1610,
    "start_time": "2022-07-08T19:05:35.845Z"
   },
   {
    "duration": 871,
    "start_time": "2022-07-08T19:05:37.457Z"
   },
   {
    "duration": 127,
    "start_time": "2022-07-08T19:05:38.329Z"
   },
   {
    "duration": 15,
    "start_time": "2022-07-08T19:05:38.457Z"
   },
   {
    "duration": 5,
    "start_time": "2022-07-08T19:05:38.487Z"
   },
   {
    "duration": 7,
    "start_time": "2022-07-08T19:05:38.494Z"
   },
   {
    "duration": 29,
    "start_time": "2022-07-08T19:05:38.502Z"
   },
   {
    "duration": 3,
    "start_time": "2022-07-08T19:05:38.532Z"
   },
   {
    "duration": 100417,
    "start_time": "2022-07-08T19:05:38.537Z"
   },
   {
    "duration": 23,
    "start_time": "2022-07-08T19:07:18.955Z"
   },
   {
    "duration": 27,
    "start_time": "2022-07-08T19:09:21.862Z"
   },
   {
    "duration": 7,
    "start_time": "2022-07-08T19:09:24.825Z"
   },
   {
    "duration": 4,
    "start_time": "2022-07-08T19:09:26.934Z"
   },
   {
    "duration": 49,
    "start_time": "2022-07-08T19:09:30.958Z"
   },
   {
    "duration": 6,
    "start_time": "2022-07-08T19:09:33.206Z"
   },
   {
    "duration": 18,
    "start_time": "2022-07-08T19:09:36.076Z"
   },
   {
    "duration": 125,
    "start_time": "2022-07-08T19:09:38.414Z"
   },
   {
    "duration": 2,
    "start_time": "2022-07-08T19:09:40.591Z"
   },
   {
    "duration": 18492,
    "start_time": "2022-07-08T19:09:42.295Z"
   },
   {
    "duration": 1451,
    "start_time": "2022-07-08T19:10:11.621Z"
   },
   {
    "duration": 1597,
    "start_time": "2022-07-08T19:11:23.260Z"
   },
   {
    "duration": 836,
    "start_time": "2022-07-08T19:11:24.861Z"
   },
   {
    "duration": 117,
    "start_time": "2022-07-08T19:11:25.699Z"
   },
   {
    "duration": 2,
    "start_time": "2022-07-08T19:11:25.817Z"
   },
   {
    "duration": 5,
    "start_time": "2022-07-08T19:11:25.821Z"
   },
   {
    "duration": 4,
    "start_time": "2022-07-08T19:11:25.827Z"
   },
   {
    "duration": 55,
    "start_time": "2022-07-08T19:11:25.833Z"
   },
   {
    "duration": 4,
    "start_time": "2022-07-08T19:11:32.701Z"
   },
   {
    "duration": 6128,
    "start_time": "2022-07-08T19:12:22.080Z"
   },
   {
    "duration": 15,
    "start_time": "2022-07-08T19:12:36.911Z"
   },
   {
    "duration": 42,
    "start_time": "2022-07-08T19:12:43.400Z"
   },
   {
    "duration": 1599,
    "start_time": "2022-07-08T19:13:18.958Z"
   },
   {
    "duration": 812,
    "start_time": "2022-07-08T19:13:20.560Z"
   },
   {
    "duration": 123,
    "start_time": "2022-07-08T19:13:21.374Z"
   },
   {
    "duration": 2,
    "start_time": "2022-07-08T19:13:21.499Z"
   },
   {
    "duration": 7,
    "start_time": "2022-07-08T19:13:21.504Z"
   },
   {
    "duration": 5,
    "start_time": "2022-07-08T19:13:21.513Z"
   },
   {
    "duration": 62,
    "start_time": "2022-07-08T19:13:21.520Z"
   },
   {
    "duration": 5999,
    "start_time": "2022-07-08T19:13:21.584Z"
   },
   {
    "duration": 10,
    "start_time": "2022-07-08T19:13:27.585Z"
   },
   {
    "duration": 43,
    "start_time": "2022-07-08T19:13:27.596Z"
   },
   {
    "duration": 5,
    "start_time": "2022-07-08T19:13:27.641Z"
   },
   {
    "duration": 16,
    "start_time": "2022-07-08T19:13:27.648Z"
   },
   {
    "duration": 24,
    "start_time": "2022-07-08T19:13:27.666Z"
   },
   {
    "duration": 44,
    "start_time": "2022-07-08T19:13:27.692Z"
   },
   {
    "duration": 5,
    "start_time": "2022-07-08T19:13:27.737Z"
   },
   {
    "duration": 4,
    "start_time": "2022-07-08T19:13:27.743Z"
   },
   {
    "duration": 6,
    "start_time": "2022-07-08T19:13:27.748Z"
   },
   {
    "duration": 29,
    "start_time": "2022-07-08T19:13:27.755Z"
   },
   {
    "duration": 129,
    "start_time": "2022-07-08T19:13:27.785Z"
   },
   {
    "duration": 4,
    "start_time": "2022-07-08T19:13:27.916Z"
   },
   {
    "duration": 20683,
    "start_time": "2022-07-08T19:13:27.922Z"
   },
   {
    "duration": 3,
    "start_time": "2022-07-08T19:13:48.606Z"
   },
   {
    "duration": 8,
    "start_time": "2022-07-08T19:13:48.611Z"
   },
   {
    "duration": 1547,
    "start_time": "2022-07-08T19:13:48.621Z"
   },
   {
    "duration": 1611,
    "start_time": "2022-07-08T19:18:02.378Z"
   },
   {
    "duration": 828,
    "start_time": "2022-07-08T19:18:03.991Z"
   },
   {
    "duration": 125,
    "start_time": "2022-07-08T19:18:04.820Z"
   },
   {
    "duration": 2,
    "start_time": "2022-07-08T19:18:04.947Z"
   },
   {
    "duration": 2,
    "start_time": "2022-07-08T19:18:04.963Z"
   },
   {
    "duration": 10,
    "start_time": "2022-07-08T19:18:04.967Z"
   },
   {
    "duration": 11,
    "start_time": "2022-07-08T19:18:04.979Z"
   },
   {
    "duration": 8335,
    "start_time": "2022-07-08T19:18:04.992Z"
   },
   {
    "duration": 9,
    "start_time": "2022-07-08T19:18:13.328Z"
   },
   {
    "duration": 8,
    "start_time": "2022-07-08T19:18:13.338Z"
   },
   {
    "duration": 5,
    "start_time": "2022-07-08T19:18:13.347Z"
   },
   {
    "duration": 10,
    "start_time": "2022-07-08T19:18:13.354Z"
   },
   {
    "duration": 16,
    "start_time": "2022-07-08T19:18:13.366Z"
   },
   {
    "duration": 8,
    "start_time": "2022-07-08T19:18:13.384Z"
   },
   {
    "duration": 7,
    "start_time": "2022-07-08T19:18:13.394Z"
   },
   {
    "duration": 5,
    "start_time": "2022-07-08T19:18:13.403Z"
   },
   {
    "duration": 46,
    "start_time": "2022-07-08T19:18:13.409Z"
   },
   {
    "duration": 2,
    "start_time": "2022-07-08T19:18:13.457Z"
   },
   {
    "duration": 125,
    "start_time": "2022-07-08T19:18:13.460Z"
   },
   {
    "duration": 2,
    "start_time": "2022-07-08T19:18:13.587Z"
   },
   {
    "duration": 26076,
    "start_time": "2022-07-08T19:18:13.591Z"
   },
   {
    "duration": 3,
    "start_time": "2022-07-08T19:18:39.668Z"
   },
   {
    "duration": 8,
    "start_time": "2022-07-08T19:18:39.673Z"
   },
   {
    "duration": 987,
    "start_time": "2022-07-08T19:18:39.682Z"
   },
   {
    "duration": 111647,
    "start_time": "2022-07-08T19:18:40.671Z"
   },
   {
    "duration": 1555,
    "start_time": "2022-07-08T19:22:53.172Z"
   },
   {
    "duration": 782,
    "start_time": "2022-07-08T19:22:54.729Z"
   },
   {
    "duration": 121,
    "start_time": "2022-07-08T19:22:55.513Z"
   },
   {
    "duration": 3,
    "start_time": "2022-07-08T19:22:55.635Z"
   },
   {
    "duration": 6,
    "start_time": "2022-07-08T19:22:55.639Z"
   },
   {
    "duration": 19,
    "start_time": "2022-07-08T19:22:55.646Z"
   },
   {
    "duration": 49,
    "start_time": "2022-07-08T19:22:55.667Z"
   },
   {
    "duration": 5580,
    "start_time": "2022-07-08T19:22:55.718Z"
   },
   {
    "duration": 11,
    "start_time": "2022-07-08T19:23:01.299Z"
   },
   {
    "duration": 26,
    "start_time": "2022-07-08T19:23:01.311Z"
   },
   {
    "duration": 26,
    "start_time": "2022-07-08T19:23:01.339Z"
   },
   {
    "duration": 4,
    "start_time": "2022-07-08T19:23:01.368Z"
   },
   {
    "duration": 22,
    "start_time": "2022-07-08T19:23:01.374Z"
   },
   {
    "duration": 54,
    "start_time": "2022-07-08T19:23:01.399Z"
   },
   {
    "duration": 2,
    "start_time": "2022-07-08T19:23:01.455Z"
   },
   {
    "duration": 21,
    "start_time": "2022-07-08T19:23:01.459Z"
   },
   {
    "duration": 30,
    "start_time": "2022-07-08T19:23:01.482Z"
   },
   {
    "duration": 30,
    "start_time": "2022-07-08T19:23:01.514Z"
   },
   {
    "duration": 214,
    "start_time": "2022-07-08T19:23:01.545Z"
   },
   {
    "duration": 3,
    "start_time": "2022-07-08T19:23:01.761Z"
   },
   {
    "duration": 46286,
    "start_time": "2022-07-08T19:23:01.765Z"
   },
   {
    "duration": 3,
    "start_time": "2022-07-08T19:23:48.053Z"
   },
   {
    "duration": 5,
    "start_time": "2022-07-08T19:23:48.063Z"
   },
   {
    "duration": 2204,
    "start_time": "2022-07-08T19:23:48.070Z"
   },
   {
    "duration": 144670,
    "start_time": "2022-07-08T19:23:50.275Z"
   },
   {
    "duration": 1540,
    "start_time": "2022-07-08T19:29:45.801Z"
   },
   {
    "duration": 789,
    "start_time": "2022-07-08T19:29:47.342Z"
   },
   {
    "duration": 118,
    "start_time": "2022-07-08T19:29:48.132Z"
   },
   {
    "duration": 2,
    "start_time": "2022-07-08T19:29:48.252Z"
   },
   {
    "duration": 3,
    "start_time": "2022-07-08T19:29:48.265Z"
   },
   {
    "duration": 7,
    "start_time": "2022-07-08T19:29:48.269Z"
   },
   {
    "duration": 38,
    "start_time": "2022-07-08T19:29:48.278Z"
   },
   {
    "duration": 5575,
    "start_time": "2022-07-08T19:29:48.318Z"
   },
   {
    "duration": 9,
    "start_time": "2022-07-08T19:29:53.896Z"
   },
   {
    "duration": 27,
    "start_time": "2022-07-08T19:29:53.907Z"
   },
   {
    "duration": 5,
    "start_time": "2022-07-08T19:29:53.936Z"
   },
   {
    "duration": 5,
    "start_time": "2022-07-08T19:29:53.963Z"
   },
   {
    "duration": 25,
    "start_time": "2022-07-08T19:29:53.970Z"
   },
   {
    "duration": 2,
    "start_time": "2022-07-08T19:29:53.998Z"
   },
   {
    "duration": 7,
    "start_time": "2022-07-08T19:29:54.002Z"
   },
   {
    "duration": 5,
    "start_time": "2022-07-08T19:29:54.010Z"
   },
   {
    "duration": 4,
    "start_time": "2022-07-08T19:29:54.017Z"
   },
   {
    "duration": 15,
    "start_time": "2022-07-08T19:29:54.023Z"
   },
   {
    "duration": 121,
    "start_time": "2022-07-08T19:29:54.064Z"
   },
   {
    "duration": 3,
    "start_time": "2022-07-08T19:29:54.187Z"
   },
   {
    "duration": 8281,
    "start_time": "2022-07-08T19:29:54.191Z"
   },
   {
    "duration": 2,
    "start_time": "2022-07-08T19:30:02.474Z"
   },
   {
    "duration": 26,
    "start_time": "2022-07-08T19:30:02.478Z"
   },
   {
    "duration": 404,
    "start_time": "2022-07-08T19:30:02.506Z"
   },
   {
    "duration": 26719,
    "start_time": "2022-07-08T19:30:02.912Z"
   },
   {
    "duration": 1573,
    "start_time": "2022-07-08T19:31:26.271Z"
   },
   {
    "duration": 790,
    "start_time": "2022-07-08T19:31:27.846Z"
   },
   {
    "duration": 130,
    "start_time": "2022-07-08T19:31:28.637Z"
   },
   {
    "duration": 2,
    "start_time": "2022-07-08T19:31:28.769Z"
   },
   {
    "duration": 5,
    "start_time": "2022-07-08T19:31:28.773Z"
   },
   {
    "duration": 5,
    "start_time": "2022-07-08T19:31:28.780Z"
   },
   {
    "duration": 40,
    "start_time": "2022-07-08T19:31:28.786Z"
   },
   {
    "duration": 5663,
    "start_time": "2022-07-08T19:31:28.828Z"
   },
   {
    "duration": 10,
    "start_time": "2022-07-08T19:31:34.492Z"
   },
   {
    "duration": 31,
    "start_time": "2022-07-08T19:31:34.504Z"
   },
   {
    "duration": 6,
    "start_time": "2022-07-08T19:31:34.537Z"
   },
   {
    "duration": 28,
    "start_time": "2022-07-08T19:31:34.544Z"
   },
   {
    "duration": 10,
    "start_time": "2022-07-08T19:31:34.574Z"
   },
   {
    "duration": 69,
    "start_time": "2022-07-08T19:31:34.588Z"
   },
   {
    "duration": 11,
    "start_time": "2022-07-08T19:31:34.659Z"
   },
   {
    "duration": 15,
    "start_time": "2022-07-08T19:31:34.671Z"
   },
   {
    "duration": 9,
    "start_time": "2022-07-08T19:31:34.688Z"
   },
   {
    "duration": 26,
    "start_time": "2022-07-08T19:31:34.699Z"
   },
   {
    "duration": 163,
    "start_time": "2022-07-08T19:31:34.727Z"
   },
   {
    "duration": 3,
    "start_time": "2022-07-08T19:31:34.892Z"
   },
   {
    "duration": 43249,
    "start_time": "2022-07-08T19:31:34.897Z"
   },
   {
    "duration": 2,
    "start_time": "2022-07-08T19:32:18.148Z"
   },
   {
    "duration": 12,
    "start_time": "2022-07-08T19:32:18.152Z"
   },
   {
    "duration": 2304,
    "start_time": "2022-07-08T19:32:18.165Z"
   },
   {
    "duration": 147957,
    "start_time": "2022-07-08T19:32:20.471Z"
   },
   {
    "duration": 1536,
    "start_time": "2022-07-08T19:37:52.073Z"
   },
   {
    "duration": 798,
    "start_time": "2022-07-08T19:37:53.611Z"
   },
   {
    "duration": 112,
    "start_time": "2022-07-08T19:37:54.411Z"
   },
   {
    "duration": 2,
    "start_time": "2022-07-08T19:37:54.526Z"
   },
   {
    "duration": 6,
    "start_time": "2022-07-08T19:37:54.529Z"
   },
   {
    "duration": 7,
    "start_time": "2022-07-08T19:37:54.536Z"
   },
   {
    "duration": 55,
    "start_time": "2022-07-08T19:37:54.544Z"
   },
   {
    "duration": 5510,
    "start_time": "2022-07-08T19:37:54.600Z"
   },
   {
    "duration": 9,
    "start_time": "2022-07-08T19:38:00.112Z"
   },
   {
    "duration": 31,
    "start_time": "2022-07-08T19:38:00.124Z"
   },
   {
    "duration": 5,
    "start_time": "2022-07-08T19:38:00.163Z"
   },
   {
    "duration": 9,
    "start_time": "2022-07-08T19:38:00.170Z"
   },
   {
    "duration": 7,
    "start_time": "2022-07-08T19:38:00.180Z"
   },
   {
    "duration": 44,
    "start_time": "2022-07-08T19:38:00.188Z"
   },
   {
    "duration": 2,
    "start_time": "2022-07-08T19:38:00.234Z"
   },
   {
    "duration": 27,
    "start_time": "2022-07-08T19:38:00.237Z"
   },
   {
    "duration": 3,
    "start_time": "2022-07-08T19:38:00.266Z"
   },
   {
    "duration": 26,
    "start_time": "2022-07-08T19:38:00.270Z"
   },
   {
    "duration": 163,
    "start_time": "2022-07-08T19:38:00.298Z"
   },
   {
    "duration": 3,
    "start_time": "2022-07-08T19:38:00.463Z"
   },
   {
    "duration": 68604,
    "start_time": "2022-07-08T19:38:00.467Z"
   },
   {
    "duration": 3,
    "start_time": "2022-07-08T19:39:09.073Z"
   },
   {
    "duration": 11,
    "start_time": "2022-07-08T19:39:09.078Z"
   },
   {
    "duration": 3186,
    "start_time": "2022-07-08T19:39:09.091Z"
   },
   {
    "duration": 2113,
    "start_time": "2022-07-08T19:42:15.910Z"
   },
   {
    "duration": 2554,
    "start_time": "2022-07-08T19:42:18.025Z"
   },
   {
    "duration": 118,
    "start_time": "2022-07-08T19:42:20.581Z"
   },
   {
    "duration": 3,
    "start_time": "2022-07-08T19:42:20.701Z"
   },
   {
    "duration": 17,
    "start_time": "2022-07-08T19:42:20.706Z"
   },
   {
    "duration": 20,
    "start_time": "2022-07-08T19:42:20.725Z"
   },
   {
    "duration": 52,
    "start_time": "2022-07-08T19:42:20.747Z"
   },
   {
    "duration": 91530,
    "start_time": "2022-07-08T19:42:20.801Z"
   },
   {
    "duration": 8,
    "start_time": "2022-07-08T19:43:52.332Z"
   },
   {
    "duration": 49,
    "start_time": "2022-07-08T19:43:52.342Z"
   },
   {
    "duration": 7,
    "start_time": "2022-07-08T19:43:52.394Z"
   },
   {
    "duration": 5,
    "start_time": "2022-07-08T19:43:52.403Z"
   },
   {
    "duration": 5,
    "start_time": "2022-07-08T19:43:52.411Z"
   },
   {
    "duration": 79,
    "start_time": "2022-07-08T19:43:52.420Z"
   },
   {
    "duration": 3,
    "start_time": "2022-07-08T19:43:52.500Z"
   },
   {
    "duration": 5,
    "start_time": "2022-07-08T19:43:52.504Z"
   },
   {
    "duration": 5,
    "start_time": "2022-07-08T19:43:52.511Z"
   },
   {
    "duration": 27,
    "start_time": "2022-07-08T19:43:52.517Z"
   },
   {
    "duration": 231,
    "start_time": "2022-07-08T19:43:52.565Z"
   },
   {
    "duration": 3,
    "start_time": "2022-07-08T19:43:52.798Z"
   },
   {
    "duration": 41953,
    "start_time": "2022-07-08T19:43:52.802Z"
   },
   {
    "duration": 6,
    "start_time": "2022-07-08T19:44:34.757Z"
   },
   {
    "duration": 5,
    "start_time": "2022-07-08T19:44:34.765Z"
   },
   {
    "duration": 2196,
    "start_time": "2022-07-08T19:44:34.771Z"
   },
   {
    "duration": 88961,
    "start_time": "2022-07-08T19:44:36.969Z"
   },
   {
    "duration": 64908,
    "start_time": "2022-07-08T19:46:05.932Z"
   },
   {
    "duration": 1594,
    "start_time": "2022-07-08T19:48:08.778Z"
   },
   {
    "duration": 870,
    "start_time": "2022-07-08T19:48:10.374Z"
   },
   {
    "duration": 122,
    "start_time": "2022-07-08T19:48:11.245Z"
   },
   {
    "duration": 2,
    "start_time": "2022-07-08T19:48:11.369Z"
   },
   {
    "duration": 14,
    "start_time": "2022-07-08T19:48:11.373Z"
   },
   {
    "duration": 5,
    "start_time": "2022-07-08T19:48:11.389Z"
   },
   {
    "duration": 39,
    "start_time": "2022-07-08T19:48:11.396Z"
   },
   {
    "duration": 80957,
    "start_time": "2022-07-08T19:48:11.437Z"
   },
   {
    "duration": 9,
    "start_time": "2022-07-08T19:49:32.396Z"
   },
   {
    "duration": 23,
    "start_time": "2022-07-08T19:49:32.407Z"
   },
   {
    "duration": 7,
    "start_time": "2022-07-08T19:49:32.432Z"
   },
   {
    "duration": 6,
    "start_time": "2022-07-08T19:49:32.464Z"
   },
   {
    "duration": 14,
    "start_time": "2022-07-08T19:49:32.472Z"
   },
   {
    "duration": 34,
    "start_time": "2022-07-08T19:49:32.489Z"
   },
   {
    "duration": 3,
    "start_time": "2022-07-08T19:49:32.525Z"
   },
   {
    "duration": 9,
    "start_time": "2022-07-08T19:49:32.529Z"
   },
   {
    "duration": 7,
    "start_time": "2022-07-08T19:49:32.540Z"
   },
   {
    "duration": 41,
    "start_time": "2022-07-08T19:49:32.549Z"
   },
   {
    "duration": 237,
    "start_time": "2022-07-08T19:49:32.593Z"
   },
   {
    "duration": 3,
    "start_time": "2022-07-08T19:49:32.831Z"
   },
   {
    "duration": 34227,
    "start_time": "2022-07-08T19:49:32.836Z"
   },
   {
    "duration": 3,
    "start_time": "2022-07-08T19:50:07.065Z"
   },
   {
    "duration": 5,
    "start_time": "2022-07-08T19:50:07.070Z"
   },
   {
    "duration": 1804,
    "start_time": "2022-07-08T19:50:07.076Z"
   },
   {
    "duration": 71433,
    "start_time": "2022-07-08T19:50:08.883Z"
   },
   {
    "duration": 1600,
    "start_time": "2022-07-08T19:52:47.369Z"
   },
   {
    "duration": 831,
    "start_time": "2022-07-08T19:52:48.974Z"
   },
   {
    "duration": 123,
    "start_time": "2022-07-08T19:52:49.806Z"
   },
   {
    "duration": 2,
    "start_time": "2022-07-08T19:52:49.931Z"
   },
   {
    "duration": 4,
    "start_time": "2022-07-08T19:52:49.935Z"
   },
   {
    "duration": 7,
    "start_time": "2022-07-08T19:52:49.941Z"
   },
   {
    "duration": 46,
    "start_time": "2022-07-08T19:52:49.964Z"
   },
   {
    "duration": 80290,
    "start_time": "2022-07-08T19:52:50.011Z"
   },
   {
    "duration": 10,
    "start_time": "2022-07-08T19:54:10.302Z"
   },
   {
    "duration": 28,
    "start_time": "2022-07-08T19:54:10.314Z"
   },
   {
    "duration": 13,
    "start_time": "2022-07-08T19:54:10.367Z"
   },
   {
    "duration": 14,
    "start_time": "2022-07-08T19:54:10.382Z"
   },
   {
    "duration": 4,
    "start_time": "2022-07-08T19:54:10.398Z"
   },
   {
    "duration": 42,
    "start_time": "2022-07-08T19:54:10.406Z"
   },
   {
    "duration": 3,
    "start_time": "2022-07-08T19:54:10.450Z"
   },
   {
    "duration": 5,
    "start_time": "2022-07-08T19:54:10.464Z"
   },
   {
    "duration": 10,
    "start_time": "2022-07-08T19:54:10.470Z"
   },
   {
    "duration": 18,
    "start_time": "2022-07-08T19:54:10.482Z"
   },
   {
    "duration": 160,
    "start_time": "2022-07-08T19:54:10.502Z"
   },
   {
    "duration": 4,
    "start_time": "2022-07-08T19:54:10.664Z"
   },
   {
    "duration": 30677,
    "start_time": "2022-07-08T19:54:10.670Z"
   },
   {
    "duration": 3,
    "start_time": "2022-07-08T19:54:41.348Z"
   },
   {
    "duration": 16,
    "start_time": "2022-07-08T19:54:41.352Z"
   },
   {
    "duration": 1610,
    "start_time": "2022-07-08T19:54:41.376Z"
   },
   {
    "duration": 113610,
    "start_time": "2022-07-08T19:54:43.068Z"
   },
   {
    "duration": 1581,
    "start_time": "2022-07-08T19:57:51.588Z"
   },
   {
    "duration": 833,
    "start_time": "2022-07-08T19:57:53.171Z"
   },
   {
    "duration": 126,
    "start_time": "2022-07-08T19:57:54.006Z"
   },
   {
    "duration": 3,
    "start_time": "2022-07-08T19:57:54.133Z"
   },
   {
    "duration": 3,
    "start_time": "2022-07-08T19:57:54.139Z"
   },
   {
    "duration": 19,
    "start_time": "2022-07-08T19:57:54.144Z"
   },
   {
    "duration": 34,
    "start_time": "2022-07-08T19:57:54.165Z"
   },
   {
    "duration": 78559,
    "start_time": "2022-07-08T19:57:54.201Z"
   },
   {
    "duration": 13,
    "start_time": "2022-07-08T19:59:12.764Z"
   },
   {
    "duration": 25,
    "start_time": "2022-07-08T19:59:12.779Z"
   },
   {
    "duration": 5,
    "start_time": "2022-07-08T19:59:12.805Z"
   },
   {
    "duration": 6,
    "start_time": "2022-07-08T19:59:12.811Z"
   },
   {
    "duration": 5,
    "start_time": "2022-07-08T19:59:12.819Z"
   },
   {
    "duration": 65,
    "start_time": "2022-07-08T19:59:12.827Z"
   },
   {
    "duration": 3,
    "start_time": "2022-07-08T19:59:12.893Z"
   },
   {
    "duration": 10,
    "start_time": "2022-07-08T19:59:12.897Z"
   },
   {
    "duration": 6,
    "start_time": "2022-07-08T19:59:12.909Z"
   },
   {
    "duration": 18,
    "start_time": "2022-07-08T19:59:12.917Z"
   },
   {
    "duration": 212,
    "start_time": "2022-07-08T19:59:12.937Z"
   },
   {
    "duration": 3,
    "start_time": "2022-07-08T19:59:13.151Z"
   },
   {
    "duration": 47226,
    "start_time": "2022-07-08T19:59:13.155Z"
   },
   {
    "duration": 3,
    "start_time": "2022-07-08T20:00:00.383Z"
   },
   {
    "duration": 10,
    "start_time": "2022-07-08T20:00:00.388Z"
   },
   {
    "duration": 2766,
    "start_time": "2022-07-08T20:00:00.400Z"
   },
   {
    "duration": 1614,
    "start_time": "2022-07-08T20:02:10.159Z"
   },
   {
    "duration": 855,
    "start_time": "2022-07-08T20:02:11.779Z"
   },
   {
    "duration": 136,
    "start_time": "2022-07-08T20:02:12.636Z"
   },
   {
    "duration": 10,
    "start_time": "2022-07-08T20:02:12.777Z"
   },
   {
    "duration": 6,
    "start_time": "2022-07-08T20:02:12.789Z"
   },
   {
    "duration": 11,
    "start_time": "2022-07-08T20:02:12.796Z"
   },
   {
    "duration": 8,
    "start_time": "2022-07-08T20:02:12.808Z"
   },
   {
    "duration": 131414,
    "start_time": "2022-07-08T20:02:12.817Z"
   },
   {
    "duration": 10,
    "start_time": "2022-07-08T20:04:24.233Z"
   },
   {
    "duration": 46,
    "start_time": "2022-07-08T20:04:24.245Z"
   },
   {
    "duration": 7,
    "start_time": "2022-07-08T20:04:24.293Z"
   },
   {
    "duration": 6,
    "start_time": "2022-07-08T20:04:24.301Z"
   },
   {
    "duration": 9,
    "start_time": "2022-07-08T20:04:24.308Z"
   },
   {
    "duration": 83,
    "start_time": "2022-07-08T20:04:24.319Z"
   },
   {
    "duration": 2,
    "start_time": "2022-07-08T20:04:24.404Z"
   },
   {
    "duration": 7,
    "start_time": "2022-07-08T20:04:24.407Z"
   },
   {
    "duration": 5,
    "start_time": "2022-07-08T20:04:24.416Z"
   },
   {
    "duration": 43,
    "start_time": "2022-07-08T20:04:24.422Z"
   },
   {
    "duration": 209,
    "start_time": "2022-07-08T20:04:24.467Z"
   },
   {
    "duration": 3,
    "start_time": "2022-07-08T20:04:24.678Z"
   },
   {
    "duration": 61527,
    "start_time": "2022-07-08T20:04:24.682Z"
   },
   {
    "duration": 3,
    "start_time": "2022-07-08T20:05:26.211Z"
   },
   {
    "duration": 8,
    "start_time": "2022-07-08T20:05:26.215Z"
   },
   {
    "duration": 3157,
    "start_time": "2022-07-08T20:05:26.224Z"
   },
   {
    "duration": 104316,
    "start_time": "2022-07-08T20:05:29.383Z"
   },
   {
    "duration": 3398767,
    "start_time": "2022-07-08T20:07:41.500Z"
   },
   {
    "duration": 2224,
    "start_time": "2022-07-09T04:18:28.595Z"
   },
   {
    "duration": 2403,
    "start_time": "2022-07-09T04:18:30.821Z"
   },
   {
    "duration": 103,
    "start_time": "2022-07-09T04:18:33.225Z"
   },
   {
    "duration": 3,
    "start_time": "2022-07-09T04:18:33.330Z"
   },
   {
    "duration": 4,
    "start_time": "2022-07-09T04:18:33.335Z"
   },
   {
    "duration": 5,
    "start_time": "2022-07-09T04:18:33.340Z"
   },
   {
    "duration": 44,
    "start_time": "2022-07-09T04:18:33.347Z"
   },
   {
    "duration": 84679,
    "start_time": "2022-07-09T04:18:33.392Z"
   },
   {
    "duration": 9,
    "start_time": "2022-07-09T04:19:58.072Z"
   },
   {
    "duration": 22,
    "start_time": "2022-07-09T04:19:58.082Z"
   },
   {
    "duration": 4,
    "start_time": "2022-07-09T04:19:58.105Z"
   },
   {
    "duration": 6,
    "start_time": "2022-07-09T04:19:58.110Z"
   },
   {
    "duration": 6,
    "start_time": "2022-07-09T04:19:58.117Z"
   },
   {
    "duration": 66,
    "start_time": "2022-07-09T04:19:58.125Z"
   },
   {
    "duration": 4,
    "start_time": "2022-07-09T04:19:58.193Z"
   },
   {
    "duration": 5,
    "start_time": "2022-07-09T04:19:58.198Z"
   },
   {
    "duration": 5,
    "start_time": "2022-07-09T04:19:58.204Z"
   },
   {
    "duration": 18,
    "start_time": "2022-07-09T04:19:58.211Z"
   },
   {
    "duration": 172,
    "start_time": "2022-07-09T04:19:58.231Z"
   },
   {
    "duration": 4,
    "start_time": "2022-07-09T04:19:58.405Z"
   },
   {
    "duration": 37274,
    "start_time": "2022-07-09T04:19:58.410Z"
   },
   {
    "duration": 2,
    "start_time": "2022-07-09T04:20:35.686Z"
   },
   {
    "duration": 8,
    "start_time": "2022-07-09T04:20:35.690Z"
   },
   {
    "duration": 2078,
    "start_time": "2022-07-09T04:20:35.699Z"
   },
   {
    "duration": 86542,
    "start_time": "2022-07-09T04:20:37.779Z"
   },
   {
    "duration": 85567,
    "start_time": "2022-07-09T04:22:04.323Z"
   },
   {
    "duration": 1516,
    "start_time": "2022-07-09T04:48:15.671Z"
   },
   {
    "duration": 767,
    "start_time": "2022-07-09T04:48:17.189Z"
   },
   {
    "duration": 120,
    "start_time": "2022-07-09T04:48:17.958Z"
   },
   {
    "duration": 4,
    "start_time": "2022-07-09T04:48:18.080Z"
   },
   {
    "duration": 11,
    "start_time": "2022-07-09T04:48:18.086Z"
   },
   {
    "duration": 21,
    "start_time": "2022-07-09T04:48:18.098Z"
   },
   {
    "duration": 49,
    "start_time": "2022-07-09T04:48:18.120Z"
   },
   {
    "duration": 84977,
    "start_time": "2022-07-09T04:48:18.170Z"
   },
   {
    "duration": 9,
    "start_time": "2022-07-09T04:49:43.149Z"
   },
   {
    "duration": 21,
    "start_time": "2022-07-09T04:49:43.165Z"
   },
   {
    "duration": 6,
    "start_time": "2022-07-09T04:49:43.188Z"
   },
   {
    "duration": 4,
    "start_time": "2022-07-09T04:49:43.195Z"
   },
   {
    "duration": 70,
    "start_time": "2022-07-09T04:49:43.201Z"
   },
   {
    "duration": 2,
    "start_time": "2022-07-09T04:49:43.274Z"
   },
   {
    "duration": 19,
    "start_time": "2022-07-09T04:49:43.278Z"
   },
   {
    "duration": 118,
    "start_time": "2022-07-09T04:49:43.298Z"
   },
   {
    "duration": 2,
    "start_time": "2022-07-09T04:49:43.418Z"
   },
   {
    "duration": 36873,
    "start_time": "2022-07-09T04:49:43.421Z"
   },
   {
    "duration": 2075,
    "start_time": "2022-07-09T04:50:20.296Z"
   },
   {
    "duration": 2642331,
    "start_time": "2022-07-09T04:50:22.373Z"
   },
   {
    "duration": 84590,
    "start_time": "2022-07-09T05:35:26.943Z"
   },
   {
    "duration": 707630,
    "start_time": "2022-07-09T05:42:08.456Z"
   },
   {
    "duration": 97,
    "start_time": "2022-07-09T05:57:46.449Z"
   },
   {
    "duration": 1993,
    "start_time": "2022-07-09T05:58:15.942Z"
   },
   {
    "duration": 2379,
    "start_time": "2022-07-09T05:58:17.937Z"
   },
   {
    "duration": 118,
    "start_time": "2022-07-09T05:58:20.318Z"
   },
   {
    "duration": 6,
    "start_time": "2022-07-09T05:58:20.438Z"
   },
   {
    "duration": 10,
    "start_time": "2022-07-09T05:58:20.447Z"
   },
   {
    "duration": 11,
    "start_time": "2022-07-09T05:58:20.458Z"
   },
   {
    "duration": 42,
    "start_time": "2022-07-09T05:58:20.471Z"
   },
   {
    "duration": 86060,
    "start_time": "2022-07-09T05:58:20.515Z"
   },
   {
    "duration": 9,
    "start_time": "2022-07-09T05:59:46.577Z"
   },
   {
    "duration": 22,
    "start_time": "2022-07-09T05:59:46.588Z"
   },
   {
    "duration": 5,
    "start_time": "2022-07-09T05:59:46.612Z"
   },
   {
    "duration": 5,
    "start_time": "2022-07-09T05:59:46.619Z"
   },
   {
    "duration": 61,
    "start_time": "2022-07-09T05:59:46.626Z"
   },
   {
    "duration": 2,
    "start_time": "2022-07-09T05:59:46.690Z"
   },
   {
    "duration": 20,
    "start_time": "2022-07-09T05:59:46.694Z"
   },
   {
    "duration": 158,
    "start_time": "2022-07-09T05:59:46.716Z"
   },
   {
    "duration": 3,
    "start_time": "2022-07-09T05:59:46.875Z"
   },
   {
    "duration": 38479,
    "start_time": "2022-07-09T05:59:46.880Z"
   },
   {
    "duration": 2142,
    "start_time": "2022-07-09T06:00:45.927Z"
   },
   {
    "duration": 2012,
    "start_time": "2022-07-09T06:10:42.913Z"
   },
   {
    "duration": 2370,
    "start_time": "2022-07-09T06:10:44.927Z"
   },
   {
    "duration": 109,
    "start_time": "2022-07-09T06:10:47.298Z"
   },
   {
    "duration": 4,
    "start_time": "2022-07-09T06:10:47.408Z"
   },
   {
    "duration": 18,
    "start_time": "2022-07-09T06:10:47.414Z"
   },
   {
    "duration": 12,
    "start_time": "2022-07-09T06:10:47.434Z"
   },
   {
    "duration": 46,
    "start_time": "2022-07-09T06:10:47.448Z"
   },
   {
    "duration": 73451,
    "start_time": "2022-07-09T06:10:47.495Z"
   },
   {
    "duration": 19,
    "start_time": "2022-07-09T06:12:00.948Z"
   },
   {
    "duration": 27,
    "start_time": "2022-07-09T06:12:00.969Z"
   },
   {
    "duration": 15,
    "start_time": "2022-07-09T06:12:00.999Z"
   },
   {
    "duration": 13,
    "start_time": "2022-07-09T06:12:01.016Z"
   },
   {
    "duration": 40,
    "start_time": "2022-07-09T06:12:01.031Z"
   },
   {
    "duration": 3,
    "start_time": "2022-07-09T06:12:01.074Z"
   },
   {
    "duration": 33,
    "start_time": "2022-07-09T06:12:01.078Z"
   },
   {
    "duration": 207,
    "start_time": "2022-07-09T06:12:01.113Z"
   },
   {
    "duration": 3,
    "start_time": "2022-07-09T06:12:01.322Z"
   },
   {
    "duration": 29666,
    "start_time": "2022-07-09T06:12:01.327Z"
   },
   {
    "duration": 1781,
    "start_time": "2022-07-09T06:12:30.995Z"
   },
   {
    "duration": 2046,
    "start_time": "2022-07-09T06:18:44.690Z"
   },
   {
    "duration": 2378,
    "start_time": "2022-07-09T06:18:46.737Z"
   },
   {
    "duration": 121,
    "start_time": "2022-07-09T06:18:49.116Z"
   },
   {
    "duration": 46,
    "start_time": "2022-07-09T06:18:49.239Z"
   },
   {
    "duration": 46,
    "start_time": "2022-07-09T06:18:49.287Z"
   },
   {
    "duration": 42,
    "start_time": "2022-07-09T06:18:49.335Z"
   },
   {
    "duration": 61,
    "start_time": "2022-07-09T06:18:49.379Z"
   },
   {
    "duration": 60486,
    "start_time": "2022-07-09T06:18:49.442Z"
   },
   {
    "duration": 9,
    "start_time": "2022-07-09T06:19:49.929Z"
   },
   {
    "duration": 28,
    "start_time": "2022-07-09T06:19:49.940Z"
   },
   {
    "duration": 5,
    "start_time": "2022-07-09T06:19:49.970Z"
   },
   {
    "duration": 5,
    "start_time": "2022-07-09T06:19:49.976Z"
   },
   {
    "duration": 27,
    "start_time": "2022-07-09T06:19:49.982Z"
   },
   {
    "duration": 2,
    "start_time": "2022-07-09T06:19:50.011Z"
   },
   {
    "duration": 24,
    "start_time": "2022-07-09T06:19:50.014Z"
   },
   {
    "duration": 159,
    "start_time": "2022-07-09T06:19:50.040Z"
   },
   {
    "duration": 2,
    "start_time": "2022-07-09T06:19:50.201Z"
   },
   {
    "duration": 22346,
    "start_time": "2022-07-09T06:19:50.204Z"
   },
   {
    "duration": 1323,
    "start_time": "2022-07-09T06:20:12.552Z"
   },
   {
    "duration": 112960,
    "start_time": "2022-07-09T06:21:30.158Z"
   },
   {
    "duration": 2166,
    "start_time": "2022-07-09T06:33:37.049Z"
   },
   {
    "duration": 2351,
    "start_time": "2022-07-09T06:33:39.217Z"
   },
   {
    "duration": 113,
    "start_time": "2022-07-09T06:33:41.569Z"
   },
   {
    "duration": 2,
    "start_time": "2022-07-09T06:33:41.684Z"
   },
   {
    "duration": 8,
    "start_time": "2022-07-09T06:33:41.687Z"
   },
   {
    "duration": 8,
    "start_time": "2022-07-09T06:33:41.696Z"
   },
   {
    "duration": 35,
    "start_time": "2022-07-09T06:33:41.705Z"
   },
   {
    "duration": 61018,
    "start_time": "2022-07-09T06:33:41.742Z"
   },
   {
    "duration": 10,
    "start_time": "2022-07-09T06:34:42.764Z"
   },
   {
    "duration": 19,
    "start_time": "2022-07-09T06:34:42.777Z"
   },
   {
    "duration": 6,
    "start_time": "2022-07-09T06:34:42.798Z"
   },
   {
    "duration": 5,
    "start_time": "2022-07-09T06:34:42.806Z"
   },
   {
    "duration": 58,
    "start_time": "2022-07-09T06:34:42.813Z"
   },
   {
    "duration": 3,
    "start_time": "2022-07-09T06:34:42.873Z"
   },
   {
    "duration": 16,
    "start_time": "2022-07-09T06:34:42.878Z"
   },
   {
    "duration": 155,
    "start_time": "2022-07-09T06:34:42.895Z"
   },
   {
    "duration": 2,
    "start_time": "2022-07-09T06:34:43.052Z"
   },
   {
    "duration": 22216,
    "start_time": "2022-07-09T06:34:43.056Z"
   },
   {
    "duration": 1292,
    "start_time": "2022-07-09T06:35:05.273Z"
   },
   {
    "duration": 2373,
    "start_time": "2022-07-09T06:54:00.172Z"
   },
   {
    "duration": 2405,
    "start_time": "2022-07-09T06:54:02.548Z"
   },
   {
    "duration": 110,
    "start_time": "2022-07-09T06:54:04.954Z"
   },
   {
    "duration": 21,
    "start_time": "2022-07-09T06:54:05.066Z"
   },
   {
    "duration": 15,
    "start_time": "2022-07-09T06:54:05.089Z"
   },
   {
    "duration": 28,
    "start_time": "2022-07-09T06:54:05.105Z"
   },
   {
    "duration": 29,
    "start_time": "2022-07-09T06:54:05.135Z"
   },
   {
    "duration": 48796,
    "start_time": "2022-07-09T06:54:05.166Z"
   },
   {
    "duration": 9,
    "start_time": "2022-07-09T06:54:53.964Z"
   },
   {
    "duration": 19,
    "start_time": "2022-07-09T06:54:53.975Z"
   },
   {
    "duration": 5,
    "start_time": "2022-07-09T06:54:53.996Z"
   },
   {
    "duration": 5,
    "start_time": "2022-07-09T06:54:54.002Z"
   },
   {
    "duration": 23,
    "start_time": "2022-07-09T06:54:54.008Z"
   },
   {
    "duration": 31,
    "start_time": "2022-07-09T06:54:54.033Z"
   },
   {
    "duration": 14,
    "start_time": "2022-07-09T06:54:54.065Z"
   },
   {
    "duration": 132,
    "start_time": "2022-07-09T06:54:54.081Z"
   },
   {
    "duration": 3,
    "start_time": "2022-07-09T06:54:54.215Z"
   },
   {
    "duration": 17473,
    "start_time": "2022-07-09T06:54:54.220Z"
   },
   {
    "duration": 1177,
    "start_time": "2022-07-09T06:55:11.694Z"
   },
   {
    "duration": 1925,
    "start_time": "2022-07-09T07:05:35.888Z"
   },
   {
    "duration": 2458,
    "start_time": "2022-07-09T07:05:37.815Z"
   },
   {
    "duration": 119,
    "start_time": "2022-07-09T07:05:40.275Z"
   },
   {
    "duration": 2,
    "start_time": "2022-07-09T07:05:40.396Z"
   },
   {
    "duration": 19,
    "start_time": "2022-07-09T07:05:40.400Z"
   },
   {
    "duration": 26,
    "start_time": "2022-07-09T07:05:40.421Z"
   },
   {
    "duration": 30,
    "start_time": "2022-07-09T07:05:40.450Z"
   },
   {
    "duration": 49175,
    "start_time": "2022-07-09T07:05:40.481Z"
   },
   {
    "duration": 12,
    "start_time": "2022-07-09T07:06:29.658Z"
   },
   {
    "duration": 16,
    "start_time": "2022-07-09T07:06:29.672Z"
   },
   {
    "duration": 5,
    "start_time": "2022-07-09T07:06:29.689Z"
   },
   {
    "duration": 5,
    "start_time": "2022-07-09T07:06:29.695Z"
   },
   {
    "duration": 23,
    "start_time": "2022-07-09T07:06:29.701Z"
   },
   {
    "duration": 2,
    "start_time": "2022-07-09T07:06:29.726Z"
   },
   {
    "duration": 38,
    "start_time": "2022-07-09T07:06:29.730Z"
   },
   {
    "duration": 205,
    "start_time": "2022-07-09T07:06:29.769Z"
   },
   {
    "duration": 3,
    "start_time": "2022-07-09T07:06:29.976Z"
   },
   {
    "duration": 17262,
    "start_time": "2022-07-09T07:06:29.980Z"
   },
   {
    "duration": 1220,
    "start_time": "2022-07-09T07:06:47.244Z"
   },
   {
    "duration": 59858,
    "start_time": "2022-07-09T07:07:59.634Z"
   },
   {
    "duration": 2428680,
    "start_time": "2022-07-09T07:13:00.322Z"
   },
   {
    "duration": 5,
    "start_time": "2022-07-09T07:58:27.769Z"
   },
   {
    "duration": 674,
    "start_time": "2022-07-09T07:58:27.776Z"
   },
   {
    "duration": 33,
    "start_time": "2022-07-09T07:58:28.452Z"
   },
   {
    "duration": 2,
    "start_time": "2022-07-09T07:58:28.487Z"
   },
   {
    "duration": 9,
    "start_time": "2022-07-09T07:58:28.491Z"
   },
   {
    "duration": 8,
    "start_time": "2022-07-09T07:58:28.502Z"
   },
   {
    "duration": 36,
    "start_time": "2022-07-09T07:58:28.511Z"
   },
   {
    "duration": 97646,
    "start_time": "2022-07-09T07:58:28.549Z"
   },
   {
    "duration": 9,
    "start_time": "2022-07-09T08:00:06.197Z"
   },
   {
    "duration": 35,
    "start_time": "2022-07-09T08:00:06.207Z"
   },
   {
    "duration": 7,
    "start_time": "2022-07-09T08:00:06.244Z"
   },
   {
    "duration": 6,
    "start_time": "2022-07-09T08:00:06.263Z"
   },
   {
    "duration": 44,
    "start_time": "2022-07-09T08:00:06.271Z"
   },
   {
    "duration": 2,
    "start_time": "2022-07-09T08:00:06.319Z"
   },
   {
    "duration": 32,
    "start_time": "2022-07-09T08:00:06.323Z"
   },
   {
    "duration": 13,
    "start_time": "2022-07-09T08:00:06.364Z"
   },
   {
    "duration": 182,
    "start_time": "2022-07-09T08:00:06.378Z"
   },
   {
    "duration": 43927,
    "start_time": "2022-07-09T08:00:06.562Z"
   },
   {
    "duration": 2184,
    "start_time": "2022-07-09T08:00:50.491Z"
   },
   {
    "duration": 6903274,
    "start_time": "2022-07-09T08:00:52.678Z"
   },
   {
    "duration": 10,
    "start_time": "2022-07-09T09:56:54.005Z"
   },
   {
    "duration": 216,
    "start_time": "2022-07-09T09:56:56.310Z"
   }
  ],
  "kernelspec": {
   "display_name": "Python 3 (ipykernel)",
   "language": "python",
   "name": "python3"
  },
  "language_info": {
   "codemirror_mode": {
    "name": "ipython",
    "version": 3
   },
   "file_extension": ".py",
   "mimetype": "text/x-python",
   "name": "python",
   "nbconvert_exporter": "python",
   "pygments_lexer": "ipython3",
   "version": "3.9.7"
  },
  "toc": {
   "base_numbering": 1,
   "nav_menu": {},
   "number_sections": true,
   "sideBar": true,
   "skip_h1_title": true,
   "title_cell": "Содержание",
   "title_sidebar": "Contents",
   "toc_cell": true,
   "toc_position": {
    "height": "calc(100% - 180px)",
    "left": "10px",
    "top": "150px",
    "width": "269.389px"
   },
   "toc_section_display": true,
   "toc_window_display": false
  }
 },
 "nbformat": 4,
 "nbformat_minor": 2
}
