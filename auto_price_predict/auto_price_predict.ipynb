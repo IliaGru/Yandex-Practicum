{
 "cells": [
  {
   "cell_type": "markdown",
   "metadata": {},
   "source": [
    "# Определение стоимости автомобилей"
   ]
  },
  {
   "cell_type": "markdown",
   "metadata": {},
   "source": [
    "Сервис по продаже автомобилей с пробегом «Не бит, не крашен» разрабатывает приложение для привлечения новых клиентов. В нём можно быстро узнать рыночную стоимость своего автомобиля. В вашем распоряжении исторические данные: технические характеристики, комплектации и цены автомобилей. Вам нужно построить модель для определения стоимости. \n",
    "\n",
    "Заказчику важны:\n",
    "\n",
    "- качество предсказания;\n",
    "- скорость предсказания;\n",
    "- время обучения."
   ]
  },
  {
   "cell_type": "markdown",
   "metadata": {},
   "source": [
    "**Описание данных**\n",
    "\n",
    "- Признаки\n",
    "\n",
    "DateCrawled — дата скачивания анкеты из базы\\\n",
    "VehicleType — тип автомобильного кузова\\\n",
    "RegistrationYear — год регистрации автомобиля\\\n",
    "Gearbox — тип коробки передач\\\n",
    "Power — мощность (л. с.)\\\n",
    "Model — модель автомобиля\\\n",
    "Kilometer — пробег (км)\\\n",
    "RegistrationMonth — месяц регистрации автомобиля\\\n",
    "FuelType — тип топлива\\\n",
    "Brand — марка автомобиля\\\n",
    "NotRepaired — была машина в ремонте или нет\\\n",
    "DateCreated — дата создания анкеты\\\n",
    "NumberOfPictures — количество фотографий автомобиля\\\n",
    "PostalCode — почтовый индекс владельца анкеты (пользователя)\\\n",
    "LastSeen — дата последней активности пользователя\n",
    "\n",
    "- Целевой признак\n",
    "\n",
    "Price — цена (евро)"
   ]
  },
  {
   "cell_type": "markdown",
   "metadata": {},
   "source": [
    "## Подготовка данных"
   ]
  },
  {
   "cell_type": "code",
   "execution_count": 1,
   "metadata": {},
   "outputs": [],
   "source": [
    "import pandas as pd\n",
    "import numpy as np\n",
    "import seaborn as sns\n",
    "from matplotlib import pyplot as plt\n",
    "import math\n",
    "\n",
    "from sklearn.model_selection import train_test_split\n",
    "from sklearn.tree import DecisionTreeRegressor\n",
    "from sklearn.ensemble import RandomForestRegressor\n",
    "from sklearn.linear_model import LinearRegression\n",
    "from catboost import CatBoostRegressor\n",
    "from sklearn.dummy import DummyRegressor\n",
    "\n",
    "from sklearn.preprocessing import OrdinalEncoder\n",
    "from sklearn.preprocessing import StandardScaler\n",
    "from sklearn.metrics import mean_squared_error\n",
    "from sklearn.model_selection import GridSearchCV, cross_val_score\n",
    "import lightgbm as lgb\n",
    "\n",
    "from sklearn.metrics import f1_score\n",
    "from sklearn.metrics import r2_score"
   ]
  },
  {
   "cell_type": "code",
   "execution_count": 2,
   "metadata": {},
   "outputs": [
    {
     "data": {
      "text/html": [
       "<div>\n",
       "<style scoped>\n",
       "    .dataframe tbody tr th:only-of-type {\n",
       "        vertical-align: middle;\n",
       "    }\n",
       "\n",
       "    .dataframe tbody tr th {\n",
       "        vertical-align: top;\n",
       "    }\n",
       "\n",
       "    .dataframe thead th {\n",
       "        text-align: right;\n",
       "    }\n",
       "</style>\n",
       "<table border=\"1\" class=\"dataframe\">\n",
       "  <thead>\n",
       "    <tr style=\"text-align: right;\">\n",
       "      <th></th>\n",
       "      <th>DateCrawled</th>\n",
       "      <th>Price</th>\n",
       "      <th>VehicleType</th>\n",
       "      <th>RegistrationYear</th>\n",
       "      <th>Gearbox</th>\n",
       "      <th>Power</th>\n",
       "      <th>Model</th>\n",
       "      <th>Kilometer</th>\n",
       "      <th>RegistrationMonth</th>\n",
       "      <th>FuelType</th>\n",
       "      <th>Brand</th>\n",
       "      <th>NotRepaired</th>\n",
       "      <th>DateCreated</th>\n",
       "      <th>NumberOfPictures</th>\n",
       "      <th>PostalCode</th>\n",
       "      <th>LastSeen</th>\n",
       "    </tr>\n",
       "  </thead>\n",
       "  <tbody>\n",
       "    <tr>\n",
       "      <th>0</th>\n",
       "      <td>2016-03-24 11:52:17</td>\n",
       "      <td>480</td>\n",
       "      <td>NaN</td>\n",
       "      <td>1993</td>\n",
       "      <td>manual</td>\n",
       "      <td>0</td>\n",
       "      <td>golf</td>\n",
       "      <td>150000</td>\n",
       "      <td>0</td>\n",
       "      <td>petrol</td>\n",
       "      <td>volkswagen</td>\n",
       "      <td>NaN</td>\n",
       "      <td>2016-03-24 00:00:00</td>\n",
       "      <td>0</td>\n",
       "      <td>70435</td>\n",
       "      <td>2016-04-07 03:16:57</td>\n",
       "    </tr>\n",
       "    <tr>\n",
       "      <th>1</th>\n",
       "      <td>2016-03-24 10:58:45</td>\n",
       "      <td>18300</td>\n",
       "      <td>coupe</td>\n",
       "      <td>2011</td>\n",
       "      <td>manual</td>\n",
       "      <td>190</td>\n",
       "      <td>NaN</td>\n",
       "      <td>125000</td>\n",
       "      <td>5</td>\n",
       "      <td>gasoline</td>\n",
       "      <td>audi</td>\n",
       "      <td>yes</td>\n",
       "      <td>2016-03-24 00:00:00</td>\n",
       "      <td>0</td>\n",
       "      <td>66954</td>\n",
       "      <td>2016-04-07 01:46:50</td>\n",
       "    </tr>\n",
       "    <tr>\n",
       "      <th>2</th>\n",
       "      <td>2016-03-14 12:52:21</td>\n",
       "      <td>9800</td>\n",
       "      <td>suv</td>\n",
       "      <td>2004</td>\n",
       "      <td>auto</td>\n",
       "      <td>163</td>\n",
       "      <td>grand</td>\n",
       "      <td>125000</td>\n",
       "      <td>8</td>\n",
       "      <td>gasoline</td>\n",
       "      <td>jeep</td>\n",
       "      <td>NaN</td>\n",
       "      <td>2016-03-14 00:00:00</td>\n",
       "      <td>0</td>\n",
       "      <td>90480</td>\n",
       "      <td>2016-04-05 12:47:46</td>\n",
       "    </tr>\n",
       "    <tr>\n",
       "      <th>3</th>\n",
       "      <td>2016-03-17 16:54:04</td>\n",
       "      <td>1500</td>\n",
       "      <td>small</td>\n",
       "      <td>2001</td>\n",
       "      <td>manual</td>\n",
       "      <td>75</td>\n",
       "      <td>golf</td>\n",
       "      <td>150000</td>\n",
       "      <td>6</td>\n",
       "      <td>petrol</td>\n",
       "      <td>volkswagen</td>\n",
       "      <td>no</td>\n",
       "      <td>2016-03-17 00:00:00</td>\n",
       "      <td>0</td>\n",
       "      <td>91074</td>\n",
       "      <td>2016-03-17 17:40:17</td>\n",
       "    </tr>\n",
       "    <tr>\n",
       "      <th>4</th>\n",
       "      <td>2016-03-31 17:25:20</td>\n",
       "      <td>3600</td>\n",
       "      <td>small</td>\n",
       "      <td>2008</td>\n",
       "      <td>manual</td>\n",
       "      <td>69</td>\n",
       "      <td>fabia</td>\n",
       "      <td>90000</td>\n",
       "      <td>7</td>\n",
       "      <td>gasoline</td>\n",
       "      <td>skoda</td>\n",
       "      <td>no</td>\n",
       "      <td>2016-03-31 00:00:00</td>\n",
       "      <td>0</td>\n",
       "      <td>60437</td>\n",
       "      <td>2016-04-06 10:17:21</td>\n",
       "    </tr>\n",
       "  </tbody>\n",
       "</table>\n",
       "</div>"
      ],
      "text/plain": [
       "           DateCrawled  Price VehicleType  RegistrationYear Gearbox  Power  \\\n",
       "0  2016-03-24 11:52:17    480         NaN              1993  manual      0   \n",
       "1  2016-03-24 10:58:45  18300       coupe              2011  manual    190   \n",
       "2  2016-03-14 12:52:21   9800         suv              2004    auto    163   \n",
       "3  2016-03-17 16:54:04   1500       small              2001  manual     75   \n",
       "4  2016-03-31 17:25:20   3600       small              2008  manual     69   \n",
       "\n",
       "   Model  Kilometer  RegistrationMonth  FuelType       Brand NotRepaired  \\\n",
       "0   golf     150000                  0    petrol  volkswagen         NaN   \n",
       "1    NaN     125000                  5  gasoline        audi         yes   \n",
       "2  grand     125000                  8  gasoline        jeep         NaN   \n",
       "3   golf     150000                  6    petrol  volkswagen          no   \n",
       "4  fabia      90000                  7  gasoline       skoda          no   \n",
       "\n",
       "           DateCreated  NumberOfPictures  PostalCode             LastSeen  \n",
       "0  2016-03-24 00:00:00                 0       70435  2016-04-07 03:16:57  \n",
       "1  2016-03-24 00:00:00                 0       66954  2016-04-07 01:46:50  \n",
       "2  2016-03-14 00:00:00                 0       90480  2016-04-05 12:47:46  \n",
       "3  2016-03-17 00:00:00                 0       91074  2016-03-17 17:40:17  \n",
       "4  2016-03-31 00:00:00                 0       60437  2016-04-06 10:17:21  "
      ]
     },
     "execution_count": 2,
     "metadata": {},
     "output_type": "execute_result"
    }
   ],
   "source": [
    "try:\n",
    "    df = pd.read_csv('/datasets/autos.csv')\n",
    "except:\n",
    "    df = pd.read_csv('C:/Users/ilyag/Downloads/autos.csv')\n",
    "df.head()"
   ]
  },
  {
   "cell_type": "code",
   "execution_count": 3,
   "metadata": {},
   "outputs": [
    {
     "name": "stdout",
     "output_type": "stream",
     "text": [
      "<class 'pandas.core.frame.DataFrame'>\n",
      "RangeIndex: 354369 entries, 0 to 354368\n",
      "Data columns (total 16 columns):\n",
      " #   Column             Non-Null Count   Dtype \n",
      "---  ------             --------------   ----- \n",
      " 0   DateCrawled        354369 non-null  object\n",
      " 1   Price              354369 non-null  int64 \n",
      " 2   VehicleType        316879 non-null  object\n",
      " 3   RegistrationYear   354369 non-null  int64 \n",
      " 4   Gearbox            334536 non-null  object\n",
      " 5   Power              354369 non-null  int64 \n",
      " 6   Model              334664 non-null  object\n",
      " 7   Kilometer          354369 non-null  int64 \n",
      " 8   RegistrationMonth  354369 non-null  int64 \n",
      " 9   FuelType           321474 non-null  object\n",
      " 10  Brand              354369 non-null  object\n",
      " 11  NotRepaired        283215 non-null  object\n",
      " 12  DateCreated        354369 non-null  object\n",
      " 13  NumberOfPictures   354369 non-null  int64 \n",
      " 14  PostalCode         354369 non-null  int64 \n",
      " 15  LastSeen           354369 non-null  object\n",
      "dtypes: int64(7), object(9)\n",
      "memory usage: 43.3+ MB\n"
     ]
    }
   ],
   "source": [
    "df.info()"
   ]
  },
  {
   "cell_type": "markdown",
   "metadata": {},
   "source": [
    "В столбцах VehicleType, Gearbox, Model, FuelType, NotRepaired имеются пропущенные значения."
   ]
  },
  {
   "cell_type": "code",
   "execution_count": 4,
   "metadata": {},
   "outputs": [
    {
     "data": {
      "text/plain": [
       "DateCrawled              0\n",
       "Price                    0\n",
       "VehicleType          37490\n",
       "RegistrationYear         0\n",
       "Gearbox              19833\n",
       "Power                    0\n",
       "Model                19705\n",
       "Kilometer                0\n",
       "RegistrationMonth        0\n",
       "FuelType             32895\n",
       "Brand                    0\n",
       "NotRepaired          71154\n",
       "DateCreated              0\n",
       "NumberOfPictures         0\n",
       "PostalCode               0\n",
       "LastSeen                 0\n",
       "dtype: int64"
      ]
     },
     "execution_count": 4,
     "metadata": {},
     "output_type": "execute_result"
    }
   ],
   "source": [
    "# количество пропусков\n",
    "df.isna().sum()"
   ]
  },
  {
   "cell_type": "code",
   "execution_count": 5,
   "metadata": {},
   "outputs": [
    {
     "data": {
      "text/html": [
       "<div>\n",
       "<style scoped>\n",
       "    .dataframe tbody tr th:only-of-type {\n",
       "        vertical-align: middle;\n",
       "    }\n",
       "\n",
       "    .dataframe tbody tr th {\n",
       "        vertical-align: top;\n",
       "    }\n",
       "\n",
       "    .dataframe thead th {\n",
       "        text-align: right;\n",
       "    }\n",
       "</style>\n",
       "<table border=\"1\" class=\"dataframe\">\n",
       "  <thead>\n",
       "    <tr style=\"text-align: right;\">\n",
       "      <th></th>\n",
       "      <th>datecrawled</th>\n",
       "      <th>price</th>\n",
       "      <th>vehicletype</th>\n",
       "      <th>registrationyear</th>\n",
       "      <th>gearbox</th>\n",
       "      <th>power</th>\n",
       "      <th>model</th>\n",
       "      <th>kilometer</th>\n",
       "      <th>registrationmonth</th>\n",
       "      <th>fueltype</th>\n",
       "      <th>brand</th>\n",
       "      <th>notrepaired</th>\n",
       "      <th>datecreated</th>\n",
       "      <th>numberofpictures</th>\n",
       "      <th>postalcode</th>\n",
       "      <th>lastseen</th>\n",
       "    </tr>\n",
       "  </thead>\n",
       "  <tbody>\n",
       "    <tr>\n",
       "      <th>354366</th>\n",
       "      <td>2016-03-05 19:56:21</td>\n",
       "      <td>1199</td>\n",
       "      <td>convertible</td>\n",
       "      <td>2000</td>\n",
       "      <td>auto</td>\n",
       "      <td>101</td>\n",
       "      <td>fortwo</td>\n",
       "      <td>125000</td>\n",
       "      <td>3</td>\n",
       "      <td>petrol</td>\n",
       "      <td>smart</td>\n",
       "      <td>no</td>\n",
       "      <td>2016-03-05 00:00:00</td>\n",
       "      <td>0</td>\n",
       "      <td>26135</td>\n",
       "      <td>2016-03-11 18:17:12</td>\n",
       "    </tr>\n",
       "    <tr>\n",
       "      <th>354367</th>\n",
       "      <td>2016-03-19 18:57:12</td>\n",
       "      <td>9200</td>\n",
       "      <td>bus</td>\n",
       "      <td>1996</td>\n",
       "      <td>manual</td>\n",
       "      <td>102</td>\n",
       "      <td>transporter</td>\n",
       "      <td>150000</td>\n",
       "      <td>3</td>\n",
       "      <td>gasoline</td>\n",
       "      <td>volkswagen</td>\n",
       "      <td>no</td>\n",
       "      <td>2016-03-19 00:00:00</td>\n",
       "      <td>0</td>\n",
       "      <td>87439</td>\n",
       "      <td>2016-04-07 07:15:26</td>\n",
       "    </tr>\n",
       "    <tr>\n",
       "      <th>354368</th>\n",
       "      <td>2016-03-20 19:41:08</td>\n",
       "      <td>3400</td>\n",
       "      <td>wagon</td>\n",
       "      <td>2002</td>\n",
       "      <td>manual</td>\n",
       "      <td>100</td>\n",
       "      <td>golf</td>\n",
       "      <td>150000</td>\n",
       "      <td>6</td>\n",
       "      <td>gasoline</td>\n",
       "      <td>volkswagen</td>\n",
       "      <td>NaN</td>\n",
       "      <td>2016-03-20 00:00:00</td>\n",
       "      <td>0</td>\n",
       "      <td>40764</td>\n",
       "      <td>2016-03-24 12:45:21</td>\n",
       "    </tr>\n",
       "  </tbody>\n",
       "</table>\n",
       "</div>"
      ],
      "text/plain": [
       "                datecrawled  price  vehicletype  registrationyear gearbox  \\\n",
       "354366  2016-03-05 19:56:21   1199  convertible              2000    auto   \n",
       "354367  2016-03-19 18:57:12   9200          bus              1996  manual   \n",
       "354368  2016-03-20 19:41:08   3400        wagon              2002  manual   \n",
       "\n",
       "        power        model  kilometer  registrationmonth  fueltype  \\\n",
       "354366    101       fortwo     125000                  3    petrol   \n",
       "354367    102  transporter     150000                  3  gasoline   \n",
       "354368    100         golf     150000                  6  gasoline   \n",
       "\n",
       "             brand notrepaired          datecreated  numberofpictures  \\\n",
       "354366       smart          no  2016-03-05 00:00:00                 0   \n",
       "354367  volkswagen          no  2016-03-19 00:00:00                 0   \n",
       "354368  volkswagen         NaN  2016-03-20 00:00:00                 0   \n",
       "\n",
       "        postalcode             lastseen  \n",
       "354366       26135  2016-03-11 18:17:12  \n",
       "354367       87439  2016-04-07 07:15:26  \n",
       "354368       40764  2016-03-24 12:45:21  "
      ]
     },
     "execution_count": 5,
     "metadata": {},
     "output_type": "execute_result"
    }
   ],
   "source": [
    "# приведение строк к нижнему регистру\n",
    "df.columns = df.columns.str.lower()\n",
    "df.tail(3)"
   ]
  },
  {
   "cell_type": "code",
   "execution_count": 6,
   "metadata": {
    "scrolled": true
   },
   "outputs": [
    {
     "data": {
      "text/html": [
       "<div>\n",
       "<style scoped>\n",
       "    .dataframe tbody tr th:only-of-type {\n",
       "        vertical-align: middle;\n",
       "    }\n",
       "\n",
       "    .dataframe tbody tr th {\n",
       "        vertical-align: top;\n",
       "    }\n",
       "\n",
       "    .dataframe thead th {\n",
       "        text-align: right;\n",
       "    }\n",
       "</style>\n",
       "<table border=\"1\" class=\"dataframe\">\n",
       "  <thead>\n",
       "    <tr style=\"text-align: right;\">\n",
       "      <th></th>\n",
       "      <th>datecrawled</th>\n",
       "      <th>price</th>\n",
       "      <th>vehicletype</th>\n",
       "      <th>registrationyear</th>\n",
       "      <th>gearbox</th>\n",
       "      <th>power</th>\n",
       "      <th>model</th>\n",
       "      <th>kilometer</th>\n",
       "      <th>registrationmonth</th>\n",
       "      <th>fueltype</th>\n",
       "      <th>brand</th>\n",
       "      <th>notrepaired</th>\n",
       "      <th>datecreated</th>\n",
       "      <th>numberofpictures</th>\n",
       "      <th>postalcode</th>\n",
       "      <th>lastseen</th>\n",
       "    </tr>\n",
       "  </thead>\n",
       "  <tbody>\n",
       "    <tr>\n",
       "      <th>171088</th>\n",
       "      <td>2016-03-08 18:42:48</td>\n",
       "      <td>1799</td>\n",
       "      <td>coupe</td>\n",
       "      <td>1999</td>\n",
       "      <td>auto</td>\n",
       "      <td>193</td>\n",
       "      <td>clk</td>\n",
       "      <td>20000</td>\n",
       "      <td>7</td>\n",
       "      <td>petrol</td>\n",
       "      <td>mercedes_benz</td>\n",
       "      <td>no</td>\n",
       "      <td>2016-03-08 00:00:00</td>\n",
       "      <td>0</td>\n",
       "      <td>89518</td>\n",
       "      <td>2016-03-09 09:46:57</td>\n",
       "    </tr>\n",
       "    <tr>\n",
       "      <th>231258</th>\n",
       "      <td>2016-03-28 00:56:10</td>\n",
       "      <td>1000</td>\n",
       "      <td>small</td>\n",
       "      <td>2002</td>\n",
       "      <td>manual</td>\n",
       "      <td>83</td>\n",
       "      <td>other</td>\n",
       "      <td>150000</td>\n",
       "      <td>1</td>\n",
       "      <td>petrol</td>\n",
       "      <td>suzuki</td>\n",
       "      <td>no</td>\n",
       "      <td>2016-03-28 00:00:00</td>\n",
       "      <td>0</td>\n",
       "      <td>66589</td>\n",
       "      <td>2016-03-28 08:46:21</td>\n",
       "    </tr>\n",
       "    <tr>\n",
       "      <th>258109</th>\n",
       "      <td>2016-04-03 09:01:15</td>\n",
       "      <td>4699</td>\n",
       "      <td>coupe</td>\n",
       "      <td>2003</td>\n",
       "      <td>auto</td>\n",
       "      <td>218</td>\n",
       "      <td>clk</td>\n",
       "      <td>125000</td>\n",
       "      <td>6</td>\n",
       "      <td>petrol</td>\n",
       "      <td>mercedes_benz</td>\n",
       "      <td>yes</td>\n",
       "      <td>2016-04-03 00:00:00</td>\n",
       "      <td>0</td>\n",
       "      <td>75196</td>\n",
       "      <td>2016-04-07 09:44:54</td>\n",
       "    </tr>\n",
       "    <tr>\n",
       "      <th>325651</th>\n",
       "      <td>2016-03-18 18:46:15</td>\n",
       "      <td>1999</td>\n",
       "      <td>wagon</td>\n",
       "      <td>2001</td>\n",
       "      <td>manual</td>\n",
       "      <td>131</td>\n",
       "      <td>passat</td>\n",
       "      <td>150000</td>\n",
       "      <td>7</td>\n",
       "      <td>gasoline</td>\n",
       "      <td>volkswagen</td>\n",
       "      <td>no</td>\n",
       "      <td>2016-03-18 00:00:00</td>\n",
       "      <td>0</td>\n",
       "      <td>36391</td>\n",
       "      <td>2016-03-18 18:46:15</td>\n",
       "    </tr>\n",
       "  </tbody>\n",
       "</table>\n",
       "</div>"
      ],
      "text/plain": [
       "                datecrawled  price vehicletype  registrationyear gearbox  \\\n",
       "171088  2016-03-08 18:42:48   1799       coupe              1999    auto   \n",
       "231258  2016-03-28 00:56:10   1000       small              2002  manual   \n",
       "258109  2016-04-03 09:01:15   4699       coupe              2003    auto   \n",
       "325651  2016-03-18 18:46:15   1999       wagon              2001  manual   \n",
       "\n",
       "        power   model  kilometer  registrationmonth  fueltype          brand  \\\n",
       "171088    193     clk      20000                  7    petrol  mercedes_benz   \n",
       "231258     83   other     150000                  1    petrol         suzuki   \n",
       "258109    218     clk     125000                  6    petrol  mercedes_benz   \n",
       "325651    131  passat     150000                  7  gasoline     volkswagen   \n",
       "\n",
       "       notrepaired          datecreated  numberofpictures  postalcode  \\\n",
       "171088          no  2016-03-08 00:00:00                 0       89518   \n",
       "231258          no  2016-03-28 00:00:00                 0       66589   \n",
       "258109         yes  2016-04-03 00:00:00                 0       75196   \n",
       "325651          no  2016-03-18 00:00:00                 0       36391   \n",
       "\n",
       "                   lastseen  \n",
       "171088  2016-03-09 09:46:57  \n",
       "231258  2016-03-28 08:46:21  \n",
       "258109  2016-04-07 09:44:54  \n",
       "325651  2016-03-18 18:46:15  "
      ]
     },
     "execution_count": 6,
     "metadata": {},
     "output_type": "execute_result"
    }
   ],
   "source": [
    "# поиск явных дубликатов\n",
    "df.loc[df.duplicated()==True]"
   ]
  },
  {
   "cell_type": "markdown",
   "metadata": {},
   "source": [
    "Удалим обнаруженные дубликаты."
   ]
  },
  {
   "cell_type": "code",
   "execution_count": 7,
   "metadata": {},
   "outputs": [],
   "source": [
    "df = df.drop_duplicates()"
   ]
  },
  {
   "cell_type": "markdown",
   "metadata": {},
   "source": [
    "Заполним пропущенные категориальные значения столбцов на unknown."
   ]
  },
  {
   "cell_type": "code",
   "execution_count": 8,
   "metadata": {},
   "outputs": [],
   "source": [
    "list_isna = ['vehicletype', 'gearbox', 'model', 'fueltype', 'notrepaired']\n",
    "\n",
    "for element in list_isna:\n",
    "    df[element] = df[element].fillna('unknown')"
   ]
  },
  {
   "cell_type": "code",
   "execution_count": 9,
   "metadata": {},
   "outputs": [],
   "source": [
    "# df['vehicletype'] = (df.groupby(['brand', 'model'])['vehicletype']\n",
    "#                      .transform(lambda x: x.fillna(value=(x.mode()[0] if not x.mode().empty else 'unknown'))))"
   ]
  },
  {
   "cell_type": "code",
   "execution_count": 10,
   "metadata": {},
   "outputs": [
    {
     "data": {
      "text/plain": [
       "0    354365\n",
       "Name: numberofpictures, dtype: int64"
      ]
     },
     "execution_count": 10,
     "metadata": {},
     "output_type": "execute_result"
    }
   ],
   "source": [
    "df.numberofpictures.value_counts()"
   ]
  },
  {
   "cell_type": "markdown",
   "metadata": {},
   "source": [
    "В столбце numberofpictures (количество фотографий) фото отсутствуют во всех объектах."
   ]
  },
  {
   "cell_type": "markdown",
   "metadata": {},
   "source": [
    "Удалим ненужные для последующего обучения модели столбцы datecrawled, registrationmonth, datecreated, numberofpictures, postalcode, lastseen."
   ]
  },
  {
   "cell_type": "code",
   "execution_count": 11,
   "metadata": {},
   "outputs": [
    {
     "data": {
      "text/html": [
       "<div>\n",
       "<style scoped>\n",
       "    .dataframe tbody tr th:only-of-type {\n",
       "        vertical-align: middle;\n",
       "    }\n",
       "\n",
       "    .dataframe tbody tr th {\n",
       "        vertical-align: top;\n",
       "    }\n",
       "\n",
       "    .dataframe thead th {\n",
       "        text-align: right;\n",
       "    }\n",
       "</style>\n",
       "<table border=\"1\" class=\"dataframe\">\n",
       "  <thead>\n",
       "    <tr style=\"text-align: right;\">\n",
       "      <th></th>\n",
       "      <th>price</th>\n",
       "      <th>vehicletype</th>\n",
       "      <th>registrationyear</th>\n",
       "      <th>gearbox</th>\n",
       "      <th>power</th>\n",
       "      <th>model</th>\n",
       "      <th>kilometer</th>\n",
       "      <th>fueltype</th>\n",
       "      <th>brand</th>\n",
       "      <th>notrepaired</th>\n",
       "    </tr>\n",
       "  </thead>\n",
       "  <tbody>\n",
       "    <tr>\n",
       "      <th>0</th>\n",
       "      <td>480</td>\n",
       "      <td>unknown</td>\n",
       "      <td>1993</td>\n",
       "      <td>manual</td>\n",
       "      <td>0</td>\n",
       "      <td>golf</td>\n",
       "      <td>150000</td>\n",
       "      <td>petrol</td>\n",
       "      <td>volkswagen</td>\n",
       "      <td>unknown</td>\n",
       "    </tr>\n",
       "    <tr>\n",
       "      <th>1</th>\n",
       "      <td>18300</td>\n",
       "      <td>coupe</td>\n",
       "      <td>2011</td>\n",
       "      <td>manual</td>\n",
       "      <td>190</td>\n",
       "      <td>unknown</td>\n",
       "      <td>125000</td>\n",
       "      <td>gasoline</td>\n",
       "      <td>audi</td>\n",
       "      <td>yes</td>\n",
       "    </tr>\n",
       "    <tr>\n",
       "      <th>2</th>\n",
       "      <td>9800</td>\n",
       "      <td>suv</td>\n",
       "      <td>2004</td>\n",
       "      <td>auto</td>\n",
       "      <td>163</td>\n",
       "      <td>grand</td>\n",
       "      <td>125000</td>\n",
       "      <td>gasoline</td>\n",
       "      <td>jeep</td>\n",
       "      <td>unknown</td>\n",
       "    </tr>\n",
       "    <tr>\n",
       "      <th>3</th>\n",
       "      <td>1500</td>\n",
       "      <td>small</td>\n",
       "      <td>2001</td>\n",
       "      <td>manual</td>\n",
       "      <td>75</td>\n",
       "      <td>golf</td>\n",
       "      <td>150000</td>\n",
       "      <td>petrol</td>\n",
       "      <td>volkswagen</td>\n",
       "      <td>no</td>\n",
       "    </tr>\n",
       "    <tr>\n",
       "      <th>4</th>\n",
       "      <td>3600</td>\n",
       "      <td>small</td>\n",
       "      <td>2008</td>\n",
       "      <td>manual</td>\n",
       "      <td>69</td>\n",
       "      <td>fabia</td>\n",
       "      <td>90000</td>\n",
       "      <td>gasoline</td>\n",
       "      <td>skoda</td>\n",
       "      <td>no</td>\n",
       "    </tr>\n",
       "    <tr>\n",
       "      <th>...</th>\n",
       "      <td>...</td>\n",
       "      <td>...</td>\n",
       "      <td>...</td>\n",
       "      <td>...</td>\n",
       "      <td>...</td>\n",
       "      <td>...</td>\n",
       "      <td>...</td>\n",
       "      <td>...</td>\n",
       "      <td>...</td>\n",
       "      <td>...</td>\n",
       "    </tr>\n",
       "    <tr>\n",
       "      <th>354364</th>\n",
       "      <td>0</td>\n",
       "      <td>unknown</td>\n",
       "      <td>2005</td>\n",
       "      <td>manual</td>\n",
       "      <td>0</td>\n",
       "      <td>colt</td>\n",
       "      <td>150000</td>\n",
       "      <td>petrol</td>\n",
       "      <td>mitsubishi</td>\n",
       "      <td>yes</td>\n",
       "    </tr>\n",
       "    <tr>\n",
       "      <th>354365</th>\n",
       "      <td>2200</td>\n",
       "      <td>unknown</td>\n",
       "      <td>2005</td>\n",
       "      <td>unknown</td>\n",
       "      <td>0</td>\n",
       "      <td>unknown</td>\n",
       "      <td>20000</td>\n",
       "      <td>unknown</td>\n",
       "      <td>sonstige_autos</td>\n",
       "      <td>unknown</td>\n",
       "    </tr>\n",
       "    <tr>\n",
       "      <th>354366</th>\n",
       "      <td>1199</td>\n",
       "      <td>convertible</td>\n",
       "      <td>2000</td>\n",
       "      <td>auto</td>\n",
       "      <td>101</td>\n",
       "      <td>fortwo</td>\n",
       "      <td>125000</td>\n",
       "      <td>petrol</td>\n",
       "      <td>smart</td>\n",
       "      <td>no</td>\n",
       "    </tr>\n",
       "    <tr>\n",
       "      <th>354367</th>\n",
       "      <td>9200</td>\n",
       "      <td>bus</td>\n",
       "      <td>1996</td>\n",
       "      <td>manual</td>\n",
       "      <td>102</td>\n",
       "      <td>transporter</td>\n",
       "      <td>150000</td>\n",
       "      <td>gasoline</td>\n",
       "      <td>volkswagen</td>\n",
       "      <td>no</td>\n",
       "    </tr>\n",
       "    <tr>\n",
       "      <th>354368</th>\n",
       "      <td>3400</td>\n",
       "      <td>wagon</td>\n",
       "      <td>2002</td>\n",
       "      <td>manual</td>\n",
       "      <td>100</td>\n",
       "      <td>golf</td>\n",
       "      <td>150000</td>\n",
       "      <td>gasoline</td>\n",
       "      <td>volkswagen</td>\n",
       "      <td>unknown</td>\n",
       "    </tr>\n",
       "  </tbody>\n",
       "</table>\n",
       "<p>354365 rows × 10 columns</p>\n",
       "</div>"
      ],
      "text/plain": [
       "        price  vehicletype  registrationyear  gearbox  power        model  \\\n",
       "0         480      unknown              1993   manual      0         golf   \n",
       "1       18300        coupe              2011   manual    190      unknown   \n",
       "2        9800          suv              2004     auto    163        grand   \n",
       "3        1500        small              2001   manual     75         golf   \n",
       "4        3600        small              2008   manual     69        fabia   \n",
       "...       ...          ...               ...      ...    ...          ...   \n",
       "354364      0      unknown              2005   manual      0         colt   \n",
       "354365   2200      unknown              2005  unknown      0      unknown   \n",
       "354366   1199  convertible              2000     auto    101       fortwo   \n",
       "354367   9200          bus              1996   manual    102  transporter   \n",
       "354368   3400        wagon              2002   manual    100         golf   \n",
       "\n",
       "        kilometer  fueltype           brand notrepaired  \n",
       "0          150000    petrol      volkswagen     unknown  \n",
       "1          125000  gasoline            audi         yes  \n",
       "2          125000  gasoline            jeep     unknown  \n",
       "3          150000    petrol      volkswagen          no  \n",
       "4           90000  gasoline           skoda          no  \n",
       "...           ...       ...             ...         ...  \n",
       "354364     150000    petrol      mitsubishi         yes  \n",
       "354365      20000   unknown  sonstige_autos     unknown  \n",
       "354366     125000    petrol           smart          no  \n",
       "354367     150000  gasoline      volkswagen          no  \n",
       "354368     150000  gasoline      volkswagen     unknown  \n",
       "\n",
       "[354365 rows x 10 columns]"
      ]
     },
     "execution_count": 11,
     "metadata": {},
     "output_type": "execute_result"
    }
   ],
   "source": [
    "df = df.drop(['datecrawled', 'registrationmonth', 'datecreated', 'numberofpictures', 'postalcode', 'lastseen'], axis=1)\n",
    "df"
   ]
  },
  {
   "cell_type": "code",
   "execution_count": 12,
   "metadata": {
    "scrolled": false
   },
   "outputs": [
    {
     "data": {
      "image/png": "[encoded data removed]",
      "text/plain": [
       "<Figure size 1152x648 with 1 Axes>"
      ]
     },
     "metadata": {
      "needs_background": "light"
     },
     "output_type": "display_data"
    }
   ],
   "source": [
    "plt.figure(figsize=(16,9))\n",
    "plt.title('Гистограмма цены авто')\n",
    "sns.histplot(data=df.price);"
   ]
  },
  {
   "cell_type": "markdown",
   "metadata": {},
   "source": [
    "В данных имеется большое количество авто с аномально низкими ценами. Рассмотрим эти данные."
   ]
  },
  {
   "cell_type": "code",
   "execution_count": 13,
   "metadata": {},
   "outputs": [
    {
     "data": {
      "text/html": [
       "<div>\n",
       "<style scoped>\n",
       "    .dataframe tbody tr th:only-of-type {\n",
       "        vertical-align: middle;\n",
       "    }\n",
       "\n",
       "    .dataframe tbody tr th {\n",
       "        vertical-align: top;\n",
       "    }\n",
       "\n",
       "    .dataframe thead th {\n",
       "        text-align: right;\n",
       "    }\n",
       "</style>\n",
       "<table border=\"1\" class=\"dataframe\">\n",
       "  <thead>\n",
       "    <tr style=\"text-align: right;\">\n",
       "      <th></th>\n",
       "      <th>price</th>\n",
       "      <th>vehicletype</th>\n",
       "      <th>registrationyear</th>\n",
       "      <th>gearbox</th>\n",
       "      <th>power</th>\n",
       "      <th>model</th>\n",
       "      <th>kilometer</th>\n",
       "      <th>fueltype</th>\n",
       "      <th>brand</th>\n",
       "      <th>notrepaired</th>\n",
       "    </tr>\n",
       "  </thead>\n",
       "  <tbody>\n",
       "    <tr>\n",
       "      <th>7</th>\n",
       "      <td>0</td>\n",
       "      <td>sedan</td>\n",
       "      <td>1980</td>\n",
       "      <td>manual</td>\n",
       "      <td>50</td>\n",
       "      <td>other</td>\n",
       "      <td>40000</td>\n",
       "      <td>petrol</td>\n",
       "      <td>volkswagen</td>\n",
       "      <td>no</td>\n",
       "    </tr>\n",
       "    <tr>\n",
       "      <th>40</th>\n",
       "      <td>0</td>\n",
       "      <td>unknown</td>\n",
       "      <td>1990</td>\n",
       "      <td>unknown</td>\n",
       "      <td>0</td>\n",
       "      <td>corsa</td>\n",
       "      <td>150000</td>\n",
       "      <td>petrol</td>\n",
       "      <td>opel</td>\n",
       "      <td>unknown</td>\n",
       "    </tr>\n",
       "    <tr>\n",
       "      <th>59</th>\n",
       "      <td>1</td>\n",
       "      <td>suv</td>\n",
       "      <td>1994</td>\n",
       "      <td>manual</td>\n",
       "      <td>286</td>\n",
       "      <td>unknown</td>\n",
       "      <td>150000</td>\n",
       "      <td>unknown</td>\n",
       "      <td>sonstige_autos</td>\n",
       "      <td>unknown</td>\n",
       "    </tr>\n",
       "    <tr>\n",
       "      <th>79</th>\n",
       "      <td>150</td>\n",
       "      <td>unknown</td>\n",
       "      <td>2016</td>\n",
       "      <td>manual</td>\n",
       "      <td>75</td>\n",
       "      <td>astra</td>\n",
       "      <td>150000</td>\n",
       "      <td>petrol</td>\n",
       "      <td>opel</td>\n",
       "      <td>yes</td>\n",
       "    </tr>\n",
       "    <tr>\n",
       "      <th>89</th>\n",
       "      <td>1</td>\n",
       "      <td>sedan</td>\n",
       "      <td>1995</td>\n",
       "      <td>manual</td>\n",
       "      <td>113</td>\n",
       "      <td>e_klasse</td>\n",
       "      <td>150000</td>\n",
       "      <td>gasoline</td>\n",
       "      <td>mercedes_benz</td>\n",
       "      <td>no</td>\n",
       "    </tr>\n",
       "    <tr>\n",
       "      <th>...</th>\n",
       "      <td>...</td>\n",
       "      <td>...</td>\n",
       "      <td>...</td>\n",
       "      <td>...</td>\n",
       "      <td>...</td>\n",
       "      <td>...</td>\n",
       "      <td>...</td>\n",
       "      <td>...</td>\n",
       "      <td>...</td>\n",
       "      <td>...</td>\n",
       "    </tr>\n",
       "    <tr>\n",
       "      <th>354273</th>\n",
       "      <td>150</td>\n",
       "      <td>small</td>\n",
       "      <td>1993</td>\n",
       "      <td>manual</td>\n",
       "      <td>55</td>\n",
       "      <td>astra</td>\n",
       "      <td>150000</td>\n",
       "      <td>petrol</td>\n",
       "      <td>opel</td>\n",
       "      <td>yes</td>\n",
       "    </tr>\n",
       "    <tr>\n",
       "      <th>354277</th>\n",
       "      <td>0</td>\n",
       "      <td>small</td>\n",
       "      <td>1999</td>\n",
       "      <td>manual</td>\n",
       "      <td>37</td>\n",
       "      <td>arosa</td>\n",
       "      <td>150000</td>\n",
       "      <td>petrol</td>\n",
       "      <td>seat</td>\n",
       "      <td>yes</td>\n",
       "    </tr>\n",
       "    <tr>\n",
       "      <th>354309</th>\n",
       "      <td>99</td>\n",
       "      <td>small</td>\n",
       "      <td>1999</td>\n",
       "      <td>manual</td>\n",
       "      <td>60</td>\n",
       "      <td>arosa</td>\n",
       "      <td>150000</td>\n",
       "      <td>petrol</td>\n",
       "      <td>seat</td>\n",
       "      <td>yes</td>\n",
       "    </tr>\n",
       "    <tr>\n",
       "      <th>354338</th>\n",
       "      <td>180</td>\n",
       "      <td>unknown</td>\n",
       "      <td>1995</td>\n",
       "      <td>unknown</td>\n",
       "      <td>0</td>\n",
       "      <td>unknown</td>\n",
       "      <td>125000</td>\n",
       "      <td>petrol</td>\n",
       "      <td>opel</td>\n",
       "      <td>unknown</td>\n",
       "    </tr>\n",
       "    <tr>\n",
       "      <th>354364</th>\n",
       "      <td>0</td>\n",
       "      <td>unknown</td>\n",
       "      <td>2005</td>\n",
       "      <td>manual</td>\n",
       "      <td>0</td>\n",
       "      <td>colt</td>\n",
       "      <td>150000</td>\n",
       "      <td>petrol</td>\n",
       "      <td>mitsubishi</td>\n",
       "      <td>yes</td>\n",
       "    </tr>\n",
       "  </tbody>\n",
       "</table>\n",
       "<p>17462 rows × 10 columns</p>\n",
       "</div>"
      ],
      "text/plain": [
       "        price vehicletype  registrationyear  gearbox  power     model  \\\n",
       "7           0       sedan              1980   manual     50     other   \n",
       "40          0     unknown              1990  unknown      0     corsa   \n",
       "59          1         suv              1994   manual    286   unknown   \n",
       "79        150     unknown              2016   manual     75     astra   \n",
       "89          1       sedan              1995   manual    113  e_klasse   \n",
       "...       ...         ...               ...      ...    ...       ...   \n",
       "354273    150       small              1993   manual     55     astra   \n",
       "354277      0       small              1999   manual     37     arosa   \n",
       "354309     99       small              1999   manual     60     arosa   \n",
       "354338    180     unknown              1995  unknown      0   unknown   \n",
       "354364      0     unknown              2005   manual      0      colt   \n",
       "\n",
       "        kilometer  fueltype           brand notrepaired  \n",
       "7           40000    petrol      volkswagen          no  \n",
       "40         150000    petrol            opel     unknown  \n",
       "59         150000   unknown  sonstige_autos     unknown  \n",
       "79         150000    petrol            opel         yes  \n",
       "89         150000  gasoline   mercedes_benz          no  \n",
       "...           ...       ...             ...         ...  \n",
       "354273     150000    petrol            opel         yes  \n",
       "354277     150000    petrol            seat         yes  \n",
       "354309     150000    petrol            seat         yes  \n",
       "354338     125000    petrol            opel     unknown  \n",
       "354364     150000    petrol      mitsubishi         yes  \n",
       "\n",
       "[17462 rows x 10 columns]"
      ]
     },
     "execution_count": 13,
     "metadata": {},
     "output_type": "execute_result"
    }
   ],
   "source": [
    "df.query('0 <= price < 200')"
   ]
  },
  {
   "cell_type": "markdown",
   "metadata": {},
   "source": [
    "Обнаруживаются авто с ценами 0, 1, а также дешёвые экземпляры из малогабаритных авто. Возможно 0, 1 и тп это какие-то стартовые аукционные стоимости авто. Наличие таких моделей в датасете не отвечает задачам исследования. Эти данные можно отфильтровать."
   ]
  },
  {
   "cell_type": "code",
   "execution_count": 14,
   "metadata": {},
   "outputs": [],
   "source": [
    "# удалим строки с нулевой и аномально низкой ценой на авто\n",
    "# df = df.drop(df[df.price == 0].index)\n",
    "df = df.query('200 < price')"
   ]
  },
  {
   "cell_type": "code",
   "execution_count": 15,
   "metadata": {
    "scrolled": false
   },
   "outputs": [
    {
     "data": {
      "image/png": "[encoded data removed]",
      "text/plain": [
       "<Figure size 1152x432 with 1 Axes>"
      ]
     },
     "metadata": {
      "needs_background": "light"
     },
     "output_type": "display_data"
    }
   ],
   "source": [
    "plt.figure(figsize=(16,6))\n",
    "plt.title('Ящик с усами цен на авто')\n",
    "sns.boxplot(data=df, x='price');"
   ]
  },
  {
   "cell_type": "code",
   "execution_count": 16,
   "metadata": {},
   "outputs": [
    {
     "data": {
      "text/plain": [
       "array([1993, 2011, 2004, 2001, 2008, 1995, 2014, 1998, 2005, 1910, 2016,\n",
       "       2007, 2009, 2002, 2018, 1997, 1990, 2017, 1981, 2003, 1994, 1991,\n",
       "       1984, 2006, 1999, 2012, 2010, 2000, 1992, 2013, 1996, 1989, 2015,\n",
       "       1985, 1982, 1976, 1983, 1973, 1969, 1971, 1987, 1988, 1980, 1970,\n",
       "       1986, 1965, 1945, 1925, 1974, 1979, 1955, 1978, 1972, 1968, 1977,\n",
       "       1961, 1966, 1975, 1963, 1964, 1960, 1958, 1967, 1956, 3200, 1941,\n",
       "       9999, 8888, 1500, 2200, 4100, 1962, 1929, 1957, 1940, 2066, 1949,\n",
       "       2019, 1937, 1951, 1800, 1959, 1953, 1954, 1234, 5300, 9000, 2900,\n",
       "       6000, 1000, 5911, 1400, 5000, 4000, 1948, 1952, 8500, 1932, 1950,\n",
       "       3700, 3800, 4800, 1942, 7000, 1935, 1933, 1936, 1923, 2290, 1930,\n",
       "       1001, 9450, 1944, 2500, 1943, 1938, 1934, 1928, 5555, 1600, 1111,\n",
       "       1039, 3000, 2800, 1931, 4500, 1602, 7800, 1947, 1927, 7100, 1300,\n",
       "       8200, 1946], dtype=int64)"
      ]
     },
     "execution_count": 16,
     "metadata": {},
     "output_type": "execute_result"
    }
   ],
   "source": [
    "# уникальные значения столбца с годом регистрации авто\n",
    "df.registrationyear.unique()"
   ]
  },
  {
   "cell_type": "markdown",
   "metadata": {},
   "source": [
    "Видно что присутствуют ошибочные значения. Отфильтруем датафрейм с помощью query."
   ]
  },
  {
   "cell_type": "code",
   "execution_count": 17,
   "metadata": {},
   "outputs": [],
   "source": [
    "# df = df.query('1900 < registrationyear <= 2022')\n",
    "df = df.query('1970 <= registrationyear <= 2022')"
   ]
  },
  {
   "cell_type": "code",
   "execution_count": 18,
   "metadata": {},
   "outputs": [
    {
     "data": {
      "text/plain": [
       "array([1993, 2011, 2004, 2001, 2008, 1995, 2014, 1998, 2005, 2016, 2007,\n",
       "       2009, 2002, 2018, 1997, 1990, 2017, 1981, 2003, 1994, 1991, 1984,\n",
       "       2006, 1999, 2012, 2010, 2000, 1992, 2013, 1996, 1989, 2015, 1985,\n",
       "       1982, 1976, 1983, 1973, 1971, 1987, 1988, 1980, 1970, 1986, 1974,\n",
       "       1979, 1978, 1972, 1977, 1975, 2019], dtype=int64)"
      ]
     },
     "execution_count": 18,
     "metadata": {},
     "output_type": "execute_result"
    }
   ],
   "source": [
    "df.registrationyear.unique()"
   ]
  },
  {
   "cell_type": "code",
   "execution_count": 19,
   "metadata": {},
   "outputs": [
    {
     "data": {
      "image/png": "[encoded data removed]",
      "text/plain": [
       "<Figure size 1152x360 with 1 Axes>"
      ]
     },
     "metadata": {
      "needs_background": "light"
     },
     "output_type": "display_data"
    }
   ],
   "source": [
    "plt.figure(figsize=(16,5))\n",
    "plt.title('Гистограмма типа кузова авто')\n",
    "sns.histplot(data=df.vehicletype);"
   ]
  },
  {
   "cell_type": "markdown",
   "metadata": {},
   "source": [
    "Чаще всего встречаются седаны, универсалы и компактные в соответствии с европейской классификацией авто."
   ]
  },
  {
   "cell_type": "code",
   "execution_count": 20,
   "metadata": {},
   "outputs": [
    {
     "data": {
      "image/png": "[encoded data removed]",
      "text/plain": [
       "<Figure size 432x288 with 1 Axes>"
      ]
     },
     "metadata": {
      "needs_background": "light"
     },
     "output_type": "display_data"
    }
   ],
   "source": [
    "plt.title('Гистограмма для коробок передач')\n",
    "sns.histplot(data=df.gearbox);"
   ]
  },
  {
   "cell_type": "markdown",
   "metadata": {},
   "source": [
    "Подавляющее количество авто имеет механическую коробку передач."
   ]
  },
  {
   "cell_type": "code",
   "execution_count": 21,
   "metadata": {},
   "outputs": [
    {
     "data": {
      "image/png": "[encoded data removed]",
      "text/plain": [
       "<Figure size 1152x432 with 1 Axes>"
      ]
     },
     "metadata": {
      "needs_background": "light"
     },
     "output_type": "display_data"
    }
   ],
   "source": [
    "plt.figure(figsize=(16,6))\n",
    "sns.boxplot(data=df, x='power');"
   ]
  },
  {
   "cell_type": "markdown",
   "metadata": {},
   "source": [
    "Максимальную мощность авто имело смысл ограничить до максимальной существующей на сегодняшний день 1600 л.с. Однако, при рассмотрении данных обнаруживается значительное количество аномальных для соответствующей марки/модели/года выпуска авто значений мощности."
   ]
  },
  {
   "cell_type": "code",
   "execution_count": 22,
   "metadata": {},
   "outputs": [
    {
     "data": {
      "text/plain": [
       "157"
      ]
     },
     "execution_count": 22,
     "metadata": {},
     "output_type": "execute_result"
    }
   ],
   "source": [
    "df.query('power > 1600')['power'].count()"
   ]
  },
  {
   "cell_type": "code",
   "execution_count": 23,
   "metadata": {},
   "outputs": [
    {
     "data": {
      "text/plain": [
       "401"
      ]
     },
     "execution_count": 23,
     "metadata": {},
     "output_type": "execute_result"
    }
   ],
   "source": [
    "df.query('power > 500')['power'].count()"
   ]
  },
  {
   "cell_type": "code",
   "execution_count": 24,
   "metadata": {
    "scrolled": false
   },
   "outputs": [
    {
     "data": {
      "text/html": [
       "<div>\n",
       "<style scoped>\n",
       "    .dataframe tbody tr th:only-of-type {\n",
       "        vertical-align: middle;\n",
       "    }\n",
       "\n",
       "    .dataframe tbody tr th {\n",
       "        vertical-align: top;\n",
       "    }\n",
       "\n",
       "    .dataframe thead th {\n",
       "        text-align: right;\n",
       "    }\n",
       "</style>\n",
       "<table border=\"1\" class=\"dataframe\">\n",
       "  <thead>\n",
       "    <tr style=\"text-align: right;\">\n",
       "      <th></th>\n",
       "      <th>price</th>\n",
       "      <th>vehicletype</th>\n",
       "      <th>registrationyear</th>\n",
       "      <th>gearbox</th>\n",
       "      <th>power</th>\n",
       "      <th>model</th>\n",
       "      <th>kilometer</th>\n",
       "      <th>fueltype</th>\n",
       "      <th>brand</th>\n",
       "      <th>notrepaired</th>\n",
       "    </tr>\n",
       "  </thead>\n",
       "  <tbody>\n",
       "    <tr>\n",
       "      <th>1816</th>\n",
       "      <td>3200</td>\n",
       "      <td>small</td>\n",
       "      <td>2004</td>\n",
       "      <td>manual</td>\n",
       "      <td>1398</td>\n",
       "      <td>corolla</td>\n",
       "      <td>5000</td>\n",
       "      <td>petrol</td>\n",
       "      <td>toyota</td>\n",
       "      <td>no</td>\n",
       "    </tr>\n",
       "    <tr>\n",
       "      <th>4060</th>\n",
       "      <td>3100</td>\n",
       "      <td>sedan</td>\n",
       "      <td>2005</td>\n",
       "      <td>manual</td>\n",
       "      <td>953</td>\n",
       "      <td>colt</td>\n",
       "      <td>150000</td>\n",
       "      <td>gasoline</td>\n",
       "      <td>mitsubishi</td>\n",
       "      <td>no</td>\n",
       "    </tr>\n",
       "    <tr>\n",
       "      <th>5328</th>\n",
       "      <td>500</td>\n",
       "      <td>wagon</td>\n",
       "      <td>1999</td>\n",
       "      <td>manual</td>\n",
       "      <td>1001</td>\n",
       "      <td>astra</td>\n",
       "      <td>150000</td>\n",
       "      <td>petrol</td>\n",
       "      <td>opel</td>\n",
       "      <td>unknown</td>\n",
       "    </tr>\n",
       "    <tr>\n",
       "      <th>6296</th>\n",
       "      <td>599</td>\n",
       "      <td>small</td>\n",
       "      <td>2002</td>\n",
       "      <td>manual</td>\n",
       "      <td>603</td>\n",
       "      <td>matiz</td>\n",
       "      <td>5000</td>\n",
       "      <td>petrol</td>\n",
       "      <td>chevrolet</td>\n",
       "      <td>yes</td>\n",
       "    </tr>\n",
       "    <tr>\n",
       "      <th>6504</th>\n",
       "      <td>3000</td>\n",
       "      <td>small</td>\n",
       "      <td>2009</td>\n",
       "      <td>manual</td>\n",
       "      <td>771</td>\n",
       "      <td>punto</td>\n",
       "      <td>125000</td>\n",
       "      <td>petrol</td>\n",
       "      <td>fiat</td>\n",
       "      <td>unknown</td>\n",
       "    </tr>\n",
       "    <tr>\n",
       "      <th>...</th>\n",
       "      <td>...</td>\n",
       "      <td>...</td>\n",
       "      <td>...</td>\n",
       "      <td>...</td>\n",
       "      <td>...</td>\n",
       "      <td>...</td>\n",
       "      <td>...</td>\n",
       "      <td>...</td>\n",
       "      <td>...</td>\n",
       "      <td>...</td>\n",
       "    </tr>\n",
       "    <tr>\n",
       "      <th>348883</th>\n",
       "      <td>7500</td>\n",
       "      <td>sedan</td>\n",
       "      <td>2011</td>\n",
       "      <td>manual</td>\n",
       "      <td>1548</td>\n",
       "      <td>scenic</td>\n",
       "      <td>90000</td>\n",
       "      <td>petrol</td>\n",
       "      <td>renault</td>\n",
       "      <td>unknown</td>\n",
       "    </tr>\n",
       "    <tr>\n",
       "      <th>348968</th>\n",
       "      <td>250</td>\n",
       "      <td>small</td>\n",
       "      <td>1999</td>\n",
       "      <td>manual</td>\n",
       "      <td>1241</td>\n",
       "      <td>ypsilon</td>\n",
       "      <td>150000</td>\n",
       "      <td>petrol</td>\n",
       "      <td>lancia</td>\n",
       "      <td>yes</td>\n",
       "    </tr>\n",
       "    <tr>\n",
       "      <th>351947</th>\n",
       "      <td>1500</td>\n",
       "      <td>bus</td>\n",
       "      <td>2001</td>\n",
       "      <td>manual</td>\n",
       "      <td>1001</td>\n",
       "      <td>zafira</td>\n",
       "      <td>5000</td>\n",
       "      <td>gasoline</td>\n",
       "      <td>opel</td>\n",
       "      <td>no</td>\n",
       "    </tr>\n",
       "    <tr>\n",
       "      <th>353633</th>\n",
       "      <td>2400</td>\n",
       "      <td>sedan</td>\n",
       "      <td>2007</td>\n",
       "      <td>manual</td>\n",
       "      <td>650</td>\n",
       "      <td>c2</td>\n",
       "      <td>150000</td>\n",
       "      <td>petrol</td>\n",
       "      <td>citroen</td>\n",
       "      <td>unknown</td>\n",
       "    </tr>\n",
       "    <tr>\n",
       "      <th>354260</th>\n",
       "      <td>399</td>\n",
       "      <td>other</td>\n",
       "      <td>1994</td>\n",
       "      <td>unknown</td>\n",
       "      <td>1103</td>\n",
       "      <td>3er</td>\n",
       "      <td>150000</td>\n",
       "      <td>unknown</td>\n",
       "      <td>bmw</td>\n",
       "      <td>unknown</td>\n",
       "    </tr>\n",
       "  </tbody>\n",
       "</table>\n",
       "<p>241 rows × 10 columns</p>\n",
       "</div>"
      ],
      "text/plain": [
       "        price vehicletype  registrationyear  gearbox  power    model  \\\n",
       "1816     3200       small              2004   manual   1398  corolla   \n",
       "4060     3100       sedan              2005   manual    953     colt   \n",
       "5328      500       wagon              1999   manual   1001    astra   \n",
       "6296      599       small              2002   manual    603    matiz   \n",
       "6504     3000       small              2009   manual    771    punto   \n",
       "...       ...         ...               ...      ...    ...      ...   \n",
       "348883   7500       sedan              2011   manual   1548   scenic   \n",
       "348968    250       small              1999   manual   1241  ypsilon   \n",
       "351947   1500         bus              2001   manual   1001   zafira   \n",
       "353633   2400       sedan              2007   manual    650       c2   \n",
       "354260    399       other              1994  unknown   1103      3er   \n",
       "\n",
       "        kilometer  fueltype       brand notrepaired  \n",
       "1816         5000    petrol      toyota          no  \n",
       "4060       150000  gasoline  mitsubishi          no  \n",
       "5328       150000    petrol        opel     unknown  \n",
       "6296         5000    petrol   chevrolet         yes  \n",
       "6504       125000    petrol        fiat     unknown  \n",
       "...           ...       ...         ...         ...  \n",
       "348883      90000    petrol     renault     unknown  \n",
       "348968     150000    petrol      lancia         yes  \n",
       "351947       5000  gasoline        opel          no  \n",
       "353633     150000    petrol     citroen     unknown  \n",
       "354260     150000   unknown         bmw     unknown  \n",
       "\n",
       "[241 rows x 10 columns]"
      ]
     },
     "execution_count": 24,
     "metadata": {},
     "output_type": "execute_result"
    }
   ],
   "source": [
    "# pd.set_option('display.max_rows', None)\n",
    "df.query('500 < power < 1600')"
   ]
  },
  {
   "cell_type": "code",
   "execution_count": 25,
   "metadata": {
    "scrolled": true
   },
   "outputs": [
    {
     "data": {
      "text/html": [
       "<div>\n",
       "<style scoped>\n",
       "    .dataframe tbody tr th:only-of-type {\n",
       "        vertical-align: middle;\n",
       "    }\n",
       "\n",
       "    .dataframe tbody tr th {\n",
       "        vertical-align: top;\n",
       "    }\n",
       "\n",
       "    .dataframe thead th {\n",
       "        text-align: right;\n",
       "    }\n",
       "</style>\n",
       "<table border=\"1\" class=\"dataframe\">\n",
       "  <thead>\n",
       "    <tr style=\"text-align: right;\">\n",
       "      <th></th>\n",
       "      <th>price</th>\n",
       "      <th>vehicletype</th>\n",
       "      <th>registrationyear</th>\n",
       "      <th>gearbox</th>\n",
       "      <th>power</th>\n",
       "      <th>model</th>\n",
       "      <th>kilometer</th>\n",
       "      <th>fueltype</th>\n",
       "      <th>brand</th>\n",
       "      <th>notrepaired</th>\n",
       "    </tr>\n",
       "  </thead>\n",
       "  <tbody>\n",
       "    <tr>\n",
       "      <th>0</th>\n",
       "      <td>480</td>\n",
       "      <td>unknown</td>\n",
       "      <td>1993</td>\n",
       "      <td>manual</td>\n",
       "      <td>0</td>\n",
       "      <td>golf</td>\n",
       "      <td>150000</td>\n",
       "      <td>petrol</td>\n",
       "      <td>volkswagen</td>\n",
       "      <td>unknown</td>\n",
       "    </tr>\n",
       "    <tr>\n",
       "      <th>32</th>\n",
       "      <td>245</td>\n",
       "      <td>sedan</td>\n",
       "      <td>1994</td>\n",
       "      <td>unknown</td>\n",
       "      <td>0</td>\n",
       "      <td>golf</td>\n",
       "      <td>150000</td>\n",
       "      <td>petrol</td>\n",
       "      <td>volkswagen</td>\n",
       "      <td>no</td>\n",
       "    </tr>\n",
       "    <tr>\n",
       "      <th>37</th>\n",
       "      <td>1500</td>\n",
       "      <td>unknown</td>\n",
       "      <td>2016</td>\n",
       "      <td>unknown</td>\n",
       "      <td>0</td>\n",
       "      <td>kangoo</td>\n",
       "      <td>150000</td>\n",
       "      <td>gasoline</td>\n",
       "      <td>renault</td>\n",
       "      <td>no</td>\n",
       "    </tr>\n",
       "    <tr>\n",
       "      <th>54</th>\n",
       "      <td>4700</td>\n",
       "      <td>wagon</td>\n",
       "      <td>2005</td>\n",
       "      <td>manual</td>\n",
       "      <td>0</td>\n",
       "      <td>signum</td>\n",
       "      <td>150000</td>\n",
       "      <td>unknown</td>\n",
       "      <td>opel</td>\n",
       "      <td>no</td>\n",
       "    </tr>\n",
       "    <tr>\n",
       "      <th>55</th>\n",
       "      <td>550</td>\n",
       "      <td>wagon</td>\n",
       "      <td>1999</td>\n",
       "      <td>manual</td>\n",
       "      <td>0</td>\n",
       "      <td>astra</td>\n",
       "      <td>150000</td>\n",
       "      <td>gasoline</td>\n",
       "      <td>opel</td>\n",
       "      <td>yes</td>\n",
       "    </tr>\n",
       "    <tr>\n",
       "      <th>...</th>\n",
       "      <td>...</td>\n",
       "      <td>...</td>\n",
       "      <td>...</td>\n",
       "      <td>...</td>\n",
       "      <td>...</td>\n",
       "      <td>...</td>\n",
       "      <td>...</td>\n",
       "      <td>...</td>\n",
       "      <td>...</td>\n",
       "      <td>...</td>\n",
       "    </tr>\n",
       "    <tr>\n",
       "      <th>354335</th>\n",
       "      <td>390</td>\n",
       "      <td>small</td>\n",
       "      <td>1997</td>\n",
       "      <td>auto</td>\n",
       "      <td>0</td>\n",
       "      <td>corsa</td>\n",
       "      <td>100000</td>\n",
       "      <td>petrol</td>\n",
       "      <td>opel</td>\n",
       "      <td>yes</td>\n",
       "    </tr>\n",
       "    <tr>\n",
       "      <th>354336</th>\n",
       "      <td>3299</td>\n",
       "      <td>unknown</td>\n",
       "      <td>2005</td>\n",
       "      <td>auto</td>\n",
       "      <td>0</td>\n",
       "      <td>outlander</td>\n",
       "      <td>150000</td>\n",
       "      <td>petrol</td>\n",
       "      <td>mitsubishi</td>\n",
       "      <td>unknown</td>\n",
       "    </tr>\n",
       "    <tr>\n",
       "      <th>354346</th>\n",
       "      <td>2600</td>\n",
       "      <td>unknown</td>\n",
       "      <td>2005</td>\n",
       "      <td>auto</td>\n",
       "      <td>0</td>\n",
       "      <td>c_klasse</td>\n",
       "      <td>150000</td>\n",
       "      <td>unknown</td>\n",
       "      <td>mercedes_benz</td>\n",
       "      <td>unknown</td>\n",
       "    </tr>\n",
       "    <tr>\n",
       "      <th>354363</th>\n",
       "      <td>1150</td>\n",
       "      <td>bus</td>\n",
       "      <td>2000</td>\n",
       "      <td>manual</td>\n",
       "      <td>0</td>\n",
       "      <td>zafira</td>\n",
       "      <td>150000</td>\n",
       "      <td>petrol</td>\n",
       "      <td>opel</td>\n",
       "      <td>no</td>\n",
       "    </tr>\n",
       "    <tr>\n",
       "      <th>354365</th>\n",
       "      <td>2200</td>\n",
       "      <td>unknown</td>\n",
       "      <td>2005</td>\n",
       "      <td>unknown</td>\n",
       "      <td>0</td>\n",
       "      <td>unknown</td>\n",
       "      <td>20000</td>\n",
       "      <td>unknown</td>\n",
       "      <td>sonstige_autos</td>\n",
       "      <td>unknown</td>\n",
       "    </tr>\n",
       "  </tbody>\n",
       "</table>\n",
       "<p>32625 rows × 10 columns</p>\n",
       "</div>"
      ],
      "text/plain": [
       "        price vehicletype  registrationyear  gearbox  power      model  \\\n",
       "0         480     unknown              1993   manual      0       golf   \n",
       "32        245       sedan              1994  unknown      0       golf   \n",
       "37       1500     unknown              2016  unknown      0     kangoo   \n",
       "54       4700       wagon              2005   manual      0     signum   \n",
       "55        550       wagon              1999   manual      0      astra   \n",
       "...       ...         ...               ...      ...    ...        ...   \n",
       "354335    390       small              1997     auto      0      corsa   \n",
       "354336   3299     unknown              2005     auto      0  outlander   \n",
       "354346   2600     unknown              2005     auto      0   c_klasse   \n",
       "354363   1150         bus              2000   manual      0     zafira   \n",
       "354365   2200     unknown              2005  unknown      0    unknown   \n",
       "\n",
       "        kilometer  fueltype           brand notrepaired  \n",
       "0          150000    petrol      volkswagen     unknown  \n",
       "32         150000    petrol      volkswagen          no  \n",
       "37         150000  gasoline         renault          no  \n",
       "54         150000   unknown            opel          no  \n",
       "55         150000  gasoline            opel         yes  \n",
       "...           ...       ...             ...         ...  \n",
       "354335     100000    petrol            opel         yes  \n",
       "354336     150000    petrol      mitsubishi     unknown  \n",
       "354346     150000   unknown   mercedes_benz     unknown  \n",
       "354363     150000    petrol            opel          no  \n",
       "354365      20000   unknown  sonstige_autos     unknown  \n",
       "\n",
       "[32625 rows x 10 columns]"
      ]
     },
     "execution_count": 25,
     "metadata": {},
     "output_type": "execute_result"
    }
   ],
   "source": [
    "df.query('power == 0')"
   ]
  },
  {
   "cell_type": "code",
   "execution_count": 26,
   "metadata": {
    "scrolled": true
   },
   "outputs": [
    {
     "data": {
      "text/html": [
       "<div>\n",
       "<style scoped>\n",
       "    .dataframe tbody tr th:only-of-type {\n",
       "        vertical-align: middle;\n",
       "    }\n",
       "\n",
       "    .dataframe tbody tr th {\n",
       "        vertical-align: top;\n",
       "    }\n",
       "\n",
       "    .dataframe thead th {\n",
       "        text-align: right;\n",
       "    }\n",
       "</style>\n",
       "<table border=\"1\" class=\"dataframe\">\n",
       "  <thead>\n",
       "    <tr style=\"text-align: right;\">\n",
       "      <th></th>\n",
       "      <th>price</th>\n",
       "      <th>vehicletype</th>\n",
       "      <th>registrationyear</th>\n",
       "      <th>gearbox</th>\n",
       "      <th>power</th>\n",
       "      <th>model</th>\n",
       "      <th>kilometer</th>\n",
       "      <th>fueltype</th>\n",
       "      <th>brand</th>\n",
       "      <th>notrepaired</th>\n",
       "    </tr>\n",
       "  </thead>\n",
       "  <tbody>\n",
       "    <tr>\n",
       "      <th>431</th>\n",
       "      <td>3950</td>\n",
       "      <td>small</td>\n",
       "      <td>2004</td>\n",
       "      <td>auto</td>\n",
       "      <td>5</td>\n",
       "      <td>unknown</td>\n",
       "      <td>70000</td>\n",
       "      <td>gasoline</td>\n",
       "      <td>sonstige_autos</td>\n",
       "      <td>no</td>\n",
       "    </tr>\n",
       "    <tr>\n",
       "      <th>3349</th>\n",
       "      <td>1990</td>\n",
       "      <td>small</td>\n",
       "      <td>2004</td>\n",
       "      <td>unknown</td>\n",
       "      <td>7</td>\n",
       "      <td>polo</td>\n",
       "      <td>150000</td>\n",
       "      <td>gasoline</td>\n",
       "      <td>volkswagen</td>\n",
       "      <td>no</td>\n",
       "    </tr>\n",
       "    <tr>\n",
       "      <th>4637</th>\n",
       "      <td>870</td>\n",
       "      <td>wagon</td>\n",
       "      <td>2000</td>\n",
       "      <td>manual</td>\n",
       "      <td>16</td>\n",
       "      <td>focus</td>\n",
       "      <td>150000</td>\n",
       "      <td>unknown</td>\n",
       "      <td>ford</td>\n",
       "      <td>no</td>\n",
       "    </tr>\n",
       "    <tr>\n",
       "      <th>9561</th>\n",
       "      <td>9000</td>\n",
       "      <td>sedan</td>\n",
       "      <td>2009</td>\n",
       "      <td>manual</td>\n",
       "      <td>2</td>\n",
       "      <td>a4</td>\n",
       "      <td>5000</td>\n",
       "      <td>gasoline</td>\n",
       "      <td>audi</td>\n",
       "      <td>unknown</td>\n",
       "    </tr>\n",
       "    <tr>\n",
       "      <th>11228</th>\n",
       "      <td>9900</td>\n",
       "      <td>small</td>\n",
       "      <td>1970</td>\n",
       "      <td>manual</td>\n",
       "      <td>18</td>\n",
       "      <td>500</td>\n",
       "      <td>30000</td>\n",
       "      <td>petrol</td>\n",
       "      <td>fiat</td>\n",
       "      <td>no</td>\n",
       "    </tr>\n",
       "    <tr>\n",
       "      <th>...</th>\n",
       "      <td>...</td>\n",
       "      <td>...</td>\n",
       "      <td>...</td>\n",
       "      <td>...</td>\n",
       "      <td>...</td>\n",
       "      <td>...</td>\n",
       "      <td>...</td>\n",
       "      <td>...</td>\n",
       "      <td>...</td>\n",
       "      <td>...</td>\n",
       "    </tr>\n",
       "    <tr>\n",
       "      <th>348891</th>\n",
       "      <td>5690</td>\n",
       "      <td>small</td>\n",
       "      <td>2014</td>\n",
       "      <td>auto</td>\n",
       "      <td>18</td>\n",
       "      <td>other</td>\n",
       "      <td>10000</td>\n",
       "      <td>electric</td>\n",
       "      <td>renault</td>\n",
       "      <td>no</td>\n",
       "    </tr>\n",
       "    <tr>\n",
       "      <th>348975</th>\n",
       "      <td>1850</td>\n",
       "      <td>small</td>\n",
       "      <td>2003</td>\n",
       "      <td>auto</td>\n",
       "      <td>5</td>\n",
       "      <td>unknown</td>\n",
       "      <td>50000</td>\n",
       "      <td>gasoline</td>\n",
       "      <td>sonstige_autos</td>\n",
       "      <td>yes</td>\n",
       "    </tr>\n",
       "    <tr>\n",
       "      <th>349666</th>\n",
       "      <td>1500</td>\n",
       "      <td>unknown</td>\n",
       "      <td>2016</td>\n",
       "      <td>unknown</td>\n",
       "      <td>2</td>\n",
       "      <td>unknown</td>\n",
       "      <td>150000</td>\n",
       "      <td>gasoline</td>\n",
       "      <td>volkswagen</td>\n",
       "      <td>unknown</td>\n",
       "    </tr>\n",
       "    <tr>\n",
       "      <th>353127</th>\n",
       "      <td>8600</td>\n",
       "      <td>convertible</td>\n",
       "      <td>2012</td>\n",
       "      <td>manual</td>\n",
       "      <td>8</td>\n",
       "      <td>unknown</td>\n",
       "      <td>5000</td>\n",
       "      <td>gasoline</td>\n",
       "      <td>sonstige_autos</td>\n",
       "      <td>no</td>\n",
       "    </tr>\n",
       "    <tr>\n",
       "      <th>354360</th>\n",
       "      <td>3999</td>\n",
       "      <td>wagon</td>\n",
       "      <td>2005</td>\n",
       "      <td>manual</td>\n",
       "      <td>3</td>\n",
       "      <td>3er</td>\n",
       "      <td>150000</td>\n",
       "      <td>gasoline</td>\n",
       "      <td>bmw</td>\n",
       "      <td>no</td>\n",
       "    </tr>\n",
       "  </tbody>\n",
       "</table>\n",
       "<p>340 rows × 10 columns</p>\n",
       "</div>"
      ],
      "text/plain": [
       "        price  vehicletype  registrationyear  gearbox  power    model  \\\n",
       "431      3950        small              2004     auto      5  unknown   \n",
       "3349     1990        small              2004  unknown      7     polo   \n",
       "4637      870        wagon              2000   manual     16    focus   \n",
       "9561     9000        sedan              2009   manual      2       a4   \n",
       "11228    9900        small              1970   manual     18      500   \n",
       "...       ...          ...               ...      ...    ...      ...   \n",
       "348891   5690        small              2014     auto     18    other   \n",
       "348975   1850        small              2003     auto      5  unknown   \n",
       "349666   1500      unknown              2016  unknown      2  unknown   \n",
       "353127   8600  convertible              2012   manual      8  unknown   \n",
       "354360   3999        wagon              2005   manual      3      3er   \n",
       "\n",
       "        kilometer  fueltype           brand notrepaired  \n",
       "431         70000  gasoline  sonstige_autos          no  \n",
       "3349       150000  gasoline      volkswagen          no  \n",
       "4637       150000   unknown            ford          no  \n",
       "9561         5000  gasoline            audi     unknown  \n",
       "11228       30000    petrol            fiat          no  \n",
       "...           ...       ...             ...         ...  \n",
       "348891      10000  electric         renault          no  \n",
       "348975      50000  gasoline  sonstige_autos         yes  \n",
       "349666     150000  gasoline      volkswagen     unknown  \n",
       "353127       5000  gasoline  sonstige_autos          no  \n",
       "354360     150000  gasoline             bmw          no  \n",
       "\n",
       "[340 rows x 10 columns]"
      ]
     },
     "execution_count": 26,
     "metadata": {},
     "output_type": "execute_result"
    }
   ],
   "source": [
    "# pd.set_option('display.max_rows', None)\n",
    "df.query('0 < power < 20')"
   ]
  },
  {
   "cell_type": "markdown",
   "metadata": {},
   "source": [
    "Отфильтруем датафрейм от аномальных и нулевых значений мощности."
   ]
  },
  {
   "cell_type": "code",
   "execution_count": 27,
   "metadata": {},
   "outputs": [],
   "source": [
    "df = df.query('45 < power < 500')"
   ]
  },
  {
   "cell_type": "code",
   "execution_count": 28,
   "metadata": {},
   "outputs": [
    {
     "data": {
      "image/png": "[encoded data removed]",
      "text/plain": [
       "<Figure size 1152x432 with 1 Axes>"
      ]
     },
     "metadata": {
      "needs_background": "light"
     },
     "output_type": "display_data"
    }
   ],
   "source": [
    "plt.figure(figsize=(16,6))\n",
    "plt.title('Ящик с усами мощности авто')\n",
    "sns.boxplot(data=df, x='power');"
   ]
  },
  {
   "cell_type": "code",
   "execution_count": 29,
   "metadata": {},
   "outputs": [],
   "source": [
    "# df.query('400 < power < 500')"
   ]
  },
  {
   "cell_type": "code",
   "execution_count": 30,
   "metadata": {},
   "outputs": [
    {
     "data": {
      "text/plain": [
       "array([125000, 150000,  90000,  30000,  70000, 100000,  60000,   5000,\n",
       "        20000,  80000,  50000,  40000,  10000], dtype=int64)"
      ]
     },
     "execution_count": 30,
     "metadata": {},
     "output_type": "execute_result"
    }
   ],
   "source": [
    "# уникальные значения пробега в км\n",
    "df.kilometer.unique()"
   ]
  },
  {
   "cell_type": "code",
   "execution_count": 31,
   "metadata": {
    "scrolled": true
   },
   "outputs": [
    {
     "data": {
      "image/png": "[encoded data removed]",
      "text/plain": [
       "<Figure size 432x288 with 1 Axes>"
      ]
     },
     "metadata": {
      "needs_background": "light"
     },
     "output_type": "display_data"
    }
   ],
   "source": [
    "plt.title('Гистограмма пробега авто')\n",
    "sns.histplot(data=df.kilometer, bins=13);"
   ]
  },
  {
   "cell_type": "markdown",
   "metadata": {},
   "source": [
    "Подявляющее большинство авто имеет большой пробег."
   ]
  },
  {
   "cell_type": "code",
   "execution_count": 32,
   "metadata": {},
   "outputs": [
    {
     "data": {
      "image/png": "[encoded data removed]",
      "text/plain": [
       "<Figure size 432x288 with 1 Axes>"
      ]
     },
     "metadata": {
      "needs_background": "light"
     },
     "output_type": "display_data"
    }
   ],
   "source": [
    "plt.title('Гистограмма типа топлива')\n",
    "sns.histplot(data=df.fueltype);"
   ]
  },
  {
   "cell_type": "markdown",
   "metadata": {},
   "source": [
    "По сути gasoline и petrol это характерные для Британии и США названия бензина. В рамках исследования можно объединить их в одну категорию."
   ]
  },
  {
   "cell_type": "code",
   "execution_count": 33,
   "metadata": {},
   "outputs": [],
   "source": [
    "df.loc[df[\"fueltype\"] == \"gasoline\", \"fueltype\"] = 'petrol'"
   ]
  },
  {
   "cell_type": "code",
   "execution_count": 34,
   "metadata": {},
   "outputs": [],
   "source": [
    "# plt.title('Гистограмма типа топлива')\n",
    "# sns.histplot(data=df.fueltype);"
   ]
  },
  {
   "cell_type": "code",
   "execution_count": 35,
   "metadata": {},
   "outputs": [
    {
     "data": {
      "text/plain": [
       "petrol      272394\n",
       "unknown      18099\n",
       "lpg           4746\n",
       "cng            494\n",
       "hybrid         203\n",
       "other           52\n",
       "electric        36\n",
       "Name: fueltype, dtype: int64"
      ]
     },
     "execution_count": 35,
     "metadata": {},
     "output_type": "execute_result"
    }
   ],
   "source": [
    "df.fueltype.value_counts()"
   ]
  },
  {
   "cell_type": "code",
   "execution_count": 36,
   "metadata": {},
   "outputs": [
    {
     "data": {
      "text/plain": [
       "volkswagen        64650\n",
       "bmw               32833\n",
       "opel              31638\n",
       "mercedes_benz     27840\n",
       "audi              26199\n",
       "ford              20411\n",
       "renault           13946\n",
       "peugeot            9303\n",
       "fiat               7349\n",
       "seat               5973\n",
       "skoda              5017\n",
       "mazda              4798\n",
       "citroen            4208\n",
       "toyota             4107\n",
       "nissan             4037\n",
       "smart              3720\n",
       "hyundai            3160\n",
       "mini               3034\n",
       "volvo              2813\n",
       "mitsubishi         2499\n",
       "honda              2440\n",
       "kia                2146\n",
       "alfa_romeo         1999\n",
       "suzuki             1924\n",
       "sonstige_autos     1476\n",
       "chevrolet          1467\n",
       "chrysler           1163\n",
       "dacia               821\n",
       "subaru              631\n",
       "porsche             616\n",
       "jeep                578\n",
       "daihatsu            547\n",
       "saab                478\n",
       "land_rover          466\n",
       "jaguar              431\n",
       "daewoo              404\n",
       "lancia              373\n",
       "rover               364\n",
       "lada                158\n",
       "trabant               7\n",
       "Name: brand, dtype: int64"
      ]
     },
     "execution_count": 36,
     "metadata": {},
     "output_type": "execute_result"
    }
   ],
   "source": [
    "df.brand.value_counts()"
   ]
  },
  {
   "cell_type": "code",
   "execution_count": 37,
   "metadata": {},
   "outputs": [
    {
     "data": {
      "image/png": "[encoded data removed]",
      "text/plain": [
       "<Figure size 432x288 with 1 Axes>"
      ]
     },
     "metadata": {
      "needs_background": "light"
     },
     "output_type": "display_data"
    }
   ],
   "source": [
    "plt.title('Гистограмма факта ремонта авто')\n",
    "sns.histplot(data=df.notrepaired);"
   ]
  },
  {
   "cell_type": "markdown",
   "metadata": {},
   "source": [
    "### Вывод"
   ]
  },
  {
   "cell_type": "markdown",
   "metadata": {},
   "source": [
    "Данные подготовлены для дальнейшей работы.\n",
    "- Устранены аномалии, выбросы\n",
    "- Удалены дубликаты\n",
    "- Заполнены пропущенные значения"
   ]
  },
  {
   "cell_type": "code",
   "execution_count": 38,
   "metadata": {
    "scrolled": false
   },
   "outputs": [
    {
     "data": {
      "text/html": [
       "<div>\n",
       "<style scoped>\n",
       "    .dataframe tbody tr th:only-of-type {\n",
       "        vertical-align: middle;\n",
       "    }\n",
       "\n",
       "    .dataframe tbody tr th {\n",
       "        vertical-align: top;\n",
       "    }\n",
       "\n",
       "    .dataframe thead th {\n",
       "        text-align: right;\n",
       "    }\n",
       "</style>\n",
       "<table border=\"1\" class=\"dataframe\">\n",
       "  <thead>\n",
       "    <tr style=\"text-align: right;\">\n",
       "      <th></th>\n",
       "      <th>price</th>\n",
       "      <th>vehicletype</th>\n",
       "      <th>registrationyear</th>\n",
       "      <th>gearbox</th>\n",
       "      <th>power</th>\n",
       "      <th>model</th>\n",
       "      <th>kilometer</th>\n",
       "      <th>fueltype</th>\n",
       "      <th>brand</th>\n",
       "      <th>notrepaired</th>\n",
       "    </tr>\n",
       "  </thead>\n",
       "  <tbody>\n",
       "    <tr>\n",
       "      <th>count</th>\n",
       "      <td>296024.000000</td>\n",
       "      <td>296024</td>\n",
       "      <td>296024.000000</td>\n",
       "      <td>296024</td>\n",
       "      <td>296024.000000</td>\n",
       "      <td>296024</td>\n",
       "      <td>296024.000000</td>\n",
       "      <td>296024</td>\n",
       "      <td>296024</td>\n",
       "      <td>296024</td>\n",
       "    </tr>\n",
       "    <tr>\n",
       "      <th>unique</th>\n",
       "      <td>NaN</td>\n",
       "      <td>9</td>\n",
       "      <td>NaN</td>\n",
       "      <td>3</td>\n",
       "      <td>NaN</td>\n",
       "      <td>250</td>\n",
       "      <td>NaN</td>\n",
       "      <td>7</td>\n",
       "      <td>40</td>\n",
       "      <td>3</td>\n",
       "    </tr>\n",
       "    <tr>\n",
       "      <th>top</th>\n",
       "      <td>NaN</td>\n",
       "      <td>sedan</td>\n",
       "      <td>NaN</td>\n",
       "      <td>manual</td>\n",
       "      <td>NaN</td>\n",
       "      <td>golf</td>\n",
       "      <td>NaN</td>\n",
       "      <td>petrol</td>\n",
       "      <td>volkswagen</td>\n",
       "      <td>no</td>\n",
       "    </tr>\n",
       "    <tr>\n",
       "      <th>freq</th>\n",
       "      <td>NaN</td>\n",
       "      <td>81627</td>\n",
       "      <td>NaN</td>\n",
       "      <td>231715</td>\n",
       "      <td>NaN</td>\n",
       "      <td>25519</td>\n",
       "      <td>NaN</td>\n",
       "      <td>272394</td>\n",
       "      <td>64650</td>\n",
       "      <td>225208</td>\n",
       "    </tr>\n",
       "    <tr>\n",
       "      <th>mean</th>\n",
       "      <td>4930.321896</td>\n",
       "      <td>NaN</td>\n",
       "      <td>2003.574859</td>\n",
       "      <td>NaN</td>\n",
       "      <td>122.099532</td>\n",
       "      <td>NaN</td>\n",
       "      <td>128597.174553</td>\n",
       "      <td>NaN</td>\n",
       "      <td>NaN</td>\n",
       "      <td>NaN</td>\n",
       "    </tr>\n",
       "    <tr>\n",
       "      <th>std</th>\n",
       "      <td>4584.307896</td>\n",
       "      <td>NaN</td>\n",
       "      <td>6.518077</td>\n",
       "      <td>NaN</td>\n",
       "      <td>52.506263</td>\n",
       "      <td>NaN</td>\n",
       "      <td>36441.451800</td>\n",
       "      <td>NaN</td>\n",
       "      <td>NaN</td>\n",
       "      <td>NaN</td>\n",
       "    </tr>\n",
       "    <tr>\n",
       "      <th>min</th>\n",
       "      <td>202.000000</td>\n",
       "      <td>NaN</td>\n",
       "      <td>1970.000000</td>\n",
       "      <td>NaN</td>\n",
       "      <td>46.000000</td>\n",
       "      <td>NaN</td>\n",
       "      <td>5000.000000</td>\n",
       "      <td>NaN</td>\n",
       "      <td>NaN</td>\n",
       "      <td>NaN</td>\n",
       "    </tr>\n",
       "    <tr>\n",
       "      <th>25%</th>\n",
       "      <td>1450.000000</td>\n",
       "      <td>NaN</td>\n",
       "      <td>1999.000000</td>\n",
       "      <td>NaN</td>\n",
       "      <td>80.000000</td>\n",
       "      <td>NaN</td>\n",
       "      <td>125000.000000</td>\n",
       "      <td>NaN</td>\n",
       "      <td>NaN</td>\n",
       "      <td>NaN</td>\n",
       "    </tr>\n",
       "    <tr>\n",
       "      <th>50%</th>\n",
       "      <td>3299.000000</td>\n",
       "      <td>NaN</td>\n",
       "      <td>2004.000000</td>\n",
       "      <td>NaN</td>\n",
       "      <td>115.000000</td>\n",
       "      <td>NaN</td>\n",
       "      <td>150000.000000</td>\n",
       "      <td>NaN</td>\n",
       "      <td>NaN</td>\n",
       "      <td>NaN</td>\n",
       "    </tr>\n",
       "    <tr>\n",
       "      <th>75%</th>\n",
       "      <td>7000.000000</td>\n",
       "      <td>NaN</td>\n",
       "      <td>2008.000000</td>\n",
       "      <td>NaN</td>\n",
       "      <td>150.000000</td>\n",
       "      <td>NaN</td>\n",
       "      <td>150000.000000</td>\n",
       "      <td>NaN</td>\n",
       "      <td>NaN</td>\n",
       "      <td>NaN</td>\n",
       "    </tr>\n",
       "    <tr>\n",
       "      <th>max</th>\n",
       "      <td>20000.000000</td>\n",
       "      <td>NaN</td>\n",
       "      <td>2019.000000</td>\n",
       "      <td>NaN</td>\n",
       "      <td>490.000000</td>\n",
       "      <td>NaN</td>\n",
       "      <td>150000.000000</td>\n",
       "      <td>NaN</td>\n",
       "      <td>NaN</td>\n",
       "      <td>NaN</td>\n",
       "    </tr>\n",
       "  </tbody>\n",
       "</table>\n",
       "</div>"
      ],
      "text/plain": [
       "                price vehicletype  registrationyear gearbox          power  \\\n",
       "count   296024.000000      296024     296024.000000  296024  296024.000000   \n",
       "unique            NaN           9               NaN       3            NaN   \n",
       "top               NaN       sedan               NaN  manual            NaN   \n",
       "freq              NaN       81627               NaN  231715            NaN   \n",
       "mean      4930.321896         NaN       2003.574859     NaN     122.099532   \n",
       "std       4584.307896         NaN          6.518077     NaN      52.506263   \n",
       "min        202.000000         NaN       1970.000000     NaN      46.000000   \n",
       "25%       1450.000000         NaN       1999.000000     NaN      80.000000   \n",
       "50%       3299.000000         NaN       2004.000000     NaN     115.000000   \n",
       "75%       7000.000000         NaN       2008.000000     NaN     150.000000   \n",
       "max      20000.000000         NaN       2019.000000     NaN     490.000000   \n",
       "\n",
       "         model      kilometer fueltype       brand notrepaired  \n",
       "count   296024  296024.000000   296024      296024      296024  \n",
       "unique     250            NaN        7          40           3  \n",
       "top       golf            NaN   petrol  volkswagen          no  \n",
       "freq     25519            NaN   272394       64650      225208  \n",
       "mean       NaN  128597.174553      NaN         NaN         NaN  \n",
       "std        NaN   36441.451800      NaN         NaN         NaN  \n",
       "min        NaN    5000.000000      NaN         NaN         NaN  \n",
       "25%        NaN  125000.000000      NaN         NaN         NaN  \n",
       "50%        NaN  150000.000000      NaN         NaN         NaN  \n",
       "75%        NaN  150000.000000      NaN         NaN         NaN  \n",
       "max        NaN  150000.000000      NaN         NaN         NaN  "
      ]
     },
     "execution_count": 38,
     "metadata": {},
     "output_type": "execute_result"
    }
   ],
   "source": [
    "#код ревьюера\n",
    "df.describe(include = 'all')"
   ]
  },
  {
   "cell_type": "markdown",
   "metadata": {},
   "source": [
    "## Обучение моделей"
   ]
  },
  {
   "cell_type": "markdown",
   "metadata": {},
   "source": [
    "Разобьём данные на выборки и подготовим категориальные признаки для обучения моделей."
   ]
  },
  {
   "cell_type": "code",
   "execution_count": 39,
   "metadata": {},
   "outputs": [],
   "source": [
    "# # разбиение данных на выборки\n",
    "# features_train, features_test, target_train, target_test = train_test_split(df.drop('price', axis=1), df['price'], test_size=0.25, random_state=12345)"
   ]
  },
  {
   "cell_type": "code",
   "execution_count": 40,
   "metadata": {
    "scrolled": true
   },
   "outputs": [],
   "source": [
    "# # проверка\n",
    "# display(features_train.shape)\n",
    "# display(features_test.shape)\n",
    "# display(target_train.shape)\n",
    "# target_test.shape"
   ]
  },
  {
   "cell_type": "markdown",
   "metadata": {},
   "source": [
    "Порядковое кодирование."
   ]
  },
  {
   "cell_type": "code",
   "execution_count": 41,
   "metadata": {},
   "outputs": [],
   "source": [
    "encoder = OrdinalEncoder()\n",
    "encoder.fit(df)\n",
    "data_ordinal = pd.DataFrame(encoder.fit_transform(df), columns=df.columns)\n",
    "\n",
    "target = data_ordinal['price']\n",
    "features = data_ordinal.drop('price', axis=1)\n",
    "features_train, features_test, target_train, target_test = train_test_split(features, target, test_size=0.25, random_state=12345)"
   ]
  },
  {
   "cell_type": "code",
   "execution_count": 42,
   "metadata": {
    "scrolled": true
   },
   "outputs": [
    {
     "data": {
      "text/html": [
       "<div>\n",
       "<style scoped>\n",
       "    .dataframe tbody tr th:only-of-type {\n",
       "        vertical-align: middle;\n",
       "    }\n",
       "\n",
       "    .dataframe tbody tr th {\n",
       "        vertical-align: top;\n",
       "    }\n",
       "\n",
       "    .dataframe thead th {\n",
       "        text-align: right;\n",
       "    }\n",
       "</style>\n",
       "<table border=\"1\" class=\"dataframe\">\n",
       "  <thead>\n",
       "    <tr style=\"text-align: right;\">\n",
       "      <th></th>\n",
       "      <th>price</th>\n",
       "      <th>vehicletype</th>\n",
       "      <th>registrationyear</th>\n",
       "      <th>gearbox</th>\n",
       "      <th>power</th>\n",
       "      <th>model</th>\n",
       "      <th>kilometer</th>\n",
       "      <th>fueltype</th>\n",
       "      <th>brand</th>\n",
       "      <th>notrepaired</th>\n",
       "    </tr>\n",
       "  </thead>\n",
       "  <tbody>\n",
       "    <tr>\n",
       "      <th>0</th>\n",
       "      <td>3370.0</td>\n",
       "      <td>2.0</td>\n",
       "      <td>41.0</td>\n",
       "      <td>1.0</td>\n",
       "      <td>144.0</td>\n",
       "      <td>227.0</td>\n",
       "      <td>11.0</td>\n",
       "      <td>5.0</td>\n",
       "      <td>1.0</td>\n",
       "      <td>2.0</td>\n",
       "    </tr>\n",
       "    <tr>\n",
       "      <th>1</th>\n",
       "      <td>2393.0</td>\n",
       "      <td>6.0</td>\n",
       "      <td>34.0</td>\n",
       "      <td>0.0</td>\n",
       "      <td>117.0</td>\n",
       "      <td>117.0</td>\n",
       "      <td>11.0</td>\n",
       "      <td>5.0</td>\n",
       "      <td>14.0</td>\n",
       "      <td>1.0</td>\n",
       "    </tr>\n",
       "    <tr>\n",
       "      <th>2</th>\n",
       "      <td>542.0</td>\n",
       "      <td>5.0</td>\n",
       "      <td>31.0</td>\n",
       "      <td>1.0</td>\n",
       "      <td>29.0</td>\n",
       "      <td>116.0</td>\n",
       "      <td>12.0</td>\n",
       "      <td>5.0</td>\n",
       "      <td>38.0</td>\n",
       "      <td>0.0</td>\n",
       "    </tr>\n",
       "    <tr>\n",
       "      <th>3</th>\n",
       "      <td>1158.0</td>\n",
       "      <td>5.0</td>\n",
       "      <td>38.0</td>\n",
       "      <td>1.0</td>\n",
       "      <td>23.0</td>\n",
       "      <td>101.0</td>\n",
       "      <td>9.0</td>\n",
       "      <td>5.0</td>\n",
       "      <td>31.0</td>\n",
       "      <td>0.0</td>\n",
       "    </tr>\n",
       "    <tr>\n",
       "      <th>4</th>\n",
       "      <td>212.0</td>\n",
       "      <td>4.0</td>\n",
       "      <td>25.0</td>\n",
       "      <td>1.0</td>\n",
       "      <td>56.0</td>\n",
       "      <td>11.0</td>\n",
       "      <td>12.0</td>\n",
       "      <td>5.0</td>\n",
       "      <td>2.0</td>\n",
       "      <td>2.0</td>\n",
       "    </tr>\n",
       "    <tr>\n",
       "      <th>...</th>\n",
       "      <td>...</td>\n",
       "      <td>...</td>\n",
       "      <td>...</td>\n",
       "      <td>...</td>\n",
       "      <td>...</td>\n",
       "      <td>...</td>\n",
       "      <td>...</td>\n",
       "      <td>...</td>\n",
       "      <td>...</td>\n",
       "      <td>...</td>\n",
       "    </tr>\n",
       "    <tr>\n",
       "      <th>296019</th>\n",
       "      <td>1561.0</td>\n",
       "      <td>7.0</td>\n",
       "      <td>46.0</td>\n",
       "      <td>0.0</td>\n",
       "      <td>104.0</td>\n",
       "      <td>4.0</td>\n",
       "      <td>12.0</td>\n",
       "      <td>6.0</td>\n",
       "      <td>0.0</td>\n",
       "      <td>0.0</td>\n",
       "    </tr>\n",
       "    <tr>\n",
       "      <th>296020</th>\n",
       "      <td>1055.0</td>\n",
       "      <td>4.0</td>\n",
       "      <td>34.0</td>\n",
       "      <td>1.0</td>\n",
       "      <td>179.0</td>\n",
       "      <td>140.0</td>\n",
       "      <td>12.0</td>\n",
       "      <td>5.0</td>\n",
       "      <td>30.0</td>\n",
       "      <td>2.0</td>\n",
       "    </tr>\n",
       "    <tr>\n",
       "      <th>296021</th>\n",
       "      <td>426.0</td>\n",
       "      <td>1.0</td>\n",
       "      <td>30.0</td>\n",
       "      <td>0.0</td>\n",
       "      <td>55.0</td>\n",
       "      <td>106.0</td>\n",
       "      <td>11.0</td>\n",
       "      <td>5.0</td>\n",
       "      <td>32.0</td>\n",
       "      <td>0.0</td>\n",
       "    </tr>\n",
       "    <tr>\n",
       "      <th>296022</th>\n",
       "      <td>2296.0</td>\n",
       "      <td>0.0</td>\n",
       "      <td>26.0</td>\n",
       "      <td>1.0</td>\n",
       "      <td>56.0</td>\n",
       "      <td>223.0</td>\n",
       "      <td>12.0</td>\n",
       "      <td>5.0</td>\n",
       "      <td>38.0</td>\n",
       "      <td>0.0</td>\n",
       "    </tr>\n",
       "    <tr>\n",
       "      <th>296023</th>\n",
       "      <td>1099.0</td>\n",
       "      <td>8.0</td>\n",
       "      <td>32.0</td>\n",
       "      <td>1.0</td>\n",
       "      <td>54.0</td>\n",
       "      <td>116.0</td>\n",
       "      <td>12.0</td>\n",
       "      <td>5.0</td>\n",
       "      <td>38.0</td>\n",
       "      <td>1.0</td>\n",
       "    </tr>\n",
       "  </tbody>\n",
       "</table>\n",
       "<p>296024 rows × 10 columns</p>\n",
       "</div>"
      ],
      "text/plain": [
       "         price  vehicletype  registrationyear  gearbox  power  model  \\\n",
       "0       3370.0          2.0              41.0      1.0  144.0  227.0   \n",
       "1       2393.0          6.0              34.0      0.0  117.0  117.0   \n",
       "2        542.0          5.0              31.0      1.0   29.0  116.0   \n",
       "3       1158.0          5.0              38.0      1.0   23.0  101.0   \n",
       "4        212.0          4.0              25.0      1.0   56.0   11.0   \n",
       "...        ...          ...               ...      ...    ...    ...   \n",
       "296019  1561.0          7.0              46.0      0.0  104.0    4.0   \n",
       "296020  1055.0          4.0              34.0      1.0  179.0  140.0   \n",
       "296021   426.0          1.0              30.0      0.0   55.0  106.0   \n",
       "296022  2296.0          0.0              26.0      1.0   56.0  223.0   \n",
       "296023  1099.0          8.0              32.0      1.0   54.0  116.0   \n",
       "\n",
       "        kilometer  fueltype  brand  notrepaired  \n",
       "0            11.0       5.0    1.0          2.0  \n",
       "1            11.0       5.0   14.0          1.0  \n",
       "2            12.0       5.0   38.0          0.0  \n",
       "3             9.0       5.0   31.0          0.0  \n",
       "4            12.0       5.0    2.0          2.0  \n",
       "...           ...       ...    ...          ...  \n",
       "296019       12.0       6.0    0.0          0.0  \n",
       "296020       12.0       5.0   30.0          2.0  \n",
       "296021       11.0       5.0   32.0          0.0  \n",
       "296022       12.0       5.0   38.0          0.0  \n",
       "296023       12.0       5.0   38.0          1.0  \n",
       "\n",
       "[296024 rows x 10 columns]"
      ]
     },
     "execution_count": 42,
     "metadata": {},
     "output_type": "execute_result"
    }
   ],
   "source": [
    "data_ordinal"
   ]
  },
  {
   "cell_type": "code",
   "execution_count": 43,
   "metadata": {
    "scrolled": true
   },
   "outputs": [
    {
     "data": {
      "text/plain": [
       "(222018, 9)"
      ]
     },
     "metadata": {},
     "output_type": "display_data"
    },
    {
     "data": {
      "text/plain": [
       "(74006, 9)"
      ]
     },
     "metadata": {},
     "output_type": "display_data"
    },
    {
     "data": {
      "text/plain": [
       "(222018,)"
      ]
     },
     "metadata": {},
     "output_type": "display_data"
    },
    {
     "data": {
      "text/plain": [
       "(74006,)"
      ]
     },
     "execution_count": 43,
     "metadata": {},
     "output_type": "execute_result"
    }
   ],
   "source": [
    "# проверка\n",
    "display(features_train.shape)\n",
    "display(features_test.shape)\n",
    "display(target_train.shape)\n",
    "target_test.shape"
   ]
  },
  {
   "cell_type": "markdown",
   "metadata": {},
   "source": [
    "Масштабирование данных."
   ]
  },
  {
   "cell_type": "code",
   "execution_count": 44,
   "metadata": {},
   "outputs": [],
   "source": [
    "scaler = StandardScaler()\n",
    "scaler.fit(features_train)\n",
    "features_train = scaler.transform(features_train)\n",
    "features_test = scaler.transform(features_test)"
   ]
  },
  {
   "cell_type": "code",
   "execution_count": 45,
   "metadata": {},
   "outputs": [],
   "source": [
    "# функция обучения и определения RMSE моделей\n",
    "def box_model_rmse(model, features_train, target_train, features_test, target_test):\n",
    "    rmse = math.sqrt(mean_squared_error(target_test, model.fit(features_train, target_train).predict(features_test)))\n",
    "    return print('RMSE:', rmse)"
   ]
  },
  {
   "cell_type": "markdown",
   "metadata": {},
   "source": [
    "### DecisionTreeRegressor"
   ]
  },
  {
   "cell_type": "code",
   "execution_count": 46,
   "metadata": {},
   "outputs": [
    {
     "name": "stdout",
     "output_type": "stream",
     "text": [
      "RMSE: 374.2302461798436\n",
      "Wall time: 1.02 s\n"
     ]
    }
   ],
   "source": [
    "%%time\n",
    "# решающее дерево со стандартными параметрами\n",
    "box_model_rmse(DecisionTreeRegressor(), features_train, target_train, features_test, target_test)"
   ]
  },
  {
   "cell_type": "code",
   "execution_count": 47,
   "metadata": {},
   "outputs": [
    {
     "data": {
      "text/plain": [
       "{'max_depth': 15}"
      ]
     },
     "metadata": {},
     "output_type": "display_data"
    },
    {
     "name": "stdout",
     "output_type": "stream",
     "text": [
      "Wall time: 22.1 s\n"
     ]
    },
    {
     "data": {
      "text/plain": [
       "-362.55970503203906"
      ]
     },
     "execution_count": 47,
     "metadata": {},
     "output_type": "execute_result"
    }
   ],
   "source": [
    "%%time\n",
    "# подбор гиперпараметров для решающего дерева\n",
    "parameters = { 'max_depth': range (1,20, 2) }\n",
    "rgs = DecisionTreeRegressor(random_state=12345)\n",
    "grid = GridSearchCV(rgs, parameters, scoring='neg_root_mean_squared_error')\n",
    "grid.fit(features_train, target_train)\n",
    "predictions_tree = grid.predict(features_test)\n",
    "\n",
    "display(grid.best_params_)\n",
    "grid.best_score_"
   ]
  },
  {
   "cell_type": "markdown",
   "metadata": {},
   "source": [
    "### RandomForestRegressor"
   ]
  },
  {
   "cell_type": "code",
   "execution_count": 48,
   "metadata": {},
   "outputs": [
    {
     "name": "stdout",
     "output_type": "stream",
     "text": [
      "RMSE: 309.4317143726135\n",
      "Wall time: 1min 11s\n"
     ]
    }
   ],
   "source": [
    "%%time\n",
    "# случайный лес со стандартными гиперпараметрами\n",
    "box_model_rmse(RandomForestRegressor(), features_train, target_train, features_test, target_test)"
   ]
  },
  {
   "cell_type": "code",
   "execution_count": 49,
   "metadata": {},
   "outputs": [
    {
     "data": {
      "text/plain": [
       "{'max_depth': 20, 'n_estimators': 100}"
      ]
     },
     "metadata": {},
     "output_type": "display_data"
    },
    {
     "name": "stdout",
     "output_type": "stream",
     "text": [
      "Wall time: 15min 17s\n"
     ]
    },
    {
     "data": {
      "text/plain": [
       "-312.87486448825814"
      ]
     },
     "execution_count": 49,
     "metadata": {},
     "output_type": "execute_result"
    }
   ],
   "source": [
    "%%time\n",
    "# подбор гиперпараметров для случайного леса\n",
    "parameters = { 'n_estimators': (10, 20, 50, 100),\n",
    "              'max_depth': (1, 5, 10, 20) }\n",
    "clf = RandomForestRegressor(random_state=12345)\n",
    "grid = GridSearchCV(clf, parameters, scoring='neg_root_mean_squared_error')\n",
    "grid.fit(features_train, target_train)\n",
    "predictions_valid = grid.predict(features_test)\n",
    "\n",
    "display(grid.best_params_)\n",
    "grid.best_score_"
   ]
  },
  {
   "cell_type": "markdown",
   "metadata": {},
   "source": [
    "Подбор гиперпараметров не улучшил работу модели случайного леса."
   ]
  },
  {
   "cell_type": "markdown",
   "metadata": {},
   "source": [
    "### LinearRegression"
   ]
  },
  {
   "cell_type": "code",
   "execution_count": 50,
   "metadata": {
    "scrolled": true
   },
   "outputs": [
    {
     "name": "stdout",
     "output_type": "stream",
     "text": [
      "RMSE: 575.6605955565099\n",
      "Wall time: 149 ms\n"
     ]
    }
   ],
   "source": [
    "%%time\n",
    "box_model_rmse(LinearRegression(), features_train, target_train, features_test, target_test)"
   ]
  },
  {
   "cell_type": "markdown",
   "metadata": {},
   "source": [
    "Обучается быстро, но даёт значимо боолее низкий результат работы, чем модели с деревьями. "
   ]
  },
  {
   "cell_type": "markdown",
   "metadata": {},
   "source": [
    "### CatBoostRegressor"
   ]
  },
  {
   "cell_type": "code",
   "execution_count": 51,
   "metadata": {
    "scrolled": true
   },
   "outputs": [
    {
     "name": "stdout",
     "output_type": "stream",
     "text": [
      "Learning rate set to 0.096141\n",
      "0:\tlearn: 856.6247383\ttotal: 224ms\tremaining: 3m 44s\n",
      "1:\tlearn: 805.8036174\ttotal: 255ms\tremaining: 2m 7s\n",
      "2:\tlearn: 758.8332218\ttotal: 284ms\tremaining: 1m 34s\n",
      "3:\tlearn: 717.5855077\ttotal: 312ms\tremaining: 1m 17s\n",
      "4:\tlearn: 681.9757449\ttotal: 341ms\tremaining: 1m 7s\n",
      "5:\tlearn: 649.8175314\ttotal: 370ms\tremaining: 1m 1s\n",
      "6:\tlearn: 621.5794404\ttotal: 402ms\tremaining: 57s\n",
      "7:\tlearn: 596.9224557\ttotal: 432ms\tremaining: 53.5s\n",
      "8:\tlearn: 575.2531780\ttotal: 467ms\tremaining: 51.4s\n",
      "9:\tlearn: 555.2505838\ttotal: 497ms\tremaining: 49.2s\n",
      "10:\tlearn: 538.6545222\ttotal: 527ms\tremaining: 47.4s\n",
      "11:\tlearn: 522.6810083\ttotal: 555ms\tremaining: 45.7s\n",
      "12:\tlearn: 509.0541483\ttotal: 584ms\tremaining: 44.3s\n",
      "13:\tlearn: 496.8629101\ttotal: 612ms\tremaining: 43.1s\n",
      "14:\tlearn: 485.6485431\ttotal: 639ms\tremaining: 41.9s\n",
      "15:\tlearn: 476.0245036\ttotal: 673ms\tremaining: 41.4s\n",
      "16:\tlearn: 467.5768857\ttotal: 702ms\tremaining: 40.6s\n",
      "17:\tlearn: 459.2323318\ttotal: 730ms\tremaining: 39.8s\n",
      "18:\tlearn: 452.3103328\ttotal: 757ms\tremaining: 39.1s\n",
      "19:\tlearn: 445.5570532\ttotal: 785ms\tremaining: 38.4s\n",
      "20:\tlearn: 440.3149361\ttotal: 812ms\tremaining: 37.9s\n",
      "21:\tlearn: 435.1636657\ttotal: 843ms\tremaining: 37.5s\n",
      "22:\tlearn: 430.6661600\ttotal: 878ms\tremaining: 37.3s\n",
      "23:\tlearn: 426.5046423\ttotal: 909ms\tremaining: 36.9s\n",
      "24:\tlearn: 422.1572173\ttotal: 945ms\tremaining: 36.8s\n",
      "25:\tlearn: 418.7295227\ttotal: 972ms\tremaining: 36.4s\n",
      "26:\tlearn: 414.6295137\ttotal: 1s\tremaining: 36.1s\n",
      "27:\tlearn: 411.4578387\ttotal: 1.03s\tremaining: 35.7s\n",
      "28:\tlearn: 408.7042019\ttotal: 1.05s\tremaining: 35.3s\n",
      "29:\tlearn: 406.1651346\ttotal: 1.08s\tremaining: 34.9s\n",
      "30:\tlearn: 403.7091775\ttotal: 1.11s\tremaining: 34.7s\n",
      "31:\tlearn: 401.6884800\ttotal: 1.14s\tremaining: 34.5s\n",
      "32:\tlearn: 399.5251323\ttotal: 1.17s\tremaining: 34.2s\n",
      "33:\tlearn: 397.7116834\ttotal: 1.19s\tremaining: 33.9s\n",
      "34:\tlearn: 395.8348285\ttotal: 1.22s\tremaining: 33.6s\n",
      "35:\tlearn: 394.2320534\ttotal: 1.25s\tremaining: 33.4s\n",
      "36:\tlearn: 392.7713231\ttotal: 1.27s\tremaining: 33.1s\n",
      "37:\tlearn: 390.9237730\ttotal: 1.3s\tremaining: 32.9s\n",
      "38:\tlearn: 389.8283350\ttotal: 1.32s\tremaining: 32.6s\n",
      "39:\tlearn: 387.9595858\ttotal: 1.35s\tremaining: 32.5s\n",
      "40:\tlearn: 386.5389278\ttotal: 1.38s\tremaining: 32.3s\n",
      "41:\tlearn: 385.2567305\ttotal: 1.41s\tremaining: 32.1s\n",
      "42:\tlearn: 384.1372022\ttotal: 1.43s\tremaining: 31.9s\n",
      "43:\tlearn: 383.2072348\ttotal: 1.46s\tremaining: 31.7s\n",
      "44:\tlearn: 381.4300905\ttotal: 1.49s\tremaining: 31.6s\n",
      "45:\tlearn: 380.5943439\ttotal: 1.51s\tremaining: 31.4s\n",
      "46:\tlearn: 379.8845026\ttotal: 1.54s\tremaining: 31.3s\n",
      "47:\tlearn: 379.0059776\ttotal: 1.57s\tremaining: 31.1s\n",
      "48:\tlearn: 378.4487622\ttotal: 1.59s\tremaining: 30.9s\n",
      "49:\tlearn: 377.7542824\ttotal: 1.62s\tremaining: 30.8s\n",
      "50:\tlearn: 376.6690680\ttotal: 1.65s\tremaining: 30.7s\n",
      "51:\tlearn: 375.0005897\ttotal: 1.68s\tremaining: 30.6s\n",
      "52:\tlearn: 373.9352521\ttotal: 1.7s\tremaining: 30.5s\n",
      "53:\tlearn: 373.2045916\ttotal: 1.73s\tremaining: 30.3s\n",
      "54:\tlearn: 372.6532464\ttotal: 1.76s\tremaining: 30.2s\n",
      "55:\tlearn: 371.8872560\ttotal: 1.79s\tremaining: 30.1s\n",
      "56:\tlearn: 370.7534376\ttotal: 1.82s\tremaining: 30.1s\n",
      "57:\tlearn: 370.2607753\ttotal: 1.85s\tremaining: 30.1s\n",
      "58:\tlearn: 369.5213252\ttotal: 1.88s\tremaining: 30s\n",
      "59:\tlearn: 368.4940216\ttotal: 1.91s\tremaining: 29.9s\n",
      "60:\tlearn: 367.9293341\ttotal: 1.94s\tremaining: 29.8s\n",
      "61:\tlearn: 367.5088223\ttotal: 1.97s\tremaining: 29.8s\n",
      "62:\tlearn: 366.6286018\ttotal: 2s\tremaining: 29.8s\n",
      "63:\tlearn: 366.0979311\ttotal: 2.03s\tremaining: 29.6s\n",
      "64:\tlearn: 365.2529745\ttotal: 2.06s\tremaining: 29.6s\n",
      "65:\tlearn: 364.8022374\ttotal: 2.08s\tremaining: 29.5s\n",
      "66:\tlearn: 364.4832633\ttotal: 2.11s\tremaining: 29.3s\n",
      "67:\tlearn: 363.8238235\ttotal: 2.13s\tremaining: 29.3s\n",
      "68:\tlearn: 363.4253895\ttotal: 2.16s\tremaining: 29.2s\n",
      "69:\tlearn: 362.5497395\ttotal: 2.19s\tremaining: 29.1s\n",
      "70:\tlearn: 362.0895249\ttotal: 2.22s\tremaining: 29s\n",
      "71:\tlearn: 361.6018611\ttotal: 2.25s\tremaining: 29s\n",
      "72:\tlearn: 361.0764511\ttotal: 2.27s\tremaining: 28.9s\n",
      "73:\tlearn: 360.5682958\ttotal: 2.3s\tremaining: 28.8s\n",
      "74:\tlearn: 360.2260366\ttotal: 2.33s\tremaining: 28.7s\n",
      "75:\tlearn: 359.6751613\ttotal: 2.35s\tremaining: 28.6s\n",
      "76:\tlearn: 359.2337698\ttotal: 2.39s\tremaining: 28.6s\n",
      "77:\tlearn: 358.5172913\ttotal: 2.41s\tremaining: 28.5s\n",
      "78:\tlearn: 358.2553391\ttotal: 2.44s\tremaining: 28.4s\n",
      "79:\tlearn: 357.6821009\ttotal: 2.46s\tremaining: 28.3s\n",
      "80:\tlearn: 357.3483911\ttotal: 2.49s\tremaining: 28.3s\n",
      "81:\tlearn: 357.0656123\ttotal: 2.52s\tremaining: 28.2s\n",
      "82:\tlearn: 356.6459585\ttotal: 2.54s\tremaining: 28.1s\n",
      "83:\tlearn: 356.3038738\ttotal: 2.57s\tremaining: 28s\n",
      "84:\tlearn: 356.0513024\ttotal: 2.6s\tremaining: 27.9s\n",
      "85:\tlearn: 355.5739836\ttotal: 2.63s\tremaining: 27.9s\n",
      "86:\tlearn: 355.3268862\ttotal: 2.65s\tremaining: 27.9s\n",
      "87:\tlearn: 354.9950836\ttotal: 2.68s\tremaining: 27.8s\n",
      "88:\tlearn: 354.6666403\ttotal: 2.71s\tremaining: 27.7s\n",
      "89:\tlearn: 354.3770344\ttotal: 2.74s\tremaining: 27.7s\n",
      "90:\tlearn: 354.2153649\ttotal: 2.76s\tremaining: 27.6s\n",
      "91:\tlearn: 353.8260915\ttotal: 2.79s\tremaining: 27.5s\n",
      "92:\tlearn: 353.4512037\ttotal: 2.81s\tremaining: 27.4s\n",
      "93:\tlearn: 353.1415814\ttotal: 2.85s\tremaining: 27.5s\n",
      "94:\tlearn: 352.8676347\ttotal: 2.88s\tremaining: 27.4s\n",
      "95:\tlearn: 352.6555959\ttotal: 2.91s\tremaining: 27.4s\n",
      "96:\tlearn: 352.3267843\ttotal: 2.93s\tremaining: 27.3s\n",
      "97:\tlearn: 351.9798805\ttotal: 2.97s\tremaining: 27.3s\n",
      "98:\tlearn: 351.5649981\ttotal: 3s\tremaining: 27.3s\n",
      "99:\tlearn: 351.2039738\ttotal: 3.02s\tremaining: 27.2s\n",
      "100:\tlearn: 350.7804220\ttotal: 3.05s\tremaining: 27.2s\n",
      "101:\tlearn: 350.3572662\ttotal: 3.09s\tremaining: 27.2s\n",
      "102:\tlearn: 350.0901640\ttotal: 3.12s\tremaining: 27.1s\n",
      "103:\tlearn: 349.8489545\ttotal: 3.14s\tremaining: 27.1s\n",
      "104:\tlearn: 349.6051063\ttotal: 3.17s\tremaining: 27s\n",
      "105:\tlearn: 349.3215592\ttotal: 3.19s\tremaining: 27s\n",
      "106:\tlearn: 349.0774434\ttotal: 3.22s\tremaining: 26.9s\n",
      "107:\tlearn: 348.8626487\ttotal: 3.25s\tremaining: 26.9s\n",
      "108:\tlearn: 348.6024183\ttotal: 3.28s\tremaining: 26.8s\n",
      "109:\tlearn: 348.4281776\ttotal: 3.31s\tremaining: 26.8s\n",
      "110:\tlearn: 348.3270363\ttotal: 3.33s\tremaining: 26.7s\n",
      "111:\tlearn: 348.2111670\ttotal: 3.36s\tremaining: 26.6s\n",
      "112:\tlearn: 347.9487400\ttotal: 3.38s\tremaining: 26.6s\n",
      "113:\tlearn: 347.4741855\ttotal: 3.41s\tremaining: 26.5s\n",
      "114:\tlearn: 347.2386658\ttotal: 3.44s\tremaining: 26.5s\n",
      "115:\tlearn: 347.0561822\ttotal: 3.47s\tremaining: 26.5s\n",
      "116:\tlearn: 346.8628248\ttotal: 3.5s\tremaining: 26.4s\n",
      "117:\tlearn: 346.5849468\ttotal: 3.54s\tremaining: 26.5s\n",
      "118:\tlearn: 346.3301477\ttotal: 3.57s\tremaining: 26.4s\n",
      "119:\tlearn: 346.0606234\ttotal: 3.6s\tremaining: 26.4s\n",
      "120:\tlearn: 345.8919286\ttotal: 3.63s\tremaining: 26.4s\n",
      "121:\tlearn: 345.7291815\ttotal: 3.66s\tremaining: 26.3s\n",
      "122:\tlearn: 345.5905361\ttotal: 3.68s\tremaining: 26.2s\n",
      "123:\tlearn: 345.3905429\ttotal: 3.71s\tremaining: 26.2s\n",
      "124:\tlearn: 345.2490171\ttotal: 3.73s\tremaining: 26.1s\n",
      "125:\tlearn: 344.9654859\ttotal: 3.77s\tremaining: 26.1s\n",
      "126:\tlearn: 344.7530008\ttotal: 3.8s\tremaining: 26.1s\n",
      "127:\tlearn: 344.5482099\ttotal: 3.83s\tremaining: 26.1s\n",
      "128:\tlearn: 344.3718405\ttotal: 3.86s\tremaining: 26.1s\n",
      "129:\tlearn: 344.1885524\ttotal: 3.89s\tremaining: 26s\n",
      "130:\tlearn: 343.9723339\ttotal: 3.92s\tremaining: 26s\n",
      "131:\tlearn: 343.8293776\ttotal: 3.94s\tremaining: 25.9s\n",
      "132:\tlearn: 343.6481576\ttotal: 3.98s\tremaining: 25.9s\n",
      "133:\tlearn: 343.4242644\ttotal: 4.01s\tremaining: 25.9s\n",
      "134:\tlearn: 343.2108238\ttotal: 4.04s\tremaining: 25.9s\n",
      "135:\tlearn: 342.9971746\ttotal: 4.07s\tremaining: 25.8s\n",
      "136:\tlearn: 342.8307746\ttotal: 4.09s\tremaining: 25.8s\n",
      "137:\tlearn: 342.6317264\ttotal: 4.12s\tremaining: 25.7s\n",
      "138:\tlearn: 342.4845233\ttotal: 4.15s\tremaining: 25.7s\n",
      "139:\tlearn: 342.2697094\ttotal: 4.17s\tremaining: 25.6s\n",
      "140:\tlearn: 342.0831447\ttotal: 4.21s\tremaining: 25.6s\n",
      "141:\tlearn: 341.9050054\ttotal: 4.24s\tremaining: 25.6s\n",
      "142:\tlearn: 341.7188077\ttotal: 4.26s\tremaining: 25.5s\n",
      "143:\tlearn: 341.6049865\ttotal: 4.29s\tremaining: 25.5s\n",
      "144:\tlearn: 341.4842682\ttotal: 4.31s\tremaining: 25.4s\n",
      "145:\tlearn: 341.3498712\ttotal: 4.34s\tremaining: 25.4s\n",
      "146:\tlearn: 341.1916438\ttotal: 4.37s\tremaining: 25.4s\n",
      "147:\tlearn: 341.0728198\ttotal: 4.4s\tremaining: 25.3s\n",
      "148:\tlearn: 340.8908756\ttotal: 4.43s\tremaining: 25.3s\n",
      "149:\tlearn: 340.7406954\ttotal: 4.46s\tremaining: 25.3s\n",
      "150:\tlearn: 340.5827068\ttotal: 4.49s\tremaining: 25.2s\n",
      "151:\tlearn: 340.4386233\ttotal: 4.52s\tremaining: 25.2s\n",
      "152:\tlearn: 340.2103824\ttotal: 4.55s\tremaining: 25.2s\n",
      "153:\tlearn: 340.1020199\ttotal: 4.57s\tremaining: 25.1s\n",
      "154:\tlearn: 339.9800896\ttotal: 4.6s\tremaining: 25.1s\n",
      "155:\tlearn: 339.7328701\ttotal: 4.63s\tremaining: 25.1s\n",
      "156:\tlearn: 339.6248850\ttotal: 4.66s\tremaining: 25s\n",
      "157:\tlearn: 339.4229305\ttotal: 4.69s\tremaining: 25s\n",
      "158:\tlearn: 339.2920715\ttotal: 4.71s\tremaining: 24.9s\n",
      "159:\tlearn: 339.1570984\ttotal: 4.74s\tremaining: 24.9s\n",
      "160:\tlearn: 339.0471597\ttotal: 4.76s\tremaining: 24.8s\n",
      "161:\tlearn: 338.9220716\ttotal: 4.79s\tremaining: 24.8s\n",
      "162:\tlearn: 338.7759394\ttotal: 4.83s\tremaining: 24.8s\n",
      "163:\tlearn: 338.7086019\ttotal: 4.86s\tremaining: 24.8s\n",
      "164:\tlearn: 338.5791310\ttotal: 4.89s\tremaining: 24.7s\n",
      "165:\tlearn: 338.4526457\ttotal: 4.91s\tremaining: 24.7s\n",
      "166:\tlearn: 338.3595068\ttotal: 4.94s\tremaining: 24.6s\n",
      "167:\tlearn: 338.2319935\ttotal: 4.96s\tremaining: 24.6s\n",
      "168:\tlearn: 338.0205776\ttotal: 5s\tremaining: 24.6s\n",
      "169:\tlearn: 337.9020639\ttotal: 5.03s\tremaining: 24.5s\n",
      "170:\tlearn: 337.7353065\ttotal: 5.06s\tremaining: 24.5s\n",
      "171:\tlearn: 337.5901656\ttotal: 5.09s\tremaining: 24.5s\n",
      "172:\tlearn: 337.4942107\ttotal: 5.11s\tremaining: 24.4s\n",
      "173:\tlearn: 337.3042562\ttotal: 5.14s\tremaining: 24.4s\n",
      "174:\tlearn: 337.2061207\ttotal: 5.17s\tremaining: 24.4s\n",
      "175:\tlearn: 336.9423857\ttotal: 5.2s\tremaining: 24.4s\n",
      "176:\tlearn: 336.8491977\ttotal: 5.23s\tremaining: 24.3s\n",
      "177:\tlearn: 336.7405635\ttotal: 5.25s\tremaining: 24.3s\n",
      "178:\tlearn: 336.6266607\ttotal: 5.29s\tremaining: 24.2s\n",
      "179:\tlearn: 336.5168685\ttotal: 5.31s\tremaining: 24.2s\n",
      "180:\tlearn: 336.3640194\ttotal: 5.34s\tremaining: 24.2s\n",
      "181:\tlearn: 336.2259633\ttotal: 5.37s\tremaining: 24.1s\n",
      "182:\tlearn: 336.0972697\ttotal: 5.4s\tremaining: 24.1s\n",
      "183:\tlearn: 335.9899239\ttotal: 5.42s\tremaining: 24.1s\n",
      "184:\tlearn: 335.8102407\ttotal: 5.46s\tremaining: 24s\n",
      "185:\tlearn: 335.7311069\ttotal: 5.49s\tremaining: 24s\n",
      "186:\tlearn: 335.5854004\ttotal: 5.53s\tremaining: 24s\n",
      "187:\tlearn: 335.4658579\ttotal: 5.56s\tremaining: 24s\n",
      "188:\tlearn: 335.3342468\ttotal: 5.6s\tremaining: 24s\n",
      "189:\tlearn: 335.2165716\ttotal: 5.63s\tremaining: 24s\n",
      "190:\tlearn: 335.1146648\ttotal: 5.66s\tremaining: 24s\n",
      "191:\tlearn: 335.0072977\ttotal: 5.69s\tremaining: 23.9s\n",
      "192:\tlearn: 334.9431124\ttotal: 5.72s\tremaining: 23.9s\n",
      "193:\tlearn: 334.8493102\ttotal: 5.75s\tremaining: 23.9s\n",
      "194:\tlearn: 334.7640048\ttotal: 5.77s\tremaining: 23.8s\n",
      "195:\tlearn: 334.6885988\ttotal: 5.81s\tremaining: 23.8s\n",
      "196:\tlearn: 334.5609432\ttotal: 5.83s\tremaining: 23.8s\n",
      "197:\tlearn: 334.5034073\ttotal: 5.86s\tremaining: 23.7s\n",
      "198:\tlearn: 334.4093063\ttotal: 5.88s\tremaining: 23.7s\n",
      "199:\tlearn: 334.2630997\ttotal: 5.92s\tremaining: 23.7s\n",
      "200:\tlearn: 334.1680541\ttotal: 5.94s\tremaining: 23.6s\n",
      "201:\tlearn: 334.0709017\ttotal: 5.97s\tremaining: 23.6s\n",
      "202:\tlearn: 333.9943369\ttotal: 6s\tremaining: 23.5s\n",
      "203:\tlearn: 333.8631451\ttotal: 6.03s\tremaining: 23.5s\n",
      "204:\tlearn: 333.8047591\ttotal: 6.05s\tremaining: 23.5s\n",
      "205:\tlearn: 333.6671979\ttotal: 6.08s\tremaining: 23.4s\n",
      "206:\tlearn: 333.5512733\ttotal: 6.11s\tremaining: 23.4s\n",
      "207:\tlearn: 333.4826347\ttotal: 6.14s\tremaining: 23.4s\n",
      "208:\tlearn: 333.3667083\ttotal: 6.17s\tremaining: 23.3s\n",
      "209:\tlearn: 333.2698047\ttotal: 6.2s\tremaining: 23.3s\n",
      "210:\tlearn: 333.2036228\ttotal: 6.22s\tremaining: 23.3s\n",
      "211:\tlearn: 333.1242502\ttotal: 6.25s\tremaining: 23.2s\n",
      "212:\tlearn: 333.0198120\ttotal: 6.29s\tremaining: 23.2s\n",
      "213:\tlearn: 332.8848402\ttotal: 6.33s\tremaining: 23.2s\n",
      "214:\tlearn: 332.8202421\ttotal: 6.36s\tremaining: 23.2s\n",
      "215:\tlearn: 332.7353272\ttotal: 6.38s\tremaining: 23.2s\n",
      "216:\tlearn: 332.6593714\ttotal: 6.41s\tremaining: 23.1s\n",
      "217:\tlearn: 332.5760635\ttotal: 6.44s\tremaining: 23.1s\n",
      "218:\tlearn: 332.4381632\ttotal: 6.47s\tremaining: 23.1s\n",
      "219:\tlearn: 332.3188664\ttotal: 6.5s\tremaining: 23s\n",
      "220:\tlearn: 332.2317061\ttotal: 6.53s\tremaining: 23s\n",
      "221:\tlearn: 332.0657083\ttotal: 6.55s\tremaining: 23s\n",
      "222:\tlearn: 331.9067367\ttotal: 6.59s\tremaining: 23s\n",
      "223:\tlearn: 331.8328177\ttotal: 6.61s\tremaining: 22.9s\n",
      "224:\tlearn: 331.7203063\ttotal: 6.64s\tremaining: 22.9s\n",
      "225:\tlearn: 331.6392143\ttotal: 6.67s\tremaining: 22.8s\n",
      "226:\tlearn: 331.5445360\ttotal: 6.7s\tremaining: 22.8s\n",
      "227:\tlearn: 331.3810983\ttotal: 6.73s\tremaining: 22.8s\n",
      "228:\tlearn: 331.3075270\ttotal: 6.76s\tremaining: 22.8s\n",
      "229:\tlearn: 331.2182437\ttotal: 6.79s\tremaining: 22.7s\n",
      "230:\tlearn: 331.1084017\ttotal: 6.83s\tremaining: 22.7s\n",
      "231:\tlearn: 331.0003463\ttotal: 6.86s\tremaining: 22.7s\n",
      "232:\tlearn: 330.9230724\ttotal: 6.88s\tremaining: 22.7s\n",
      "233:\tlearn: 330.8468051\ttotal: 6.91s\tremaining: 22.6s\n",
      "234:\tlearn: 330.7720520\ttotal: 6.94s\tremaining: 22.6s\n",
      "235:\tlearn: 330.6650275\ttotal: 6.97s\tremaining: 22.6s\n",
      "236:\tlearn: 330.5596745\ttotal: 7s\tremaining: 22.5s\n",
      "237:\tlearn: 330.4989161\ttotal: 7.03s\tremaining: 22.5s\n",
      "238:\tlearn: 330.4268027\ttotal: 7.06s\tremaining: 22.5s\n",
      "239:\tlearn: 330.3480300\ttotal: 7.09s\tremaining: 22.4s\n",
      "240:\tlearn: 330.2767181\ttotal: 7.11s\tremaining: 22.4s\n",
      "241:\tlearn: 330.1074246\ttotal: 7.14s\tremaining: 22.4s\n",
      "242:\tlearn: 330.0314374\ttotal: 7.17s\tremaining: 22.3s\n",
      "243:\tlearn: 329.9770838\ttotal: 7.2s\tremaining: 22.3s\n",
      "244:\tlearn: 329.9114242\ttotal: 7.22s\tremaining: 22.3s\n",
      "245:\tlearn: 329.8714732\ttotal: 7.25s\tremaining: 22.2s\n",
      "246:\tlearn: 329.7553710\ttotal: 7.28s\tremaining: 22.2s\n",
      "247:\tlearn: 329.5978787\ttotal: 7.31s\tremaining: 22.2s\n",
      "248:\tlearn: 329.5117826\ttotal: 7.34s\tremaining: 22.1s\n",
      "249:\tlearn: 329.4311023\ttotal: 7.37s\tremaining: 22.1s\n",
      "250:\tlearn: 329.3294467\ttotal: 7.39s\tremaining: 22.1s\n",
      "251:\tlearn: 329.2528697\ttotal: 7.42s\tremaining: 22s\n",
      "252:\tlearn: 329.1837650\ttotal: 7.45s\tremaining: 22s\n",
      "253:\tlearn: 329.0981010\ttotal: 7.48s\tremaining: 22s\n",
      "254:\tlearn: 329.0333079\ttotal: 7.51s\tremaining: 21.9s\n",
      "255:\tlearn: 328.9401148\ttotal: 7.54s\tremaining: 21.9s\n",
      "256:\tlearn: 328.8962372\ttotal: 7.56s\tremaining: 21.9s\n",
      "257:\tlearn: 328.8110021\ttotal: 7.59s\tremaining: 21.8s\n",
      "258:\tlearn: 328.6790327\ttotal: 7.62s\tremaining: 21.8s\n",
      "259:\tlearn: 328.6133460\ttotal: 7.64s\tremaining: 21.8s\n",
      "260:\tlearn: 328.5318941\ttotal: 7.68s\tremaining: 21.7s\n",
      "261:\tlearn: 328.4324080\ttotal: 7.7s\tremaining: 21.7s\n",
      "262:\tlearn: 328.3544871\ttotal: 7.73s\tremaining: 21.7s\n",
      "263:\tlearn: 328.2788165\ttotal: 7.76s\tremaining: 21.6s\n",
      "264:\tlearn: 328.2103824\ttotal: 7.8s\tremaining: 21.6s\n",
      "265:\tlearn: 328.1073405\ttotal: 7.83s\tremaining: 21.6s\n",
      "266:\tlearn: 328.0461349\ttotal: 7.85s\tremaining: 21.6s\n",
      "267:\tlearn: 327.9867201\ttotal: 7.88s\tremaining: 21.5s\n",
      "268:\tlearn: 327.8992011\ttotal: 7.92s\tremaining: 21.5s\n",
      "269:\tlearn: 327.7864330\ttotal: 7.95s\tremaining: 21.5s\n",
      "270:\tlearn: 327.7324367\ttotal: 7.97s\tremaining: 21.5s\n",
      "271:\tlearn: 327.6593277\ttotal: 8s\tremaining: 21.4s\n",
      "272:\tlearn: 327.5998509\ttotal: 8.03s\tremaining: 21.4s\n",
      "273:\tlearn: 327.5024726\ttotal: 8.06s\tremaining: 21.4s\n",
      "274:\tlearn: 327.4345229\ttotal: 8.09s\tremaining: 21.3s\n",
      "275:\tlearn: 327.3415473\ttotal: 8.12s\tremaining: 21.3s\n",
      "276:\tlearn: 327.2796796\ttotal: 8.14s\tremaining: 21.3s\n",
      "277:\tlearn: 327.1699602\ttotal: 8.18s\tremaining: 21.2s\n",
      "278:\tlearn: 327.1192800\ttotal: 8.2s\tremaining: 21.2s\n",
      "279:\tlearn: 327.0458453\ttotal: 8.23s\tremaining: 21.2s\n",
      "280:\tlearn: 326.9270649\ttotal: 8.26s\tremaining: 21.1s\n",
      "281:\tlearn: 326.8935161\ttotal: 8.28s\tremaining: 21.1s\n",
      "282:\tlearn: 326.8272882\ttotal: 8.31s\tremaining: 21.1s\n",
      "283:\tlearn: 326.7429672\ttotal: 8.34s\tremaining: 21s\n",
      "284:\tlearn: 326.6592610\ttotal: 8.37s\tremaining: 21s\n",
      "285:\tlearn: 326.5895972\ttotal: 8.4s\tremaining: 21s\n",
      "286:\tlearn: 326.5052936\ttotal: 8.43s\tremaining: 20.9s\n",
      "287:\tlearn: 326.4596585\ttotal: 8.46s\tremaining: 20.9s\n",
      "288:\tlearn: 326.3550373\ttotal: 8.49s\tremaining: 20.9s\n",
      "289:\tlearn: 326.3060991\ttotal: 8.52s\tremaining: 20.8s\n",
      "290:\tlearn: 326.2331465\ttotal: 8.55s\tremaining: 20.8s\n",
      "291:\tlearn: 326.1764262\ttotal: 8.57s\tremaining: 20.8s\n",
      "292:\tlearn: 326.1021203\ttotal: 8.6s\tremaining: 20.8s\n",
      "293:\tlearn: 326.0164921\ttotal: 8.63s\tremaining: 20.7s\n",
      "294:\tlearn: 325.9583738\ttotal: 8.66s\tremaining: 20.7s\n",
      "295:\tlearn: 325.8618762\ttotal: 8.69s\tremaining: 20.7s\n",
      "296:\tlearn: 325.8007714\ttotal: 8.72s\tremaining: 20.6s\n",
      "297:\tlearn: 325.6926899\ttotal: 8.75s\tremaining: 20.6s\n",
      "298:\tlearn: 325.6445939\ttotal: 8.79s\tremaining: 20.6s\n",
      "299:\tlearn: 325.5925537\ttotal: 8.82s\tremaining: 20.6s\n",
      "300:\tlearn: 325.5339209\ttotal: 8.84s\tremaining: 20.5s\n",
      "301:\tlearn: 325.4782870\ttotal: 8.87s\tremaining: 20.5s\n",
      "302:\tlearn: 325.4155304\ttotal: 8.9s\tremaining: 20.5s\n",
      "303:\tlearn: 325.3524312\ttotal: 8.93s\tremaining: 20.4s\n",
      "304:\tlearn: 325.3076089\ttotal: 8.95s\tremaining: 20.4s\n",
      "305:\tlearn: 325.2795337\ttotal: 8.98s\tremaining: 20.4s\n",
      "306:\tlearn: 325.2152576\ttotal: 9.01s\tremaining: 20.3s\n",
      "307:\tlearn: 325.1703134\ttotal: 9.04s\tremaining: 20.3s\n",
      "308:\tlearn: 325.1011625\ttotal: 9.07s\tremaining: 20.3s\n",
      "309:\tlearn: 325.0642038\ttotal: 9.1s\tremaining: 20.2s\n",
      "310:\tlearn: 325.0115996\ttotal: 9.12s\tremaining: 20.2s\n",
      "311:\tlearn: 324.9644591\ttotal: 9.15s\tremaining: 20.2s\n",
      "312:\tlearn: 324.9188891\ttotal: 9.18s\tremaining: 20.2s\n",
      "313:\tlearn: 324.8226049\ttotal: 9.21s\tremaining: 20.1s\n",
      "314:\tlearn: 324.7470006\ttotal: 9.24s\tremaining: 20.1s\n",
      "315:\tlearn: 324.6565205\ttotal: 9.27s\tremaining: 20.1s\n",
      "316:\tlearn: 324.5871745\ttotal: 9.29s\tremaining: 20s\n",
      "317:\tlearn: 324.5056006\ttotal: 9.32s\tremaining: 20s\n",
      "318:\tlearn: 324.4340342\ttotal: 9.35s\tremaining: 20s\n",
      "319:\tlearn: 324.3637818\ttotal: 9.38s\tremaining: 19.9s\n",
      "320:\tlearn: 324.2963490\ttotal: 9.42s\tremaining: 19.9s\n",
      "321:\tlearn: 324.2203942\ttotal: 9.46s\tremaining: 19.9s\n",
      "322:\tlearn: 324.1449057\ttotal: 9.49s\tremaining: 19.9s\n",
      "323:\tlearn: 324.0932914\ttotal: 9.52s\tremaining: 19.9s\n",
      "324:\tlearn: 324.0387714\ttotal: 9.55s\tremaining: 19.8s\n",
      "325:\tlearn: 323.9642732\ttotal: 9.57s\tremaining: 19.8s\n",
      "326:\tlearn: 323.9137195\ttotal: 9.6s\tremaining: 19.8s\n",
      "327:\tlearn: 323.8179688\ttotal: 9.63s\tremaining: 19.7s\n",
      "328:\tlearn: 323.7629418\ttotal: 9.66s\tremaining: 19.7s\n",
      "329:\tlearn: 323.7266109\ttotal: 9.69s\tremaining: 19.7s\n",
      "330:\tlearn: 323.6875560\ttotal: 9.71s\tremaining: 19.6s\n",
      "331:\tlearn: 323.6232809\ttotal: 9.75s\tremaining: 19.6s\n",
      "332:\tlearn: 323.5075575\ttotal: 9.78s\tremaining: 19.6s\n",
      "333:\tlearn: 323.4649718\ttotal: 9.81s\tremaining: 19.6s\n",
      "334:\tlearn: 323.3906743\ttotal: 9.84s\tremaining: 19.5s\n",
      "335:\tlearn: 323.3512163\ttotal: 9.87s\tremaining: 19.5s\n",
      "336:\tlearn: 323.2723321\ttotal: 9.9s\tremaining: 19.5s\n",
      "337:\tlearn: 323.1772962\ttotal: 9.93s\tremaining: 19.4s\n",
      "338:\tlearn: 323.1222157\ttotal: 9.95s\tremaining: 19.4s\n",
      "339:\tlearn: 323.0277017\ttotal: 9.98s\tremaining: 19.4s\n",
      "340:\tlearn: 322.9804748\ttotal: 10s\tremaining: 19.4s\n",
      "341:\tlearn: 322.9045782\ttotal: 10.1s\tremaining: 19.3s\n",
      "342:\tlearn: 322.8512277\ttotal: 10.1s\tremaining: 19.3s\n",
      "343:\tlearn: 322.8142685\ttotal: 10.1s\tremaining: 19.3s\n",
      "344:\tlearn: 322.7773348\ttotal: 10.1s\tremaining: 19.2s\n",
      "345:\tlearn: 322.6944860\ttotal: 10.2s\tremaining: 19.2s\n",
      "346:\tlearn: 322.6452206\ttotal: 10.2s\tremaining: 19.2s\n",
      "347:\tlearn: 322.5795601\ttotal: 10.2s\tremaining: 19.1s\n",
      "348:\tlearn: 322.5171095\ttotal: 10.2s\tremaining: 19.1s\n",
      "349:\tlearn: 322.4147468\ttotal: 10.3s\tremaining: 19.1s\n",
      "350:\tlearn: 322.3736697\ttotal: 10.3s\tremaining: 19.1s\n",
      "351:\tlearn: 322.3385777\ttotal: 10.3s\tremaining: 19s\n",
      "352:\tlearn: 322.2905055\ttotal: 10.4s\tremaining: 19s\n",
      "353:\tlearn: 322.2312818\ttotal: 10.4s\tremaining: 19s\n",
      "354:\tlearn: 322.1642346\ttotal: 10.4s\tremaining: 18.9s\n",
      "355:\tlearn: 322.1013820\ttotal: 10.4s\tremaining: 18.9s\n",
      "356:\tlearn: 322.0569208\ttotal: 10.5s\tremaining: 18.9s\n",
      "357:\tlearn: 321.9883982\ttotal: 10.5s\tremaining: 18.8s\n",
      "358:\tlearn: 321.8984382\ttotal: 10.5s\tremaining: 18.8s\n",
      "359:\tlearn: 321.8440558\ttotal: 10.6s\tremaining: 18.8s\n",
      "360:\tlearn: 321.7871122\ttotal: 10.6s\tremaining: 18.7s\n",
      "361:\tlearn: 321.7189974\ttotal: 10.6s\tremaining: 18.7s\n",
      "362:\tlearn: 321.6765530\ttotal: 10.6s\tremaining: 18.7s\n",
      "363:\tlearn: 321.6286769\ttotal: 10.7s\tremaining: 18.6s\n",
      "364:\tlearn: 321.5822688\ttotal: 10.7s\tremaining: 18.6s\n",
      "365:\tlearn: 321.5214780\ttotal: 10.7s\tremaining: 18.6s\n",
      "366:\tlearn: 321.4385476\ttotal: 10.8s\tremaining: 18.6s\n",
      "367:\tlearn: 321.3679205\ttotal: 10.8s\tremaining: 18.5s\n",
      "368:\tlearn: 321.3153214\ttotal: 10.8s\tremaining: 18.5s\n",
      "369:\tlearn: 321.2679793\ttotal: 10.9s\tremaining: 18.5s\n",
      "370:\tlearn: 321.2213485\ttotal: 10.9s\tremaining: 18.4s\n",
      "371:\tlearn: 321.1773932\ttotal: 10.9s\tremaining: 18.4s\n",
      "372:\tlearn: 321.1261208\ttotal: 10.9s\tremaining: 18.4s\n",
      "373:\tlearn: 321.0966100\ttotal: 11s\tremaining: 18.3s\n",
      "374:\tlearn: 321.0568999\ttotal: 11s\tremaining: 18.3s\n",
      "375:\tlearn: 321.0008890\ttotal: 11s\tremaining: 18.3s\n",
      "376:\tlearn: 320.9243560\ttotal: 11s\tremaining: 18.3s\n",
      "377:\tlearn: 320.8789314\ttotal: 11.1s\tremaining: 18.2s\n",
      "378:\tlearn: 320.8019499\ttotal: 11.1s\tremaining: 18.2s\n",
      "379:\tlearn: 320.7579224\ttotal: 11.1s\tremaining: 18.2s\n",
      "380:\tlearn: 320.7030119\ttotal: 11.2s\tremaining: 18.1s\n",
      "381:\tlearn: 320.6197151\ttotal: 11.2s\tremaining: 18.1s\n",
      "382:\tlearn: 320.5792980\ttotal: 11.2s\tremaining: 18.1s\n",
      "383:\tlearn: 320.5419448\ttotal: 11.2s\tremaining: 18s\n",
      "384:\tlearn: 320.5066084\ttotal: 11.3s\tremaining: 18s\n",
      "385:\tlearn: 320.4479064\ttotal: 11.3s\tremaining: 18s\n",
      "386:\tlearn: 320.3774756\ttotal: 11.3s\tremaining: 17.9s\n",
      "387:\tlearn: 320.3416021\ttotal: 11.4s\tremaining: 17.9s\n",
      "388:\tlearn: 320.3162232\ttotal: 11.4s\tremaining: 17.9s\n",
      "389:\tlearn: 320.2773547\ttotal: 11.4s\tremaining: 17.9s\n",
      "390:\tlearn: 320.2128366\ttotal: 11.4s\tremaining: 17.8s\n",
      "391:\tlearn: 320.1886165\ttotal: 11.5s\tremaining: 17.8s\n",
      "392:\tlearn: 320.1427256\ttotal: 11.5s\tremaining: 17.8s\n",
      "393:\tlearn: 320.0773585\ttotal: 11.5s\tremaining: 17.7s\n",
      "394:\tlearn: 320.0390635\ttotal: 11.6s\tremaining: 17.7s\n",
      "395:\tlearn: 319.9988483\ttotal: 11.6s\tremaining: 17.7s\n",
      "396:\tlearn: 319.9671811\ttotal: 11.6s\tremaining: 17.6s\n",
      "397:\tlearn: 319.8925299\ttotal: 11.6s\tremaining: 17.6s\n",
      "398:\tlearn: 319.8541981\ttotal: 11.7s\tremaining: 17.6s\n",
      "399:\tlearn: 319.7991126\ttotal: 11.7s\tremaining: 17.5s\n",
      "400:\tlearn: 319.7207908\ttotal: 11.7s\tremaining: 17.5s\n",
      "401:\tlearn: 319.6508679\ttotal: 11.8s\tremaining: 17.5s\n",
      "402:\tlearn: 319.6044250\ttotal: 11.8s\tremaining: 17.5s\n",
      "403:\tlearn: 319.5497485\ttotal: 11.8s\tremaining: 17.4s\n",
      "404:\tlearn: 319.5012641\ttotal: 11.8s\tremaining: 17.4s\n",
      "405:\tlearn: 319.4538127\ttotal: 11.9s\tremaining: 17.4s\n",
      "406:\tlearn: 319.3872180\ttotal: 11.9s\tremaining: 17.3s\n",
      "407:\tlearn: 319.3415019\ttotal: 11.9s\tremaining: 17.3s\n",
      "408:\tlearn: 319.2969919\ttotal: 12s\tremaining: 17.3s\n",
      "409:\tlearn: 319.2309817\ttotal: 12s\tremaining: 17.2s\n",
      "410:\tlearn: 319.1674044\ttotal: 12s\tremaining: 17.2s\n",
      "411:\tlearn: 319.1289068\ttotal: 12.1s\tremaining: 17.2s\n",
      "412:\tlearn: 319.0793779\ttotal: 12.1s\tremaining: 17.2s\n",
      "413:\tlearn: 319.0323334\ttotal: 12.1s\tremaining: 17.1s\n",
      "414:\tlearn: 318.9984337\ttotal: 12.1s\tremaining: 17.1s\n",
      "415:\tlearn: 318.9499537\ttotal: 12.2s\tremaining: 17.1s\n",
      "416:\tlearn: 318.9135779\ttotal: 12.2s\tremaining: 17s\n",
      "417:\tlearn: 318.8514869\ttotal: 12.2s\tremaining: 17s\n",
      "418:\tlearn: 318.8115837\ttotal: 12.3s\tremaining: 17s\n",
      "419:\tlearn: 318.7698021\ttotal: 12.3s\tremaining: 17s\n",
      "420:\tlearn: 318.7029891\ttotal: 12.3s\tremaining: 16.9s\n",
      "421:\tlearn: 318.6734691\ttotal: 12.3s\tremaining: 16.9s\n",
      "422:\tlearn: 318.6219658\ttotal: 12.4s\tremaining: 16.9s\n",
      "423:\tlearn: 318.5863786\ttotal: 12.4s\tremaining: 16.8s\n",
      "424:\tlearn: 318.5490487\ttotal: 12.4s\tremaining: 16.8s\n",
      "425:\tlearn: 318.5049935\ttotal: 12.5s\tremaining: 16.8s\n",
      "426:\tlearn: 318.4584521\ttotal: 12.5s\tremaining: 16.8s\n",
      "427:\tlearn: 318.4226907\ttotal: 12.5s\tremaining: 16.7s\n",
      "428:\tlearn: 318.3863102\ttotal: 12.5s\tremaining: 16.7s\n",
      "429:\tlearn: 318.3539713\ttotal: 12.6s\tremaining: 16.7s\n",
      "430:\tlearn: 318.2974655\ttotal: 12.6s\tremaining: 16.6s\n",
      "431:\tlearn: 318.2787137\ttotal: 12.6s\tremaining: 16.6s\n",
      "432:\tlearn: 318.2445459\ttotal: 12.7s\tremaining: 16.6s\n",
      "433:\tlearn: 318.1903014\ttotal: 12.7s\tremaining: 16.5s\n",
      "434:\tlearn: 318.1303750\ttotal: 12.7s\tremaining: 16.5s\n",
      "435:\tlearn: 318.0794430\ttotal: 12.8s\tremaining: 16.5s\n",
      "436:\tlearn: 318.0218297\ttotal: 12.8s\tremaining: 16.5s\n",
      "437:\tlearn: 317.9912946\ttotal: 12.8s\tremaining: 16.4s\n",
      "438:\tlearn: 317.9570410\ttotal: 12.8s\tremaining: 16.4s\n",
      "439:\tlearn: 317.9181411\ttotal: 12.9s\tremaining: 16.4s\n",
      "440:\tlearn: 317.8750855\ttotal: 12.9s\tremaining: 16.3s\n",
      "441:\tlearn: 317.8410195\ttotal: 12.9s\tremaining: 16.3s\n",
      "442:\tlearn: 317.8048011\ttotal: 12.9s\tremaining: 16.3s\n",
      "443:\tlearn: 317.7566431\ttotal: 13s\tremaining: 16.2s\n",
      "444:\tlearn: 317.7324541\ttotal: 13s\tremaining: 16.2s\n",
      "445:\tlearn: 317.6953772\ttotal: 13s\tremaining: 16.2s\n",
      "446:\tlearn: 317.6657537\ttotal: 13s\tremaining: 16.1s\n",
      "447:\tlearn: 317.6192404\ttotal: 13.1s\tremaining: 16.1s\n",
      "448:\tlearn: 317.5371814\ttotal: 13.1s\tremaining: 16.1s\n",
      "449:\tlearn: 317.4973033\ttotal: 13.1s\tremaining: 16.1s\n",
      "450:\tlearn: 317.4696350\ttotal: 13.2s\tremaining: 16s\n",
      "451:\tlearn: 317.4162848\ttotal: 13.2s\tremaining: 16s\n",
      "452:\tlearn: 317.3923001\ttotal: 13.2s\tremaining: 16s\n",
      "453:\tlearn: 317.3481167\ttotal: 13.3s\tremaining: 15.9s\n",
      "454:\tlearn: 317.3237418\ttotal: 13.3s\tremaining: 15.9s\n",
      "455:\tlearn: 317.2758626\ttotal: 13.3s\tremaining: 15.9s\n",
      "456:\tlearn: 317.2570166\ttotal: 13.3s\tremaining: 15.8s\n",
      "457:\tlearn: 317.2399068\ttotal: 13.4s\tremaining: 15.8s\n",
      "458:\tlearn: 317.1831706\ttotal: 13.4s\tremaining: 15.8s\n",
      "459:\tlearn: 317.1431992\ttotal: 13.4s\tremaining: 15.8s\n",
      "460:\tlearn: 317.1149044\ttotal: 13.4s\tremaining: 15.7s\n",
      "461:\tlearn: 317.0798755\ttotal: 13.5s\tremaining: 15.7s\n",
      "462:\tlearn: 317.0403445\ttotal: 13.5s\tremaining: 15.7s\n",
      "463:\tlearn: 316.9966100\ttotal: 13.5s\tremaining: 15.6s\n",
      "464:\tlearn: 316.9631574\ttotal: 13.6s\tremaining: 15.6s\n",
      "465:\tlearn: 316.9283930\ttotal: 13.6s\tremaining: 15.6s\n",
      "466:\tlearn: 316.8506473\ttotal: 13.6s\tremaining: 15.5s\n",
      "467:\tlearn: 316.7965671\ttotal: 13.6s\tremaining: 15.5s\n",
      "468:\tlearn: 316.7576165\ttotal: 13.7s\tremaining: 15.5s\n",
      "469:\tlearn: 316.7199593\ttotal: 13.7s\tremaining: 15.5s\n",
      "470:\tlearn: 316.6904245\ttotal: 13.7s\tremaining: 15.4s\n",
      "471:\tlearn: 316.6582450\ttotal: 13.8s\tremaining: 15.4s\n",
      "472:\tlearn: 316.6281277\ttotal: 13.8s\tremaining: 15.4s\n",
      "473:\tlearn: 316.5846703\ttotal: 13.8s\tremaining: 15.3s\n",
      "474:\tlearn: 316.5468141\ttotal: 13.9s\tremaining: 15.3s\n",
      "475:\tlearn: 316.4885943\ttotal: 13.9s\tremaining: 15.3s\n",
      "476:\tlearn: 316.4468506\ttotal: 13.9s\tremaining: 15.3s\n",
      "477:\tlearn: 316.3995211\ttotal: 13.9s\tremaining: 15.2s\n",
      "478:\tlearn: 316.3644533\ttotal: 14s\tremaining: 15.2s\n",
      "479:\tlearn: 316.3266883\ttotal: 14s\tremaining: 15.2s\n",
      "480:\tlearn: 316.2737423\ttotal: 14s\tremaining: 15.1s\n",
      "481:\tlearn: 316.2265658\ttotal: 14.1s\tremaining: 15.1s\n",
      "482:\tlearn: 316.2016165\ttotal: 14.1s\tremaining: 15.1s\n",
      "483:\tlearn: 316.1676312\ttotal: 14.1s\tremaining: 15s\n",
      "484:\tlearn: 316.1075331\ttotal: 14.1s\tremaining: 15s\n",
      "485:\tlearn: 316.0904733\ttotal: 14.2s\tremaining: 15s\n",
      "486:\tlearn: 316.0585270\ttotal: 14.2s\tremaining: 15s\n",
      "487:\tlearn: 316.0143708\ttotal: 14.2s\tremaining: 14.9s\n",
      "488:\tlearn: 315.9800334\ttotal: 14.3s\tremaining: 14.9s\n",
      "489:\tlearn: 315.9425393\ttotal: 14.3s\tremaining: 14.9s\n",
      "490:\tlearn: 315.8992238\ttotal: 14.3s\tremaining: 14.8s\n",
      "491:\tlearn: 315.8688994\ttotal: 14.3s\tremaining: 14.8s\n",
      "492:\tlearn: 315.8394363\ttotal: 14.4s\tremaining: 14.8s\n",
      "493:\tlearn: 315.8015277\ttotal: 14.4s\tremaining: 14.7s\n",
      "494:\tlearn: 315.7726503\ttotal: 14.4s\tremaining: 14.7s\n",
      "495:\tlearn: 315.7463512\ttotal: 14.4s\tremaining: 14.7s\n",
      "496:\tlearn: 315.7106789\ttotal: 14.5s\tremaining: 14.6s\n",
      "497:\tlearn: 315.6639710\ttotal: 14.5s\tremaining: 14.6s\n",
      "498:\tlearn: 315.6413788\ttotal: 14.5s\tremaining: 14.6s\n",
      "499:\tlearn: 315.6159198\ttotal: 14.6s\tremaining: 14.6s\n",
      "500:\tlearn: 315.5913747\ttotal: 14.6s\tremaining: 14.5s\n",
      "501:\tlearn: 315.5507700\ttotal: 14.6s\tremaining: 14.5s\n",
      "502:\tlearn: 315.5073828\ttotal: 14.6s\tremaining: 14.5s\n",
      "503:\tlearn: 315.4564795\ttotal: 14.7s\tremaining: 14.4s\n",
      "504:\tlearn: 315.4225976\ttotal: 14.7s\tremaining: 14.4s\n",
      "505:\tlearn: 315.3934543\ttotal: 14.8s\tremaining: 14.4s\n",
      "506:\tlearn: 315.3407192\ttotal: 14.8s\tremaining: 14.4s\n",
      "507:\tlearn: 315.3176904\ttotal: 14.8s\tremaining: 14.4s\n",
      "508:\tlearn: 315.2610406\ttotal: 14.9s\tremaining: 14.3s\n",
      "509:\tlearn: 315.2399304\ttotal: 14.9s\tremaining: 14.3s\n",
      "510:\tlearn: 315.2024211\ttotal: 14.9s\tremaining: 14.3s\n",
      "511:\tlearn: 315.1555504\ttotal: 15s\tremaining: 14.3s\n",
      "512:\tlearn: 315.1144130\ttotal: 15s\tremaining: 14.2s\n",
      "513:\tlearn: 315.0927129\ttotal: 15s\tremaining: 14.2s\n",
      "514:\tlearn: 315.0564612\ttotal: 15.1s\tremaining: 14.2s\n",
      "515:\tlearn: 315.0146917\ttotal: 15.1s\tremaining: 14.2s\n",
      "516:\tlearn: 314.9889725\ttotal: 15.1s\tremaining: 14.1s\n",
      "517:\tlearn: 314.9495214\ttotal: 15.1s\tremaining: 14.1s\n",
      "518:\tlearn: 314.9244817\ttotal: 15.2s\tremaining: 14.1s\n",
      "519:\tlearn: 314.8997707\ttotal: 15.2s\tremaining: 14s\n",
      "520:\tlearn: 314.8621048\ttotal: 15.2s\tremaining: 14s\n",
      "521:\tlearn: 314.8434386\ttotal: 15.3s\tremaining: 14s\n",
      "522:\tlearn: 314.8192648\ttotal: 15.3s\tremaining: 14s\n",
      "523:\tlearn: 314.7855648\ttotal: 15.3s\tremaining: 13.9s\n",
      "524:\tlearn: 314.7179896\ttotal: 15.4s\tremaining: 13.9s\n",
      "525:\tlearn: 314.6936203\ttotal: 15.4s\tremaining: 13.9s\n",
      "526:\tlearn: 314.6458415\ttotal: 15.4s\tremaining: 13.8s\n",
      "527:\tlearn: 314.6123888\ttotal: 15.5s\tremaining: 13.8s\n",
      "528:\tlearn: 314.5602027\ttotal: 15.5s\tremaining: 13.8s\n",
      "529:\tlearn: 314.5377104\ttotal: 15.5s\tremaining: 13.8s\n",
      "530:\tlearn: 314.5066590\ttotal: 15.6s\tremaining: 13.7s\n",
      "531:\tlearn: 314.4742209\ttotal: 15.6s\tremaining: 13.7s\n",
      "532:\tlearn: 314.4440786\ttotal: 15.6s\tremaining: 13.7s\n",
      "533:\tlearn: 314.4211927\ttotal: 15.6s\tremaining: 13.6s\n",
      "534:\tlearn: 314.3864779\ttotal: 15.7s\tremaining: 13.6s\n",
      "535:\tlearn: 314.3432514\ttotal: 15.7s\tremaining: 13.6s\n",
      "536:\tlearn: 314.3060768\ttotal: 15.7s\tremaining: 13.6s\n",
      "537:\tlearn: 314.2825818\ttotal: 15.8s\tremaining: 13.5s\n",
      "538:\tlearn: 314.2451168\ttotal: 15.8s\tremaining: 13.5s\n",
      "539:\tlearn: 314.2059155\ttotal: 15.8s\tremaining: 13.5s\n",
      "540:\tlearn: 314.1740890\ttotal: 15.8s\tremaining: 13.4s\n",
      "541:\tlearn: 314.1489666\ttotal: 15.9s\tremaining: 13.4s\n",
      "542:\tlearn: 314.1284345\ttotal: 15.9s\tremaining: 13.4s\n",
      "543:\tlearn: 314.0856857\ttotal: 15.9s\tremaining: 13.4s\n",
      "544:\tlearn: 314.0669357\ttotal: 16s\tremaining: 13.3s\n",
      "545:\tlearn: 314.0191506\ttotal: 16s\tremaining: 13.3s\n",
      "546:\tlearn: 314.0037357\ttotal: 16s\tremaining: 13.3s\n",
      "547:\tlearn: 313.9830798\ttotal: 16s\tremaining: 13.2s\n",
      "548:\tlearn: 313.9331617\ttotal: 16.1s\tremaining: 13.2s\n",
      "549:\tlearn: 313.8932503\ttotal: 16.1s\tremaining: 13.2s\n",
      "550:\tlearn: 313.8605649\ttotal: 16.1s\tremaining: 13.1s\n",
      "551:\tlearn: 313.8194096\ttotal: 16.2s\tremaining: 13.1s\n",
      "552:\tlearn: 313.7806631\ttotal: 16.2s\tremaining: 13.1s\n",
      "553:\tlearn: 313.7527231\ttotal: 16.2s\tremaining: 13.1s\n",
      "554:\tlearn: 313.7196321\ttotal: 16.2s\tremaining: 13s\n",
      "555:\tlearn: 313.6988664\ttotal: 16.3s\tremaining: 13s\n",
      "556:\tlearn: 313.6847840\ttotal: 16.3s\tremaining: 13s\n",
      "557:\tlearn: 313.6396172\ttotal: 16.3s\tremaining: 12.9s\n",
      "558:\tlearn: 313.6131093\ttotal: 16.3s\tremaining: 12.9s\n",
      "559:\tlearn: 313.5922985\ttotal: 16.4s\tremaining: 12.9s\n",
      "560:\tlearn: 313.5642752\ttotal: 16.4s\tremaining: 12.8s\n",
      "561:\tlearn: 313.5327799\ttotal: 16.4s\tremaining: 12.8s\n",
      "562:\tlearn: 313.4935121\ttotal: 16.5s\tremaining: 12.8s\n",
      "563:\tlearn: 313.4644941\ttotal: 16.5s\tremaining: 12.7s\n",
      "564:\tlearn: 313.4376311\ttotal: 16.5s\tremaining: 12.7s\n",
      "565:\tlearn: 313.4040522\ttotal: 16.5s\tremaining: 12.7s\n",
      "566:\tlearn: 313.3611178\ttotal: 16.6s\tremaining: 12.7s\n",
      "567:\tlearn: 313.3282216\ttotal: 16.6s\tremaining: 12.6s\n",
      "568:\tlearn: 313.3066219\ttotal: 16.6s\tremaining: 12.6s\n",
      "569:\tlearn: 313.2822565\ttotal: 16.7s\tremaining: 12.6s\n",
      "570:\tlearn: 313.2509009\ttotal: 16.7s\tremaining: 12.5s\n",
      "571:\tlearn: 313.2279660\ttotal: 16.7s\tremaining: 12.5s\n",
      "572:\tlearn: 313.2127291\ttotal: 16.8s\tremaining: 12.5s\n",
      "573:\tlearn: 313.1565669\ttotal: 16.8s\tremaining: 12.5s\n",
      "574:\tlearn: 313.1329425\ttotal: 16.8s\tremaining: 12.4s\n",
      "575:\tlearn: 313.1029603\ttotal: 16.8s\tremaining: 12.4s\n",
      "576:\tlearn: 313.0825775\ttotal: 16.9s\tremaining: 12.4s\n",
      "577:\tlearn: 313.0519912\ttotal: 16.9s\tremaining: 12.3s\n",
      "578:\tlearn: 313.0114793\ttotal: 16.9s\tremaining: 12.3s\n",
      "579:\tlearn: 312.9876584\ttotal: 17s\tremaining: 12.3s\n",
      "580:\tlearn: 312.9441575\ttotal: 17s\tremaining: 12.2s\n",
      "581:\tlearn: 312.8947362\ttotal: 17s\tremaining: 12.2s\n",
      "582:\tlearn: 312.8563930\ttotal: 17s\tremaining: 12.2s\n",
      "583:\tlearn: 312.8300007\ttotal: 17.1s\tremaining: 12.2s\n",
      "584:\tlearn: 312.7890661\ttotal: 17.1s\tremaining: 12.1s\n",
      "585:\tlearn: 312.7635875\ttotal: 17.1s\tremaining: 12.1s\n",
      "586:\tlearn: 312.7256655\ttotal: 17.2s\tremaining: 12.1s\n",
      "587:\tlearn: 312.6831600\ttotal: 17.2s\tremaining: 12s\n",
      "588:\tlearn: 312.6666562\ttotal: 17.2s\tremaining: 12s\n",
      "589:\tlearn: 312.6425085\ttotal: 17.2s\tremaining: 12s\n",
      "590:\tlearn: 312.5978778\ttotal: 17.3s\tremaining: 11.9s\n",
      "591:\tlearn: 312.5807718\ttotal: 17.3s\tremaining: 11.9s\n",
      "592:\tlearn: 312.5428232\ttotal: 17.3s\tremaining: 11.9s\n",
      "593:\tlearn: 312.5084294\ttotal: 17.3s\tremaining: 11.9s\n",
      "594:\tlearn: 312.4817796\ttotal: 17.4s\tremaining: 11.8s\n",
      "595:\tlearn: 312.4433112\ttotal: 17.4s\tremaining: 11.8s\n",
      "596:\tlearn: 312.4177777\ttotal: 17.4s\tremaining: 11.8s\n",
      "597:\tlearn: 312.3812555\ttotal: 17.5s\tremaining: 11.7s\n",
      "598:\tlearn: 312.3586682\ttotal: 17.5s\tremaining: 11.7s\n",
      "599:\tlearn: 312.3287378\ttotal: 17.5s\tremaining: 11.7s\n",
      "600:\tlearn: 312.2842907\ttotal: 17.5s\tremaining: 11.6s\n",
      "601:\tlearn: 312.2501485\ttotal: 17.6s\tremaining: 11.6s\n",
      "602:\tlearn: 312.2316951\ttotal: 17.6s\tremaining: 11.6s\n",
      "603:\tlearn: 312.2026888\ttotal: 17.6s\tremaining: 11.6s\n",
      "604:\tlearn: 312.1583946\ttotal: 17.7s\tremaining: 11.5s\n",
      "605:\tlearn: 312.1407955\ttotal: 17.7s\tremaining: 11.5s\n",
      "606:\tlearn: 312.1071780\ttotal: 17.7s\tremaining: 11.5s\n",
      "607:\tlearn: 312.0795833\ttotal: 17.7s\tremaining: 11.4s\n",
      "608:\tlearn: 312.0517928\ttotal: 17.8s\tremaining: 11.4s\n",
      "609:\tlearn: 312.0149021\ttotal: 17.8s\tremaining: 11.4s\n",
      "610:\tlearn: 312.0040732\ttotal: 17.8s\tremaining: 11.4s\n",
      "611:\tlearn: 311.9587600\ttotal: 17.9s\tremaining: 11.3s\n",
      "612:\tlearn: 311.9278337\ttotal: 17.9s\tremaining: 11.3s\n",
      "613:\tlearn: 311.9026870\ttotal: 17.9s\tremaining: 11.3s\n",
      "614:\tlearn: 311.8632927\ttotal: 17.9s\tremaining: 11.2s\n",
      "615:\tlearn: 311.8418499\ttotal: 18s\tremaining: 11.2s\n",
      "616:\tlearn: 311.8089318\ttotal: 18s\tremaining: 11.2s\n",
      "617:\tlearn: 311.7841259\ttotal: 18s\tremaining: 11.1s\n",
      "618:\tlearn: 311.7500512\ttotal: 18.1s\tremaining: 11.1s\n",
      "619:\tlearn: 311.7086397\ttotal: 18.1s\tremaining: 11.1s\n",
      "620:\tlearn: 311.6892044\ttotal: 18.1s\tremaining: 11.1s\n",
      "621:\tlearn: 311.6542907\ttotal: 18.1s\tremaining: 11s\n",
      "622:\tlearn: 311.6186184\ttotal: 18.2s\tremaining: 11s\n",
      "623:\tlearn: 311.5801479\ttotal: 18.2s\tremaining: 11s\n",
      "624:\tlearn: 311.5303668\ttotal: 18.2s\tremaining: 10.9s\n",
      "625:\tlearn: 311.4988245\ttotal: 18.3s\tremaining: 10.9s\n",
      "626:\tlearn: 311.4440912\ttotal: 18.3s\tremaining: 10.9s\n",
      "627:\tlearn: 311.4014053\ttotal: 18.3s\tremaining: 10.8s\n",
      "628:\tlearn: 311.3835287\ttotal: 18.3s\tremaining: 10.8s\n",
      "629:\tlearn: 311.3499453\ttotal: 18.4s\tremaining: 10.8s\n",
      "630:\tlearn: 311.3152275\ttotal: 18.4s\tremaining: 10.8s\n",
      "631:\tlearn: 311.2838294\ttotal: 18.4s\tremaining: 10.7s\n",
      "632:\tlearn: 311.2521219\ttotal: 18.5s\tremaining: 10.7s\n",
      "633:\tlearn: 311.2364914\ttotal: 18.5s\tremaining: 10.7s\n",
      "634:\tlearn: 311.2090430\ttotal: 18.5s\tremaining: 10.6s\n",
      "635:\tlearn: 311.1873454\ttotal: 18.5s\tremaining: 10.6s\n",
      "636:\tlearn: 311.1566258\ttotal: 18.6s\tremaining: 10.6s\n",
      "637:\tlearn: 311.1315808\ttotal: 18.6s\tremaining: 10.5s\n",
      "638:\tlearn: 311.1031733\ttotal: 18.6s\tremaining: 10.5s\n",
      "639:\tlearn: 311.0843615\ttotal: 18.6s\tremaining: 10.5s\n",
      "640:\tlearn: 311.0433856\ttotal: 18.7s\tremaining: 10.5s\n",
      "641:\tlearn: 311.0268649\ttotal: 18.7s\tremaining: 10.4s\n",
      "642:\tlearn: 310.9959568\ttotal: 18.7s\tremaining: 10.4s\n",
      "643:\tlearn: 310.9601839\ttotal: 18.8s\tremaining: 10.4s\n",
      "644:\tlearn: 310.9370501\ttotal: 18.8s\tremaining: 10.3s\n",
      "645:\tlearn: 310.9178722\ttotal: 18.8s\tremaining: 10.3s\n",
      "646:\tlearn: 310.8858473\ttotal: 18.8s\tremaining: 10.3s\n",
      "647:\tlearn: 310.8504369\ttotal: 18.9s\tremaining: 10.2s\n",
      "648:\tlearn: 310.8006878\ttotal: 18.9s\tremaining: 10.2s\n",
      "649:\tlearn: 310.7781002\ttotal: 18.9s\tremaining: 10.2s\n",
      "650:\tlearn: 310.7619039\ttotal: 19s\tremaining: 10.2s\n",
      "651:\tlearn: 310.7283670\ttotal: 19s\tremaining: 10.1s\n",
      "652:\tlearn: 310.6869362\ttotal: 19s\tremaining: 10.1s\n",
      "653:\tlearn: 310.6582740\ttotal: 19s\tremaining: 10.1s\n",
      "654:\tlearn: 310.6345895\ttotal: 19.1s\tremaining: 10s\n",
      "655:\tlearn: 310.5863732\ttotal: 19.1s\tremaining: 10s\n",
      "656:\tlearn: 310.5546955\ttotal: 19.1s\tremaining: 9.98s\n",
      "657:\tlearn: 310.5088565\ttotal: 19.2s\tremaining: 9.96s\n",
      "658:\tlearn: 310.4762032\ttotal: 19.2s\tremaining: 9.93s\n",
      "659:\tlearn: 310.4476956\ttotal: 19.2s\tremaining: 9.9s\n",
      "660:\tlearn: 310.4006145\ttotal: 19.2s\tremaining: 9.87s\n",
      "661:\tlearn: 310.3772107\ttotal: 19.3s\tremaining: 9.84s\n",
      "662:\tlearn: 310.3579387\ttotal: 19.3s\tremaining: 9.8s\n",
      "663:\tlearn: 310.3377969\ttotal: 19.3s\tremaining: 9.78s\n",
      "664:\tlearn: 310.3037786\ttotal: 19.3s\tremaining: 9.75s\n",
      "665:\tlearn: 310.2746734\ttotal: 19.4s\tremaining: 9.72s\n",
      "666:\tlearn: 310.2532180\ttotal: 19.4s\tremaining: 9.69s\n",
      "667:\tlearn: 310.2219364\ttotal: 19.4s\tremaining: 9.66s\n",
      "668:\tlearn: 310.2056367\ttotal: 19.5s\tremaining: 9.63s\n",
      "669:\tlearn: 310.1818328\ttotal: 19.5s\tremaining: 9.6s\n",
      "670:\tlearn: 310.1546383\ttotal: 19.5s\tremaining: 9.57s\n",
      "671:\tlearn: 310.1361462\ttotal: 19.5s\tremaining: 9.54s\n",
      "672:\tlearn: 310.1016559\ttotal: 19.6s\tremaining: 9.51s\n",
      "673:\tlearn: 310.0651024\ttotal: 19.6s\tremaining: 9.48s\n",
      "674:\tlearn: 310.0478055\ttotal: 19.6s\tremaining: 9.45s\n",
      "675:\tlearn: 310.0311851\ttotal: 19.7s\tremaining: 9.42s\n",
      "676:\tlearn: 310.0061601\ttotal: 19.7s\tremaining: 9.39s\n",
      "677:\tlearn: 309.9571804\ttotal: 19.7s\tremaining: 9.36s\n",
      "678:\tlearn: 309.9372704\ttotal: 19.7s\tremaining: 9.33s\n",
      "679:\tlearn: 309.8751147\ttotal: 19.8s\tremaining: 9.3s\n",
      "680:\tlearn: 309.8393733\ttotal: 19.8s\tremaining: 9.28s\n",
      "681:\tlearn: 309.8004084\ttotal: 19.8s\tremaining: 9.25s\n",
      "682:\tlearn: 309.7521840\ttotal: 19.9s\tremaining: 9.22s\n",
      "683:\tlearn: 309.7200189\ttotal: 19.9s\tremaining: 9.19s\n",
      "684:\tlearn: 309.6940444\ttotal: 19.9s\tremaining: 9.16s\n",
      "685:\tlearn: 309.6598880\ttotal: 19.9s\tremaining: 9.13s\n",
      "686:\tlearn: 309.6439976\ttotal: 20s\tremaining: 9.1s\n",
      "687:\tlearn: 309.6117016\ttotal: 20s\tremaining: 9.07s\n",
      "688:\tlearn: 309.5834927\ttotal: 20s\tremaining: 9.04s\n",
      "689:\tlearn: 309.5605246\ttotal: 20.1s\tremaining: 9.01s\n",
      "690:\tlearn: 309.5292928\ttotal: 20.1s\tremaining: 8.98s\n",
      "691:\tlearn: 309.5086118\ttotal: 20.1s\tremaining: 8.95s\n",
      "692:\tlearn: 309.4884099\ttotal: 20.1s\tremaining: 8.92s\n",
      "693:\tlearn: 309.4506867\ttotal: 20.2s\tremaining: 8.89s\n",
      "694:\tlearn: 309.4120660\ttotal: 20.2s\tremaining: 8.86s\n",
      "695:\tlearn: 309.3899998\ttotal: 20.2s\tremaining: 8.84s\n",
      "696:\tlearn: 309.3665594\ttotal: 20.3s\tremaining: 8.81s\n",
      "697:\tlearn: 309.3472199\ttotal: 20.3s\tremaining: 8.78s\n",
      "698:\tlearn: 309.3245819\ttotal: 20.3s\tremaining: 8.75s\n",
      "699:\tlearn: 309.2868430\ttotal: 20.3s\tremaining: 8.72s\n",
      "700:\tlearn: 309.2635395\ttotal: 20.4s\tremaining: 8.69s\n",
      "701:\tlearn: 309.2446961\ttotal: 20.4s\tremaining: 8.66s\n",
      "702:\tlearn: 309.1945552\ttotal: 20.4s\tremaining: 8.63s\n",
      "703:\tlearn: 309.1743050\ttotal: 20.4s\tremaining: 8.6s\n",
      "704:\tlearn: 309.1408931\ttotal: 20.5s\tremaining: 8.57s\n",
      "705:\tlearn: 309.0941411\ttotal: 20.5s\tremaining: 8.54s\n",
      "706:\tlearn: 309.0525438\ttotal: 20.5s\tremaining: 8.51s\n",
      "707:\tlearn: 309.0319799\ttotal: 20.6s\tremaining: 8.48s\n",
      "708:\tlearn: 309.0159743\ttotal: 20.6s\tremaining: 8.45s\n",
      "709:\tlearn: 308.9902343\ttotal: 20.6s\tremaining: 8.43s\n",
      "710:\tlearn: 308.9486341\ttotal: 20.7s\tremaining: 8.4s\n",
      "711:\tlearn: 308.9229895\ttotal: 20.7s\tremaining: 8.37s\n",
      "712:\tlearn: 308.9034110\ttotal: 20.7s\tremaining: 8.34s\n",
      "713:\tlearn: 308.8786995\ttotal: 20.7s\tremaining: 8.31s\n",
      "714:\tlearn: 308.8605246\ttotal: 20.8s\tremaining: 8.28s\n",
      "715:\tlearn: 308.8309651\ttotal: 20.8s\tremaining: 8.25s\n",
      "716:\tlearn: 308.8043547\ttotal: 20.8s\tremaining: 8.22s\n",
      "717:\tlearn: 308.7871887\ttotal: 20.9s\tremaining: 8.19s\n",
      "718:\tlearn: 308.7676712\ttotal: 20.9s\tremaining: 8.16s\n",
      "719:\tlearn: 308.7495696\ttotal: 20.9s\tremaining: 8.13s\n",
      "720:\tlearn: 308.7306474\ttotal: 20.9s\tremaining: 8.1s\n",
      "721:\tlearn: 308.7048050\ttotal: 21s\tremaining: 8.07s\n",
      "722:\tlearn: 308.6689563\ttotal: 21s\tremaining: 8.04s\n",
      "723:\tlearn: 308.6471663\ttotal: 21s\tremaining: 8.01s\n",
      "724:\tlearn: 308.6210991\ttotal: 21s\tremaining: 7.98s\n",
      "725:\tlearn: 308.6099935\ttotal: 21.1s\tremaining: 7.95s\n",
      "726:\tlearn: 308.5830780\ttotal: 21.1s\tremaining: 7.92s\n",
      "727:\tlearn: 308.5553438\ttotal: 21.1s\tremaining: 7.9s\n",
      "728:\tlearn: 308.5293084\ttotal: 21.2s\tremaining: 7.87s\n",
      "729:\tlearn: 308.5001086\ttotal: 21.2s\tremaining: 7.84s\n",
      "730:\tlearn: 308.4729100\ttotal: 21.2s\tremaining: 7.81s\n",
      "731:\tlearn: 308.4444209\ttotal: 21.3s\tremaining: 7.78s\n",
      "732:\tlearn: 308.4245786\ttotal: 21.3s\tremaining: 7.75s\n",
      "733:\tlearn: 308.3956309\ttotal: 21.3s\tremaining: 7.72s\n",
      "734:\tlearn: 308.3663043\ttotal: 21.3s\tremaining: 7.69s\n",
      "735:\tlearn: 308.3337411\ttotal: 21.4s\tremaining: 7.66s\n",
      "736:\tlearn: 308.3019472\ttotal: 21.4s\tremaining: 7.63s\n",
      "737:\tlearn: 308.2689727\ttotal: 21.4s\tremaining: 7.61s\n",
      "738:\tlearn: 308.2484848\ttotal: 21.4s\tremaining: 7.58s\n",
      "739:\tlearn: 308.2243062\ttotal: 21.5s\tremaining: 7.54s\n",
      "740:\tlearn: 308.1965106\ttotal: 21.5s\tremaining: 7.51s\n",
      "741:\tlearn: 308.1791250\ttotal: 21.5s\tremaining: 7.49s\n",
      "742:\tlearn: 308.1537838\ttotal: 21.6s\tremaining: 7.46s\n",
      "743:\tlearn: 308.1251109\ttotal: 21.6s\tremaining: 7.44s\n",
      "744:\tlearn: 308.1015919\ttotal: 21.7s\tremaining: 7.41s\n",
      "745:\tlearn: 308.0787202\ttotal: 21.7s\tremaining: 7.38s\n",
      "746:\tlearn: 308.0516737\ttotal: 21.7s\tremaining: 7.35s\n",
      "747:\tlearn: 308.0307857\ttotal: 21.7s\tremaining: 7.33s\n",
      "748:\tlearn: 308.0091045\ttotal: 21.8s\tremaining: 7.29s\n",
      "749:\tlearn: 307.9816458\ttotal: 21.8s\tremaining: 7.27s\n",
      "750:\tlearn: 307.9612507\ttotal: 21.8s\tremaining: 7.24s\n",
      "751:\tlearn: 307.9265320\ttotal: 21.9s\tremaining: 7.21s\n",
      "752:\tlearn: 307.9059814\ttotal: 21.9s\tremaining: 7.18s\n",
      "753:\tlearn: 307.8813824\ttotal: 21.9s\tremaining: 7.15s\n",
      "754:\tlearn: 307.8596568\ttotal: 21.9s\tremaining: 7.12s\n",
      "755:\tlearn: 307.8374268\ttotal: 22s\tremaining: 7.09s\n",
      "756:\tlearn: 307.8061271\ttotal: 22s\tremaining: 7.06s\n",
      "757:\tlearn: 307.7829297\ttotal: 22s\tremaining: 7.03s\n",
      "758:\tlearn: 307.7689191\ttotal: 22s\tremaining: 7s\n",
      "759:\tlearn: 307.7176181\ttotal: 22.1s\tremaining: 6.97s\n",
      "760:\tlearn: 307.6905337\ttotal: 22.1s\tremaining: 6.94s\n",
      "761:\tlearn: 307.6726306\ttotal: 22.1s\tremaining: 6.91s\n",
      "762:\tlearn: 307.6526382\ttotal: 22.2s\tremaining: 6.88s\n",
      "763:\tlearn: 307.6251242\ttotal: 22.2s\tremaining: 6.85s\n",
      "764:\tlearn: 307.6115708\ttotal: 22.2s\tremaining: 6.83s\n",
      "765:\tlearn: 307.5934610\ttotal: 22.2s\tremaining: 6.79s\n",
      "766:\tlearn: 307.5680290\ttotal: 22.3s\tremaining: 6.77s\n",
      "767:\tlearn: 307.5403604\ttotal: 22.3s\tremaining: 6.74s\n",
      "768:\tlearn: 307.5196195\ttotal: 22.3s\tremaining: 6.71s\n",
      "769:\tlearn: 307.4972691\ttotal: 22.4s\tremaining: 6.68s\n",
      "770:\tlearn: 307.4782424\ttotal: 22.4s\tremaining: 6.65s\n",
      "771:\tlearn: 307.4524198\ttotal: 22.4s\tremaining: 6.62s\n",
      "772:\tlearn: 307.4068986\ttotal: 22.4s\tremaining: 6.59s\n",
      "773:\tlearn: 307.3886901\ttotal: 22.5s\tremaining: 6.56s\n",
      "774:\tlearn: 307.3767781\ttotal: 22.5s\tremaining: 6.53s\n",
      "775:\tlearn: 307.3550859\ttotal: 22.5s\tremaining: 6.5s\n",
      "776:\tlearn: 307.3318923\ttotal: 22.6s\tremaining: 6.47s\n",
      "777:\tlearn: 307.3060666\ttotal: 22.6s\tremaining: 6.44s\n",
      "778:\tlearn: 307.2847484\ttotal: 22.6s\tremaining: 6.42s\n",
      "779:\tlearn: 307.2712530\ttotal: 22.6s\tremaining: 6.39s\n",
      "780:\tlearn: 307.2494054\ttotal: 22.7s\tremaining: 6.36s\n",
      "781:\tlearn: 307.2314621\ttotal: 22.7s\tremaining: 6.33s\n",
      "782:\tlearn: 307.2086874\ttotal: 22.7s\tremaining: 6.3s\n",
      "783:\tlearn: 307.1775751\ttotal: 22.8s\tremaining: 6.27s\n",
      "784:\tlearn: 307.1427677\ttotal: 22.8s\tremaining: 6.24s\n",
      "785:\tlearn: 307.1032355\ttotal: 22.8s\tremaining: 6.21s\n",
      "786:\tlearn: 307.0902751\ttotal: 22.8s\tremaining: 6.18s\n",
      "787:\tlearn: 307.0659823\ttotal: 22.9s\tremaining: 6.15s\n",
      "788:\tlearn: 307.0424626\ttotal: 22.9s\tremaining: 6.12s\n",
      "789:\tlearn: 307.0183119\ttotal: 22.9s\tremaining: 6.09s\n",
      "790:\tlearn: 307.0075801\ttotal: 22.9s\tremaining: 6.06s\n",
      "791:\tlearn: 306.9784119\ttotal: 23s\tremaining: 6.03s\n",
      "792:\tlearn: 306.9620627\ttotal: 23s\tremaining: 6s\n",
      "793:\tlearn: 306.9436808\ttotal: 23s\tremaining: 5.97s\n",
      "794:\tlearn: 306.9283424\ttotal: 23.1s\tremaining: 5.94s\n",
      "795:\tlearn: 306.8981101\ttotal: 23.1s\tremaining: 5.92s\n",
      "796:\tlearn: 306.8705892\ttotal: 23.1s\tremaining: 5.88s\n",
      "797:\tlearn: 306.8484635\ttotal: 23.1s\tremaining: 5.86s\n",
      "798:\tlearn: 306.8281078\ttotal: 23.2s\tremaining: 5.83s\n",
      "799:\tlearn: 306.8002181\ttotal: 23.2s\tremaining: 5.8s\n",
      "800:\tlearn: 306.7768177\ttotal: 23.2s\tremaining: 5.77s\n",
      "801:\tlearn: 306.7543686\ttotal: 23.2s\tremaining: 5.74s\n",
      "802:\tlearn: 306.7230940\ttotal: 23.3s\tremaining: 5.71s\n",
      "803:\tlearn: 306.6904610\ttotal: 23.3s\tremaining: 5.68s\n",
      "804:\tlearn: 306.6658965\ttotal: 23.3s\tremaining: 5.65s\n",
      "805:\tlearn: 306.6429590\ttotal: 23.4s\tremaining: 5.62s\n",
      "806:\tlearn: 306.6256588\ttotal: 23.4s\tremaining: 5.59s\n",
      "807:\tlearn: 306.6006203\ttotal: 23.4s\tremaining: 5.57s\n",
      "808:\tlearn: 306.5794516\ttotal: 23.4s\tremaining: 5.54s\n",
      "809:\tlearn: 306.5548287\ttotal: 23.5s\tremaining: 5.51s\n",
      "810:\tlearn: 306.5231431\ttotal: 23.5s\tremaining: 5.48s\n",
      "811:\tlearn: 306.5004083\ttotal: 23.5s\tremaining: 5.45s\n",
      "812:\tlearn: 306.4764562\ttotal: 23.6s\tremaining: 5.42s\n",
      "813:\tlearn: 306.4584324\ttotal: 23.6s\tremaining: 5.39s\n",
      "814:\tlearn: 306.4362726\ttotal: 23.6s\tremaining: 5.36s\n",
      "815:\tlearn: 306.4030364\ttotal: 23.7s\tremaining: 5.33s\n",
      "816:\tlearn: 306.3769123\ttotal: 23.7s\tremaining: 5.3s\n",
      "817:\tlearn: 306.3641169\ttotal: 23.7s\tremaining: 5.27s\n",
      "818:\tlearn: 306.3351910\ttotal: 23.7s\tremaining: 5.25s\n",
      "819:\tlearn: 306.3217064\ttotal: 23.8s\tremaining: 5.21s\n",
      "820:\tlearn: 306.3011179\ttotal: 23.8s\tremaining: 5.19s\n",
      "821:\tlearn: 306.2807509\ttotal: 23.8s\tremaining: 5.16s\n",
      "822:\tlearn: 306.2554330\ttotal: 23.9s\tremaining: 5.13s\n",
      "823:\tlearn: 306.2339983\ttotal: 23.9s\tremaining: 5.1s\n",
      "824:\tlearn: 306.2156581\ttotal: 23.9s\tremaining: 5.07s\n",
      "825:\tlearn: 306.1963195\ttotal: 23.9s\tremaining: 5.04s\n",
      "826:\tlearn: 306.1796916\ttotal: 24s\tremaining: 5.01s\n",
      "827:\tlearn: 306.1523341\ttotal: 24s\tremaining: 4.98s\n",
      "828:\tlearn: 306.1360271\ttotal: 24s\tremaining: 4.95s\n",
      "829:\tlearn: 306.1120295\ttotal: 24s\tremaining: 4.92s\n",
      "830:\tlearn: 306.0956075\ttotal: 24.1s\tremaining: 4.89s\n",
      "831:\tlearn: 306.0756689\ttotal: 24.1s\tremaining: 4.87s\n",
      "832:\tlearn: 306.0433233\ttotal: 24.1s\tremaining: 4.83s\n",
      "833:\tlearn: 306.0296377\ttotal: 24.1s\tremaining: 4.8s\n",
      "834:\tlearn: 306.0079689\ttotal: 24.2s\tremaining: 4.78s\n",
      "835:\tlearn: 305.9875340\ttotal: 24.2s\tremaining: 4.75s\n",
      "836:\tlearn: 305.9435707\ttotal: 24.2s\tremaining: 4.72s\n",
      "837:\tlearn: 305.9240182\ttotal: 24.3s\tremaining: 4.69s\n",
      "838:\tlearn: 305.8874482\ttotal: 24.3s\tremaining: 4.66s\n",
      "839:\tlearn: 305.8659736\ttotal: 24.3s\tremaining: 4.63s\n",
      "840:\tlearn: 305.8503248\ttotal: 24.4s\tremaining: 4.61s\n",
      "841:\tlearn: 305.8064589\ttotal: 24.4s\tremaining: 4.58s\n",
      "842:\tlearn: 305.7907991\ttotal: 24.4s\tremaining: 4.55s\n",
      "843:\tlearn: 305.7626121\ttotal: 24.4s\tremaining: 4.52s\n",
      "844:\tlearn: 305.7374263\ttotal: 24.5s\tremaining: 4.49s\n",
      "845:\tlearn: 305.7145859\ttotal: 24.5s\tremaining: 4.46s\n",
      "846:\tlearn: 305.6915856\ttotal: 24.5s\tremaining: 4.43s\n",
      "847:\tlearn: 305.6709937\ttotal: 24.5s\tremaining: 4.4s\n",
      "848:\tlearn: 305.6614359\ttotal: 24.6s\tremaining: 4.37s\n",
      "849:\tlearn: 305.6364800\ttotal: 24.6s\tremaining: 4.34s\n",
      "850:\tlearn: 305.6084593\ttotal: 24.6s\tremaining: 4.31s\n",
      "851:\tlearn: 305.5812645\ttotal: 24.7s\tremaining: 4.28s\n",
      "852:\tlearn: 305.5610027\ttotal: 24.7s\tremaining: 4.25s\n",
      "853:\tlearn: 305.5471694\ttotal: 24.7s\tremaining: 4.23s\n",
      "854:\tlearn: 305.5221482\ttotal: 24.8s\tremaining: 4.2s\n",
      "855:\tlearn: 305.5010898\ttotal: 24.8s\tremaining: 4.17s\n",
      "856:\tlearn: 305.4660666\ttotal: 24.8s\tremaining: 4.14s\n",
      "857:\tlearn: 305.4512775\ttotal: 24.8s\tremaining: 4.11s\n",
      "858:\tlearn: 305.4306340\ttotal: 24.9s\tremaining: 4.08s\n",
      "859:\tlearn: 305.4083947\ttotal: 24.9s\tremaining: 4.05s\n",
      "860:\tlearn: 305.3783007\ttotal: 24.9s\tremaining: 4.02s\n",
      "861:\tlearn: 305.3491763\ttotal: 24.9s\tremaining: 3.99s\n",
      "862:\tlearn: 305.3169915\ttotal: 25s\tremaining: 3.96s\n",
      "863:\tlearn: 305.2976839\ttotal: 25s\tremaining: 3.94s\n",
      "864:\tlearn: 305.2808887\ttotal: 25s\tremaining: 3.91s\n",
      "865:\tlearn: 305.2647266\ttotal: 25.1s\tremaining: 3.88s\n",
      "866:\tlearn: 305.2455839\ttotal: 25.1s\tremaining: 3.85s\n",
      "867:\tlearn: 305.2256167\ttotal: 25.1s\tremaining: 3.82s\n",
      "868:\tlearn: 305.2069037\ttotal: 25.1s\tremaining: 3.79s\n",
      "869:\tlearn: 305.1967150\ttotal: 25.2s\tremaining: 3.76s\n",
      "870:\tlearn: 305.1665201\ttotal: 25.2s\tremaining: 3.73s\n",
      "871:\tlearn: 305.1452351\ttotal: 25.2s\tremaining: 3.7s\n",
      "872:\tlearn: 305.1358053\ttotal: 25.2s\tremaining: 3.67s\n",
      "873:\tlearn: 305.1187620\ttotal: 25.3s\tremaining: 3.64s\n",
      "874:\tlearn: 305.0891755\ttotal: 25.3s\tremaining: 3.61s\n",
      "875:\tlearn: 305.0734323\ttotal: 25.3s\tremaining: 3.58s\n",
      "876:\tlearn: 305.0578801\ttotal: 25.4s\tremaining: 3.56s\n",
      "877:\tlearn: 305.0318666\ttotal: 25.4s\tremaining: 3.53s\n",
      "878:\tlearn: 305.0086871\ttotal: 25.4s\tremaining: 3.5s\n",
      "879:\tlearn: 304.9904768\ttotal: 25.4s\tremaining: 3.47s\n",
      "880:\tlearn: 304.9749811\ttotal: 25.5s\tremaining: 3.44s\n",
      "881:\tlearn: 304.9555228\ttotal: 25.5s\tremaining: 3.41s\n",
      "882:\tlearn: 304.9293445\ttotal: 25.5s\tremaining: 3.38s\n",
      "883:\tlearn: 304.8967908\ttotal: 25.6s\tremaining: 3.35s\n",
      "884:\tlearn: 304.8661966\ttotal: 25.6s\tremaining: 3.33s\n",
      "885:\tlearn: 304.8477435\ttotal: 25.6s\tremaining: 3.3s\n",
      "886:\tlearn: 304.8344444\ttotal: 25.6s\tremaining: 3.27s\n",
      "887:\tlearn: 304.7965220\ttotal: 25.7s\tremaining: 3.24s\n",
      "888:\tlearn: 304.7653856\ttotal: 25.7s\tremaining: 3.21s\n",
      "889:\tlearn: 304.7393139\ttotal: 25.7s\tremaining: 3.18s\n",
      "890:\tlearn: 304.7146934\ttotal: 25.8s\tremaining: 3.15s\n",
      "891:\tlearn: 304.6881388\ttotal: 25.8s\tremaining: 3.12s\n",
      "892:\tlearn: 304.6587237\ttotal: 25.8s\tremaining: 3.09s\n",
      "893:\tlearn: 304.6377191\ttotal: 25.8s\tremaining: 3.06s\n",
      "894:\tlearn: 304.6199852\ttotal: 25.9s\tremaining: 3.04s\n",
      "895:\tlearn: 304.5764195\ttotal: 25.9s\tremaining: 3.01s\n",
      "896:\tlearn: 304.5649715\ttotal: 25.9s\tremaining: 2.98s\n",
      "897:\tlearn: 304.5450707\ttotal: 26s\tremaining: 2.95s\n",
      "898:\tlearn: 304.5361704\ttotal: 26s\tremaining: 2.92s\n",
      "899:\tlearn: 304.5157345\ttotal: 26s\tremaining: 2.89s\n",
      "900:\tlearn: 304.4897349\ttotal: 26s\tremaining: 2.86s\n",
      "901:\tlearn: 304.4793219\ttotal: 26.1s\tremaining: 2.83s\n",
      "902:\tlearn: 304.4533420\ttotal: 26.1s\tremaining: 2.8s\n",
      "903:\tlearn: 304.4329069\ttotal: 26.1s\tremaining: 2.77s\n",
      "904:\tlearn: 304.3933968\ttotal: 26.2s\tremaining: 2.75s\n",
      "905:\tlearn: 304.3764894\ttotal: 26.2s\tremaining: 2.72s\n",
      "906:\tlearn: 304.3668708\ttotal: 26.2s\tremaining: 2.69s\n",
      "907:\tlearn: 304.3324683\ttotal: 26.2s\tremaining: 2.66s\n",
      "908:\tlearn: 304.3027830\ttotal: 26.3s\tremaining: 2.63s\n",
      "909:\tlearn: 304.2885304\ttotal: 26.3s\tremaining: 2.6s\n",
      "910:\tlearn: 304.2517206\ttotal: 26.3s\tremaining: 2.57s\n",
      "911:\tlearn: 304.2353642\ttotal: 26.4s\tremaining: 2.54s\n",
      "912:\tlearn: 304.2238494\ttotal: 26.4s\tremaining: 2.51s\n",
      "913:\tlearn: 304.2071230\ttotal: 26.4s\tremaining: 2.48s\n",
      "914:\tlearn: 304.1839611\ttotal: 26.4s\tremaining: 2.46s\n",
      "915:\tlearn: 304.1567524\ttotal: 26.5s\tremaining: 2.43s\n",
      "916:\tlearn: 304.1399848\ttotal: 26.5s\tremaining: 2.4s\n",
      "917:\tlearn: 304.1083614\ttotal: 26.5s\tremaining: 2.37s\n",
      "918:\tlearn: 304.0878564\ttotal: 26.6s\tremaining: 2.34s\n",
      "919:\tlearn: 304.0635091\ttotal: 26.6s\tremaining: 2.31s\n",
      "920:\tlearn: 304.0394726\ttotal: 26.6s\tremaining: 2.28s\n",
      "921:\tlearn: 304.0175683\ttotal: 26.6s\tremaining: 2.25s\n",
      "922:\tlearn: 304.0037565\ttotal: 26.7s\tremaining: 2.23s\n",
      "923:\tlearn: 303.9852506\ttotal: 26.7s\tremaining: 2.2s\n",
      "924:\tlearn: 303.9654760\ttotal: 26.7s\tremaining: 2.17s\n",
      "925:\tlearn: 303.9507776\ttotal: 26.8s\tremaining: 2.14s\n",
      "926:\tlearn: 303.9380406\ttotal: 26.8s\tremaining: 2.11s\n",
      "927:\tlearn: 303.9256972\ttotal: 26.8s\tremaining: 2.08s\n",
      "928:\tlearn: 303.9077921\ttotal: 26.8s\tremaining: 2.05s\n",
      "929:\tlearn: 303.8827060\ttotal: 26.9s\tremaining: 2.02s\n",
      "930:\tlearn: 303.8674909\ttotal: 26.9s\tremaining: 1.99s\n",
      "931:\tlearn: 303.8311077\ttotal: 26.9s\tremaining: 1.96s\n",
      "932:\tlearn: 303.8002345\ttotal: 27s\tremaining: 1.94s\n",
      "933:\tlearn: 303.7700485\ttotal: 27s\tremaining: 1.91s\n",
      "934:\tlearn: 303.7592349\ttotal: 27s\tremaining: 1.88s\n",
      "935:\tlearn: 303.7451674\ttotal: 27s\tremaining: 1.85s\n",
      "936:\tlearn: 303.7287876\ttotal: 27.1s\tremaining: 1.82s\n",
      "937:\tlearn: 303.7059283\ttotal: 27.1s\tremaining: 1.79s\n",
      "938:\tlearn: 303.6897979\ttotal: 27.1s\tremaining: 1.76s\n",
      "939:\tlearn: 303.6632563\ttotal: 27.2s\tremaining: 1.73s\n",
      "940:\tlearn: 303.6524962\ttotal: 27.2s\tremaining: 1.7s\n",
      "941:\tlearn: 303.6347526\ttotal: 27.2s\tremaining: 1.67s\n",
      "942:\tlearn: 303.6057631\ttotal: 27.2s\tremaining: 1.65s\n",
      "943:\tlearn: 303.5884339\ttotal: 27.3s\tremaining: 1.62s\n",
      "944:\tlearn: 303.5703685\ttotal: 27.3s\tremaining: 1.59s\n",
      "945:\tlearn: 303.5437653\ttotal: 27.3s\tremaining: 1.56s\n",
      "946:\tlearn: 303.5364252\ttotal: 27.3s\tremaining: 1.53s\n",
      "947:\tlearn: 303.5048581\ttotal: 27.4s\tremaining: 1.5s\n",
      "948:\tlearn: 303.4836528\ttotal: 27.4s\tremaining: 1.47s\n",
      "949:\tlearn: 303.4657996\ttotal: 27.4s\tremaining: 1.44s\n",
      "950:\tlearn: 303.4587410\ttotal: 27.4s\tremaining: 1.41s\n",
      "951:\tlearn: 303.4456121\ttotal: 27.5s\tremaining: 1.39s\n",
      "952:\tlearn: 303.4295345\ttotal: 27.5s\tremaining: 1.36s\n",
      "953:\tlearn: 303.4117982\ttotal: 27.5s\tremaining: 1.33s\n",
      "954:\tlearn: 303.3945661\ttotal: 27.6s\tremaining: 1.3s\n",
      "955:\tlearn: 303.3835867\ttotal: 27.6s\tremaining: 1.27s\n",
      "956:\tlearn: 303.3639393\ttotal: 27.6s\tremaining: 1.24s\n",
      "957:\tlearn: 303.3464834\ttotal: 27.6s\tremaining: 1.21s\n",
      "958:\tlearn: 303.3237353\ttotal: 27.7s\tremaining: 1.18s\n",
      "959:\tlearn: 303.2999435\ttotal: 27.7s\tremaining: 1.15s\n",
      "960:\tlearn: 303.2767194\ttotal: 27.7s\tremaining: 1.13s\n",
      "961:\tlearn: 303.2663098\ttotal: 27.8s\tremaining: 1.1s\n",
      "962:\tlearn: 303.2467141\ttotal: 27.8s\tremaining: 1.07s\n",
      "963:\tlearn: 303.2165398\ttotal: 27.8s\tremaining: 1.04s\n",
      "964:\tlearn: 303.2021884\ttotal: 27.8s\tremaining: 1.01s\n",
      "965:\tlearn: 303.1870196\ttotal: 27.9s\tremaining: 981ms\n",
      "966:\tlearn: 303.1675429\ttotal: 27.9s\tremaining: 952ms\n",
      "967:\tlearn: 303.1421505\ttotal: 27.9s\tremaining: 923ms\n",
      "968:\tlearn: 303.1292185\ttotal: 28s\tremaining: 894ms\n",
      "969:\tlearn: 303.1145024\ttotal: 28s\tremaining: 865ms\n",
      "970:\tlearn: 303.0843727\ttotal: 28s\tremaining: 837ms\n",
      "971:\tlearn: 303.0648516\ttotal: 28s\tremaining: 808ms\n",
      "972:\tlearn: 303.0439788\ttotal: 28.1s\tremaining: 779ms\n",
      "973:\tlearn: 303.0190394\ttotal: 28.1s\tremaining: 750ms\n",
      "974:\tlearn: 303.0050566\ttotal: 28.1s\tremaining: 721ms\n",
      "975:\tlearn: 302.9798108\ttotal: 28.2s\tremaining: 692ms\n",
      "976:\tlearn: 302.9549004\ttotal: 28.2s\tremaining: 664ms\n",
      "977:\tlearn: 302.9256545\ttotal: 28.2s\tremaining: 635ms\n",
      "978:\tlearn: 302.9182148\ttotal: 28.2s\tremaining: 606ms\n",
      "979:\tlearn: 302.9014421\ttotal: 28.3s\tremaining: 577ms\n",
      "980:\tlearn: 302.8819917\ttotal: 28.3s\tremaining: 548ms\n",
      "981:\tlearn: 302.8691448\ttotal: 28.3s\tremaining: 519ms\n",
      "982:\tlearn: 302.8438597\ttotal: 28.4s\tremaining: 491ms\n",
      "983:\tlearn: 302.8166819\ttotal: 28.4s\tremaining: 462ms\n",
      "984:\tlearn: 302.7889966\ttotal: 28.4s\tremaining: 433ms\n",
      "985:\tlearn: 302.7712055\ttotal: 28.4s\tremaining: 404ms\n",
      "986:\tlearn: 302.7604616\ttotal: 28.5s\tremaining: 375ms\n",
      "987:\tlearn: 302.7443347\ttotal: 28.5s\tremaining: 346ms\n",
      "988:\tlearn: 302.7314332\ttotal: 28.5s\tremaining: 317ms\n",
      "989:\tlearn: 302.7179444\ttotal: 28.6s\tremaining: 289ms\n",
      "990:\tlearn: 302.7041417\ttotal: 28.6s\tremaining: 260ms\n",
      "991:\tlearn: 302.6841850\ttotal: 28.6s\tremaining: 231ms\n",
      "992:\tlearn: 302.6674175\ttotal: 28.6s\tremaining: 202ms\n",
      "993:\tlearn: 302.6481823\ttotal: 28.7s\tremaining: 173ms\n",
      "994:\tlearn: 302.6292957\ttotal: 28.7s\tremaining: 144ms\n",
      "995:\tlearn: 302.6084204\ttotal: 28.7s\tremaining: 115ms\n",
      "996:\tlearn: 302.5896037\ttotal: 28.8s\tremaining: 86.5ms\n",
      "997:\tlearn: 302.5704694\ttotal: 28.8s\tremaining: 57.7ms\n",
      "998:\tlearn: 302.5442315\ttotal: 28.8s\tremaining: 28.8ms\n",
      "999:\tlearn: 302.5233422\ttotal: 28.8s\tremaining: 0us\n",
      "RMSE: 309.5100424160718\n",
      "Wall time: 30.3 s\n"
     ]
    }
   ],
   "source": [
    "%%time\n",
    "box_model_rmse(CatBoostRegressor(), features_train, target_train, features_test, target_test)"
   ]
  },
  {
   "cell_type": "markdown",
   "metadata": {},
   "source": [
    "Обучается достаточно быстро (быстрее случайного леса даже со стандартными параметрами) и даёт сопоставимый с ним результат."
   ]
  },
  {
   "cell_type": "markdown",
   "metadata": {},
   "source": [
    "### LGBMRegressor"
   ]
  },
  {
   "cell_type": "code",
   "execution_count": 52,
   "metadata": {},
   "outputs": [
    {
     "name": "stdout",
     "output_type": "stream",
     "text": [
      "RMSE: 327.0076467213658\n",
      "Wall time: 1.55 s\n"
     ]
    }
   ],
   "source": [
    "%%time\n",
    "box_model_rmse(lgb.LGBMRegressor(), features_train, target_train, features_test, target_test)"
   ]
  },
  {
   "cell_type": "code",
   "execution_count": 53,
   "metadata": {},
   "outputs": [
    {
     "data": {
      "text/plain": [
       "{'max_depth': 5, 'n_estimators': 100}"
      ]
     },
     "metadata": {},
     "output_type": "display_data"
    },
    {
     "name": "stdout",
     "output_type": "stream",
     "text": [
      "Wall time: 14.1 s\n"
     ]
    },
    {
     "data": {
      "text/plain": [
       "-337.06874480274365"
      ]
     },
     "execution_count": 53,
     "metadata": {},
     "output_type": "execute_result"
    }
   ],
   "source": [
    "%%time\n",
    "# подбор параметров LGBMRegressor\n",
    "parameters = { 'n_estimators': (10, 100),\n",
    "              'max_depth': (3, 5) }\n",
    "lgbm = lgb.LGBMRegressor(random_state=12345)\n",
    "grid = GridSearchCV(lgbm, parameters, scoring='neg_root_mean_squared_error')\n",
    "grid.fit(features_train, target_train)\n",
    "predictions_valid = grid.predict(features_test)\n",
    "\n",
    "display(grid.best_params_)\n",
    "grid.best_score_"
   ]
  },
  {
   "cell_type": "markdown",
   "metadata": {},
   "source": [
    "RMSE модели несколько хуже случайного леса и CatBoost, однако обучается быстрее этих моделей если не требуется подбор параметров."
   ]
  },
  {
   "cell_type": "markdown",
   "metadata": {},
   "source": [
    "### Dummy model"
   ]
  },
  {
   "cell_type": "markdown",
   "metadata": {},
   "source": [
    "Построим dummy модель для проверки адекватности работы других моделей обучения."
   ]
  },
  {
   "cell_type": "code",
   "execution_count": 54,
   "metadata": {},
   "outputs": [
    {
     "name": "stdout",
     "output_type": "stream",
     "text": [
      "RMSE: 916.0661842472579\n",
      "Wall time: 4 ms\n"
     ]
    }
   ],
   "source": [
    "%%time\n",
    "box_model_rmse(DummyRegressor(strategy=\"mean\"), features_train, target_train, features_test, target_test)"
   ]
  },
  {
   "cell_type": "markdown",
   "metadata": {},
   "source": [
    "### Вывод"
   ]
  },
  {
   "cell_type": "markdown",
   "metadata": {},
   "source": [
    "- По результатам работы моделей были получены необходимые для анализа метрики RMSE и время работы.\n",
    "- Все модели прошли тест на адекватность, показав результаты работы превосходящие dummy модель."
   ]
  },
  {
   "cell_type": "markdown",
   "metadata": {},
   "source": [
    "## Анализ моделей"
   ]
  },
  {
   "cell_type": "markdown",
   "metadata": {},
   "source": [
    "Создадим датафрейм с результатами и времени работы моделей."
   ]
  },
  {
   "cell_type": "code",
   "execution_count": 57,
   "metadata": {},
   "outputs": [
    {
     "data": {
      "text/html": [
       "<div>\n",
       "<style scoped>\n",
       "    .dataframe tbody tr th:only-of-type {\n",
       "        vertical-align: middle;\n",
       "    }\n",
       "\n",
       "    .dataframe tbody tr th {\n",
       "        vertical-align: top;\n",
       "    }\n",
       "\n",
       "    .dataframe thead th {\n",
       "        text-align: right;\n",
       "    }\n",
       "</style>\n",
       "<table border=\"1\" class=\"dataframe\">\n",
       "  <thead>\n",
       "    <tr style=\"text-align: right;\">\n",
       "      <th></th>\n",
       "      <th>Model_name</th>\n",
       "      <th>RMSE</th>\n",
       "      <th>Time</th>\n",
       "    </tr>\n",
       "  </thead>\n",
       "  <tbody>\n",
       "    <tr>\n",
       "      <th>0</th>\n",
       "      <td>DecisionTreeRegressor</td>\n",
       "      <td>362</td>\n",
       "      <td>22.1 s</td>\n",
       "    </tr>\n",
       "    <tr>\n",
       "      <th>1</th>\n",
       "      <td>RandomForestRegressor</td>\n",
       "      <td>309</td>\n",
       "      <td>71 s</td>\n",
       "    </tr>\n",
       "    <tr>\n",
       "      <th>2</th>\n",
       "      <td>LinearRegression</td>\n",
       "      <td>575</td>\n",
       "      <td>149 ms</td>\n",
       "    </tr>\n",
       "    <tr>\n",
       "      <th>3</th>\n",
       "      <td>CatBoostRegressor</td>\n",
       "      <td>309</td>\n",
       "      <td>30.3 s</td>\n",
       "    </tr>\n",
       "    <tr>\n",
       "      <th>4</th>\n",
       "      <td>LGBMRegressor</td>\n",
       "      <td>327</td>\n",
       "      <td>1.55 s</td>\n",
       "    </tr>\n",
       "    <tr>\n",
       "      <th>5</th>\n",
       "      <td>DummyRegressor</td>\n",
       "      <td>916</td>\n",
       "      <td>4 ms</td>\n",
       "    </tr>\n",
       "  </tbody>\n",
       "</table>\n",
       "</div>"
      ],
      "text/plain": [
       "              Model_name  RMSE    Time\n",
       "0  DecisionTreeRegressor   362  22.1 s\n",
       "1  RandomForestRegressor   309    71 s\n",
       "2       LinearRegression   575  149 ms\n",
       "3      CatBoostRegressor   309  30.3 s\n",
       "4          LGBMRegressor   327  1.55 s\n",
       "5         DummyRegressor   916    4 ms"
      ]
     },
     "execution_count": 57,
     "metadata": {},
     "output_type": "execute_result"
    }
   ],
   "source": [
    "model_dict = {'Model_name': ['DecisionTreeRegressor',\n",
    "                             'RandomForestRegressor',\n",
    "                             'LinearRegression',\n",
    "                             'CatBoostRegressor',\n",
    "                             'LGBMRegressor',\n",
    "                             'DummyRegressor'],\n",
    "             'RMSE': [362, 309, 575, 309, 327, 916],\n",
    "              'Time': ['22.1 s', '71 s', '149 ms', '30.3 s', '1.55 s', '4 ms']}\n",
    "df_result = pd.DataFrame(model_dict)\n",
    "df_result"
   ]
  },
  {
   "cell_type": "code",
   "execution_count": 58,
   "metadata": {
    "scrolled": false
   },
   "outputs": [
    {
     "data": {
      "image/png": "[encoded data removed]",
      "text/plain": [
       "<Figure size 1152x648 with 1 Axes>"
      ]
     },
     "metadata": {
      "needs_background": "light"
     },
     "output_type": "display_data"
    }
   ],
   "source": [
    "plt.figure(figsize=(16,9))\n",
    "plt.title('Столбчатая диаграмма RMSE моделей')\n",
    "sns.barplot(x='Model_name', y='RMSE', data=df_result);"
   ]
  },
  {
   "cell_type": "markdown",
   "metadata": {},
   "source": [
    "### Вывод"
   ]
  },
  {
   "cell_type": "markdown",
   "metadata": {},
   "source": [
    "Модели случайного леса и CatBoost показали лучшие результаты RMSE. Несколько хуже по этому показателю оказалась модель LGBMRegressor. Время работы моделей LGBMRegressor и RandomForest из коробки также значительно меньше времени работы с подбором гиперпараметров. При этом подбор параметров не улучшил качество работы моделей."
   ]
  },
  {
   "cell_type": "markdown",
   "metadata": {},
   "source": [
    "## Общий вывод"
   ]
  },
  {
   "cell_type": "markdown",
   "metadata": {},
   "source": [
    "- Лучшими моделями по показателю RMSE стали RandomForestRegressor, CatBoostRegressor и LGBMRegressor (в порядке возрастания ошибки). RandomForestRegressor и CatBoostRegressor при этом показали сопоставимые результаты, LGBMRegressor показал результат немного хуже.\n",
    "- При этом LGBMRegressor сработал быстрее CatBoostRegressor и RandomForestRegressor.\n",
    "- Самыой быстрой моделью оказалась LinearRegression, однако качество работы LinearRegression существенно уступает остальным.\n",
    "\n",
    "**В соответствии с заданными параметрами выбора модели по качеству предсказаний и скорости обучения, лучшей моделью для определения стоимости автомобиля можно считать LGBMRegressor (учитывая скорость обучения) при условии что мы берём модель \"из коробки\", хотя более точной является CatBoost.**\n",
    "\n",
    "**Если для улчешения работы модели требуется подбор гиперпараметров, что значительно замедляет работы LGBMRegressor, оптимальной моделью будет CatBoost.**"
   ]
  }
 ],
 "metadata": {
  "ExecuteTimeLog": [
   {
    "duration": 1381,
    "start_time": "2022-06-04T19:16:46.485Z"
   },
   {
    "duration": 2738,
    "start_time": "2022-06-04T19:17:28.128Z"
   },
   {
    "duration": 132,
    "start_time": "2022-06-04T19:18:24.427Z"
   },
   {
    "duration": 13,
    "start_time": "2022-06-04T19:21:58.948Z"
   },
   {
    "duration": 34,
    "start_time": "2022-06-04T19:22:41.008Z"
   },
   {
    "duration": 60,
    "start_time": "2022-06-04T19:23:35.945Z"
   },
   {
    "duration": 72,
    "start_time": "2022-06-04T19:24:03.978Z"
   },
   {
    "duration": 62,
    "start_time": "2022-06-04T19:24:35.486Z"
   },
   {
    "duration": 31,
    "start_time": "2022-06-04T19:24:55.583Z"
   },
   {
    "duration": 44,
    "start_time": "2022-06-04T19:25:03.489Z"
   },
   {
    "duration": 51,
    "start_time": "2022-06-04T19:25:45.088Z"
   },
   {
    "duration": 42,
    "start_time": "2022-06-04T19:26:20.832Z"
   },
   {
    "duration": 40,
    "start_time": "2022-06-04T19:26:40.032Z"
   },
   {
    "duration": 50,
    "start_time": "2022-06-04T19:27:30.378Z"
   },
   {
    "duration": 50,
    "start_time": "2022-06-04T19:28:01.056Z"
   },
   {
    "duration": 2,
    "start_time": "2022-06-04T19:28:44.980Z"
   },
   {
    "duration": 452,
    "start_time": "2022-06-05T06:26:10.607Z"
   },
   {
    "duration": 460,
    "start_time": "2022-06-05T06:26:35.888Z"
   },
   {
    "duration": 834,
    "start_time": "2022-06-05T06:28:31.377Z"
   },
   {
    "duration": 106,
    "start_time": "2022-06-05T06:29:20.325Z"
   },
   {
    "duration": 1157,
    "start_time": "2022-06-05T06:29:34.504Z"
   },
   {
    "duration": 841,
    "start_time": "2022-06-05T06:29:35.663Z"
   },
   {
    "duration": 135,
    "start_time": "2022-06-05T06:29:36.506Z"
   },
   {
    "duration": 12,
    "start_time": "2022-06-05T06:29:36.643Z"
   },
   {
    "duration": 12,
    "start_time": "2022-06-05T06:29:36.657Z"
   },
   {
    "duration": 57,
    "start_time": "2022-06-05T06:29:36.670Z"
   },
   {
    "duration": 149,
    "start_time": "2022-06-05T06:29:36.729Z"
   },
   {
    "duration": 0,
    "start_time": "2022-06-05T06:29:36.880Z"
   },
   {
    "duration": 50,
    "start_time": "2022-06-05T06:29:50.815Z"
   },
   {
    "duration": 473,
    "start_time": "2022-06-05T06:30:00.806Z"
   },
   {
    "duration": 9,
    "start_time": "2022-06-05T06:32:06.845Z"
   },
   {
    "duration": 1140,
    "start_time": "2022-06-05T06:33:18.622Z"
   },
   {
    "duration": 795,
    "start_time": "2022-06-05T06:33:19.765Z"
   },
   {
    "duration": 129,
    "start_time": "2022-06-05T06:33:20.562Z"
   },
   {
    "duration": 12,
    "start_time": "2022-06-05T06:33:20.693Z"
   },
   {
    "duration": 473,
    "start_time": "2022-06-05T06:33:20.708Z"
   },
   {
    "duration": 2,
    "start_time": "2022-06-05T06:33:21.182Z"
   },
   {
    "duration": 38,
    "start_time": "2022-06-05T06:33:21.186Z"
   },
   {
    "duration": 109,
    "start_time": "2022-06-05T06:33:21.225Z"
   },
   {
    "duration": 0,
    "start_time": "2022-06-05T06:33:21.336Z"
   },
   {
    "duration": 0,
    "start_time": "2022-06-05T06:33:21.341Z"
   },
   {
    "duration": 0,
    "start_time": "2022-06-05T06:33:21.342Z"
   },
   {
    "duration": 8,
    "start_time": "2022-06-05T06:33:34.637Z"
   },
   {
    "duration": 3,
    "start_time": "2022-06-05T06:34:00.577Z"
   },
   {
    "duration": 97,
    "start_time": "2022-06-05T06:34:03.149Z"
   },
   {
    "duration": 118,
    "start_time": "2022-06-05T06:34:05.078Z"
   },
   {
    "duration": 14,
    "start_time": "2022-06-05T06:34:34.260Z"
   },
   {
    "duration": 123,
    "start_time": "2022-06-05T06:34:36.925Z"
   },
   {
    "duration": 1131,
    "start_time": "2022-06-05T06:34:43.121Z"
   },
   {
    "duration": 815,
    "start_time": "2022-06-05T06:34:44.254Z"
   },
   {
    "duration": 134,
    "start_time": "2022-06-05T06:34:45.070Z"
   },
   {
    "duration": 13,
    "start_time": "2022-06-05T06:34:45.207Z"
   },
   {
    "duration": 480,
    "start_time": "2022-06-05T06:34:45.222Z"
   },
   {
    "duration": 3,
    "start_time": "2022-06-05T06:34:45.704Z"
   },
   {
    "duration": 45,
    "start_time": "2022-06-05T06:34:45.708Z"
   },
   {
    "duration": 4,
    "start_time": "2022-06-05T06:34:45.755Z"
   },
   {
    "duration": 5,
    "start_time": "2022-06-05T06:34:45.760Z"
   },
   {
    "duration": 141,
    "start_time": "2022-06-05T06:34:45.768Z"
   },
   {
    "duration": 2,
    "start_time": "2022-06-05T06:34:45.911Z"
   },
   {
    "duration": 108,
    "start_time": "2022-06-05T06:35:07.129Z"
   },
   {
    "duration": 83,
    "start_time": "2022-06-05T06:35:29.210Z"
   },
   {
    "duration": 119,
    "start_time": "2022-06-05T06:35:31.153Z"
   },
   {
    "duration": 1085,
    "start_time": "2022-06-05T06:35:38.077Z"
   },
   {
    "duration": 820,
    "start_time": "2022-06-05T06:35:39.164Z"
   },
   {
    "duration": 124,
    "start_time": "2022-06-05T06:35:39.985Z"
   },
   {
    "duration": 13,
    "start_time": "2022-06-05T06:35:40.110Z"
   },
   {
    "duration": 461,
    "start_time": "2022-06-05T06:35:40.142Z"
   },
   {
    "duration": 2,
    "start_time": "2022-06-05T06:35:40.605Z"
   },
   {
    "duration": 49,
    "start_time": "2022-06-05T06:35:40.608Z"
   },
   {
    "duration": 3,
    "start_time": "2022-06-05T06:35:40.659Z"
   },
   {
    "duration": 98,
    "start_time": "2022-06-05T06:35:40.664Z"
   },
   {
    "duration": 121,
    "start_time": "2022-06-05T06:35:40.764Z"
   },
   {
    "duration": 3,
    "start_time": "2022-06-05T06:35:40.886Z"
   },
   {
    "duration": 463,
    "start_time": "2022-06-05T06:44:03.190Z"
   },
   {
    "duration": 503,
    "start_time": "2022-06-05T06:44:10.247Z"
   },
   {
    "duration": 568,
    "start_time": "2022-06-05T06:44:26.113Z"
   },
   {
    "duration": 464,
    "start_time": "2022-06-05T06:44:33.182Z"
   },
   {
    "duration": 2,
    "start_time": "2022-06-05T06:45:04.736Z"
   },
   {
    "duration": 107,
    "start_time": "2022-06-05T06:50:37.302Z"
   },
   {
    "duration": 7,
    "start_time": "2022-06-05T06:50:40.838Z"
   },
   {
    "duration": 49,
    "start_time": "2022-06-05T06:51:30.292Z"
   },
   {
    "duration": 25,
    "start_time": "2022-06-05T06:52:06.672Z"
   },
   {
    "duration": 15,
    "start_time": "2022-06-05T06:52:11.173Z"
   },
   {
    "duration": 1069,
    "start_time": "2022-06-05T06:52:27.197Z"
   },
   {
    "duration": 834,
    "start_time": "2022-06-05T06:52:28.268Z"
   },
   {
    "duration": 126,
    "start_time": "2022-06-05T06:52:29.103Z"
   },
   {
    "duration": 19,
    "start_time": "2022-06-05T06:52:29.232Z"
   },
   {
    "duration": 469,
    "start_time": "2022-06-05T06:52:29.253Z"
   },
   {
    "duration": 483,
    "start_time": "2022-06-05T06:52:29.723Z"
   },
   {
    "duration": 3,
    "start_time": "2022-06-05T06:52:30.207Z"
   },
   {
    "duration": 7,
    "start_time": "2022-06-05T06:52:30.211Z"
   },
   {
    "duration": 7,
    "start_time": "2022-06-05T06:52:30.220Z"
   },
   {
    "duration": 93,
    "start_time": "2022-06-05T06:52:30.229Z"
   },
   {
    "duration": 131,
    "start_time": "2022-06-05T06:52:30.324Z"
   },
   {
    "duration": 7,
    "start_time": "2022-06-05T06:52:30.457Z"
   },
   {
    "duration": 52,
    "start_time": "2022-06-05T06:52:30.466Z"
   },
   {
    "duration": 102,
    "start_time": "2022-06-05T06:54:55.488Z"
   },
   {
    "duration": 106,
    "start_time": "2022-06-05T06:54:59.888Z"
   },
   {
    "duration": 505,
    "start_time": "2022-06-05T06:55:13.888Z"
   },
   {
    "duration": 434,
    "start_time": "2022-06-05T06:55:23.448Z"
   },
   {
    "duration": 9,
    "start_time": "2022-06-05T07:06:32.406Z"
   },
   {
    "duration": 10,
    "start_time": "2022-06-05T07:21:31.409Z"
   },
   {
    "duration": 449,
    "start_time": "2022-06-05T07:21:39.828Z"
   },
   {
    "duration": 2,
    "start_time": "2022-06-05T07:22:22.882Z"
   },
   {
    "duration": 489,
    "start_time": "2022-06-05T07:22:29.282Z"
   },
   {
    "duration": 436,
    "start_time": "2022-06-05T07:22:53.788Z"
   },
   {
    "duration": 595,
    "start_time": "2022-06-05T07:23:00.524Z"
   },
   {
    "duration": 33,
    "start_time": "2022-06-05T07:29:11.882Z"
   },
   {
    "duration": 49,
    "start_time": "2022-06-05T07:29:25.849Z"
   },
   {
    "duration": 37,
    "start_time": "2022-06-05T07:30:16.851Z"
   },
   {
    "duration": 65,
    "start_time": "2022-06-05T07:30:20.794Z"
   },
   {
    "duration": 12,
    "start_time": "2022-06-05T07:36:36.456Z"
   },
   {
    "duration": 32,
    "start_time": "2022-06-05T07:37:33.381Z"
   },
   {
    "duration": 40,
    "start_time": "2022-06-05T07:37:36.999Z"
   },
   {
    "duration": 44,
    "start_time": "2022-06-05T07:37:51.913Z"
   },
   {
    "duration": 155,
    "start_time": "2022-06-05T07:38:55.491Z"
   },
   {
    "duration": 147,
    "start_time": "2022-06-05T07:39:01.884Z"
   },
   {
    "duration": 246,
    "start_time": "2022-06-05T07:40:32.920Z"
   },
   {
    "duration": 85,
    "start_time": "2022-06-05T07:41:18.975Z"
   },
   {
    "duration": 9,
    "start_time": "2022-06-05T07:43:29.482Z"
   },
   {
    "duration": 160,
    "start_time": "2022-06-05T07:43:33.190Z"
   },
   {
    "duration": 160,
    "start_time": "2022-06-05T07:43:47.103Z"
   },
   {
    "duration": 104,
    "start_time": "2022-06-05T08:07:54.383Z"
   },
   {
    "duration": 1085,
    "start_time": "2022-06-05T08:09:05.961Z"
   },
   {
    "duration": 807,
    "start_time": "2022-06-05T08:09:07.048Z"
   },
   {
    "duration": 130,
    "start_time": "2022-06-05T08:09:07.857Z"
   },
   {
    "duration": 12,
    "start_time": "2022-06-05T08:09:07.989Z"
   },
   {
    "duration": 467,
    "start_time": "2022-06-05T08:09:08.003Z"
   },
   {
    "duration": 471,
    "start_time": "2022-06-05T08:09:08.472Z"
   },
   {
    "duration": 2,
    "start_time": "2022-06-05T08:09:08.945Z"
   },
   {
    "duration": 5,
    "start_time": "2022-06-05T08:09:08.949Z"
   },
   {
    "duration": 5,
    "start_time": "2022-06-05T08:09:08.956Z"
   },
   {
    "duration": 95,
    "start_time": "2022-06-05T08:09:08.962Z"
   },
   {
    "duration": 121,
    "start_time": "2022-06-05T08:09:09.059Z"
   },
   {
    "duration": 7,
    "start_time": "2022-06-05T08:09:09.181Z"
   },
   {
    "duration": 64,
    "start_time": "2022-06-05T08:09:09.190Z"
   },
   {
    "duration": 553,
    "start_time": "2022-06-05T08:09:09.256Z"
   },
   {
    "duration": 67,
    "start_time": "2022-06-05T08:09:09.811Z"
   },
   {
    "duration": 166,
    "start_time": "2022-06-05T08:09:09.879Z"
   },
   {
    "duration": 9,
    "start_time": "2022-06-05T08:09:10.046Z"
   },
   {
    "duration": 5,
    "start_time": "2022-06-05T08:09:24.452Z"
   },
   {
    "duration": 7,
    "start_time": "2022-06-05T08:09:32.501Z"
   },
   {
    "duration": 127,
    "start_time": "2022-06-05T08:21:20.426Z"
   },
   {
    "duration": 1067,
    "start_time": "2022-06-05T08:21:37.196Z"
   },
   {
    "duration": 800,
    "start_time": "2022-06-05T08:21:38.265Z"
   },
   {
    "duration": 127,
    "start_time": "2022-06-05T08:21:39.067Z"
   },
   {
    "duration": 13,
    "start_time": "2022-06-05T08:21:39.196Z"
   },
   {
    "duration": 471,
    "start_time": "2022-06-05T08:21:39.211Z"
   },
   {
    "duration": 463,
    "start_time": "2022-06-05T08:21:39.683Z"
   },
   {
    "duration": 2,
    "start_time": "2022-06-05T08:21:40.148Z"
   },
   {
    "duration": 5,
    "start_time": "2022-06-05T08:21:40.152Z"
   },
   {
    "duration": 5,
    "start_time": "2022-06-05T08:21:40.159Z"
   },
   {
    "duration": 94,
    "start_time": "2022-06-05T08:21:40.166Z"
   },
   {
    "duration": 124,
    "start_time": "2022-06-05T08:21:40.262Z"
   },
   {
    "duration": 6,
    "start_time": "2022-06-05T08:21:40.388Z"
   },
   {
    "duration": 61,
    "start_time": "2022-06-05T08:21:40.396Z"
   },
   {
    "duration": 575,
    "start_time": "2022-06-05T08:21:40.458Z"
   },
   {
    "duration": 63,
    "start_time": "2022-06-05T08:21:41.040Z"
   },
   {
    "duration": 170,
    "start_time": "2022-06-05T08:21:41.104Z"
   },
   {
    "duration": 6,
    "start_time": "2022-06-05T08:21:41.276Z"
   },
   {
    "duration": 137,
    "start_time": "2022-06-05T08:21:41.284Z"
   },
   {
    "duration": 3,
    "start_time": "2022-06-05T08:22:01.473Z"
   },
   {
    "duration": 9,
    "start_time": "2022-06-05T08:23:13.616Z"
   },
   {
    "duration": 49,
    "start_time": "2022-06-05T08:23:34.034Z"
   },
   {
    "duration": 7,
    "start_time": "2022-06-05T08:23:46.817Z"
   },
   {
    "duration": 1109,
    "start_time": "2022-06-05T08:24:33.050Z"
   },
   {
    "duration": 819,
    "start_time": "2022-06-05T08:24:34.161Z"
   },
   {
    "duration": 140,
    "start_time": "2022-06-05T08:24:34.981Z"
   },
   {
    "duration": 19,
    "start_time": "2022-06-05T08:24:35.123Z"
   },
   {
    "duration": 462,
    "start_time": "2022-06-05T08:24:35.144Z"
   },
   {
    "duration": 485,
    "start_time": "2022-06-05T08:24:35.608Z"
   },
   {
    "duration": 2,
    "start_time": "2022-06-05T08:24:36.095Z"
   },
   {
    "duration": 18,
    "start_time": "2022-06-05T08:24:36.099Z"
   },
   {
    "duration": 17,
    "start_time": "2022-06-05T08:24:36.118Z"
   },
   {
    "duration": 101,
    "start_time": "2022-06-05T08:24:36.138Z"
   },
   {
    "duration": 122,
    "start_time": "2022-06-05T08:24:36.241Z"
   },
   {
    "duration": 8,
    "start_time": "2022-06-05T08:24:36.364Z"
   },
   {
    "duration": 70,
    "start_time": "2022-06-05T08:24:36.374Z"
   },
   {
    "duration": 562,
    "start_time": "2022-06-05T08:24:36.446Z"
   },
   {
    "duration": 56,
    "start_time": "2022-06-05T08:24:37.010Z"
   },
   {
    "duration": 2,
    "start_time": "2022-06-05T08:24:37.067Z"
   },
   {
    "duration": 43,
    "start_time": "2022-06-05T08:24:37.071Z"
   },
   {
    "duration": 61,
    "start_time": "2022-06-05T08:24:37.116Z"
   },
   {
    "duration": 5,
    "start_time": "2022-06-05T08:24:37.179Z"
   },
   {
    "duration": 165,
    "start_time": "2022-06-05T08:31:36.939Z"
   },
   {
    "duration": 30,
    "start_time": "2022-06-05T08:32:49.242Z"
   },
   {
    "duration": 362,
    "start_time": "2022-06-05T08:33:22.418Z"
   },
   {
    "duration": 355,
    "start_time": "2022-06-05T08:33:25.842Z"
   },
   {
    "duration": 1067,
    "start_time": "2022-06-05T08:33:53.790Z"
   },
   {
    "duration": 824,
    "start_time": "2022-06-05T08:33:54.859Z"
   },
   {
    "duration": 132,
    "start_time": "2022-06-05T08:33:55.685Z"
   },
   {
    "duration": 13,
    "start_time": "2022-06-05T08:33:55.818Z"
   },
   {
    "duration": 475,
    "start_time": "2022-06-05T08:33:55.842Z"
   },
   {
    "duration": 497,
    "start_time": "2022-06-05T08:33:56.319Z"
   },
   {
    "duration": 2,
    "start_time": "2022-06-05T08:33:56.818Z"
   },
   {
    "duration": 89,
    "start_time": "2022-06-05T08:33:56.821Z"
   },
   {
    "duration": 132,
    "start_time": "2022-06-05T08:33:56.912Z"
   },
   {
    "duration": 7,
    "start_time": "2022-06-05T08:33:57.045Z"
   },
   {
    "duration": 50,
    "start_time": "2022-06-05T08:33:57.054Z"
   },
   {
    "duration": 598,
    "start_time": "2022-06-05T08:33:57.106Z"
   },
   {
    "duration": 56,
    "start_time": "2022-06-05T08:33:57.706Z"
   },
   {
    "duration": 182,
    "start_time": "2022-06-05T08:33:57.764Z"
   },
   {
    "duration": 6,
    "start_time": "2022-06-05T08:33:57.947Z"
   },
   {
    "duration": 38,
    "start_time": "2022-06-05T08:33:57.955Z"
   },
   {
    "duration": 6,
    "start_time": "2022-06-05T08:33:57.995Z"
   },
   {
    "duration": 377,
    "start_time": "2022-06-05T08:33:58.002Z"
   },
   {
    "duration": 13572,
    "start_time": "2022-06-05T08:45:51.186Z"
   },
   {
    "duration": 358,
    "start_time": "2022-06-05T08:46:17.328Z"
   },
   {
    "duration": 14299,
    "start_time": "2022-06-05T08:46:19.788Z"
   },
   {
    "duration": 126,
    "start_time": "2022-06-05T08:47:19.600Z"
   },
   {
    "duration": 8,
    "start_time": "2022-06-05T08:50:14.285Z"
   },
   {
    "duration": 8,
    "start_time": "2022-06-05T08:50:28.016Z"
   },
   {
    "duration": 19,
    "start_time": "2022-06-05T08:50:34.791Z"
   },
   {
    "duration": 25,
    "start_time": "2022-06-05T08:52:05.553Z"
   },
   {
    "duration": 675,
    "start_time": "2022-06-05T08:52:14.016Z"
   },
   {
    "duration": 1074,
    "start_time": "2022-06-05T08:52:35.285Z"
   },
   {
    "duration": 832,
    "start_time": "2022-06-05T08:52:36.361Z"
   },
   {
    "duration": 130,
    "start_time": "2022-06-05T08:52:37.197Z"
   },
   {
    "duration": 17,
    "start_time": "2022-06-05T08:52:37.331Z"
   },
   {
    "duration": 481,
    "start_time": "2022-06-05T08:52:37.350Z"
   },
   {
    "duration": 480,
    "start_time": "2022-06-05T08:52:37.833Z"
   },
   {
    "duration": 3,
    "start_time": "2022-06-05T08:52:38.314Z"
   },
   {
    "duration": 91,
    "start_time": "2022-06-05T08:52:38.318Z"
   },
   {
    "duration": 130,
    "start_time": "2022-06-05T08:52:38.411Z"
   },
   {
    "duration": 6,
    "start_time": "2022-06-05T08:52:38.543Z"
   },
   {
    "duration": 52,
    "start_time": "2022-06-05T08:52:38.551Z"
   },
   {
    "duration": 551,
    "start_time": "2022-06-05T08:52:38.604Z"
   },
   {
    "duration": 51,
    "start_time": "2022-06-05T08:52:39.157Z"
   },
   {
    "duration": 174,
    "start_time": "2022-06-05T08:52:39.209Z"
   },
   {
    "duration": 6,
    "start_time": "2022-06-05T08:52:39.384Z"
   },
   {
    "duration": 49,
    "start_time": "2022-06-05T08:52:39.392Z"
   },
   {
    "duration": 6,
    "start_time": "2022-06-05T08:52:39.443Z"
   },
   {
    "duration": 363,
    "start_time": "2022-06-05T08:52:39.450Z"
   },
   {
    "duration": 129,
    "start_time": "2022-06-05T08:52:39.814Z"
   },
   {
    "duration": 7,
    "start_time": "2022-06-05T08:52:39.945Z"
   },
   {
    "duration": 15,
    "start_time": "2022-06-05T08:52:39.954Z"
   },
   {
    "duration": 123,
    "start_time": "2022-06-05T08:52:39.971Z"
   },
   {
    "duration": 1139,
    "start_time": "2022-06-05T08:53:18.225Z"
   },
   {
    "duration": 818,
    "start_time": "2022-06-05T08:53:19.365Z"
   },
   {
    "duration": 125,
    "start_time": "2022-06-05T08:53:20.185Z"
   },
   {
    "duration": 12,
    "start_time": "2022-06-05T08:53:20.313Z"
   },
   {
    "duration": 470,
    "start_time": "2022-06-05T08:53:20.326Z"
   },
   {
    "duration": 483,
    "start_time": "2022-06-05T08:53:20.798Z"
   },
   {
    "duration": 2,
    "start_time": "2022-06-05T08:53:21.283Z"
   },
   {
    "duration": 96,
    "start_time": "2022-06-05T08:53:21.287Z"
   },
   {
    "duration": 121,
    "start_time": "2022-06-05T08:53:21.385Z"
   },
   {
    "duration": 7,
    "start_time": "2022-06-05T08:53:21.509Z"
   },
   {
    "duration": 67,
    "start_time": "2022-06-05T08:53:21.518Z"
   },
   {
    "duration": 554,
    "start_time": "2022-06-05T08:53:21.587Z"
   },
   {
    "duration": 51,
    "start_time": "2022-06-05T08:53:22.142Z"
   },
   {
    "duration": 172,
    "start_time": "2022-06-05T08:53:22.195Z"
   },
   {
    "duration": 6,
    "start_time": "2022-06-05T08:53:22.369Z"
   },
   {
    "duration": 34,
    "start_time": "2022-06-05T08:53:22.377Z"
   },
   {
    "duration": 6,
    "start_time": "2022-06-05T08:53:22.413Z"
   },
   {
    "duration": 378,
    "start_time": "2022-06-05T08:53:22.420Z"
   },
   {
    "duration": 135,
    "start_time": "2022-06-05T08:53:22.800Z"
   },
   {
    "duration": 10,
    "start_time": "2022-06-05T08:53:22.937Z"
   },
   {
    "duration": 39,
    "start_time": "2022-06-05T08:53:22.948Z"
   },
   {
    "duration": 136,
    "start_time": "2022-06-05T08:53:22.989Z"
   },
   {
    "duration": 142,
    "start_time": "2022-06-05T08:56:05.951Z"
   },
   {
    "duration": 142,
    "start_time": "2022-06-05T08:56:14.055Z"
   },
   {
    "duration": 1065,
    "start_time": "2022-06-05T08:56:19.592Z"
   },
   {
    "duration": 799,
    "start_time": "2022-06-05T08:56:20.658Z"
   },
   {
    "duration": 128,
    "start_time": "2022-06-05T08:56:21.458Z"
   },
   {
    "duration": 13,
    "start_time": "2022-06-05T08:56:21.588Z"
   },
   {
    "duration": 462,
    "start_time": "2022-06-05T08:56:21.603Z"
   },
   {
    "duration": 462,
    "start_time": "2022-06-05T08:56:22.067Z"
   },
   {
    "duration": 3,
    "start_time": "2022-06-05T08:56:22.530Z"
   },
   {
    "duration": 85,
    "start_time": "2022-06-05T08:56:22.540Z"
   },
   {
    "duration": 126,
    "start_time": "2022-06-05T08:56:22.627Z"
   },
   {
    "duration": 7,
    "start_time": "2022-06-05T08:56:22.755Z"
   },
   {
    "duration": 51,
    "start_time": "2022-06-05T08:56:22.763Z"
   },
   {
    "duration": 564,
    "start_time": "2022-06-05T08:56:22.816Z"
   },
   {
    "duration": 50,
    "start_time": "2022-06-05T08:56:23.381Z"
   },
   {
    "duration": 169,
    "start_time": "2022-06-05T08:56:23.442Z"
   },
   {
    "duration": 6,
    "start_time": "2022-06-05T08:56:23.613Z"
   },
   {
    "duration": 50,
    "start_time": "2022-06-05T08:56:23.620Z"
   },
   {
    "duration": 6,
    "start_time": "2022-06-05T08:56:23.672Z"
   },
   {
    "duration": 359,
    "start_time": "2022-06-05T08:56:23.680Z"
   },
   {
    "duration": 144,
    "start_time": "2022-06-05T08:56:24.041Z"
   },
   {
    "duration": 8,
    "start_time": "2022-06-05T08:56:24.186Z"
   },
   {
    "duration": 28,
    "start_time": "2022-06-05T08:56:24.196Z"
   },
   {
    "duration": 143,
    "start_time": "2022-06-05T08:56:24.241Z"
   },
   {
    "duration": 15,
    "start_time": "2022-06-05T08:57:05.626Z"
   },
   {
    "duration": 1146,
    "start_time": "2022-06-05T08:57:18.313Z"
   },
   {
    "duration": 799,
    "start_time": "2022-06-05T08:57:19.461Z"
   },
   {
    "duration": 123,
    "start_time": "2022-06-05T08:57:20.261Z"
   },
   {
    "duration": 12,
    "start_time": "2022-06-05T08:57:20.386Z"
   },
   {
    "duration": 476,
    "start_time": "2022-06-05T08:57:20.400Z"
   },
   {
    "duration": 476,
    "start_time": "2022-06-05T08:57:20.878Z"
   },
   {
    "duration": 2,
    "start_time": "2022-06-05T08:57:21.356Z"
   },
   {
    "duration": 94,
    "start_time": "2022-06-05T08:57:21.360Z"
   },
   {
    "duration": 128,
    "start_time": "2022-06-05T08:57:21.455Z"
   },
   {
    "duration": 7,
    "start_time": "2022-06-05T08:57:21.585Z"
   },
   {
    "duration": 68,
    "start_time": "2022-06-05T08:57:21.593Z"
   },
   {
    "duration": 567,
    "start_time": "2022-06-05T08:57:21.662Z"
   },
   {
    "duration": 55,
    "start_time": "2022-06-05T08:57:22.231Z"
   },
   {
    "duration": 167,
    "start_time": "2022-06-05T08:57:22.289Z"
   },
   {
    "duration": 6,
    "start_time": "2022-06-05T08:57:22.457Z"
   },
   {
    "duration": 39,
    "start_time": "2022-06-05T08:57:22.465Z"
   },
   {
    "duration": 6,
    "start_time": "2022-06-05T08:57:22.506Z"
   },
   {
    "duration": 384,
    "start_time": "2022-06-05T08:57:22.514Z"
   },
   {
    "duration": 149,
    "start_time": "2022-06-05T08:57:22.900Z"
   },
   {
    "duration": 8,
    "start_time": "2022-06-05T08:57:23.051Z"
   },
   {
    "duration": 32,
    "start_time": "2022-06-05T08:57:23.060Z"
   },
   {
    "duration": 161,
    "start_time": "2022-06-05T08:57:23.093Z"
   },
   {
    "duration": 20,
    "start_time": "2022-06-05T08:57:23.255Z"
   },
   {
    "duration": 21,
    "start_time": "2022-06-05T09:14:27.493Z"
   },
   {
    "duration": 24,
    "start_time": "2022-06-05T09:15:13.526Z"
   },
   {
    "duration": 131,
    "start_time": "2022-06-05T09:15:15.143Z"
   },
   {
    "duration": 17,
    "start_time": "2022-06-05T09:15:36.233Z"
   },
   {
    "duration": 25,
    "start_time": "2022-06-05T09:24:04.388Z"
   },
   {
    "duration": 141,
    "start_time": "2022-06-05T09:24:06.390Z"
   },
   {
    "duration": 22,
    "start_time": "2022-06-05T09:24:19.401Z"
   },
   {
    "duration": 24,
    "start_time": "2022-06-05T09:25:08.559Z"
   },
   {
    "duration": 33,
    "start_time": "2022-06-05T09:27:14.701Z"
   },
   {
    "duration": 395,
    "start_time": "2022-06-05T09:33:25.309Z"
   },
   {
    "duration": 414,
    "start_time": "2022-06-05T09:33:40.556Z"
   },
   {
    "duration": 408,
    "start_time": "2022-06-05T09:33:48.012Z"
   },
   {
    "duration": 597,
    "start_time": "2022-06-05T09:40:42.787Z"
   },
   {
    "duration": 6,
    "start_time": "2022-06-05T09:41:02.657Z"
   },
   {
    "duration": 492,
    "start_time": "2022-06-05T09:41:25.732Z"
   },
   {
    "duration": 330,
    "start_time": "2022-06-05T09:41:39.516Z"
   },
   {
    "duration": 258,
    "start_time": "2022-06-05T09:41:43.174Z"
   },
   {
    "duration": 289,
    "start_time": "2022-06-05T09:42:02.291Z"
   },
   {
    "duration": 399,
    "start_time": "2022-06-05T09:42:06.723Z"
   },
   {
    "duration": 294,
    "start_time": "2022-06-05T09:42:10.851Z"
   },
   {
    "duration": 386,
    "start_time": "2022-06-05T09:42:15.730Z"
   },
   {
    "duration": 280,
    "start_time": "2022-06-05T09:42:23.724Z"
   },
   {
    "duration": 301,
    "start_time": "2022-06-05T09:42:28.483Z"
   },
   {
    "duration": 276,
    "start_time": "2022-06-05T09:42:49.732Z"
   },
   {
    "duration": 286,
    "start_time": "2022-06-05T09:42:54.339Z"
   },
   {
    "duration": 510,
    "start_time": "2022-06-05T09:43:14.307Z"
   },
   {
    "duration": 469,
    "start_time": "2022-06-05T09:43:20.179Z"
   },
   {
    "duration": 352,
    "start_time": "2022-06-05T09:43:35.773Z"
   },
   {
    "duration": 406,
    "start_time": "2022-06-05T09:44:45.796Z"
   },
   {
    "duration": 32,
    "start_time": "2022-06-05T09:45:08.515Z"
   },
   {
    "duration": 628,
    "start_time": "2022-06-05T09:46:23.272Z"
   },
   {
    "duration": 10,
    "start_time": "2022-06-05T09:47:51.573Z"
   },
   {
    "duration": 10,
    "start_time": "2022-06-05T09:49:01.454Z"
   },
   {
    "duration": 629,
    "start_time": "2022-06-05T09:49:04.973Z"
   },
   {
    "duration": 11,
    "start_time": "2022-06-05T09:49:33.618Z"
   },
   {
    "duration": 23,
    "start_time": "2022-06-05T09:49:36.810Z"
   },
   {
    "duration": 33,
    "start_time": "2022-06-05T09:50:43.354Z"
   },
   {
    "duration": 364,
    "start_time": "2022-06-05T09:52:54.681Z"
   },
   {
    "duration": 350,
    "start_time": "2022-06-05T09:53:05.809Z"
   },
   {
    "duration": 183,
    "start_time": "2022-06-05T09:58:20.118Z"
   },
   {
    "duration": 623,
    "start_time": "2022-06-05T09:58:48.528Z"
   },
   {
    "duration": 623,
    "start_time": "2022-06-05T09:58:52.696Z"
   },
   {
    "duration": 503,
    "start_time": "2022-06-05T09:59:00.096Z"
   },
   {
    "duration": 403,
    "start_time": "2022-06-05T09:59:05.632Z"
   },
   {
    "duration": 68,
    "start_time": "2022-06-05T10:25:10.964Z"
   },
   {
    "duration": 97,
    "start_time": "2022-06-05T10:28:56.435Z"
   },
   {
    "duration": 4,
    "start_time": "2022-06-05T10:29:07.249Z"
   },
   {
    "duration": 4,
    "start_time": "2022-06-05T10:29:15.778Z"
   },
   {
    "duration": 8,
    "start_time": "2022-06-05T10:29:55.921Z"
   },
   {
    "duration": 66,
    "start_time": "2022-06-05T10:39:25.201Z"
   },
   {
    "duration": 12,
    "start_time": "2022-06-05T10:39:30.921Z"
   },
   {
    "duration": 3,
    "start_time": "2022-06-05T10:39:38.649Z"
   },
   {
    "duration": 4,
    "start_time": "2022-06-05T11:23:14.455Z"
   },
   {
    "duration": 11,
    "start_time": "2022-06-05T11:27:51.347Z"
   },
   {
    "duration": 70,
    "start_time": "2022-06-05T11:28:03.243Z"
   },
   {
    "duration": 1440,
    "start_time": "2022-06-07T20:07:44.913Z"
   },
   {
    "duration": 1033,
    "start_time": "2022-06-07T20:07:46.355Z"
   },
   {
    "duration": 117,
    "start_time": "2022-06-07T20:07:47.389Z"
   },
   {
    "duration": 19,
    "start_time": "2022-06-07T20:07:47.508Z"
   },
   {
    "duration": 421,
    "start_time": "2022-06-07T20:07:47.529Z"
   },
   {
    "duration": 446,
    "start_time": "2022-06-07T20:07:47.952Z"
   },
   {
    "duration": 3,
    "start_time": "2022-06-07T20:07:48.400Z"
   },
   {
    "duration": 90,
    "start_time": "2022-06-07T20:07:48.404Z"
   },
   {
    "duration": 133,
    "start_time": "2022-06-07T20:07:48.495Z"
   },
   {
    "duration": 10,
    "start_time": "2022-06-07T20:07:48.630Z"
   },
   {
    "duration": 49,
    "start_time": "2022-06-07T20:07:48.642Z"
   },
   {
    "duration": 506,
    "start_time": "2022-06-07T20:07:48.693Z"
   },
   {
    "duration": 59,
    "start_time": "2022-06-07T20:07:49.201Z"
   },
   {
    "duration": 163,
    "start_time": "2022-06-07T20:07:49.262Z"
   },
   {
    "duration": 6,
    "start_time": "2022-06-07T20:07:49.427Z"
   },
   {
    "duration": 38,
    "start_time": "2022-06-07T20:07:49.434Z"
   },
   {
    "duration": 6,
    "start_time": "2022-06-07T20:07:49.475Z"
   },
   {
    "duration": 435,
    "start_time": "2022-06-07T20:07:49.483Z"
   },
   {
    "duration": 361,
    "start_time": "2022-06-07T20:07:49.919Z"
   },
   {
    "duration": 137,
    "start_time": "2022-06-07T20:07:50.282Z"
   },
   {
    "duration": 8,
    "start_time": "2022-06-07T20:07:50.426Z"
   },
   {
    "duration": 27,
    "start_time": "2022-06-07T20:07:50.436Z"
   },
   {
    "duration": 148,
    "start_time": "2022-06-07T20:07:50.464Z"
   },
   {
    "duration": 29,
    "start_time": "2022-06-07T20:07:50.613Z"
   },
   {
    "duration": 5,
    "start_time": "2022-06-07T20:07:50.644Z"
   },
   {
    "duration": 257,
    "start_time": "2022-06-07T20:07:50.650Z"
   },
   {
    "duration": 426,
    "start_time": "2022-06-07T20:07:50.909Z"
   },
   {
    "duration": 30,
    "start_time": "2022-06-07T20:07:51.337Z"
   },
   {
    "duration": 32,
    "start_time": "2022-06-07T20:07:51.369Z"
   },
   {
    "duration": 508,
    "start_time": "2022-06-07T20:07:51.403Z"
   },
   {
    "duration": 79,
    "start_time": "2022-06-07T20:07:51.913Z"
   },
   {
    "duration": 7,
    "start_time": "2022-06-07T20:07:51.994Z"
   },
   {
    "duration": 181,
    "start_time": "2022-06-07T20:07:52.003Z"
   },
   {
    "duration": 693,
    "start_time": "2022-06-07T20:11:47.611Z"
   },
   {
    "duration": 531,
    "start_time": "2022-06-07T20:12:02.021Z"
   },
   {
    "duration": 9700,
    "start_time": "2022-06-07T20:12:04.463Z"
   },
   {
    "duration": 3,
    "start_time": "2022-06-07T20:12:20.604Z"
   },
   {
    "duration": 28051,
    "start_time": "2022-06-07T20:20:09.629Z"
   },
   {
    "duration": 10,
    "start_time": "2022-06-07T20:23:21.771Z"
   },
   {
    "duration": 30608,
    "start_time": "2022-06-07T20:23:29.325Z"
   },
   {
    "duration": 74531,
    "start_time": "2022-06-07T20:24:43.498Z"
   },
   {
    "duration": 1734072,
    "start_time": "2022-06-07T20:26:16.169Z"
   },
   {
    "duration": 12,
    "start_time": "2022-06-07T21:10:41.504Z"
   },
   {
    "duration": 47,
    "start_time": "2022-06-07T21:11:08.693Z"
   },
   {
    "duration": 102962,
    "start_time": "2022-06-07T21:11:13.620Z"
   },
   {
    "duration": 81,
    "start_time": "2022-06-08T16:34:00.403Z"
   },
   {
    "duration": 1612,
    "start_time": "2022-06-08T16:34:11.979Z"
   },
   {
    "duration": 1300,
    "start_time": "2022-06-08T16:34:13.593Z"
   },
   {
    "duration": 163,
    "start_time": "2022-06-08T16:34:14.895Z"
   },
   {
    "duration": 14,
    "start_time": "2022-06-08T16:34:15.060Z"
   },
   {
    "duration": 548,
    "start_time": "2022-06-08T16:34:15.076Z"
   },
   {
    "duration": 572,
    "start_time": "2022-06-08T16:34:15.627Z"
   },
   {
    "duration": 2,
    "start_time": "2022-06-08T16:34:16.201Z"
   },
   {
    "duration": 107,
    "start_time": "2022-06-08T16:34:16.205Z"
   },
   {
    "duration": 161,
    "start_time": "2022-06-08T16:34:16.314Z"
   },
   {
    "duration": 8,
    "start_time": "2022-06-08T16:34:16.477Z"
   },
   {
    "duration": 76,
    "start_time": "2022-06-08T16:34:16.486Z"
   },
   {
    "duration": 556,
    "start_time": "2022-06-08T16:34:16.564Z"
   },
   {
    "duration": 64,
    "start_time": "2022-06-08T16:34:17.121Z"
   },
   {
    "duration": 183,
    "start_time": "2022-06-08T16:34:17.188Z"
   },
   {
    "duration": 7,
    "start_time": "2022-06-08T16:34:17.373Z"
   },
   {
    "duration": 59,
    "start_time": "2022-06-08T16:34:17.381Z"
   },
   {
    "duration": 9,
    "start_time": "2022-06-08T16:34:17.446Z"
   },
   {
    "duration": 506,
    "start_time": "2022-06-08T16:34:17.456Z"
   },
   {
    "duration": 497,
    "start_time": "2022-06-08T16:34:17.964Z"
   },
   {
    "duration": 145,
    "start_time": "2022-06-08T16:34:18.462Z"
   },
   {
    "duration": 16,
    "start_time": "2022-06-08T16:34:18.608Z"
   },
   {
    "duration": 36,
    "start_time": "2022-06-08T16:34:18.633Z"
   },
   {
    "duration": 134,
    "start_time": "2022-06-08T16:34:18.671Z"
   },
   {
    "duration": 29,
    "start_time": "2022-06-08T16:34:18.807Z"
   },
   {
    "duration": 10,
    "start_time": "2022-06-08T16:34:18.837Z"
   },
   {
    "duration": 306,
    "start_time": "2022-06-08T16:34:18.849Z"
   },
   {
    "duration": 455,
    "start_time": "2022-06-08T16:34:19.159Z"
   },
   {
    "duration": 56,
    "start_time": "2022-06-08T16:34:19.616Z"
   },
   {
    "duration": 32,
    "start_time": "2022-06-08T16:34:19.674Z"
   },
   {
    "duration": 454,
    "start_time": "2022-06-08T16:34:19.707Z"
   },
   {
    "duration": 104,
    "start_time": "2022-06-08T16:34:20.163Z"
   },
   {
    "duration": 7,
    "start_time": "2022-06-08T16:34:20.269Z"
   },
   {
    "duration": 833,
    "start_time": "2022-06-08T16:34:20.278Z"
   },
   {
    "duration": 556,
    "start_time": "2022-06-08T16:34:21.113Z"
   },
   {
    "duration": 10359,
    "start_time": "2022-06-08T16:34:21.670Z"
   },
   {
    "duration": 0,
    "start_time": "2022-06-08T16:34:32.032Z"
   },
   {
    "duration": 0,
    "start_time": "2022-06-08T16:34:32.034Z"
   },
   {
    "duration": 0,
    "start_time": "2022-06-08T16:34:32.035Z"
   },
   {
    "duration": 0,
    "start_time": "2022-06-08T16:34:32.038Z"
   },
   {
    "duration": 30598,
    "start_time": "2022-06-08T16:35:05.206Z"
   },
   {
    "duration": 1216391,
    "start_time": "2022-06-08T16:36:20.661Z"
   },
   {
    "duration": 1387,
    "start_time": "2022-06-08T16:56:58.450Z"
   },
   {
    "duration": 951,
    "start_time": "2022-06-08T16:56:59.839Z"
   },
   {
    "duration": 204,
    "start_time": "2022-06-08T16:57:00.793Z"
   },
   {
    "duration": 31,
    "start_time": "2022-06-08T16:57:00.999Z"
   },
   {
    "duration": 574,
    "start_time": "2022-06-08T16:57:01.036Z"
   },
   {
    "duration": 641,
    "start_time": "2022-06-08T16:57:01.612Z"
   },
   {
    "duration": 4,
    "start_time": "2022-06-08T16:57:02.258Z"
   },
   {
    "duration": 119,
    "start_time": "2022-06-08T16:57:02.264Z"
   },
   {
    "duration": 159,
    "start_time": "2022-06-08T16:57:02.385Z"
   },
   {
    "duration": 22,
    "start_time": "2022-06-08T16:57:02.552Z"
   },
   {
    "duration": 75,
    "start_time": "2022-06-08T16:57:02.577Z"
   },
   {
    "duration": 649,
    "start_time": "2022-06-08T16:57:02.654Z"
   },
   {
    "duration": 64,
    "start_time": "2022-06-08T16:57:03.305Z"
   },
   {
    "duration": 188,
    "start_time": "2022-06-08T16:57:03.373Z"
   },
   {
    "duration": 6,
    "start_time": "2022-06-08T16:57:03.563Z"
   },
   {
    "duration": 34,
    "start_time": "2022-06-08T16:57:03.571Z"
   },
   {
    "duration": 23,
    "start_time": "2022-06-08T16:57:03.606Z"
   },
   {
    "duration": 497,
    "start_time": "2022-06-08T16:57:03.632Z"
   },
   {
    "duration": 485,
    "start_time": "2022-06-08T16:57:04.131Z"
   },
   {
    "duration": 161,
    "start_time": "2022-06-08T16:57:04.618Z"
   },
   {
    "duration": 8,
    "start_time": "2022-06-08T16:57:04.781Z"
   },
   {
    "duration": 46,
    "start_time": "2022-06-08T16:57:04.790Z"
   },
   {
    "duration": 133,
    "start_time": "2022-06-08T16:57:04.841Z"
   },
   {
    "duration": 20,
    "start_time": "2022-06-08T16:57:04.976Z"
   },
   {
    "duration": 6,
    "start_time": "2022-06-08T16:57:04.997Z"
   },
   {
    "duration": 306,
    "start_time": "2022-06-08T16:57:05.004Z"
   },
   {
    "duration": 467,
    "start_time": "2022-06-08T16:57:05.312Z"
   },
   {
    "duration": 32,
    "start_time": "2022-06-08T16:57:05.781Z"
   },
   {
    "duration": 57,
    "start_time": "2022-06-08T16:57:05.814Z"
   },
   {
    "duration": 426,
    "start_time": "2022-06-08T16:57:05.872Z"
   },
   {
    "duration": 103,
    "start_time": "2022-06-08T16:57:06.299Z"
   },
   {
    "duration": 7,
    "start_time": "2022-06-08T16:57:06.404Z"
   },
   {
    "duration": 929,
    "start_time": "2022-06-08T16:57:06.425Z"
   },
   {
    "duration": 605,
    "start_time": "2022-06-08T16:57:07.356Z"
   },
   {
    "duration": 10916,
    "start_time": "2022-06-08T17:37:06.189Z"
   },
   {
    "duration": 110,
    "start_time": "2022-06-08T17:37:59.831Z"
   },
   {
    "duration": 90,
    "start_time": "2022-06-08T17:39:01.396Z"
   },
   {
    "duration": 18,
    "start_time": "2022-06-08T17:39:36.547Z"
   },
   {
    "duration": 16,
    "start_time": "2022-06-08T17:39:42.350Z"
   },
   {
    "duration": 97,
    "start_time": "2022-06-08T17:40:05.085Z"
   },
   {
    "duration": 37,
    "start_time": "2022-06-08T17:40:13.084Z"
   },
   {
    "duration": 13,
    "start_time": "2022-06-08T17:40:31.470Z"
   },
   {
    "duration": 11026,
    "start_time": "2022-06-08T17:40:37.464Z"
   },
   {
    "duration": 1349,
    "start_time": "2022-06-08T17:54:48.299Z"
   },
   {
    "duration": 921,
    "start_time": "2022-06-08T17:54:49.652Z"
   },
   {
    "duration": 161,
    "start_time": "2022-06-08T17:54:50.575Z"
   },
   {
    "duration": 15,
    "start_time": "2022-06-08T17:54:50.743Z"
   },
   {
    "duration": 542,
    "start_time": "2022-06-08T17:54:50.760Z"
   },
   {
    "duration": 580,
    "start_time": "2022-06-08T17:54:51.304Z"
   },
   {
    "duration": 3,
    "start_time": "2022-06-08T17:54:51.885Z"
   },
   {
    "duration": 118,
    "start_time": "2022-06-08T17:54:51.890Z"
   },
   {
    "duration": 164,
    "start_time": "2022-06-08T17:54:52.009Z"
   },
   {
    "duration": 7,
    "start_time": "2022-06-08T17:54:52.176Z"
   },
   {
    "duration": 70,
    "start_time": "2022-06-08T17:54:52.184Z"
   },
   {
    "duration": 567,
    "start_time": "2022-06-08T17:54:52.256Z"
   },
   {
    "duration": 58,
    "start_time": "2022-06-08T17:54:52.825Z"
   },
   {
    "duration": 201,
    "start_time": "2022-06-08T17:54:52.885Z"
   },
   {
    "duration": 7,
    "start_time": "2022-06-08T17:54:53.089Z"
   },
   {
    "duration": 53,
    "start_time": "2022-06-08T17:54:53.098Z"
   },
   {
    "duration": 6,
    "start_time": "2022-06-08T17:54:53.153Z"
   },
   {
    "duration": 450,
    "start_time": "2022-06-08T17:54:53.160Z"
   },
   {
    "duration": 477,
    "start_time": "2022-06-08T17:54:53.612Z"
   },
   {
    "duration": 162,
    "start_time": "2022-06-08T17:54:54.091Z"
   },
   {
    "duration": 8,
    "start_time": "2022-06-08T17:54:54.254Z"
   },
   {
    "duration": 29,
    "start_time": "2022-06-08T17:54:54.264Z"
   },
   {
    "duration": 127,
    "start_time": "2022-06-08T17:54:54.295Z"
   },
   {
    "duration": 23,
    "start_time": "2022-06-08T17:54:54.430Z"
   },
   {
    "duration": 14,
    "start_time": "2022-06-08T17:54:54.454Z"
   },
   {
    "duration": 292,
    "start_time": "2022-06-08T17:54:54.470Z"
   },
   {
    "duration": 457,
    "start_time": "2022-06-08T17:54:54.763Z"
   },
   {
    "duration": 46,
    "start_time": "2022-06-08T17:54:55.224Z"
   },
   {
    "duration": 35,
    "start_time": "2022-06-08T17:54:55.272Z"
   },
   {
    "duration": 409,
    "start_time": "2022-06-08T17:54:55.309Z"
   },
   {
    "duration": 84,
    "start_time": "2022-06-08T17:54:55.719Z"
   },
   {
    "duration": 32,
    "start_time": "2022-06-08T17:54:55.805Z"
   },
   {
    "duration": 196,
    "start_time": "2022-06-08T17:54:55.839Z"
   },
   {
    "duration": 121,
    "start_time": "2022-06-08T17:54:56.037Z"
   },
   {
    "duration": 36,
    "start_time": "2022-06-08T17:54:56.160Z"
   },
   {
    "duration": 3031,
    "start_time": "2022-06-08T17:55:07.986Z"
   },
   {
    "duration": 2783,
    "start_time": "2022-06-08T17:55:26.011Z"
   },
   {
    "duration": 3038,
    "start_time": "2022-06-08T17:56:17.266Z"
   },
   {
    "duration": 3107,
    "start_time": "2022-06-08T17:56:58.523Z"
   },
   {
    "duration": 2833,
    "start_time": "2022-06-08T17:57:38.386Z"
   },
   {
    "duration": 44,
    "start_time": "2022-06-08T17:59:16.504Z"
   },
   {
    "duration": 39,
    "start_time": "2022-06-08T17:59:24.705Z"
   },
   {
    "duration": 47,
    "start_time": "2022-06-08T19:49:33.641Z"
   },
   {
    "duration": 1793,
    "start_time": "2022-06-08T19:49:42.139Z"
   },
   {
    "duration": 1007,
    "start_time": "2022-06-08T19:49:43.934Z"
   },
   {
    "duration": 102,
    "start_time": "2022-06-08T19:49:44.943Z"
   },
   {
    "duration": 28,
    "start_time": "2022-06-08T19:49:45.051Z"
   },
   {
    "duration": 559,
    "start_time": "2022-06-08T19:49:45.080Z"
   },
   {
    "duration": 429,
    "start_time": "2022-06-08T19:49:45.640Z"
   },
   {
    "duration": 3,
    "start_time": "2022-06-08T19:49:46.071Z"
   },
   {
    "duration": 85,
    "start_time": "2022-06-08T19:49:46.075Z"
   },
   {
    "duration": 102,
    "start_time": "2022-06-08T19:49:46.162Z"
   },
   {
    "duration": 6,
    "start_time": "2022-06-08T19:49:46.266Z"
   },
   {
    "duration": 54,
    "start_time": "2022-06-08T19:49:46.273Z"
   },
   {
    "duration": 460,
    "start_time": "2022-06-08T19:49:46.328Z"
   },
   {
    "duration": 46,
    "start_time": "2022-06-08T19:49:46.790Z"
   },
   {
    "duration": 164,
    "start_time": "2022-06-08T19:49:46.838Z"
   },
   {
    "duration": 5,
    "start_time": "2022-06-08T19:49:47.004Z"
   },
   {
    "duration": 53,
    "start_time": "2022-06-08T19:49:47.010Z"
   },
   {
    "duration": 5,
    "start_time": "2022-06-08T19:49:47.065Z"
   },
   {
    "duration": 387,
    "start_time": "2022-06-08T19:49:47.071Z"
   },
   {
    "duration": 400,
    "start_time": "2022-06-08T19:49:47.459Z"
   },
   {
    "duration": 132,
    "start_time": "2022-06-08T19:49:47.860Z"
   },
   {
    "duration": 9,
    "start_time": "2022-06-08T19:49:47.994Z"
   },
   {
    "duration": 34,
    "start_time": "2022-06-08T19:49:48.004Z"
   },
   {
    "duration": 130,
    "start_time": "2022-06-08T19:49:48.040Z"
   },
   {
    "duration": 19,
    "start_time": "2022-06-08T19:49:48.172Z"
   },
   {
    "duration": 7,
    "start_time": "2022-06-08T19:49:48.193Z"
   },
   {
    "duration": 257,
    "start_time": "2022-06-08T19:49:48.201Z"
   },
   {
    "duration": 371,
    "start_time": "2022-06-08T19:49:48.459Z"
   },
   {
    "duration": 32,
    "start_time": "2022-06-08T19:49:48.833Z"
   },
   {
    "duration": 34,
    "start_time": "2022-06-08T19:49:48.867Z"
   },
   {
    "duration": 326,
    "start_time": "2022-06-08T19:49:48.903Z"
   },
   {
    "duration": 79,
    "start_time": "2022-06-08T19:49:49.231Z"
   },
   {
    "duration": 7,
    "start_time": "2022-06-08T19:49:49.312Z"
   },
   {
    "duration": 190,
    "start_time": "2022-06-08T19:49:49.321Z"
   },
   {
    "duration": 115,
    "start_time": "2022-06-08T19:49:49.513Z"
   },
   {
    "duration": 61,
    "start_time": "2022-06-08T19:49:49.630Z"
   },
   {
    "duration": 2853,
    "start_time": "2022-06-08T19:49:52.922Z"
   },
   {
    "duration": 119,
    "start_time": "2022-06-08T19:49:59.271Z"
   },
   {
    "duration": 42,
    "start_time": "2022-06-08T19:50:04.025Z"
   },
   {
    "duration": 50215,
    "start_time": "2022-06-08T20:03:16.237Z"
   },
   {
    "duration": 1234,
    "start_time": "2022-06-08T20:41:08.342Z"
   },
   {
    "duration": 765,
    "start_time": "2022-06-08T20:41:09.579Z"
   },
   {
    "duration": 122,
    "start_time": "2022-06-08T20:41:10.346Z"
   },
   {
    "duration": 13,
    "start_time": "2022-06-08T20:41:10.470Z"
   },
   {
    "duration": 447,
    "start_time": "2022-06-08T20:41:10.484Z"
   },
   {
    "duration": 462,
    "start_time": "2022-06-08T20:41:10.933Z"
   },
   {
    "duration": 4,
    "start_time": "2022-06-08T20:41:11.396Z"
   },
   {
    "duration": 90,
    "start_time": "2022-06-08T20:41:11.402Z"
   },
   {
    "duration": 110,
    "start_time": "2022-06-08T20:41:11.493Z"
   },
   {
    "duration": 7,
    "start_time": "2022-06-08T20:41:11.605Z"
   },
   {
    "duration": 65,
    "start_time": "2022-06-08T20:41:11.613Z"
   },
   {
    "duration": 505,
    "start_time": "2022-06-08T20:41:11.680Z"
   },
   {
    "duration": 48,
    "start_time": "2022-06-08T20:41:12.186Z"
   },
   {
    "duration": 177,
    "start_time": "2022-06-08T20:41:12.236Z"
   },
   {
    "duration": 5,
    "start_time": "2022-06-08T20:41:12.416Z"
   },
   {
    "duration": 45,
    "start_time": "2022-06-08T20:41:12.423Z"
   },
   {
    "duration": 7,
    "start_time": "2022-06-08T20:41:12.471Z"
   },
   {
    "duration": 446,
    "start_time": "2022-06-08T20:41:12.479Z"
   },
   {
    "duration": 418,
    "start_time": "2022-06-08T20:41:12.927Z"
   },
   {
    "duration": 142,
    "start_time": "2022-06-08T20:41:13.347Z"
   },
   {
    "duration": 7,
    "start_time": "2022-06-08T20:41:13.491Z"
   },
   {
    "duration": 28,
    "start_time": "2022-06-08T20:41:13.500Z"
   },
   {
    "duration": 136,
    "start_time": "2022-06-08T20:41:13.530Z"
   },
   {
    "duration": 18,
    "start_time": "2022-06-08T20:41:13.670Z"
   },
   {
    "duration": 5,
    "start_time": "2022-06-08T20:41:13.689Z"
   },
   {
    "duration": 264,
    "start_time": "2022-06-08T20:41:13.695Z"
   },
   {
    "duration": 390,
    "start_time": "2022-06-08T20:41:13.964Z"
   },
   {
    "duration": 33,
    "start_time": "2022-06-08T20:41:14.357Z"
   },
   {
    "duration": 38,
    "start_time": "2022-06-08T20:41:14.391Z"
   },
   {
    "duration": 387,
    "start_time": "2022-06-08T20:41:14.431Z"
   },
   {
    "duration": 88,
    "start_time": "2022-06-08T20:41:14.820Z"
   },
   {
    "duration": 8,
    "start_time": "2022-06-08T20:41:14.910Z"
   },
   {
    "duration": 190,
    "start_time": "2022-06-08T20:41:14.919Z"
   },
   {
    "duration": 136,
    "start_time": "2022-06-08T20:41:15.111Z"
   },
   {
    "duration": 53479,
    "start_time": "2022-06-08T20:41:41.095Z"
   },
   {
    "duration": 4,
    "start_time": "2022-06-08T20:46:41.075Z"
   },
   {
    "duration": 68,
    "start_time": "2022-06-08T20:48:31.730Z"
   },
   {
    "duration": 7,
    "start_time": "2022-06-08T20:48:34.404Z"
   },
   {
    "duration": 591,
    "start_time": "2022-06-08T21:00:23.511Z"
   },
   {
    "duration": 25,
    "start_time": "2022-06-08T21:00:28.111Z"
   },
   {
    "duration": 4,
    "start_time": "2022-06-08T21:02:12.406Z"
   },
   {
    "duration": 21,
    "start_time": "2022-06-08T21:03:48.421Z"
   },
   {
    "duration": 161,
    "start_time": "2022-06-08T21:09:46.540Z"
   },
   {
    "duration": 648,
    "start_time": "2022-06-08T21:12:07.765Z"
   },
   {
    "duration": 17,
    "start_time": "2022-06-08T21:12:10.366Z"
   },
   {
    "duration": 109,
    "start_time": "2022-06-08T21:12:13.150Z"
   },
   {
    "duration": 71,
    "start_time": "2022-06-08T21:13:04.886Z"
   },
   {
    "duration": 5,
    "start_time": "2022-06-08T21:16:59.525Z"
   },
   {
    "duration": 4,
    "start_time": "2022-06-08T21:17:03.467Z"
   },
   {
    "duration": 14187,
    "start_time": "2022-06-08T21:17:14.010Z"
   },
   {
    "duration": 2,
    "start_time": "2022-06-08T21:18:49.367Z"
   },
   {
    "duration": 50885,
    "start_time": "2022-06-08T21:19:22.443Z"
   },
   {
    "duration": 50659,
    "start_time": "2022-06-08T21:20:27.611Z"
   },
   {
    "duration": 5,
    "start_time": "2022-06-09T20:27:49.906Z"
   },
   {
    "duration": 15176,
    "start_time": "2022-06-09T20:37:35.688Z"
   },
   {
    "duration": 54142,
    "start_time": "2022-06-09T20:40:07.128Z"
   },
   {
    "duration": 38,
    "start_time": "2022-06-09T20:42:31.326Z"
   },
   {
    "duration": 51306,
    "start_time": "2022-06-09T20:42:39.391Z"
   },
   {
    "duration": 4,
    "start_time": "2022-06-09T20:44:42.320Z"
   },
   {
    "duration": 51934,
    "start_time": "2022-06-09T20:44:50.366Z"
   },
   {
    "duration": 51585,
    "start_time": "2022-06-09T20:46:26.151Z"
   },
   {
    "duration": 4463045,
    "start_time": "2022-06-09T20:48:31.068Z"
   },
   {
    "duration": 104,
    "start_time": "2022-06-13T17:04:34.656Z"
   },
   {
    "duration": 105,
    "start_time": "2022-06-13T17:05:21.356Z"
   },
   {
    "duration": 35080,
    "start_time": "2022-06-13T17:05:39.837Z"
   },
   {
    "duration": 57,
    "start_time": "2022-06-13T17:25:28.392Z"
   },
   {
    "duration": 20,
    "start_time": "2022-06-13T18:19:15.298Z"
   },
   {
    "duration": 1392,
    "start_time": "2022-06-13T19:37:59.390Z"
   },
   {
    "duration": 834,
    "start_time": "2022-06-13T19:38:00.784Z"
   },
   {
    "duration": 124,
    "start_time": "2022-06-13T19:38:01.620Z"
   },
   {
    "duration": 24,
    "start_time": "2022-06-13T19:38:01.746Z"
   },
   {
    "duration": 540,
    "start_time": "2022-06-13T19:38:01.773Z"
   },
   {
    "duration": 556,
    "start_time": "2022-06-13T19:38:02.315Z"
   },
   {
    "duration": 3,
    "start_time": "2022-06-13T19:38:02.873Z"
   },
   {
    "duration": 94,
    "start_time": "2022-06-13T19:38:02.878Z"
   },
   {
    "duration": 107,
    "start_time": "2022-06-13T19:38:02.974Z"
   },
   {
    "duration": 11,
    "start_time": "2022-06-13T19:38:03.082Z"
   },
   {
    "duration": 51,
    "start_time": "2022-06-13T19:38:03.094Z"
   },
   {
    "duration": 511,
    "start_time": "2022-06-13T19:38:03.147Z"
   },
   {
    "duration": 53,
    "start_time": "2022-06-13T19:38:03.660Z"
   },
   {
    "duration": 172,
    "start_time": "2022-06-13T19:38:03.716Z"
   },
   {
    "duration": 6,
    "start_time": "2022-06-13T19:38:03.890Z"
   },
   {
    "duration": 34,
    "start_time": "2022-06-13T19:38:03.898Z"
   },
   {
    "duration": 5,
    "start_time": "2022-06-13T19:38:03.934Z"
   },
   {
    "duration": 822,
    "start_time": "2022-06-13T19:38:03.940Z"
   },
   {
    "duration": 1000,
    "start_time": "2022-06-13T19:38:04.764Z"
   },
   {
    "duration": 309,
    "start_time": "2022-06-13T19:38:05.765Z"
   },
   {
    "duration": 9,
    "start_time": "2022-06-13T19:38:06.076Z"
   },
   {
    "duration": 84,
    "start_time": "2022-06-13T19:38:06.086Z"
   },
   {
    "duration": 300,
    "start_time": "2022-06-13T19:38:06.173Z"
   },
   {
    "duration": 21,
    "start_time": "2022-06-13T19:38:06.475Z"
   },
   {
    "duration": 59,
    "start_time": "2022-06-13T19:38:06.498Z"
   },
   {
    "duration": 333,
    "start_time": "2022-06-13T19:38:06.559Z"
   },
   {
    "duration": 438,
    "start_time": "2022-06-13T19:38:06.894Z"
   },
   {
    "duration": 50,
    "start_time": "2022-06-13T19:38:07.335Z"
   },
   {
    "duration": 46,
    "start_time": "2022-06-13T19:38:07.387Z"
   },
   {
    "duration": 364,
    "start_time": "2022-06-13T19:38:07.436Z"
   },
   {
    "duration": 92,
    "start_time": "2022-06-13T19:38:07.802Z"
   },
   {
    "duration": 7,
    "start_time": "2022-06-13T19:38:07.896Z"
   },
   {
    "duration": 694,
    "start_time": "2022-06-13T19:38:07.904Z"
   },
   {
    "duration": 18,
    "start_time": "2022-06-13T19:38:08.600Z"
   },
   {
    "duration": 87,
    "start_time": "2022-06-13T19:38:08.620Z"
   },
   {
    "duration": 16266,
    "start_time": "2022-06-13T19:38:08.709Z"
   },
   {
    "duration": 56038,
    "start_time": "2022-06-13T19:38:24.977Z"
   },
   {
    "duration": 3,
    "start_time": "2022-06-13T19:39:21.017Z"
   },
   {
    "duration": 196,
    "start_time": "2022-06-13T19:39:21.022Z"
   },
   {
    "duration": 118,
    "start_time": "2022-06-13T19:39:21.220Z"
   },
   {
    "duration": 3940,
    "start_time": "2022-06-13T19:39:21.342Z"
   },
   {
    "duration": 34763,
    "start_time": "2022-06-13T19:39:25.288Z"
   },
   {
    "duration": 70950,
    "start_time": "2022-06-13T19:40:00.057Z"
   },
   {
    "duration": 58,
    "start_time": "2022-06-13T19:51:01.725Z"
   },
   {
    "duration": 1314,
    "start_time": "2022-06-13T19:51:08.901Z"
   },
   {
    "duration": 794,
    "start_time": "2022-06-13T19:51:10.217Z"
   },
   {
    "duration": 125,
    "start_time": "2022-06-13T19:51:11.012Z"
   },
   {
    "duration": 31,
    "start_time": "2022-06-13T19:51:11.138Z"
   },
   {
    "duration": 467,
    "start_time": "2022-06-13T19:51:11.172Z"
   },
   {
    "duration": 494,
    "start_time": "2022-06-13T19:51:11.641Z"
   },
   {
    "duration": 3,
    "start_time": "2022-06-13T19:51:12.136Z"
   },
   {
    "duration": 90,
    "start_time": "2022-06-13T19:51:12.140Z"
   },
   {
    "duration": 126,
    "start_time": "2022-06-13T19:51:12.232Z"
   },
   {
    "duration": 8,
    "start_time": "2022-06-13T19:51:12.368Z"
   },
   {
    "duration": 49,
    "start_time": "2022-06-13T19:51:12.378Z"
   },
   {
    "duration": 563,
    "start_time": "2022-06-13T19:51:12.428Z"
   },
   {
    "duration": 47,
    "start_time": "2022-06-13T19:51:12.993Z"
   },
   {
    "duration": 174,
    "start_time": "2022-06-13T19:51:13.043Z"
   },
   {
    "duration": 5,
    "start_time": "2022-06-13T19:51:13.219Z"
   },
   {
    "duration": 53,
    "start_time": "2022-06-13T19:51:13.226Z"
   },
   {
    "duration": 7,
    "start_time": "2022-06-13T19:51:13.280Z"
   },
   {
    "duration": 496,
    "start_time": "2022-06-13T19:51:13.288Z"
   },
   {
    "duration": 393,
    "start_time": "2022-06-13T19:51:13.786Z"
   },
   {
    "duration": 13940,
    "start_time": "2022-06-13T19:51:17.533Z"
   },
   {
    "duration": 1251,
    "start_time": "2022-06-13T19:53:10.816Z"
   },
   {
    "duration": 819,
    "start_time": "2022-06-13T19:53:12.069Z"
   },
   {
    "duration": 120,
    "start_time": "2022-06-13T19:53:12.890Z"
   },
   {
    "duration": 13,
    "start_time": "2022-06-13T19:53:13.012Z"
   },
   {
    "duration": 489,
    "start_time": "2022-06-13T19:53:13.028Z"
   },
   {
    "duration": 519,
    "start_time": "2022-06-13T19:53:13.519Z"
   },
   {
    "duration": 3,
    "start_time": "2022-06-13T19:53:14.040Z"
   },
   {
    "duration": 97,
    "start_time": "2022-06-13T19:53:14.058Z"
   },
   {
    "duration": 117,
    "start_time": "2022-06-13T19:53:14.160Z"
   },
   {
    "duration": 14,
    "start_time": "2022-06-13T19:53:14.278Z"
   },
   {
    "duration": 47,
    "start_time": "2022-06-13T19:53:14.294Z"
   },
   {
    "duration": 528,
    "start_time": "2022-06-13T19:53:14.343Z"
   },
   {
    "duration": 53,
    "start_time": "2022-06-13T19:53:14.875Z"
   },
   {
    "duration": 173,
    "start_time": "2022-06-13T19:53:14.931Z"
   },
   {
    "duration": 7,
    "start_time": "2022-06-13T19:53:15.106Z"
   },
   {
    "duration": 43,
    "start_time": "2022-06-13T19:53:15.115Z"
   },
   {
    "duration": 10,
    "start_time": "2022-06-13T19:53:15.160Z"
   },
   {
    "duration": 544,
    "start_time": "2022-06-13T19:53:15.176Z"
   },
   {
    "duration": 368,
    "start_time": "2022-06-13T19:53:15.721Z"
   },
   {
    "duration": 151,
    "start_time": "2022-06-13T19:53:16.091Z"
   },
   {
    "duration": 13,
    "start_time": "2022-06-13T19:53:16.255Z"
   },
   {
    "duration": 41,
    "start_time": "2022-06-13T19:53:16.269Z"
   },
   {
    "duration": 125,
    "start_time": "2022-06-13T19:53:16.312Z"
   },
   {
    "duration": 33,
    "start_time": "2022-06-13T19:53:16.439Z"
   },
   {
    "duration": 1369,
    "start_time": "2022-06-13T20:00:57.278Z"
   },
   {
    "duration": 885,
    "start_time": "2022-06-13T20:00:58.649Z"
   },
   {
    "duration": 134,
    "start_time": "2022-06-13T20:00:59.536Z"
   },
   {
    "duration": 16,
    "start_time": "2022-06-13T20:00:59.673Z"
   },
   {
    "duration": 524,
    "start_time": "2022-06-13T20:00:59.691Z"
   },
   {
    "duration": 567,
    "start_time": "2022-06-13T20:01:00.217Z"
   },
   {
    "duration": 3,
    "start_time": "2022-06-13T20:01:00.786Z"
   },
   {
    "duration": 100,
    "start_time": "2022-06-13T20:01:00.791Z"
   },
   {
    "duration": 122,
    "start_time": "2022-06-13T20:01:00.892Z"
   },
   {
    "duration": 7,
    "start_time": "2022-06-13T20:01:01.017Z"
   },
   {
    "duration": 66,
    "start_time": "2022-06-13T20:01:01.026Z"
   },
   {
    "duration": 561,
    "start_time": "2022-06-13T20:01:01.094Z"
   },
   {
    "duration": 62,
    "start_time": "2022-06-13T20:01:01.659Z"
   },
   {
    "duration": 169,
    "start_time": "2022-06-13T20:01:01.723Z"
   },
   {
    "duration": 7,
    "start_time": "2022-06-13T20:01:01.893Z"
   },
   {
    "duration": 55,
    "start_time": "2022-06-13T20:01:01.902Z"
   },
   {
    "duration": 6,
    "start_time": "2022-06-13T20:01:01.959Z"
   },
   {
    "duration": 514,
    "start_time": "2022-06-13T20:01:01.967Z"
   },
   {
    "duration": 376,
    "start_time": "2022-06-13T20:01:02.483Z"
   },
   {
    "duration": 143,
    "start_time": "2022-06-13T20:01:02.863Z"
   },
   {
    "duration": 8,
    "start_time": "2022-06-13T20:01:03.008Z"
   },
   {
    "duration": 40,
    "start_time": "2022-06-13T20:01:03.017Z"
   },
   {
    "duration": 547,
    "start_time": "2022-06-13T20:01:05.759Z"
   },
   {
    "duration": 1402,
    "start_time": "2022-06-13T20:01:35.976Z"
   },
   {
    "duration": 870,
    "start_time": "2022-06-13T20:01:37.380Z"
   },
   {
    "duration": 120,
    "start_time": "2022-06-13T20:01:38.252Z"
   },
   {
    "duration": 27,
    "start_time": "2022-06-13T20:01:38.374Z"
   },
   {
    "duration": 529,
    "start_time": "2022-06-13T20:01:38.403Z"
   },
   {
    "duration": 558,
    "start_time": "2022-06-13T20:01:38.934Z"
   },
   {
    "duration": 2,
    "start_time": "2022-06-13T20:01:39.494Z"
   },
   {
    "duration": 101,
    "start_time": "2022-06-13T20:01:39.498Z"
   },
   {
    "duration": 115,
    "start_time": "2022-06-13T20:01:39.601Z"
   },
   {
    "duration": 8,
    "start_time": "2022-06-13T20:01:39.718Z"
   },
   {
    "duration": 68,
    "start_time": "2022-06-13T20:01:39.729Z"
   },
   {
    "duration": 548,
    "start_time": "2022-06-13T20:01:39.798Z"
   },
   {
    "duration": 60,
    "start_time": "2022-06-13T20:01:40.348Z"
   },
   {
    "duration": 186,
    "start_time": "2022-06-13T20:01:40.410Z"
   },
   {
    "duration": 6,
    "start_time": "2022-06-13T20:01:40.597Z"
   },
   {
    "duration": 58,
    "start_time": "2022-06-13T20:01:40.605Z"
   },
   {
    "duration": 8,
    "start_time": "2022-06-13T20:01:40.666Z"
   },
   {
    "duration": 532,
    "start_time": "2022-06-13T20:01:40.676Z"
   },
   {
    "duration": 398,
    "start_time": "2022-06-13T20:01:41.210Z"
   },
   {
    "duration": 159,
    "start_time": "2022-06-13T20:01:41.610Z"
   },
   {
    "duration": 9,
    "start_time": "2022-06-13T20:01:41.770Z"
   },
   {
    "duration": 35,
    "start_time": "2022-06-13T20:01:41.780Z"
   },
   {
    "duration": 564,
    "start_time": "2022-06-13T20:02:12.019Z"
   },
   {
    "duration": 10,
    "start_time": "2022-06-13T20:08:50.523Z"
   },
   {
    "duration": 137,
    "start_time": "2022-06-13T20:09:00.002Z"
   },
   {
    "duration": 11,
    "start_time": "2022-06-13T20:09:25.389Z"
   },
   {
    "duration": 21,
    "start_time": "2022-06-13T20:10:35.572Z"
   },
   {
    "duration": 20,
    "start_time": "2022-06-13T20:10:48.575Z"
   },
   {
    "duration": 27,
    "start_time": "2022-06-13T20:10:55.923Z"
   },
   {
    "duration": 10,
    "start_time": "2022-06-13T20:11:15.587Z"
   },
   {
    "duration": 1394,
    "start_time": "2022-06-13T20:11:47.879Z"
   },
   {
    "duration": 862,
    "start_time": "2022-06-13T20:11:49.280Z"
   },
   {
    "duration": 140,
    "start_time": "2022-06-13T20:11:50.144Z"
   },
   {
    "duration": 13,
    "start_time": "2022-06-13T20:11:50.286Z"
   },
   {
    "duration": 512,
    "start_time": "2022-06-13T20:11:50.300Z"
   },
   {
    "duration": 534,
    "start_time": "2022-06-13T20:11:50.813Z"
   },
   {
    "duration": 7,
    "start_time": "2022-06-13T20:11:51.348Z"
   },
   {
    "duration": 103,
    "start_time": "2022-06-13T20:11:51.362Z"
   },
   {
    "duration": 119,
    "start_time": "2022-06-13T20:11:51.467Z"
   },
   {
    "duration": 7,
    "start_time": "2022-06-13T20:11:51.588Z"
   },
   {
    "duration": 63,
    "start_time": "2022-06-13T20:11:51.597Z"
   },
   {
    "duration": 550,
    "start_time": "2022-06-13T20:11:51.664Z"
   },
   {
    "duration": 65,
    "start_time": "2022-06-13T20:11:52.216Z"
   },
   {
    "duration": 190,
    "start_time": "2022-06-13T20:11:52.283Z"
   },
   {
    "duration": 9,
    "start_time": "2022-06-13T20:11:52.477Z"
   },
   {
    "duration": 36,
    "start_time": "2022-06-13T20:11:52.488Z"
   },
   {
    "duration": 6,
    "start_time": "2022-06-13T20:11:52.526Z"
   },
   {
    "duration": 556,
    "start_time": "2022-06-13T20:11:52.533Z"
   },
   {
    "duration": 386,
    "start_time": "2022-06-13T20:11:53.090Z"
   },
   {
    "duration": 137,
    "start_time": "2022-06-13T20:11:53.481Z"
   },
   {
    "duration": 7,
    "start_time": "2022-06-13T20:11:53.620Z"
   },
   {
    "duration": 23,
    "start_time": "2022-06-13T20:12:00.380Z"
   },
   {
    "duration": 23,
    "start_time": "2022-06-13T20:12:44.284Z"
   },
   {
    "duration": 23,
    "start_time": "2022-06-13T20:13:05.499Z"
   },
   {
    "duration": 1360,
    "start_time": "2022-06-13T20:14:36.204Z"
   },
   {
    "duration": 834,
    "start_time": "2022-06-13T20:14:37.567Z"
   },
   {
    "duration": 121,
    "start_time": "2022-06-13T20:14:38.403Z"
   },
   {
    "duration": 13,
    "start_time": "2022-06-13T20:14:38.526Z"
   },
   {
    "duration": 502,
    "start_time": "2022-06-13T20:14:38.560Z"
   },
   {
    "duration": 558,
    "start_time": "2022-06-13T20:14:39.064Z"
   },
   {
    "duration": 2,
    "start_time": "2022-06-13T20:14:39.624Z"
   },
   {
    "duration": 95,
    "start_time": "2022-06-13T20:14:39.628Z"
   },
   {
    "duration": 119,
    "start_time": "2022-06-13T20:14:39.724Z"
   },
   {
    "duration": 8,
    "start_time": "2022-06-13T20:14:39.852Z"
   },
   {
    "duration": 68,
    "start_time": "2022-06-13T20:14:39.865Z"
   },
   {
    "duration": 545,
    "start_time": "2022-06-13T20:14:39.934Z"
   },
   {
    "duration": 52,
    "start_time": "2022-06-13T20:14:40.481Z"
   },
   {
    "duration": 168,
    "start_time": "2022-06-13T20:14:40.536Z"
   },
   {
    "duration": 5,
    "start_time": "2022-06-13T20:14:40.706Z"
   },
   {
    "duration": 45,
    "start_time": "2022-06-13T20:14:40.713Z"
   },
   {
    "duration": 15,
    "start_time": "2022-06-13T20:14:40.762Z"
   },
   {
    "duration": 509,
    "start_time": "2022-06-13T20:14:40.779Z"
   },
   {
    "duration": 359,
    "start_time": "2022-06-13T20:14:41.289Z"
   },
   {
    "duration": 154,
    "start_time": "2022-06-13T20:14:41.653Z"
   },
   {
    "duration": 8,
    "start_time": "2022-06-13T20:14:41.809Z"
   },
   {
    "duration": 38,
    "start_time": "2022-06-13T20:14:41.819Z"
   },
   {
    "duration": 31,
    "start_time": "2022-06-13T20:14:41.860Z"
   },
   {
    "duration": 138,
    "start_time": "2022-06-13T20:14:41.893Z"
   },
   {
    "duration": 28,
    "start_time": "2022-06-13T20:14:42.033Z"
   },
   {
    "duration": 9,
    "start_time": "2022-06-13T20:14:42.067Z"
   },
   {
    "duration": 287,
    "start_time": "2022-06-13T20:14:42.077Z"
   },
   {
    "duration": 411,
    "start_time": "2022-06-13T20:14:42.365Z"
   },
   {
    "duration": 30,
    "start_time": "2022-06-13T20:14:42.780Z"
   },
   {
    "duration": 35,
    "start_time": "2022-06-13T20:14:42.812Z"
   },
   {
    "duration": 363,
    "start_time": "2022-06-13T20:14:42.851Z"
   },
   {
    "duration": 80,
    "start_time": "2022-06-13T20:14:43.216Z"
   },
   {
    "duration": 7,
    "start_time": "2022-06-13T20:14:43.298Z"
   },
   {
    "duration": 689,
    "start_time": "2022-06-13T20:14:43.307Z"
   },
   {
    "duration": 20,
    "start_time": "2022-06-13T20:14:43.997Z"
   },
   {
    "duration": 89,
    "start_time": "2022-06-13T20:14:44.019Z"
   },
   {
    "duration": 15304,
    "start_time": "2022-06-13T20:14:44.109Z"
   },
   {
    "duration": 46767,
    "start_time": "2022-06-13T20:14:59.415Z"
   },
   {
    "duration": 3,
    "start_time": "2022-06-13T20:15:46.183Z"
   },
   {
    "duration": 181,
    "start_time": "2022-06-13T20:15:46.187Z"
   },
   {
    "duration": 107,
    "start_time": "2022-06-13T20:15:46.372Z"
   },
   {
    "duration": 4002,
    "start_time": "2022-06-13T20:15:46.484Z"
   },
   {
    "duration": 32314,
    "start_time": "2022-06-13T20:15:50.565Z"
   },
   {
    "duration": 192797,
    "start_time": "2022-06-13T20:16:22.881Z"
   },
   {
    "duration": 1236,
    "start_time": "2022-06-13T20:21:16.007Z"
   },
   {
    "duration": 786,
    "start_time": "2022-06-13T20:21:17.245Z"
   },
   {
    "duration": 125,
    "start_time": "2022-06-13T20:21:18.033Z"
   },
   {
    "duration": 15,
    "start_time": "2022-06-13T20:21:18.165Z"
   },
   {
    "duration": 466,
    "start_time": "2022-06-13T20:21:18.181Z"
   },
   {
    "duration": 547,
    "start_time": "2022-06-13T20:21:18.649Z"
   },
   {
    "duration": 3,
    "start_time": "2022-06-13T20:21:19.197Z"
   },
   {
    "duration": 84,
    "start_time": "2022-06-13T20:21:19.202Z"
   },
   {
    "duration": 107,
    "start_time": "2022-06-13T20:21:19.287Z"
   },
   {
    "duration": 7,
    "start_time": "2022-06-13T20:21:19.397Z"
   },
   {
    "duration": 69,
    "start_time": "2022-06-13T20:21:19.406Z"
   },
   {
    "duration": 474,
    "start_time": "2022-06-13T20:21:19.477Z"
   },
   {
    "duration": 50,
    "start_time": "2022-06-13T20:21:19.958Z"
   },
   {
    "duration": 194,
    "start_time": "2022-06-13T20:21:20.010Z"
   },
   {
    "duration": 7,
    "start_time": "2022-06-13T20:21:20.206Z"
   },
   {
    "duration": 52,
    "start_time": "2022-06-13T20:21:20.215Z"
   },
   {
    "duration": 7,
    "start_time": "2022-06-13T20:21:20.269Z"
   },
   {
    "duration": 533,
    "start_time": "2022-06-13T20:21:20.277Z"
   },
   {
    "duration": 347,
    "start_time": "2022-06-13T20:21:20.812Z"
   },
   {
    "duration": 146,
    "start_time": "2022-06-13T20:21:21.160Z"
   },
   {
    "duration": 8,
    "start_time": "2022-06-13T20:21:21.308Z"
   },
   {
    "duration": 21,
    "start_time": "2022-06-13T20:21:21.317Z"
   },
   {
    "duration": 28,
    "start_time": "2022-06-13T20:21:21.352Z"
   },
   {
    "duration": 134,
    "start_time": "2022-06-13T20:21:21.382Z"
   },
   {
    "duration": 18,
    "start_time": "2022-06-13T20:21:21.518Z"
   },
   {
    "duration": 18,
    "start_time": "2022-06-13T20:21:21.538Z"
   },
   {
    "duration": 285,
    "start_time": "2022-06-13T20:21:21.558Z"
   },
   {
    "duration": 378,
    "start_time": "2022-06-13T20:21:21.852Z"
   },
   {
    "duration": 37,
    "start_time": "2022-06-13T20:21:22.232Z"
   },
   {
    "duration": 31,
    "start_time": "2022-06-13T20:21:22.271Z"
   },
   {
    "duration": 340,
    "start_time": "2022-06-13T20:21:22.304Z"
   },
   {
    "duration": 93,
    "start_time": "2022-06-13T20:21:22.645Z"
   },
   {
    "duration": 18,
    "start_time": "2022-06-13T20:21:22.740Z"
   },
   {
    "duration": 696,
    "start_time": "2022-06-13T20:21:22.760Z"
   },
   {
    "duration": 20,
    "start_time": "2022-06-13T20:21:23.463Z"
   },
   {
    "duration": 71,
    "start_time": "2022-06-13T20:21:23.484Z"
   },
   {
    "duration": 13432,
    "start_time": "2022-06-13T20:21:23.559Z"
   },
   {
    "duration": 45317,
    "start_time": "2022-06-13T20:21:36.992Z"
   },
   {
    "duration": 2,
    "start_time": "2022-06-13T20:22:22.311Z"
   },
   {
    "duration": 8,
    "start_time": "2022-06-13T20:22:22.314Z"
   },
   {
    "duration": 5,
    "start_time": "2022-06-13T20:22:22.323Z"
   },
   {
    "duration": 131,
    "start_time": "2022-06-13T20:22:22.330Z"
   },
   {
    "duration": 30670,
    "start_time": "2022-06-13T20:22:22.463Z"
   },
   {
    "duration": 32427,
    "start_time": "2022-06-13T20:22:53.135Z"
   },
   {
    "duration": 1410,
    "start_time": "2022-06-13T20:24:46.652Z"
   },
   {
    "duration": 779,
    "start_time": "2022-06-13T20:24:48.064Z"
   },
   {
    "duration": 119,
    "start_time": "2022-06-13T20:24:48.844Z"
   },
   {
    "duration": 12,
    "start_time": "2022-06-13T20:24:48.965Z"
   },
   {
    "duration": 457,
    "start_time": "2022-06-13T20:24:48.979Z"
   },
   {
    "duration": 491,
    "start_time": "2022-06-13T20:24:49.438Z"
   },
   {
    "duration": 3,
    "start_time": "2022-06-13T20:24:49.930Z"
   },
   {
    "duration": 88,
    "start_time": "2022-06-13T20:24:49.934Z"
   },
   {
    "duration": 120,
    "start_time": "2022-06-13T20:24:50.023Z"
   },
   {
    "duration": 14,
    "start_time": "2022-06-13T20:24:50.144Z"
   },
   {
    "duration": 46,
    "start_time": "2022-06-13T20:24:50.162Z"
   },
   {
    "duration": 489,
    "start_time": "2022-06-13T20:24:50.210Z"
   },
   {
    "duration": 57,
    "start_time": "2022-06-13T20:24:50.700Z"
   },
   {
    "duration": 153,
    "start_time": "2022-06-13T20:24:50.766Z"
   },
   {
    "duration": 6,
    "start_time": "2022-06-13T20:24:50.920Z"
   },
   {
    "duration": 41,
    "start_time": "2022-06-13T20:24:50.927Z"
   },
   {
    "duration": 5,
    "start_time": "2022-06-13T20:24:50.970Z"
   },
   {
    "duration": 471,
    "start_time": "2022-06-13T20:24:50.977Z"
   },
   {
    "duration": 346,
    "start_time": "2022-06-13T20:24:51.462Z"
   },
   {
    "duration": 156,
    "start_time": "2022-06-13T20:24:51.809Z"
   },
   {
    "duration": 7,
    "start_time": "2022-06-13T20:24:51.967Z"
   },
   {
    "duration": 20,
    "start_time": "2022-06-13T20:24:51.976Z"
   },
   {
    "duration": 26,
    "start_time": "2022-06-13T20:24:51.998Z"
   },
   {
    "duration": 147,
    "start_time": "2022-06-13T20:24:52.025Z"
   },
   {
    "duration": 19,
    "start_time": "2022-06-13T20:24:52.173Z"
   },
   {
    "duration": 5,
    "start_time": "2022-06-13T20:24:52.193Z"
   },
   {
    "duration": 278,
    "start_time": "2022-06-13T20:24:52.200Z"
   },
   {
    "duration": 398,
    "start_time": "2022-06-13T20:24:52.480Z"
   },
   {
    "duration": 26,
    "start_time": "2022-06-13T20:24:52.879Z"
   },
   {
    "duration": 35,
    "start_time": "2022-06-13T20:24:52.906Z"
   },
   {
    "duration": 332,
    "start_time": "2022-06-13T20:24:52.943Z"
   },
   {
    "duration": 81,
    "start_time": "2022-06-13T20:24:53.277Z"
   },
   {
    "duration": 8,
    "start_time": "2022-06-13T20:24:53.360Z"
   },
   {
    "duration": 633,
    "start_time": "2022-06-13T20:24:53.369Z"
   },
   {
    "duration": 19,
    "start_time": "2022-06-13T20:24:54.004Z"
   },
   {
    "duration": 78,
    "start_time": "2022-06-13T20:24:54.025Z"
   },
   {
    "duration": 13658,
    "start_time": "2022-06-13T20:24:54.105Z"
   },
   {
    "duration": 46458,
    "start_time": "2022-06-13T20:25:07.770Z"
   },
   {
    "duration": 3951472,
    "start_time": "2022-06-13T20:25:54.230Z"
   },
   {
    "duration": 3,
    "start_time": "2022-06-13T21:31:45.703Z"
   },
   {
    "duration": 22,
    "start_time": "2022-06-13T21:31:45.709Z"
   },
   {
    "duration": 131,
    "start_time": "2022-06-13T21:31:45.732Z"
   },
   {
    "duration": 30708,
    "start_time": "2022-06-13T21:31:45.864Z"
   },
   {
    "duration": 105682,
    "start_time": "2022-06-13T21:32:16.573Z"
   },
   {
    "duration": 87,
    "start_time": "2022-06-15T16:47:23.366Z"
   },
   {
    "duration": 31057,
    "start_time": "2022-06-15T16:48:23.139Z"
   },
   {
    "duration": 453,
    "start_time": "2022-06-15T17:50:28.773Z"
   },
   {
    "duration": 255,
    "start_time": "2022-06-15T17:52:58.140Z"
   },
   {
    "duration": 3,
    "start_time": "2022-06-15T17:55:29.833Z"
   },
   {
    "duration": 407,
    "start_time": "2022-06-15T17:56:06.651Z"
   },
   {
    "duration": 329,
    "start_time": "2022-06-15T17:59:52.780Z"
   },
   {
    "duration": 137,
    "start_time": "2022-06-15T18:02:35.948Z"
   },
   {
    "duration": 282,
    "start_time": "2022-06-15T18:06:53.143Z"
   },
   {
    "duration": 409,
    "start_time": "2022-06-15T18:07:30.025Z"
   },
   {
    "duration": 397,
    "start_time": "2022-06-15T18:07:41.736Z"
   },
   {
    "duration": 339,
    "start_time": "2022-06-15T18:15:29.608Z"
   },
   {
    "duration": 5,
    "start_time": "2022-06-15T19:19:08.170Z"
   },
   {
    "duration": 5,
    "start_time": "2022-06-15T19:19:22.219Z"
   },
   {
    "duration": 115,
    "start_time": "2022-06-15T19:19:26.364Z"
   },
   {
    "duration": 4,
    "start_time": "2022-06-15T19:22:54.958Z"
   },
   {
    "duration": 0,
    "start_time": "2022-06-15T19:22:54.963Z"
   },
   {
    "duration": 0,
    "start_time": "2022-06-15T19:22:54.965Z"
   },
   {
    "duration": 6,
    "start_time": "2022-06-15T19:23:05.194Z"
   },
   {
    "duration": 53826,
    "start_time": "2022-06-15T19:23:12.738Z"
   },
   {
    "duration": 1320,
    "start_time": "2022-06-15T19:55:55.272Z"
   },
   {
    "duration": 807,
    "start_time": "2022-06-15T19:55:56.594Z"
   },
   {
    "duration": 112,
    "start_time": "2022-06-15T19:55:57.402Z"
   },
   {
    "duration": 14,
    "start_time": "2022-06-15T19:55:57.516Z"
   },
   {
    "duration": 495,
    "start_time": "2022-06-15T19:55:57.532Z"
   },
   {
    "duration": 520,
    "start_time": "2022-06-15T19:55:58.029Z"
   },
   {
    "duration": 3,
    "start_time": "2022-06-15T19:55:58.551Z"
   },
   {
    "duration": 111,
    "start_time": "2022-06-15T19:55:58.556Z"
   },
   {
    "duration": 113,
    "start_time": "2022-06-15T19:55:58.669Z"
   },
   {
    "duration": 7,
    "start_time": "2022-06-15T19:55:58.784Z"
   },
   {
    "duration": 72,
    "start_time": "2022-06-15T19:55:58.793Z"
   },
   {
    "duration": 530,
    "start_time": "2022-06-15T19:55:58.866Z"
   },
   {
    "duration": 58,
    "start_time": "2022-06-15T19:55:59.398Z"
   },
   {
    "duration": 188,
    "start_time": "2022-06-15T19:55:59.460Z"
   },
   {
    "duration": 6,
    "start_time": "2022-06-15T19:55:59.651Z"
   },
   {
    "duration": 35,
    "start_time": "2022-06-15T19:55:59.659Z"
   },
   {
    "duration": 3,
    "start_time": "2022-06-15T19:55:59.696Z"
   },
   {
    "duration": 514,
    "start_time": "2022-06-15T19:55:59.700Z"
   },
   {
    "duration": 353,
    "start_time": "2022-06-15T19:56:00.216Z"
   },
   {
    "duration": 149,
    "start_time": "2022-06-15T19:56:00.570Z"
   },
   {
    "duration": 9,
    "start_time": "2022-06-15T19:56:00.721Z"
   },
   {
    "duration": 76,
    "start_time": "2022-06-15T19:56:00.732Z"
   },
   {
    "duration": 24,
    "start_time": "2022-06-15T19:56:00.811Z"
   },
   {
    "duration": 173,
    "start_time": "2022-06-15T19:56:00.837Z"
   },
   {
    "duration": 19,
    "start_time": "2022-06-15T19:56:01.011Z"
   },
   {
    "duration": 21,
    "start_time": "2022-06-15T19:56:01.032Z"
   },
   {
    "duration": 319,
    "start_time": "2022-06-15T19:56:01.055Z"
   },
   {
    "duration": 380,
    "start_time": "2022-06-15T19:56:01.377Z"
   },
   {
    "duration": 28,
    "start_time": "2022-06-15T19:56:01.758Z"
   },
   {
    "duration": 90,
    "start_time": "2022-06-15T19:56:01.787Z"
   },
   {
    "duration": 337,
    "start_time": "2022-06-15T19:56:01.879Z"
   },
   {
    "duration": 77,
    "start_time": "2022-06-15T19:56:02.217Z"
   },
   {
    "duration": 31,
    "start_time": "2022-06-15T19:56:02.296Z"
   },
   {
    "duration": 672,
    "start_time": "2022-06-15T19:56:02.328Z"
   },
   {
    "duration": 18,
    "start_time": "2022-06-15T19:56:03.001Z"
   },
   {
    "duration": 90,
    "start_time": "2022-06-15T19:56:03.021Z"
   },
   {
    "duration": 4,
    "start_time": "2022-06-15T19:56:03.113Z"
   },
   {
    "duration": 0,
    "start_time": "2022-06-15T19:56:03.119Z"
   },
   {
    "duration": 0,
    "start_time": "2022-06-15T19:56:03.120Z"
   },
   {
    "duration": 0,
    "start_time": "2022-06-15T19:56:03.121Z"
   },
   {
    "duration": 0,
    "start_time": "2022-06-15T19:56:03.122Z"
   },
   {
    "duration": 0,
    "start_time": "2022-06-15T19:56:03.123Z"
   },
   {
    "duration": 0,
    "start_time": "2022-06-15T19:56:03.124Z"
   },
   {
    "duration": 0,
    "start_time": "2022-06-15T19:56:03.125Z"
   },
   {
    "duration": 13860,
    "start_time": "2022-06-15T19:57:47.480Z"
   },
   {
    "duration": 1310,
    "start_time": "2022-06-15T20:00:17.075Z"
   },
   {
    "duration": 791,
    "start_time": "2022-06-15T20:00:18.387Z"
   },
   {
    "duration": 126,
    "start_time": "2022-06-15T20:00:19.180Z"
   },
   {
    "duration": 13,
    "start_time": "2022-06-15T20:00:19.309Z"
   },
   {
    "duration": 497,
    "start_time": "2022-06-15T20:00:19.324Z"
   },
   {
    "duration": 509,
    "start_time": "2022-06-15T20:00:19.823Z"
   },
   {
    "duration": 2,
    "start_time": "2022-06-15T20:00:20.334Z"
   },
   {
    "duration": 83,
    "start_time": "2022-06-15T20:00:20.338Z"
   },
   {
    "duration": 111,
    "start_time": "2022-06-15T20:00:20.423Z"
   },
   {
    "duration": 15,
    "start_time": "2022-06-15T20:00:20.537Z"
   },
   {
    "duration": 49,
    "start_time": "2022-06-15T20:00:20.554Z"
   },
   {
    "duration": 535,
    "start_time": "2022-06-15T20:00:20.605Z"
   },
   {
    "duration": 56,
    "start_time": "2022-06-15T20:00:21.142Z"
   },
   {
    "duration": 182,
    "start_time": "2022-06-15T20:00:21.200Z"
   },
   {
    "duration": 6,
    "start_time": "2022-06-15T20:00:21.384Z"
   },
   {
    "duration": 38,
    "start_time": "2022-06-15T20:00:21.391Z"
   },
   {
    "duration": 3,
    "start_time": "2022-06-15T20:00:21.430Z"
   },
   {
    "duration": 466,
    "start_time": "2022-06-15T20:00:21.452Z"
   },
   {
    "duration": 355,
    "start_time": "2022-06-15T20:00:21.920Z"
   },
   {
    "duration": 149,
    "start_time": "2022-06-15T20:00:22.277Z"
   },
   {
    "duration": 9,
    "start_time": "2022-06-15T20:00:22.428Z"
   },
   {
    "duration": 23,
    "start_time": "2022-06-15T20:00:22.453Z"
   },
   {
    "duration": 26,
    "start_time": "2022-06-15T20:00:22.478Z"
   },
   {
    "duration": 176,
    "start_time": "2022-06-15T20:00:22.506Z"
   },
   {
    "duration": 20,
    "start_time": "2022-06-15T20:00:22.683Z"
   },
   {
    "duration": 5,
    "start_time": "2022-06-15T20:00:22.704Z"
   },
   {
    "duration": 292,
    "start_time": "2022-06-15T20:00:22.710Z"
   },
   {
    "duration": 380,
    "start_time": "2022-06-15T20:00:23.006Z"
   },
   {
    "duration": 26,
    "start_time": "2022-06-15T20:00:23.388Z"
   },
   {
    "duration": 42,
    "start_time": "2022-06-15T20:00:23.415Z"
   },
   {
    "duration": 316,
    "start_time": "2022-06-15T20:00:23.458Z"
   },
   {
    "duration": 79,
    "start_time": "2022-06-15T20:00:23.776Z"
   },
   {
    "duration": 7,
    "start_time": "2022-06-15T20:00:23.857Z"
   },
   {
    "duration": 627,
    "start_time": "2022-06-15T20:00:23.865Z"
   },
   {
    "duration": 18,
    "start_time": "2022-06-15T20:00:24.494Z"
   },
   {
    "duration": 79,
    "start_time": "2022-06-15T20:00:24.514Z"
   },
   {
    "duration": 14148,
    "start_time": "2022-06-15T20:00:24.595Z"
   },
   {
    "duration": 46575,
    "start_time": "2022-06-15T20:00:38.745Z"
   },
   {
    "duration": 3,
    "start_time": "2022-06-15T20:01:25.322Z"
   },
   {
    "duration": 129,
    "start_time": "2022-06-15T20:01:25.327Z"
   },
   {
    "duration": 31121,
    "start_time": "2022-06-15T20:01:25.461Z"
   },
   {
    "duration": 199084,
    "start_time": "2022-06-15T20:01:56.584Z"
   },
   {
    "duration": 126104,
    "start_time": "2022-06-15T20:05:15.671Z"
   },
   {
    "duration": 10,
    "start_time": "2022-06-15T20:07:21.776Z"
   },
   {
    "duration": 12,
    "start_time": "2022-06-15T20:09:57.124Z"
   },
   {
    "duration": 4,
    "start_time": "2022-06-15T20:29:19.239Z"
   },
   {
    "duration": 7,
    "start_time": "2022-06-15T20:34:25.868Z"
   },
   {
    "duration": 10,
    "start_time": "2022-06-15T20:35:51.983Z"
   },
   {
    "duration": 10,
    "start_time": "2022-06-15T20:59:08.218Z"
   },
   {
    "duration": 1426,
    "start_time": "2022-06-16T15:26:31.035Z"
   },
   {
    "duration": 874,
    "start_time": "2022-06-16T15:26:32.464Z"
   },
   {
    "duration": 123,
    "start_time": "2022-06-16T15:26:33.340Z"
   },
   {
    "duration": 14,
    "start_time": "2022-06-16T15:26:33.464Z"
   },
   {
    "duration": 503,
    "start_time": "2022-06-16T15:26:33.480Z"
   },
   {
    "duration": 553,
    "start_time": "2022-06-16T15:26:33.985Z"
   },
   {
    "duration": 3,
    "start_time": "2022-06-16T15:26:34.540Z"
   },
   {
    "duration": 88,
    "start_time": "2022-06-16T15:26:34.553Z"
   },
   {
    "duration": 124,
    "start_time": "2022-06-16T15:26:34.643Z"
   },
   {
    "duration": 8,
    "start_time": "2022-06-16T15:26:34.769Z"
   },
   {
    "duration": 112,
    "start_time": "2022-06-16T15:27:11.844Z"
   },
   {
    "duration": 9,
    "start_time": "2022-06-16T15:27:17.028Z"
   },
   {
    "duration": 21,
    "start_time": "2022-06-16T15:27:31.572Z"
   },
   {
    "duration": 1308,
    "start_time": "2022-06-16T15:27:39.779Z"
   },
   {
    "duration": 825,
    "start_time": "2022-06-16T15:27:41.089Z"
   },
   {
    "duration": 130,
    "start_time": "2022-06-16T15:27:41.916Z"
   },
   {
    "duration": 14,
    "start_time": "2022-06-16T15:27:42.051Z"
   },
   {
    "duration": 525,
    "start_time": "2022-06-16T15:27:42.067Z"
   },
   {
    "duration": 554,
    "start_time": "2022-06-16T15:27:42.593Z"
   },
   {
    "duration": 3,
    "start_time": "2022-06-16T15:27:43.149Z"
   },
   {
    "duration": 83,
    "start_time": "2022-06-16T15:27:43.154Z"
   },
   {
    "duration": 117,
    "start_time": "2022-06-16T15:27:43.239Z"
   },
   {
    "duration": 8,
    "start_time": "2022-06-16T15:27:43.358Z"
   },
   {
    "duration": 51,
    "start_time": "2022-06-16T15:27:43.368Z"
   },
   {
    "duration": 533,
    "start_time": "2022-06-16T15:27:43.420Z"
   },
   {
    "duration": 54,
    "start_time": "2022-06-16T15:27:43.955Z"
   },
   {
    "duration": 190,
    "start_time": "2022-06-16T15:27:44.012Z"
   },
   {
    "duration": 6,
    "start_time": "2022-06-16T15:27:44.204Z"
   },
   {
    "duration": 48,
    "start_time": "2022-06-16T15:27:44.211Z"
   },
   {
    "duration": 3,
    "start_time": "2022-06-16T15:27:44.260Z"
   },
   {
    "duration": 491,
    "start_time": "2022-06-16T15:27:44.264Z"
   },
   {
    "duration": 358,
    "start_time": "2022-06-16T15:27:44.756Z"
   },
   {
    "duration": 156,
    "start_time": "2022-06-16T15:27:45.116Z"
   },
   {
    "duration": 9,
    "start_time": "2022-06-16T15:27:45.274Z"
   },
   {
    "duration": 27,
    "start_time": "2022-06-16T15:27:45.285Z"
   },
   {
    "duration": 53,
    "start_time": "2022-06-16T15:27:45.314Z"
   },
   {
    "duration": 149,
    "start_time": "2022-06-16T15:27:45.369Z"
   },
   {
    "duration": 20,
    "start_time": "2022-06-16T15:27:45.520Z"
   },
   {
    "duration": 5,
    "start_time": "2022-06-16T15:27:45.552Z"
   },
   {
    "duration": 285,
    "start_time": "2022-06-16T15:27:45.558Z"
   },
   {
    "duration": 378,
    "start_time": "2022-06-16T15:27:45.845Z"
   },
   {
    "duration": 31,
    "start_time": "2022-06-16T15:27:46.225Z"
   },
   {
    "duration": 33,
    "start_time": "2022-06-16T15:27:46.258Z"
   },
   {
    "duration": 326,
    "start_time": "2022-06-16T15:27:46.292Z"
   },
   {
    "duration": 87,
    "start_time": "2022-06-16T15:27:46.619Z"
   },
   {
    "duration": 8,
    "start_time": "2022-06-16T15:27:46.708Z"
   },
   {
    "duration": 694,
    "start_time": "2022-06-16T15:27:46.717Z"
   },
   {
    "duration": 20,
    "start_time": "2022-06-16T15:27:47.413Z"
   },
   {
    "duration": 88,
    "start_time": "2022-06-16T15:27:47.435Z"
   },
   {
    "duration": 18407,
    "start_time": "2022-06-16T15:27:47.525Z"
   },
   {
    "duration": 58386,
    "start_time": "2022-06-16T15:28:05.936Z"
   },
   {
    "duration": 3,
    "start_time": "2022-06-16T15:29:04.323Z"
   },
   {
    "duration": 127,
    "start_time": "2022-06-16T15:29:04.328Z"
   },
   {
    "duration": 32541,
    "start_time": "2022-06-16T15:29:04.461Z"
   },
   {
    "duration": 487587,
    "start_time": "2022-06-16T15:29:37.004Z"
   },
   {
    "duration": 690374,
    "start_time": "2022-06-16T15:37:44.593Z"
   },
   {
    "duration": 7,
    "start_time": "2022-06-16T15:49:14.969Z"
   },
   {
    "duration": 11,
    "start_time": "2022-06-16T15:49:14.977Z"
   },
   {
    "duration": 6,
    "start_time": "2022-06-16T15:49:19.128Z"
   },
   {
    "duration": 1300,
    "start_time": "2022-06-16T16:23:08.804Z"
   },
   {
    "duration": 785,
    "start_time": "2022-06-16T16:23:10.106Z"
   },
   {
    "duration": 107,
    "start_time": "2022-06-16T16:23:10.892Z"
   },
   {
    "duration": 12,
    "start_time": "2022-06-16T16:23:11.001Z"
   },
   {
    "duration": 462,
    "start_time": "2022-06-16T16:23:11.016Z"
   },
   {
    "duration": 499,
    "start_time": "2022-06-16T16:23:11.480Z"
   },
   {
    "duration": 4,
    "start_time": "2022-06-16T16:23:11.980Z"
   },
   {
    "duration": 93,
    "start_time": "2022-06-16T16:23:11.985Z"
   },
   {
    "duration": 118,
    "start_time": "2022-06-16T16:23:12.080Z"
   },
   {
    "duration": 8,
    "start_time": "2022-06-16T16:23:12.199Z"
   },
   {
    "duration": 68,
    "start_time": "2022-06-16T16:23:12.209Z"
   },
   {
    "duration": 570,
    "start_time": "2022-06-16T16:23:12.279Z"
   },
   {
    "duration": 58,
    "start_time": "2022-06-16T16:23:12.852Z"
   },
   {
    "duration": 193,
    "start_time": "2022-06-16T16:23:12.913Z"
   },
   {
    "duration": 6,
    "start_time": "2022-06-16T16:23:13.108Z"
   },
   {
    "duration": 48,
    "start_time": "2022-06-16T16:23:13.115Z"
   },
   {
    "duration": 3,
    "start_time": "2022-06-16T16:23:13.165Z"
   },
   {
    "duration": 503,
    "start_time": "2022-06-16T16:23:13.170Z"
   },
   {
    "duration": 355,
    "start_time": "2022-06-16T16:23:13.674Z"
   },
   {
    "duration": 154,
    "start_time": "2022-06-16T16:23:14.031Z"
   },
   {
    "duration": 9,
    "start_time": "2022-06-16T16:23:14.187Z"
   },
   {
    "duration": 24,
    "start_time": "2022-06-16T16:23:14.197Z"
   },
   {
    "duration": 36,
    "start_time": "2022-06-16T16:32:44.106Z"
   },
   {
    "duration": 67,
    "start_time": "2022-06-16T16:35:41.763Z"
   },
   {
    "duration": 10,
    "start_time": "2022-06-16T16:40:58.696Z"
   },
   {
    "duration": 76,
    "start_time": "2022-06-16T16:42:52.155Z"
   },
   {
    "duration": 1341,
    "start_time": "2022-06-16T16:45:39.317Z"
   },
   {
    "duration": 812,
    "start_time": "2022-06-16T16:45:40.659Z"
   },
   {
    "duration": 116,
    "start_time": "2022-06-16T16:45:41.472Z"
   },
   {
    "duration": 13,
    "start_time": "2022-06-16T16:45:41.589Z"
   },
   {
    "duration": 495,
    "start_time": "2022-06-16T16:45:41.604Z"
   },
   {
    "duration": 498,
    "start_time": "2022-06-16T16:45:42.100Z"
   },
   {
    "duration": 3,
    "start_time": "2022-06-16T16:45:42.601Z"
   },
   {
    "duration": 99,
    "start_time": "2022-06-16T16:45:42.606Z"
   },
   {
    "duration": 111,
    "start_time": "2022-06-16T16:45:42.707Z"
   },
   {
    "duration": 6,
    "start_time": "2022-06-16T16:45:42.820Z"
   },
   {
    "duration": 61,
    "start_time": "2022-06-16T16:45:42.827Z"
   },
   {
    "duration": 565,
    "start_time": "2022-06-16T16:45:42.890Z"
   },
   {
    "duration": 56,
    "start_time": "2022-06-16T16:45:43.456Z"
   },
   {
    "duration": 192,
    "start_time": "2022-06-16T16:45:43.515Z"
   },
   {
    "duration": 6,
    "start_time": "2022-06-16T16:45:43.709Z"
   },
   {
    "duration": 49,
    "start_time": "2022-06-16T16:45:43.717Z"
   },
   {
    "duration": 3,
    "start_time": "2022-06-16T16:45:43.768Z"
   },
   {
    "duration": 511,
    "start_time": "2022-06-16T16:45:43.773Z"
   },
   {
    "duration": 367,
    "start_time": "2022-06-16T16:45:44.285Z"
   },
   {
    "duration": 151,
    "start_time": "2022-06-16T16:45:44.653Z"
   },
   {
    "duration": 8,
    "start_time": "2022-06-16T16:45:44.806Z"
   },
   {
    "duration": 8,
    "start_time": "2022-06-16T16:45:44.816Z"
   },
   {
    "duration": 50,
    "start_time": "2022-06-16T16:45:44.826Z"
   },
   {
    "duration": 31,
    "start_time": "2022-06-16T16:52:38.049Z"
   },
   {
    "duration": 20,
    "start_time": "2022-06-16T16:53:02.960Z"
   },
   {
    "duration": 21,
    "start_time": "2022-06-16T16:53:12.692Z"
   },
   {
    "duration": 254,
    "start_time": "2022-06-16T16:54:19.128Z"
   },
   {
    "duration": 519,
    "start_time": "2022-06-16T16:54:31.360Z"
   },
   {
    "duration": 451,
    "start_time": "2022-06-16T16:54:55.215Z"
   },
   {
    "duration": 808,
    "start_time": "2022-06-16T16:55:02.175Z"
   },
   {
    "duration": 531,
    "start_time": "2022-06-16T16:55:37.848Z"
   },
   {
    "duration": 26,
    "start_time": "2022-06-16T16:56:09.105Z"
   },
   {
    "duration": 30,
    "start_time": "2022-06-16T16:56:28.849Z"
   },
   {
    "duration": 50,
    "start_time": "2022-06-16T17:15:17.835Z"
   },
   {
    "duration": 1323,
    "start_time": "2022-06-16T17:15:28.117Z"
   },
   {
    "duration": 780,
    "start_time": "2022-06-16T17:15:29.441Z"
   },
   {
    "duration": 123,
    "start_time": "2022-06-16T17:15:30.223Z"
   },
   {
    "duration": 13,
    "start_time": "2022-06-16T17:15:30.351Z"
   },
   {
    "duration": 666,
    "start_time": "2022-06-16T17:15:30.366Z"
   },
   {
    "duration": 522,
    "start_time": "2022-06-16T17:15:31.034Z"
   },
   {
    "duration": 3,
    "start_time": "2022-06-16T17:15:31.558Z"
   },
   {
    "duration": 120,
    "start_time": "2022-06-16T17:15:31.562Z"
   },
   {
    "duration": 138,
    "start_time": "2022-06-16T17:15:31.684Z"
   },
   {
    "duration": 10,
    "start_time": "2022-06-16T17:15:31.826Z"
   },
   {
    "duration": 77,
    "start_time": "2022-06-16T17:15:31.838Z"
   },
   {
    "duration": 576,
    "start_time": "2022-06-16T17:15:31.917Z"
   },
   {
    "duration": 27,
    "start_time": "2022-06-16T17:15:32.495Z"
   },
   {
    "duration": 64,
    "start_time": "2022-06-16T17:15:32.525Z"
   },
   {
    "duration": 204,
    "start_time": "2022-06-16T17:15:32.591Z"
   },
   {
    "duration": 6,
    "start_time": "2022-06-16T17:15:32.797Z"
   },
   {
    "duration": 47,
    "start_time": "2022-06-16T17:15:32.805Z"
   },
   {
    "duration": 2,
    "start_time": "2022-06-16T17:15:32.854Z"
   },
   {
    "duration": 507,
    "start_time": "2022-06-16T17:15:32.858Z"
   },
   {
    "duration": 371,
    "start_time": "2022-06-16T17:15:33.367Z"
   },
   {
    "duration": 149,
    "start_time": "2022-06-16T17:15:33.739Z"
   },
   {
    "duration": 8,
    "start_time": "2022-06-16T17:15:33.890Z"
   },
   {
    "duration": 9,
    "start_time": "2022-06-16T17:15:33.899Z"
   },
   {
    "duration": 44,
    "start_time": "2022-06-16T17:15:33.909Z"
   },
   {
    "duration": 23,
    "start_time": "2022-06-16T17:15:33.955Z"
   },
   {
    "duration": 23,
    "start_time": "2022-06-16T17:15:33.980Z"
   },
   {
    "duration": 176,
    "start_time": "2022-06-16T17:15:34.005Z"
   },
   {
    "duration": 3,
    "start_time": "2022-06-16T17:15:34.184Z"
   },
   {
    "duration": 11,
    "start_time": "2022-06-16T17:15:34.189Z"
   },
   {
    "duration": 299,
    "start_time": "2022-06-16T17:15:34.202Z"
   },
   {
    "duration": 386,
    "start_time": "2022-06-16T17:15:34.503Z"
   },
   {
    "duration": 36,
    "start_time": "2022-06-16T17:15:34.891Z"
   },
   {
    "duration": 448,
    "start_time": "2022-06-16T17:15:45.046Z"
   },
   {
    "duration": 118,
    "start_time": "2022-06-16T17:16:00.201Z"
   },
   {
    "duration": 9,
    "start_time": "2022-06-16T17:17:23.525Z"
   },
   {
    "duration": 9,
    "start_time": "2022-06-16T17:19:38.653Z"
   },
   {
    "duration": 9,
    "start_time": "2022-06-16T17:19:43.221Z"
   },
   {
    "duration": 13,
    "start_time": "2022-06-16T17:23:53.228Z"
   },
   {
    "duration": 9,
    "start_time": "2022-06-16T17:24:15.043Z"
   },
   {
    "duration": 10,
    "start_time": "2022-06-16T17:25:02.397Z"
   },
   {
    "duration": 9,
    "start_time": "2022-06-16T17:25:22.005Z"
   },
   {
    "duration": 9,
    "start_time": "2022-06-16T17:26:25.137Z"
   },
   {
    "duration": 10,
    "start_time": "2022-06-16T17:35:00.001Z"
   },
   {
    "duration": 3,
    "start_time": "2022-06-16T17:38:00.208Z"
   },
   {
    "duration": 114,
    "start_time": "2022-06-16T17:38:03.952Z"
   },
   {
    "duration": 4,
    "start_time": "2022-06-16T17:38:24.848Z"
   },
   {
    "duration": 1376,
    "start_time": "2022-06-16T17:38:50.043Z"
   },
   {
    "duration": 837,
    "start_time": "2022-06-16T17:38:51.421Z"
   },
   {
    "duration": 132,
    "start_time": "2022-06-16T17:38:52.260Z"
   },
   {
    "duration": 14,
    "start_time": "2022-06-16T17:38:52.394Z"
   },
   {
    "duration": 530,
    "start_time": "2022-06-16T17:38:52.411Z"
   },
   {
    "duration": 528,
    "start_time": "2022-06-16T17:38:52.943Z"
   },
   {
    "duration": 3,
    "start_time": "2022-06-16T17:38:53.472Z"
   },
   {
    "duration": 96,
    "start_time": "2022-06-16T17:38:53.477Z"
   },
   {
    "duration": 109,
    "start_time": "2022-06-16T17:38:53.575Z"
   },
   {
    "duration": 6,
    "start_time": "2022-06-16T17:38:53.686Z"
   },
   {
    "duration": 69,
    "start_time": "2022-06-16T17:38:53.694Z"
   },
   {
    "duration": 524,
    "start_time": "2022-06-16T17:38:53.764Z"
   },
   {
    "duration": 26,
    "start_time": "2022-06-16T17:38:54.289Z"
   },
   {
    "duration": 72,
    "start_time": "2022-06-16T17:38:54.319Z"
   },
   {
    "duration": 193,
    "start_time": "2022-06-16T17:38:54.393Z"
   },
   {
    "duration": 7,
    "start_time": "2022-06-16T17:38:54.588Z"
   },
   {
    "duration": 41,
    "start_time": "2022-06-16T17:38:54.596Z"
   },
   {
    "duration": 13,
    "start_time": "2022-06-16T17:38:54.639Z"
   },
   {
    "duration": 499,
    "start_time": "2022-06-16T17:38:54.654Z"
   },
   {
    "duration": 398,
    "start_time": "2022-06-16T17:38:55.156Z"
   },
   {
    "duration": 136,
    "start_time": "2022-06-16T17:38:55.556Z"
   },
   {
    "duration": 7,
    "start_time": "2022-06-16T17:38:55.694Z"
   },
   {
    "duration": 11,
    "start_time": "2022-06-16T17:38:55.702Z"
   },
   {
    "duration": 24,
    "start_time": "2022-06-16T17:38:55.715Z"
   },
   {
    "duration": 24,
    "start_time": "2022-06-16T17:38:55.752Z"
   },
   {
    "duration": 23,
    "start_time": "2022-06-16T17:38:55.778Z"
   },
   {
    "duration": 150,
    "start_time": "2022-06-16T17:38:55.803Z"
   },
   {
    "duration": 2,
    "start_time": "2022-06-16T17:38:55.955Z"
   },
   {
    "duration": 11,
    "start_time": "2022-06-16T17:38:55.959Z"
   },
   {
    "duration": 284,
    "start_time": "2022-06-16T17:38:55.971Z"
   },
   {
    "duration": 359,
    "start_time": "2022-06-16T17:38:56.257Z"
   },
   {
    "duration": 23,
    "start_time": "2022-06-16T17:51:53.112Z"
   },
   {
    "duration": 18,
    "start_time": "2022-06-16T17:51:55.768Z"
   },
   {
    "duration": 347,
    "start_time": "2022-06-16T17:52:05.528Z"
   },
   {
    "duration": 4,
    "start_time": "2022-06-16T17:52:40.391Z"
   },
   {
    "duration": 1345,
    "start_time": "2022-06-16T18:01:45.348Z"
   },
   {
    "duration": 789,
    "start_time": "2022-06-16T18:01:46.695Z"
   },
   {
    "duration": 122,
    "start_time": "2022-06-16T18:01:47.486Z"
   },
   {
    "duration": 14,
    "start_time": "2022-06-16T18:01:47.610Z"
   },
   {
    "duration": 482,
    "start_time": "2022-06-16T18:01:47.627Z"
   },
   {
    "duration": 518,
    "start_time": "2022-06-16T18:01:48.111Z"
   },
   {
    "duration": 3,
    "start_time": "2022-06-16T18:01:48.631Z"
   },
   {
    "duration": 93,
    "start_time": "2022-06-16T18:01:48.635Z"
   },
   {
    "duration": 111,
    "start_time": "2022-06-16T18:01:48.730Z"
   },
   {
    "duration": 11,
    "start_time": "2022-06-16T18:01:48.843Z"
   },
   {
    "duration": 51,
    "start_time": "2022-06-16T18:01:48.855Z"
   },
   {
    "duration": 509,
    "start_time": "2022-06-16T18:01:48.907Z"
   },
   {
    "duration": 35,
    "start_time": "2022-06-16T18:01:49.417Z"
   },
   {
    "duration": 59,
    "start_time": "2022-06-16T18:01:49.455Z"
   },
   {
    "duration": 179,
    "start_time": "2022-06-16T18:01:49.516Z"
   },
   {
    "duration": 6,
    "start_time": "2022-06-16T18:01:49.697Z"
   },
   {
    "duration": 50,
    "start_time": "2022-06-16T18:01:49.704Z"
   },
   {
    "duration": 3,
    "start_time": "2022-06-16T18:01:49.755Z"
   },
   {
    "duration": 492,
    "start_time": "2022-06-16T18:01:49.760Z"
   },
   {
    "duration": 349,
    "start_time": "2022-06-16T18:01:50.254Z"
   },
   {
    "duration": 150,
    "start_time": "2022-06-16T18:01:50.605Z"
   },
   {
    "duration": 11,
    "start_time": "2022-06-16T18:01:50.757Z"
   },
   {
    "duration": 10,
    "start_time": "2022-06-16T18:01:50.770Z"
   },
   {
    "duration": 30,
    "start_time": "2022-06-16T18:01:50.782Z"
   },
   {
    "duration": 45,
    "start_time": "2022-06-16T18:01:50.814Z"
   },
   {
    "duration": 25,
    "start_time": "2022-06-16T18:01:50.862Z"
   },
   {
    "duration": 152,
    "start_time": "2022-06-16T18:01:50.889Z"
   },
   {
    "duration": 2,
    "start_time": "2022-06-16T18:01:51.042Z"
   },
   {
    "duration": 7,
    "start_time": "2022-06-16T18:01:51.046Z"
   },
   {
    "duration": 305,
    "start_time": "2022-06-16T18:01:51.055Z"
   },
   {
    "duration": 400,
    "start_time": "2022-06-16T18:01:51.361Z"
   },
   {
    "duration": 26,
    "start_time": "2022-06-16T18:01:51.763Z"
   },
   {
    "duration": 2,
    "start_time": "2022-06-16T18:01:51.791Z"
   },
   {
    "duration": 35,
    "start_time": "2022-06-16T18:01:51.795Z"
   },
   {
    "duration": 60,
    "start_time": "2022-06-16T18:01:51.832Z"
   },
   {
    "duration": 344,
    "start_time": "2022-06-16T18:01:51.894Z"
   },
   {
    "duration": 83,
    "start_time": "2022-06-16T18:01:52.240Z"
   },
   {
    "duration": 11,
    "start_time": "2022-06-16T18:01:52.324Z"
   },
   {
    "duration": 768,
    "start_time": "2022-06-16T18:01:52.352Z"
   },
   {
    "duration": 20,
    "start_time": "2022-06-16T18:01:53.122Z"
   },
   {
    "duration": 79,
    "start_time": "2022-06-16T18:01:53.154Z"
   },
   {
    "duration": 3,
    "start_time": "2022-06-16T18:01:53.235Z"
   },
   {
    "duration": 114,
    "start_time": "2022-06-16T18:02:29.927Z"
   },
   {
    "duration": 79,
    "start_time": "2022-06-16T18:03:35.186Z"
   },
   {
    "duration": 3,
    "start_time": "2022-06-16T18:03:40.046Z"
   },
   {
    "duration": 805,
    "start_time": "2022-06-16T18:06:02.261Z"
   },
   {
    "duration": 4,
    "start_time": "2022-06-16T18:08:37.773Z"
   },
   {
    "duration": 773,
    "start_time": "2022-06-16T18:08:41.150Z"
   },
   {
    "duration": 54023,
    "start_time": "2022-06-16T18:11:37.346Z"
   },
   {
    "duration": 6,
    "start_time": "2022-06-16T18:17:25.055Z"
   },
   {
    "duration": 8,
    "start_time": "2022-06-16T18:19:01.482Z"
   },
   {
    "duration": 20,
    "start_time": "2022-06-16T18:19:26.995Z"
   },
   {
    "duration": 26,
    "start_time": "2022-06-16T18:20:01.286Z"
   },
   {
    "duration": 17,
    "start_time": "2022-06-16T18:24:13.697Z"
   },
   {
    "duration": 20,
    "start_time": "2022-06-16T18:24:47.628Z"
   },
   {
    "duration": 128186,
    "start_time": "2022-06-16T18:26:06.125Z"
   },
   {
    "duration": 1397,
    "start_time": "2022-06-16T18:40:54.163Z"
   },
   {
    "duration": 795,
    "start_time": "2022-06-16T18:40:55.561Z"
   },
   {
    "duration": 114,
    "start_time": "2022-06-16T18:40:56.358Z"
   },
   {
    "duration": 15,
    "start_time": "2022-06-16T18:40:56.474Z"
   },
   {
    "duration": 504,
    "start_time": "2022-06-16T18:40:56.491Z"
   },
   {
    "duration": 502,
    "start_time": "2022-06-16T18:40:56.997Z"
   },
   {
    "duration": 4,
    "start_time": "2022-06-16T18:40:57.500Z"
   },
   {
    "duration": 101,
    "start_time": "2022-06-16T18:40:57.506Z"
   },
   {
    "duration": 112,
    "start_time": "2022-06-16T18:40:57.609Z"
   },
   {
    "duration": 15,
    "start_time": "2022-06-16T18:40:57.724Z"
   },
   {
    "duration": 89,
    "start_time": "2022-06-16T18:40:57.742Z"
   },
   {
    "duration": 547,
    "start_time": "2022-06-16T18:40:57.833Z"
   },
   {
    "duration": 32,
    "start_time": "2022-06-16T18:40:58.381Z"
   },
   {
    "duration": 72,
    "start_time": "2022-06-16T18:40:58.414Z"
   },
   {
    "duration": 179,
    "start_time": "2022-06-16T18:40:58.488Z"
   },
   {
    "duration": 6,
    "start_time": "2022-06-16T18:40:58.669Z"
   },
   {
    "duration": 34,
    "start_time": "2022-06-16T18:40:58.677Z"
   },
   {
    "duration": 3,
    "start_time": "2022-06-16T18:40:58.713Z"
   },
   {
    "duration": 555,
    "start_time": "2022-06-16T18:40:58.718Z"
   },
   {
    "duration": 377,
    "start_time": "2022-06-16T18:40:59.276Z"
   },
   {
    "duration": 162,
    "start_time": "2022-06-16T18:40:59.656Z"
   },
   {
    "duration": 9,
    "start_time": "2022-06-16T18:40:59.820Z"
   },
   {
    "duration": 22,
    "start_time": "2022-06-16T18:40:59.831Z"
   },
   {
    "duration": 20,
    "start_time": "2022-06-16T18:40:59.854Z"
   },
   {
    "duration": 26,
    "start_time": "2022-06-16T18:40:59.876Z"
   },
   {
    "duration": 55,
    "start_time": "2022-06-16T18:40:59.904Z"
   },
   {
    "duration": 144,
    "start_time": "2022-06-16T18:40:59.961Z"
   },
   {
    "duration": 3,
    "start_time": "2022-06-16T18:41:00.109Z"
   },
   {
    "duration": 40,
    "start_time": "2022-06-16T18:41:00.114Z"
   },
   {
    "duration": 293,
    "start_time": "2022-06-16T18:41:00.156Z"
   },
   {
    "duration": 388,
    "start_time": "2022-06-16T18:41:00.451Z"
   },
   {
    "duration": 24,
    "start_time": "2022-06-16T18:41:00.841Z"
   },
   {
    "duration": 12,
    "start_time": "2022-06-16T18:41:00.867Z"
   },
   {
    "duration": 39,
    "start_time": "2022-06-16T18:41:00.881Z"
   },
   {
    "duration": 35,
    "start_time": "2022-06-16T18:41:00.923Z"
   },
   {
    "duration": 373,
    "start_time": "2022-06-16T18:41:00.960Z"
   },
   {
    "duration": 81,
    "start_time": "2022-06-16T18:41:01.335Z"
   },
   {
    "duration": 10,
    "start_time": "2022-06-16T18:41:01.417Z"
   },
   {
    "duration": 769,
    "start_time": "2022-06-16T18:41:01.429Z"
   },
   {
    "duration": 20,
    "start_time": "2022-06-16T18:41:02.200Z"
   },
   {
    "duration": 83,
    "start_time": "2022-06-16T18:41:02.222Z"
   },
   {
    "duration": 4,
    "start_time": "2022-06-16T18:41:02.306Z"
   },
   {
    "duration": 849,
    "start_time": "2022-06-16T18:41:02.311Z"
   },
   {
    "duration": 17753,
    "start_time": "2022-06-16T18:41:03.162Z"
   },
   {
    "duration": 57531,
    "start_time": "2022-06-16T18:41:20.917Z"
   },
   {
    "duration": 7,
    "start_time": "2022-06-16T18:42:18.450Z"
   },
   {
    "duration": 0,
    "start_time": "2022-06-16T18:42:18.459Z"
   },
   {
    "duration": 0,
    "start_time": "2022-06-16T18:42:18.461Z"
   },
   {
    "duration": 0,
    "start_time": "2022-06-16T18:42:18.462Z"
   },
   {
    "duration": 0,
    "start_time": "2022-06-16T18:42:18.464Z"
   },
   {
    "duration": 0,
    "start_time": "2022-06-16T18:42:18.465Z"
   },
   {
    "duration": 1,
    "start_time": "2022-06-16T18:42:18.465Z"
   },
   {
    "duration": 4923395,
    "start_time": "2022-06-16T18:48:22.003Z"
   },
   {
    "duration": 97,
    "start_time": "2022-06-16T20:11:31.862Z"
   },
   {
    "duration": 31816,
    "start_time": "2022-06-16T20:11:35.063Z"
   },
   {
    "duration": 7604,
    "start_time": "2022-06-16T20:12:58.061Z"
   },
   {
    "duration": 56804,
    "start_time": "2022-06-16T20:13:10.563Z"
   },
   {
    "duration": 6,
    "start_time": "2022-06-16T20:15:12.592Z"
   },
   {
    "duration": 9,
    "start_time": "2022-06-16T20:26:26.788Z"
   },
   {
    "duration": 115,
    "start_time": "2022-06-16T20:40:28.312Z"
   },
   {
    "duration": 120,
    "start_time": "2022-06-16T20:42:45.519Z"
   },
   {
    "duration": 161,
    "start_time": "2022-06-16T20:43:58.710Z"
   },
   {
    "duration": 11,
    "start_time": "2022-06-17T12:27:23.165Z"
   },
   {
    "duration": 30,
    "start_time": "2022-06-17T12:28:54.798Z"
   },
   {
    "duration": 1379,
    "start_time": "2022-06-17T12:43:04.943Z"
   },
   {
    "duration": 826,
    "start_time": "2022-06-17T12:43:06.323Z"
   },
   {
    "duration": 172,
    "start_time": "2022-06-17T12:43:07.158Z"
   },
   {
    "duration": 26,
    "start_time": "2022-06-17T12:43:07.333Z"
   },
   {
    "duration": 482,
    "start_time": "2022-06-17T12:43:07.361Z"
   },
   {
    "duration": 481,
    "start_time": "2022-06-17T12:43:07.844Z"
   },
   {
    "duration": 2,
    "start_time": "2022-06-17T12:43:08.327Z"
   },
   {
    "duration": 93,
    "start_time": "2022-06-17T12:43:08.331Z"
   },
   {
    "duration": 138,
    "start_time": "2022-06-17T12:43:08.425Z"
   },
   {
    "duration": 9,
    "start_time": "2022-06-17T12:43:08.566Z"
   },
   {
    "duration": 45,
    "start_time": "2022-06-17T12:43:08.577Z"
   },
   {
    "duration": 517,
    "start_time": "2022-06-17T12:43:08.623Z"
   },
   {
    "duration": 32,
    "start_time": "2022-06-17T12:43:09.142Z"
   },
   {
    "duration": 52,
    "start_time": "2022-06-17T12:43:09.175Z"
   },
   {
    "duration": 160,
    "start_time": "2022-06-17T12:43:09.735Z"
   },
   {
    "duration": 8,
    "start_time": "2022-06-17T12:43:11.666Z"
   },
   {
    "duration": 34,
    "start_time": "2022-06-17T12:43:12.327Z"
   },
   {
    "duration": 3,
    "start_time": "2022-06-17T12:43:13.146Z"
   },
   {
    "duration": 509,
    "start_time": "2022-06-17T12:43:13.316Z"
   },
   {
    "duration": 376,
    "start_time": "2022-06-17T12:43:13.827Z"
   },
   {
    "duration": 131,
    "start_time": "2022-06-17T12:43:14.245Z"
   },
   {
    "duration": 9,
    "start_time": "2022-06-17T12:43:15.148Z"
   },
   {
    "duration": 8,
    "start_time": "2022-06-17T12:43:15.396Z"
   },
   {
    "duration": 19,
    "start_time": "2022-06-17T12:43:15.581Z"
   },
   {
    "duration": 25,
    "start_time": "2022-06-17T12:43:15.794Z"
   },
   {
    "duration": 27,
    "start_time": "2022-06-17T12:43:17.636Z"
   },
   {
    "duration": 129,
    "start_time": "2022-06-17T12:43:17.881Z"
   },
   {
    "duration": 2,
    "start_time": "2022-06-17T12:43:18.242Z"
   },
   {
    "duration": 5,
    "start_time": "2022-06-17T12:43:19.211Z"
   },
   {
    "duration": 256,
    "start_time": "2022-06-17T12:43:19.612Z"
   },
   {
    "duration": 376,
    "start_time": "2022-06-17T12:43:19.960Z"
   },
   {
    "duration": 22,
    "start_time": "2022-06-17T12:43:20.947Z"
   },
   {
    "duration": 2,
    "start_time": "2022-06-17T12:43:22.182Z"
   },
   {
    "duration": 29,
    "start_time": "2022-06-17T12:43:22.465Z"
   },
   {
    "duration": 32,
    "start_time": "2022-06-17T12:43:22.954Z"
   },
   {
    "duration": 357,
    "start_time": "2022-06-17T12:43:23.480Z"
   },
   {
    "duration": 264,
    "start_time": "2022-06-17T12:43:24.907Z"
   },
   {
    "duration": 215,
    "start_time": "2022-06-17T12:45:08.747Z"
   },
   {
    "duration": 4,
    "start_time": "2022-06-17T12:45:09.526Z"
   },
   {
    "duration": 143,
    "start_time": "2022-06-17T12:45:16.059Z"
   },
   {
    "duration": 9,
    "start_time": "2022-06-17T12:45:16.914Z"
   },
   {
    "duration": 1417,
    "start_time": "2022-06-17T12:45:17.858Z"
   },
   {
    "duration": 19,
    "start_time": "2022-06-17T12:45:19.277Z"
   },
   {
    "duration": 130,
    "start_time": "2022-06-17T12:45:20.966Z"
   },
   {
    "duration": 4,
    "start_time": "2022-06-17T12:45:22.815Z"
   },
   {
    "duration": 1618,
    "start_time": "2022-06-17T12:45:24.685Z"
   },
   {
    "duration": 38508,
    "start_time": "2022-06-17T12:45:26.360Z"
   },
   {
    "duration": 8,
    "start_time": "2022-06-17T12:46:07.081Z"
   },
   {
    "duration": 12,
    "start_time": "2022-06-17T12:46:21.359Z"
   },
   {
    "duration": 29,
    "start_time": "2022-06-17T12:46:35.216Z"
   },
   {
    "duration": 4,
    "start_time": "2022-06-17T12:46:48.200Z"
   },
   {
    "duration": 10,
    "start_time": "2022-06-17T12:47:25.958Z"
   },
   {
    "duration": 10,
    "start_time": "2022-06-17T12:49:16.374Z"
   },
   {
    "duration": 7,
    "start_time": "2022-06-17T12:49:37.295Z"
   },
   {
    "duration": 3,
    "start_time": "2022-06-17T12:50:05.109Z"
   },
   {
    "duration": 19,
    "start_time": "2022-06-17T12:52:32.411Z"
   },
   {
    "duration": 6,
    "start_time": "2022-06-17T12:52:43.784Z"
   },
   {
    "duration": 690,
    "start_time": "2022-06-17T12:55:51.552Z"
   },
   {
    "duration": 22,
    "start_time": "2022-06-17T12:55:52.244Z"
   },
   {
    "duration": 7,
    "start_time": "2022-06-17T12:55:53.021Z"
   },
   {
    "duration": 1506,
    "start_time": "2022-06-18T16:49:34.375Z"
   },
   {
    "duration": 1046,
    "start_time": "2022-06-18T16:49:35.883Z"
   },
   {
    "duration": 144,
    "start_time": "2022-06-18T16:49:36.930Z"
   },
   {
    "duration": 129,
    "start_time": "2022-06-18T16:49:37.076Z"
   },
   {
    "duration": 1348,
    "start_time": "2022-06-18T17:09:29.143Z"
   },
   {
    "duration": 796,
    "start_time": "2022-06-18T17:09:30.493Z"
   },
   {
    "duration": 122,
    "start_time": "2022-06-18T17:09:31.291Z"
   },
   {
    "duration": 133,
    "start_time": "2022-06-18T17:09:31.415Z"
   },
   {
    "duration": 26,
    "start_time": "2022-06-18T17:09:31.550Z"
   },
   {
    "duration": 475,
    "start_time": "2022-06-18T17:09:31.577Z"
   },
   {
    "duration": 453,
    "start_time": "2022-06-18T17:09:32.054Z"
   },
   {
    "duration": 3,
    "start_time": "2022-06-18T17:09:32.508Z"
   },
   {
    "duration": 498,
    "start_time": "2022-06-18T17:09:32.512Z"
   },
   {
    "duration": 0,
    "start_time": "2022-06-18T17:09:33.012Z"
   },
   {
    "duration": 1308,
    "start_time": "2022-06-18T17:10:13.847Z"
   },
   {
    "duration": 790,
    "start_time": "2022-06-18T17:10:15.157Z"
   },
   {
    "duration": 135,
    "start_time": "2022-06-18T17:10:15.949Z"
   },
   {
    "duration": 123,
    "start_time": "2022-06-18T17:10:16.086Z"
   },
   {
    "duration": 22,
    "start_time": "2022-06-18T17:10:16.211Z"
   },
   {
    "duration": 455,
    "start_time": "2022-06-18T17:10:16.234Z"
   },
   {
    "duration": 471,
    "start_time": "2022-06-18T17:10:16.691Z"
   },
   {
    "duration": 2,
    "start_time": "2022-06-18T17:10:17.164Z"
   },
   {
    "duration": 451,
    "start_time": "2022-06-18T17:10:17.167Z"
   },
   {
    "duration": 422,
    "start_time": "2022-06-18T17:11:39.213Z"
   },
   {
    "duration": 493,
    "start_time": "2022-06-18T17:11:59.877Z"
   },
   {
    "duration": 134,
    "start_time": "2022-06-18T17:23:23.720Z"
   },
   {
    "duration": 383,
    "start_time": "2022-06-18T17:25:11.475Z"
   },
   {
    "duration": 17,
    "start_time": "2022-06-18T17:30:42.440Z"
   },
   {
    "duration": 137,
    "start_time": "2022-06-18T17:30:47.293Z"
   },
   {
    "duration": 28,
    "start_time": "2022-06-18T17:41:19.441Z"
   },
   {
    "duration": 388,
    "start_time": "2022-06-18T17:41:39.871Z"
   },
   {
    "duration": 518,
    "start_time": "2022-06-18T17:52:27.750Z"
   },
   {
    "duration": 343,
    "start_time": "2022-06-18T17:53:30.406Z"
   },
   {
    "duration": 9,
    "start_time": "2022-06-18T18:57:27.090Z"
   },
   {
    "duration": 10,
    "start_time": "2022-06-18T18:57:33.437Z"
   },
   {
    "duration": 11,
    "start_time": "2022-06-18T18:57:56.689Z"
   },
   {
    "duration": 9,
    "start_time": "2022-06-18T18:58:08.901Z"
   },
   {
    "duration": 10,
    "start_time": "2022-06-18T18:58:12.190Z"
   },
   {
    "duration": 414,
    "start_time": "2022-06-18T19:08:16.318Z"
   },
   {
    "duration": 404,
    "start_time": "2022-06-18T19:08:35.455Z"
   },
   {
    "duration": 388,
    "start_time": "2022-06-18T19:08:39.593Z"
   },
   {
    "duration": 383,
    "start_time": "2022-06-18T19:09:37.455Z"
   },
   {
    "duration": 502,
    "start_time": "2022-06-18T19:10:06.467Z"
   },
   {
    "duration": 545,
    "start_time": "2022-06-18T19:10:29.433Z"
   },
   {
    "duration": 103,
    "start_time": "2022-06-18T19:10:37.256Z"
   },
   {
    "duration": 97,
    "start_time": "2022-06-18T19:10:45.156Z"
   },
   {
    "duration": 418,
    "start_time": "2022-06-18T19:10:50.103Z"
   },
   {
    "duration": 26,
    "start_time": "2022-06-18T19:11:17.876Z"
   },
   {
    "duration": 4,
    "start_time": "2022-06-18T19:11:23.797Z"
   },
   {
    "duration": 124,
    "start_time": "2022-06-18T19:11:30.349Z"
   },
   {
    "duration": 408,
    "start_time": "2022-06-18T19:16:12.208Z"
   },
   {
    "duration": 6,
    "start_time": "2022-06-18T19:16:31.909Z"
   },
   {
    "duration": 10,
    "start_time": "2022-06-18T19:35:54.879Z"
   },
   {
    "duration": 410,
    "start_time": "2022-06-18T19:36:37.920Z"
   },
   {
    "duration": 16,
    "start_time": "2022-06-18T19:37:25.593Z"
   },
   {
    "duration": 17,
    "start_time": "2022-06-18T19:37:57.587Z"
   },
   {
    "duration": 3,
    "start_time": "2022-06-18T19:49:32.007Z"
   },
   {
    "duration": 44,
    "start_time": "2022-06-18T19:54:02.344Z"
   },
   {
    "duration": 1264,
    "start_time": "2022-06-18T19:54:10.574Z"
   },
   {
    "duration": 770,
    "start_time": "2022-06-18T19:54:11.840Z"
   },
   {
    "duration": 128,
    "start_time": "2022-06-18T19:54:12.612Z"
   },
   {
    "duration": 123,
    "start_time": "2022-06-18T19:54:12.742Z"
   },
   {
    "duration": 12,
    "start_time": "2022-06-18T19:54:12.867Z"
   },
   {
    "duration": 450,
    "start_time": "2022-06-18T19:54:12.880Z"
   },
   {
    "duration": 461,
    "start_time": "2022-06-18T19:54:13.332Z"
   },
   {
    "duration": 87,
    "start_time": "2022-06-18T19:54:13.794Z"
   },
   {
    "duration": 3,
    "start_time": "2022-06-18T19:54:13.883Z"
   },
   {
    "duration": 9,
    "start_time": "2022-06-18T19:54:13.888Z"
   },
   {
    "duration": 58,
    "start_time": "2022-06-18T19:54:13.898Z"
   },
   {
    "duration": 476,
    "start_time": "2022-06-18T19:54:13.957Z"
   },
   {
    "duration": 24,
    "start_time": "2022-06-18T19:54:14.434Z"
   },
   {
    "duration": 23,
    "start_time": "2022-06-18T19:54:19.100Z"
   },
   {
    "duration": 1292,
    "start_time": "2022-06-18T19:55:18.367Z"
   },
   {
    "duration": 809,
    "start_time": "2022-06-18T19:55:19.661Z"
   },
   {
    "duration": 129,
    "start_time": "2022-06-18T19:55:20.472Z"
   },
   {
    "duration": 133,
    "start_time": "2022-06-18T19:55:20.603Z"
   },
   {
    "duration": 13,
    "start_time": "2022-06-18T19:55:20.737Z"
   },
   {
    "duration": 471,
    "start_time": "2022-06-18T19:55:20.751Z"
   },
   {
    "duration": 499,
    "start_time": "2022-06-18T19:55:21.223Z"
   },
   {
    "duration": 83,
    "start_time": "2022-06-18T19:55:21.723Z"
   },
   {
    "duration": 2,
    "start_time": "2022-06-18T19:55:21.808Z"
   },
   {
    "duration": 24,
    "start_time": "2022-06-18T19:55:21.812Z"
   },
   {
    "duration": 52,
    "start_time": "2022-06-18T19:55:21.838Z"
   },
   {
    "duration": 496,
    "start_time": "2022-06-18T19:55:21.892Z"
   },
   {
    "duration": 25,
    "start_time": "2022-06-18T19:55:22.390Z"
   },
   {
    "duration": 208,
    "start_time": "2022-06-18T19:55:27.174Z"
   },
   {
    "duration": 1227,
    "start_time": "2022-06-18T19:57:36.908Z"
   },
   {
    "duration": 772,
    "start_time": "2022-06-18T19:57:38.137Z"
   },
   {
    "duration": 130,
    "start_time": "2022-06-18T19:57:38.910Z"
   },
   {
    "duration": 130,
    "start_time": "2022-06-18T19:57:39.042Z"
   },
   {
    "duration": 12,
    "start_time": "2022-06-18T19:57:39.174Z"
   },
   {
    "duration": 483,
    "start_time": "2022-06-18T19:57:39.188Z"
   },
   {
    "duration": 498,
    "start_time": "2022-06-18T19:57:39.673Z"
   },
   {
    "duration": 93,
    "start_time": "2022-06-18T19:57:40.173Z"
   },
   {
    "duration": 2,
    "start_time": "2022-06-18T19:57:40.268Z"
   },
   {
    "duration": 18,
    "start_time": "2022-06-18T19:57:40.273Z"
   },
   {
    "duration": 58,
    "start_time": "2022-06-18T19:57:40.293Z"
   },
   {
    "duration": 478,
    "start_time": "2022-06-18T19:57:40.353Z"
   },
   {
    "duration": 24,
    "start_time": "2022-06-18T19:57:40.833Z"
   },
   {
    "duration": 24,
    "start_time": "2022-06-18T19:57:52.373Z"
   },
   {
    "duration": 41,
    "start_time": "2022-06-18T19:57:55.190Z"
   },
   {
    "duration": 26,
    "start_time": "2022-06-18T19:58:35.652Z"
   },
   {
    "duration": 23,
    "start_time": "2022-06-18T19:59:03.085Z"
   },
   {
    "duration": 22,
    "start_time": "2022-06-18T20:01:06.828Z"
   },
   {
    "duration": 23,
    "start_time": "2022-06-18T20:01:15.739Z"
   },
   {
    "duration": 31,
    "start_time": "2022-06-18T20:02:42.186Z"
   },
   {
    "duration": 2,
    "start_time": "2022-06-18T20:02:50.916Z"
   },
   {
    "duration": 1298,
    "start_time": "2022-06-18T20:05:06.921Z"
   },
   {
    "duration": 810,
    "start_time": "2022-06-18T20:05:08.221Z"
   },
   {
    "duration": 131,
    "start_time": "2022-06-18T20:05:09.033Z"
   },
   {
    "duration": 128,
    "start_time": "2022-06-18T20:05:09.166Z"
   },
   {
    "duration": 12,
    "start_time": "2022-06-18T20:05:09.295Z"
   },
   {
    "duration": 505,
    "start_time": "2022-06-18T20:05:09.309Z"
   },
   {
    "duration": 495,
    "start_time": "2022-06-18T20:05:09.816Z"
   },
   {
    "duration": 87,
    "start_time": "2022-06-18T20:05:10.313Z"
   },
   {
    "duration": 2,
    "start_time": "2022-06-18T20:05:10.401Z"
   },
   {
    "duration": 26,
    "start_time": "2022-06-18T20:05:10.406Z"
   },
   {
    "duration": 67,
    "start_time": "2022-06-18T20:05:10.434Z"
   },
   {
    "duration": 522,
    "start_time": "2022-06-18T20:05:10.503Z"
   },
   {
    "duration": 25,
    "start_time": "2022-06-18T20:05:11.027Z"
   },
   {
    "duration": 79,
    "start_time": "2022-06-18T20:05:11.054Z"
   },
   {
    "duration": 159,
    "start_time": "2022-06-18T20:05:11.134Z"
   },
   {
    "duration": 6,
    "start_time": "2022-06-18T20:05:11.294Z"
   },
   {
    "duration": 59,
    "start_time": "2022-06-18T20:05:11.301Z"
   },
   {
    "duration": 6,
    "start_time": "2022-06-18T20:05:11.362Z"
   },
   {
    "duration": 4,
    "start_time": "2022-06-18T20:05:23.818Z"
   },
   {
    "duration": 6,
    "start_time": "2022-06-18T20:05:30.579Z"
   },
   {
    "duration": 6788,
    "start_time": "2022-06-18T20:08:34.753Z"
   },
   {
    "duration": 166,
    "start_time": "2022-06-18T20:09:55.803Z"
   },
   {
    "duration": 23,
    "start_time": "2022-06-18T20:27:35.262Z"
   },
   {
    "duration": 18,
    "start_time": "2022-06-18T20:28:12.728Z"
   },
   {
    "duration": 36,
    "start_time": "2022-06-18T20:28:35.668Z"
   },
   {
    "duration": 63,
    "start_time": "2022-06-18T20:32:39.364Z"
   },
   {
    "duration": 62,
    "start_time": "2022-06-18T20:33:35.971Z"
   },
   {
    "duration": 1298,
    "start_time": "2022-06-18T20:48:35.661Z"
   },
   {
    "duration": 780,
    "start_time": "2022-06-18T20:48:36.961Z"
   },
   {
    "duration": 137,
    "start_time": "2022-06-18T20:48:37.742Z"
   },
   {
    "duration": 128,
    "start_time": "2022-06-18T20:48:37.881Z"
   },
   {
    "duration": 19,
    "start_time": "2022-06-18T20:48:38.011Z"
   },
   {
    "duration": 458,
    "start_time": "2022-06-18T20:48:38.032Z"
   },
   {
    "duration": 489,
    "start_time": "2022-06-18T20:48:38.492Z"
   },
   {
    "duration": 93,
    "start_time": "2022-06-18T20:48:38.983Z"
   },
   {
    "duration": 2,
    "start_time": "2022-06-18T20:48:39.078Z"
   },
   {
    "duration": 10,
    "start_time": "2022-06-18T20:48:39.084Z"
   },
   {
    "duration": 59,
    "start_time": "2022-06-18T20:48:39.095Z"
   },
   {
    "duration": 484,
    "start_time": "2022-06-18T20:48:39.156Z"
   },
   {
    "duration": 24,
    "start_time": "2022-06-18T20:48:39.642Z"
   },
   {
    "duration": 29,
    "start_time": "2022-06-18T20:48:39.668Z"
   },
   {
    "duration": 174,
    "start_time": "2022-06-18T20:48:39.699Z"
   },
   {
    "duration": 7,
    "start_time": "2022-06-18T20:48:39.875Z"
   },
   {
    "duration": 48,
    "start_time": "2022-06-18T20:48:39.884Z"
   },
   {
    "duration": 7,
    "start_time": "2022-06-18T20:48:39.934Z"
   },
   {
    "duration": 466,
    "start_time": "2022-06-18T20:48:39.942Z"
   },
   {
    "duration": 343,
    "start_time": "2022-06-18T20:48:40.410Z"
   },
   {
    "duration": 134,
    "start_time": "2022-06-18T20:48:40.755Z"
   },
   {
    "duration": 8,
    "start_time": "2022-06-18T20:48:40.890Z"
   },
   {
    "duration": 14,
    "start_time": "2022-06-18T20:48:40.900Z"
   },
   {
    "duration": 18,
    "start_time": "2022-06-18T20:48:40.926Z"
   },
   {
    "duration": 21,
    "start_time": "2022-06-18T20:48:40.946Z"
   },
   {
    "duration": 18,
    "start_time": "2022-06-18T20:48:40.968Z"
   },
   {
    "duration": 49,
    "start_time": "2022-06-18T20:48:40.987Z"
   },
   {
    "duration": 131,
    "start_time": "2022-06-18T20:48:41.039Z"
   },
   {
    "duration": 2,
    "start_time": "2022-06-18T20:48:41.172Z"
   },
   {
    "duration": 7,
    "start_time": "2022-06-18T20:48:41.176Z"
   },
   {
    "duration": 269,
    "start_time": "2022-06-18T20:48:41.185Z"
   },
   {
    "duration": 369,
    "start_time": "2022-06-18T20:48:41.456Z"
   },
   {
    "duration": 21,
    "start_time": "2022-06-18T20:48:41.827Z"
   },
   {
    "duration": 3,
    "start_time": "2022-06-18T20:48:41.849Z"
   },
   {
    "duration": 32,
    "start_time": "2022-06-18T20:48:41.853Z"
   },
   {
    "duration": 43,
    "start_time": "2022-06-18T20:48:41.887Z"
   },
   {
    "duration": 314,
    "start_time": "2022-06-18T20:48:41.931Z"
   },
   {
    "duration": 251,
    "start_time": "2022-06-18T20:48:42.247Z"
   },
   {
    "duration": 2,
    "start_time": "2022-06-18T21:06:24.580Z"
   },
   {
    "duration": 1257,
    "start_time": "2022-06-18T21:12:09.085Z"
   },
   {
    "duration": 807,
    "start_time": "2022-06-18T21:12:10.344Z"
   },
   {
    "duration": 127,
    "start_time": "2022-06-18T21:12:11.153Z"
   },
   {
    "duration": 126,
    "start_time": "2022-06-18T21:12:11.282Z"
   },
   {
    "duration": 18,
    "start_time": "2022-06-18T21:12:11.410Z"
   },
   {
    "duration": 476,
    "start_time": "2022-06-18T21:12:11.430Z"
   },
   {
    "duration": 657,
    "start_time": "2022-06-18T21:12:11.908Z"
   },
   {
    "duration": 186,
    "start_time": "2022-06-18T21:12:12.567Z"
   },
   {
    "duration": 2,
    "start_time": "2022-06-18T21:12:12.755Z"
   },
   {
    "duration": 12,
    "start_time": "2022-06-18T21:12:12.759Z"
   },
   {
    "duration": 96,
    "start_time": "2022-06-18T21:12:12.773Z"
   },
   {
    "duration": 981,
    "start_time": "2022-06-18T21:12:12.871Z"
   },
   {
    "duration": 23,
    "start_time": "2022-06-18T21:12:13.854Z"
   },
   {
    "duration": 54,
    "start_time": "2022-06-18T21:12:13.879Z"
   },
   {
    "duration": 159,
    "start_time": "2022-06-18T21:12:13.935Z"
   },
   {
    "duration": 6,
    "start_time": "2022-06-18T21:12:14.096Z"
   },
   {
    "duration": 50,
    "start_time": "2022-06-18T21:12:14.103Z"
   },
   {
    "duration": 6,
    "start_time": "2022-06-18T21:12:14.154Z"
   },
   {
    "duration": 465,
    "start_time": "2022-06-18T21:12:14.161Z"
   },
   {
    "duration": 349,
    "start_time": "2022-06-18T21:12:14.628Z"
   },
   {
    "duration": 138,
    "start_time": "2022-06-18T21:12:14.978Z"
   },
   {
    "duration": 14,
    "start_time": "2022-06-18T21:12:15.117Z"
   },
   {
    "duration": 8,
    "start_time": "2022-06-18T21:12:15.132Z"
   },
   {
    "duration": 19,
    "start_time": "2022-06-18T21:12:15.141Z"
   },
   {
    "duration": 21,
    "start_time": "2022-06-18T21:12:15.161Z"
   },
   {
    "duration": 48,
    "start_time": "2022-06-18T21:12:15.184Z"
   },
   {
    "duration": 22,
    "start_time": "2022-06-18T21:12:15.234Z"
   },
   {
    "duration": 136,
    "start_time": "2022-06-18T21:12:15.260Z"
   },
   {
    "duration": 2,
    "start_time": "2022-06-18T21:12:15.398Z"
   },
   {
    "duration": 8,
    "start_time": "2022-06-18T21:12:15.402Z"
   },
   {
    "duration": 264,
    "start_time": "2022-06-18T21:12:15.411Z"
   },
   {
    "duration": 359,
    "start_time": "2022-06-18T21:12:15.676Z"
   },
   {
    "duration": 22,
    "start_time": "2022-06-18T21:12:16.037Z"
   },
   {
    "duration": 2,
    "start_time": "2022-06-18T21:12:16.060Z"
   },
   {
    "duration": 33,
    "start_time": "2022-06-18T21:12:16.064Z"
   },
   {
    "duration": 46,
    "start_time": "2022-06-18T21:12:16.098Z"
   },
   {
    "duration": 317,
    "start_time": "2022-06-18T21:12:16.146Z"
   },
   {
    "duration": 264,
    "start_time": "2022-06-18T21:12:16.464Z"
   },
   {
    "duration": 77,
    "start_time": "2022-06-18T21:12:16.730Z"
   },
   {
    "duration": 21,
    "start_time": "2022-06-18T21:12:16.808Z"
   },
   {
    "duration": 693,
    "start_time": "2022-06-18T21:12:16.831Z"
   },
   {
    "duration": 19,
    "start_time": "2022-06-18T21:12:17.527Z"
   },
   {
    "duration": 4,
    "start_time": "2022-06-18T21:12:17.548Z"
   },
   {
    "duration": 90,
    "start_time": "2022-06-18T21:12:17.553Z"
   },
   {
    "duration": 4,
    "start_time": "2022-06-18T21:12:17.645Z"
   },
   {
    "duration": 757,
    "start_time": "2022-06-18T21:12:17.651Z"
   },
   {
    "duration": 15682,
    "start_time": "2022-06-18T21:12:18.410Z"
   },
   {
    "duration": 50725,
    "start_time": "2022-06-18T21:12:34.094Z"
   },
   {
    "duration": 6,
    "start_time": "2022-06-18T21:13:24.821Z"
   },
   {
    "duration": 100,
    "start_time": "2022-06-18T21:13:24.828Z"
   },
   {
    "duration": 29243,
    "start_time": "2022-06-18T21:13:24.930Z"
   },
   {
    "duration": 5171,
    "start_time": "2022-06-18T21:13:54.175Z"
   },
   {
    "duration": 44079,
    "start_time": "2022-06-18T21:13:59.348Z"
   },
   {
    "duration": 5,
    "start_time": "2022-06-18T21:14:43.429Z"
   },
   {
    "duration": 21,
    "start_time": "2022-06-18T21:14:43.436Z"
   },
   {
    "duration": 155,
    "start_time": "2022-06-18T21:14:43.459Z"
   },
   {
    "duration": 1348,
    "start_time": "2022-06-18T21:20:34.301Z"
   },
   {
    "duration": 838,
    "start_time": "2022-06-18T21:20:35.651Z"
   },
   {
    "duration": 130,
    "start_time": "2022-06-18T21:20:36.490Z"
   },
   {
    "duration": 129,
    "start_time": "2022-06-18T21:20:36.622Z"
   },
   {
    "duration": 12,
    "start_time": "2022-06-18T21:20:36.753Z"
   },
   {
    "duration": 477,
    "start_time": "2022-06-18T21:20:36.767Z"
   },
   {
    "duration": 482,
    "start_time": "2022-06-18T21:20:37.246Z"
   },
   {
    "duration": 85,
    "start_time": "2022-06-18T21:20:37.730Z"
   },
   {
    "duration": 2,
    "start_time": "2022-06-18T21:20:37.826Z"
   },
   {
    "duration": 10,
    "start_time": "2022-06-18T21:20:37.830Z"
   },
   {
    "duration": 52,
    "start_time": "2022-06-18T21:20:37.841Z"
   },
   {
    "duration": 490,
    "start_time": "2022-06-18T21:20:37.894Z"
   },
   {
    "duration": 25,
    "start_time": "2022-06-18T21:20:38.386Z"
   },
   {
    "duration": 30,
    "start_time": "2022-06-18T21:20:38.426Z"
   },
   {
    "duration": 175,
    "start_time": "2022-06-18T21:20:38.457Z"
   },
   {
    "duration": 6,
    "start_time": "2022-06-18T21:20:38.633Z"
   },
   {
    "duration": 34,
    "start_time": "2022-06-18T21:20:38.641Z"
   },
   {
    "duration": 5,
    "start_time": "2022-06-18T21:20:38.677Z"
   },
   {
    "duration": 487,
    "start_time": "2022-06-18T21:20:38.683Z"
   },
   {
    "duration": 359,
    "start_time": "2022-06-18T21:20:39.172Z"
   },
   {
    "duration": 148,
    "start_time": "2022-06-18T21:20:39.533Z"
   },
   {
    "duration": 8,
    "start_time": "2022-06-18T21:20:39.682Z"
   },
   {
    "duration": 8,
    "start_time": "2022-06-18T21:20:39.691Z"
   },
   {
    "duration": 34,
    "start_time": "2022-06-18T21:20:39.701Z"
   },
   {
    "duration": 21,
    "start_time": "2022-06-18T21:20:39.737Z"
   },
   {
    "duration": 19,
    "start_time": "2022-06-18T21:20:39.759Z"
   },
   {
    "duration": 48,
    "start_time": "2022-06-18T21:20:39.779Z"
   },
   {
    "duration": 133,
    "start_time": "2022-06-18T21:20:39.828Z"
   },
   {
    "duration": 2,
    "start_time": "2022-06-18T21:20:39.963Z"
   },
   {
    "duration": 9,
    "start_time": "2022-06-18T21:20:39.967Z"
   },
   {
    "duration": 271,
    "start_time": "2022-06-18T21:20:39.978Z"
   },
   {
    "duration": 356,
    "start_time": "2022-06-18T21:20:40.250Z"
   },
   {
    "duration": 30,
    "start_time": "2022-06-18T21:20:40.609Z"
   },
   {
    "duration": 2,
    "start_time": "2022-06-18T21:20:40.641Z"
   },
   {
    "duration": 30,
    "start_time": "2022-06-18T21:20:40.645Z"
   },
   {
    "duration": 31,
    "start_time": "2022-06-18T21:20:40.677Z"
   },
   {
    "duration": 321,
    "start_time": "2022-06-18T21:20:40.727Z"
   },
   {
    "duration": 259,
    "start_time": "2022-06-18T21:20:41.050Z"
   },
   {
    "duration": 85,
    "start_time": "2022-06-18T21:20:41.311Z"
   },
   {
    "duration": 8,
    "start_time": "2022-06-18T21:20:41.397Z"
   },
   {
    "duration": 745,
    "start_time": "2022-06-18T21:20:41.408Z"
   },
   {
    "duration": 20,
    "start_time": "2022-06-18T21:20:42.155Z"
   },
   {
    "duration": 13,
    "start_time": "2022-06-18T21:20:42.176Z"
   },
   {
    "duration": 84,
    "start_time": "2022-06-18T21:20:42.190Z"
   },
   {
    "duration": 3,
    "start_time": "2022-06-18T21:20:42.276Z"
   },
   {
    "duration": 798,
    "start_time": "2022-06-18T21:20:42.281Z"
   },
   {
    "duration": 16961,
    "start_time": "2022-06-18T21:20:43.081Z"
   },
   {
    "duration": 51001,
    "start_time": "2022-06-18T21:21:00.044Z"
   },
   {
    "duration": 1405,
    "start_time": "2022-06-19T05:10:58.456Z"
   },
   {
    "duration": 1105,
    "start_time": "2022-06-19T05:10:59.862Z"
   },
   {
    "duration": 143,
    "start_time": "2022-06-19T05:11:00.969Z"
   },
   {
    "duration": 132,
    "start_time": "2022-06-19T05:11:01.113Z"
   },
   {
    "duration": 12,
    "start_time": "2022-06-19T05:11:01.247Z"
   },
   {
    "duration": 509,
    "start_time": "2022-06-19T05:11:01.260Z"
   },
   {
    "duration": 1001,
    "start_time": "2022-06-19T05:11:01.771Z"
   },
   {
    "duration": 139,
    "start_time": "2022-06-19T05:11:02.827Z"
   },
   {
    "duration": 2,
    "start_time": "2022-06-19T05:11:02.968Z"
   },
   {
    "duration": 57,
    "start_time": "2022-06-19T05:11:02.971Z"
   },
   {
    "duration": 102,
    "start_time": "2022-06-19T05:11:03.029Z"
   },
   {
    "duration": 659,
    "start_time": "2022-06-19T05:11:03.132Z"
   },
   {
    "duration": 26,
    "start_time": "2022-06-19T05:11:03.793Z"
   },
   {
    "duration": 30,
    "start_time": "2022-06-19T05:11:03.828Z"
   },
   {
    "duration": 178,
    "start_time": "2022-06-19T05:11:03.860Z"
   },
   {
    "duration": 5,
    "start_time": "2022-06-19T05:11:04.039Z"
   },
   {
    "duration": 34,
    "start_time": "2022-06-19T05:11:04.046Z"
   },
   {
    "duration": 6,
    "start_time": "2022-06-19T05:11:04.081Z"
   },
   {
    "duration": 492,
    "start_time": "2022-06-19T05:11:04.089Z"
   },
   {
    "duration": 348,
    "start_time": "2022-06-19T05:11:04.583Z"
   },
   {
    "duration": 143,
    "start_time": "2022-06-19T05:11:04.933Z"
   },
   {
    "duration": 8,
    "start_time": "2022-06-19T05:11:05.078Z"
   },
   {
    "duration": 7,
    "start_time": "2022-06-19T05:11:05.088Z"
   },
   {
    "duration": 40,
    "start_time": "2022-06-19T05:11:05.096Z"
   },
   {
    "duration": 23,
    "start_time": "2022-06-19T05:11:05.137Z"
   },
   {
    "duration": 18,
    "start_time": "2022-06-19T05:11:05.161Z"
   },
   {
    "duration": 23,
    "start_time": "2022-06-19T05:11:05.180Z"
   },
   {
    "duration": 154,
    "start_time": "2022-06-19T05:11:05.204Z"
   },
   {
    "duration": 2,
    "start_time": "2022-06-19T05:11:05.360Z"
   },
   {
    "duration": 8,
    "start_time": "2022-06-19T05:11:05.364Z"
   },
   {
    "duration": 258,
    "start_time": "2022-06-19T05:11:05.374Z"
   },
   {
    "duration": 386,
    "start_time": "2022-06-19T05:11:05.634Z"
   },
   {
    "duration": 25,
    "start_time": "2022-06-19T05:11:06.022Z"
   },
   {
    "duration": 3,
    "start_time": "2022-06-19T05:11:06.049Z"
   },
   {
    "duration": 30,
    "start_time": "2022-06-19T05:11:06.053Z"
   },
   {
    "duration": 44,
    "start_time": "2022-06-19T05:11:06.084Z"
   },
   {
    "duration": 327,
    "start_time": "2022-06-19T05:11:06.129Z"
   },
   {
    "duration": 259,
    "start_time": "2022-06-19T05:11:06.458Z"
   },
   {
    "duration": 77,
    "start_time": "2022-06-19T05:11:06.719Z"
   },
   {
    "duration": 6,
    "start_time": "2022-06-19T05:11:06.798Z"
   },
   {
    "duration": 699,
    "start_time": "2022-06-19T05:11:06.829Z"
   },
   {
    "duration": 18,
    "start_time": "2022-06-19T05:11:07.529Z"
   },
   {
    "duration": 5,
    "start_time": "2022-06-19T05:11:07.549Z"
   },
   {
    "duration": 77,
    "start_time": "2022-06-19T05:11:07.555Z"
   },
   {
    "duration": 3,
    "start_time": "2022-06-19T05:11:07.633Z"
   },
   {
    "duration": 756,
    "start_time": "2022-06-19T05:11:07.638Z"
   },
   {
    "duration": 15534,
    "start_time": "2022-06-19T05:11:08.396Z"
   },
   {
    "duration": 51266,
    "start_time": "2022-06-19T05:11:23.932Z"
   },
   {
    "duration": 1395,
    "start_time": "2022-06-19T06:02:04.082Z"
   },
   {
    "duration": 1110,
    "start_time": "2022-06-19T06:02:05.479Z"
   },
   {
    "duration": 130,
    "start_time": "2022-06-19T06:02:06.590Z"
   },
   {
    "duration": 134,
    "start_time": "2022-06-19T06:02:06.727Z"
   },
   {
    "duration": 12,
    "start_time": "2022-06-19T06:02:06.863Z"
   },
   {
    "duration": 474,
    "start_time": "2022-06-19T06:02:06.877Z"
   },
   {
    "duration": 475,
    "start_time": "2022-06-19T06:02:07.352Z"
   },
   {
    "duration": 85,
    "start_time": "2022-06-19T06:02:07.829Z"
   },
   {
    "duration": 10,
    "start_time": "2022-06-19T06:02:07.916Z"
   },
   {
    "duration": 7,
    "start_time": "2022-06-19T06:02:07.929Z"
   },
   {
    "duration": 48,
    "start_time": "2022-06-19T06:02:07.937Z"
   },
   {
    "duration": 506,
    "start_time": "2022-06-19T06:02:07.986Z"
   },
   {
    "duration": 36,
    "start_time": "2022-06-19T06:02:08.494Z"
   },
   {
    "duration": 30,
    "start_time": "2022-06-19T06:02:08.531Z"
   },
   {
    "duration": 174,
    "start_time": "2022-06-19T06:02:08.563Z"
   },
   {
    "duration": 5,
    "start_time": "2022-06-19T06:02:08.739Z"
   },
   {
    "duration": 36,
    "start_time": "2022-06-19T06:02:08.746Z"
   },
   {
    "duration": 6,
    "start_time": "2022-06-19T06:02:08.783Z"
   },
   {
    "duration": 498,
    "start_time": "2022-06-19T06:02:08.791Z"
   },
   {
    "duration": 367,
    "start_time": "2022-06-19T06:02:09.290Z"
   },
   {
    "duration": 140,
    "start_time": "2022-06-19T06:02:09.659Z"
   },
   {
    "duration": 8,
    "start_time": "2022-06-19T06:02:09.800Z"
   },
   {
    "duration": 23,
    "start_time": "2022-06-19T06:02:09.810Z"
   },
   {
    "duration": 27,
    "start_time": "2022-06-19T06:02:09.834Z"
   },
   {
    "duration": 33,
    "start_time": "2022-06-19T06:02:09.863Z"
   },
   {
    "duration": 19,
    "start_time": "2022-06-19T06:02:09.897Z"
   },
   {
    "duration": 29,
    "start_time": "2022-06-19T06:02:09.918Z"
   },
   {
    "duration": 137,
    "start_time": "2022-06-19T06:02:09.950Z"
   },
   {
    "duration": 2,
    "start_time": "2022-06-19T06:02:10.088Z"
   },
   {
    "duration": 24,
    "start_time": "2022-06-19T06:02:10.092Z"
   },
   {
    "duration": 269,
    "start_time": "2022-06-19T06:02:10.118Z"
   },
   {
    "duration": 375,
    "start_time": "2022-06-19T06:02:10.389Z"
   },
   {
    "duration": 24,
    "start_time": "2022-06-19T06:02:10.767Z"
   },
   {
    "duration": 3,
    "start_time": "2022-06-19T06:02:10.793Z"
   },
   {
    "duration": 49,
    "start_time": "2022-06-19T06:02:10.798Z"
   },
   {
    "duration": 31,
    "start_time": "2022-06-19T06:02:10.849Z"
   },
   {
    "duration": 337,
    "start_time": "2022-06-19T06:02:10.882Z"
   },
   {
    "duration": 273,
    "start_time": "2022-06-19T06:02:11.226Z"
   },
   {
    "duration": 83,
    "start_time": "2022-06-19T06:02:11.500Z"
   },
   {
    "duration": 8,
    "start_time": "2022-06-19T06:02:11.585Z"
   },
   {
    "duration": 724,
    "start_time": "2022-06-19T06:02:11.594Z"
   },
   {
    "duration": 23,
    "start_time": "2022-06-19T06:02:12.320Z"
   },
   {
    "duration": 5,
    "start_time": "2022-06-19T06:02:12.344Z"
   },
   {
    "duration": 81,
    "start_time": "2022-06-19T06:02:12.351Z"
   },
   {
    "duration": 3,
    "start_time": "2022-06-19T06:02:12.434Z"
   },
   {
    "duration": 776,
    "start_time": "2022-06-19T06:02:12.438Z"
   },
   {
    "duration": 16046,
    "start_time": "2022-06-19T06:02:13.215Z"
   },
   {
    "duration": 50752,
    "start_time": "2022-06-19T06:02:29.263Z"
   },
   {
    "duration": 1259,
    "start_time": "2022-06-19T06:04:05.688Z"
   },
   {
    "duration": 783,
    "start_time": "2022-06-19T06:04:06.948Z"
   },
   {
    "duration": 122,
    "start_time": "2022-06-19T06:04:07.732Z"
   },
   {
    "duration": 126,
    "start_time": "2022-06-19T06:04:07.856Z"
   },
   {
    "duration": 11,
    "start_time": "2022-06-19T06:04:07.984Z"
   },
   {
    "duration": 456,
    "start_time": "2022-06-19T06:04:07.997Z"
   },
   {
    "duration": 487,
    "start_time": "2022-06-19T06:04:08.455Z"
   },
   {
    "duration": 103,
    "start_time": "2022-06-19T06:04:08.944Z"
   },
   {
    "duration": 3,
    "start_time": "2022-06-19T06:04:09.049Z"
   },
   {
    "duration": 8,
    "start_time": "2022-06-19T06:04:09.055Z"
   },
   {
    "duration": 63,
    "start_time": "2022-06-19T06:04:09.065Z"
   },
   {
    "duration": 498,
    "start_time": "2022-06-19T06:04:09.130Z"
   },
   {
    "duration": 25,
    "start_time": "2022-06-19T06:04:09.630Z"
   },
   {
    "duration": 30,
    "start_time": "2022-06-19T06:04:09.657Z"
   },
   {
    "duration": 173,
    "start_time": "2022-06-19T06:04:09.688Z"
   },
   {
    "duration": 5,
    "start_time": "2022-06-19T06:04:09.862Z"
   },
   {
    "duration": 37,
    "start_time": "2022-06-19T06:04:09.868Z"
   },
   {
    "duration": 20,
    "start_time": "2022-06-19T06:04:09.907Z"
   },
   {
    "duration": 464,
    "start_time": "2022-06-19T06:04:09.928Z"
   },
   {
    "duration": 342,
    "start_time": "2022-06-19T06:04:10.394Z"
   },
   {
    "duration": 137,
    "start_time": "2022-06-19T06:04:10.738Z"
   },
   {
    "duration": 8,
    "start_time": "2022-06-19T06:04:10.876Z"
   },
   {
    "duration": 7,
    "start_time": "2022-06-19T06:04:10.885Z"
   },
   {
    "duration": 37,
    "start_time": "2022-06-19T06:04:10.894Z"
   },
   {
    "duration": 21,
    "start_time": "2022-06-19T06:04:10.932Z"
   },
   {
    "duration": 19,
    "start_time": "2022-06-19T06:04:10.955Z"
   },
   {
    "duration": 24,
    "start_time": "2022-06-19T06:04:10.975Z"
   },
   {
    "duration": 130,
    "start_time": "2022-06-19T06:04:11.026Z"
   },
   {
    "duration": 2,
    "start_time": "2022-06-19T06:04:11.158Z"
   },
   {
    "duration": 8,
    "start_time": "2022-06-19T06:04:11.161Z"
   },
   {
    "duration": 266,
    "start_time": "2022-06-19T06:04:11.171Z"
   },
   {
    "duration": 357,
    "start_time": "2022-06-19T06:04:11.439Z"
   },
   {
    "duration": 28,
    "start_time": "2022-06-19T06:04:11.798Z"
   },
   {
    "duration": 2,
    "start_time": "2022-06-19T06:04:11.828Z"
   },
   {
    "duration": 31,
    "start_time": "2022-06-19T06:04:11.831Z"
   },
   {
    "duration": 31,
    "start_time": "2022-06-19T06:04:11.863Z"
   },
   {
    "duration": 327,
    "start_time": "2022-06-19T06:04:11.896Z"
   },
   {
    "duration": 248,
    "start_time": "2022-06-19T06:04:12.226Z"
   },
   {
    "duration": 77,
    "start_time": "2022-06-19T06:04:12.476Z"
   },
   {
    "duration": 7,
    "start_time": "2022-06-19T06:04:12.554Z"
   },
   {
    "duration": 708,
    "start_time": "2022-06-19T06:04:12.562Z"
   },
   {
    "duration": 17,
    "start_time": "2022-06-19T06:04:13.272Z"
   },
   {
    "duration": 4,
    "start_time": "2022-06-19T06:04:13.291Z"
   },
   {
    "duration": 82,
    "start_time": "2022-06-19T06:04:13.297Z"
   },
   {
    "duration": 3,
    "start_time": "2022-06-19T06:04:13.381Z"
   },
   {
    "duration": 723,
    "start_time": "2022-06-19T06:04:13.385Z"
   },
   {
    "duration": 15383,
    "start_time": "2022-06-19T06:04:14.110Z"
   },
   {
    "duration": 50587,
    "start_time": "2022-06-19T06:04:29.494Z"
   },
   {
    "duration": 691839,
    "start_time": "2022-06-19T06:05:20.083Z"
   },
   {
    "duration": 109,
    "start_time": "2022-06-19T06:16:51.923Z"
   },
   {
    "duration": 29109,
    "start_time": "2022-06-19T06:16:52.037Z"
   },
   {
    "duration": 5178,
    "start_time": "2022-06-19T06:17:21.148Z"
   },
   {
    "duration": 42129,
    "start_time": "2022-06-19T06:17:26.329Z"
   },
   {
    "duration": 6,
    "start_time": "2022-06-19T06:18:08.459Z"
   },
   {
    "duration": 14,
    "start_time": "2022-06-19T06:18:08.466Z"
   },
   {
    "duration": 206,
    "start_time": "2022-06-19T06:18:08.481Z"
   },
   {
    "duration": 9,
    "start_time": "2022-06-19T06:27:41.119Z"
   },
   {
    "duration": 157,
    "start_time": "2022-06-19T06:27:58.743Z"
   },
   {
    "duration": 3,
    "start_time": "2022-06-19T07:21:10.885Z"
   },
   {
    "duration": 1321,
    "start_time": "2022-06-19T07:36:26.406Z"
   },
   {
    "duration": 770,
    "start_time": "2022-06-19T07:36:27.729Z"
   },
   {
    "duration": 138,
    "start_time": "2022-06-19T07:36:28.501Z"
   },
   {
    "duration": 128,
    "start_time": "2022-06-19T07:36:28.641Z"
   },
   {
    "duration": 12,
    "start_time": "2022-06-19T07:36:28.770Z"
   },
   {
    "duration": 890,
    "start_time": "2022-06-19T07:36:28.783Z"
   },
   {
    "duration": 823,
    "start_time": "2022-06-19T07:36:29.727Z"
   },
   {
    "duration": 97,
    "start_time": "2022-06-19T07:36:30.552Z"
   },
   {
    "duration": 2,
    "start_time": "2022-06-19T07:36:30.650Z"
   },
   {
    "duration": 20,
    "start_time": "2022-06-19T07:36:30.654Z"
   },
   {
    "duration": 63,
    "start_time": "2022-06-19T07:36:30.675Z"
   },
   {
    "duration": 476,
    "start_time": "2022-06-19T07:36:30.740Z"
   },
   {
    "duration": 33,
    "start_time": "2022-06-19T07:36:31.217Z"
   },
   {
    "duration": 29,
    "start_time": "2022-06-19T07:36:31.251Z"
   },
   {
    "duration": 179,
    "start_time": "2022-06-19T07:36:31.282Z"
   },
   {
    "duration": 7,
    "start_time": "2022-06-19T07:36:31.464Z"
   },
   {
    "duration": 45,
    "start_time": "2022-06-19T07:36:31.473Z"
   },
   {
    "duration": 7,
    "start_time": "2022-06-19T07:36:31.526Z"
   },
   {
    "duration": 487,
    "start_time": "2022-06-19T07:36:31.535Z"
   },
   {
    "duration": 342,
    "start_time": "2022-06-19T07:36:32.023Z"
   },
   {
    "duration": 132,
    "start_time": "2022-06-19T07:36:32.366Z"
   },
   {
    "duration": 7,
    "start_time": "2022-06-19T07:36:32.500Z"
   },
   {
    "duration": 21,
    "start_time": "2022-06-19T07:36:32.509Z"
   },
   {
    "duration": 17,
    "start_time": "2022-06-19T07:36:32.532Z"
   },
   {
    "duration": 21,
    "start_time": "2022-06-19T07:36:32.551Z"
   },
   {
    "duration": 17,
    "start_time": "2022-06-19T07:36:32.574Z"
   },
   {
    "duration": 54,
    "start_time": "2022-06-19T07:36:32.593Z"
   },
   {
    "duration": 133,
    "start_time": "2022-06-19T07:36:32.650Z"
   },
   {
    "duration": 2,
    "start_time": "2022-06-19T07:36:32.784Z"
   },
   {
    "duration": 9,
    "start_time": "2022-06-19T07:36:32.788Z"
   },
   {
    "duration": 259,
    "start_time": "2022-06-19T07:36:32.798Z"
   },
   {
    "duration": 365,
    "start_time": "2022-06-19T07:36:33.059Z"
   },
   {
    "duration": 23,
    "start_time": "2022-06-19T07:36:33.427Z"
   },
   {
    "duration": 3,
    "start_time": "2022-06-19T07:36:33.451Z"
   },
   {
    "duration": 31,
    "start_time": "2022-06-19T07:36:33.456Z"
   },
   {
    "duration": 50,
    "start_time": "2022-06-19T07:36:33.488Z"
   },
   {
    "duration": 319,
    "start_time": "2022-06-19T07:36:33.539Z"
   },
   {
    "duration": 259,
    "start_time": "2022-06-19T07:36:33.859Z"
   },
   {
    "duration": 6,
    "start_time": "2022-06-19T07:36:34.120Z"
   },
   {
    "duration": 3,
    "start_time": "2022-06-19T07:36:34.128Z"
   },
   {
    "duration": 701,
    "start_time": "2022-06-19T07:36:34.132Z"
   },
   {
    "duration": 19,
    "start_time": "2022-06-19T07:36:34.834Z"
   },
   {
    "duration": 10,
    "start_time": "2022-06-19T07:36:34.854Z"
   },
   {
    "duration": 90,
    "start_time": "2022-06-19T07:36:34.866Z"
   },
   {
    "duration": 3,
    "start_time": "2022-06-19T07:36:34.958Z"
   },
   {
    "duration": 735,
    "start_time": "2022-06-19T07:36:34.962Z"
   },
   {
    "duration": 15024,
    "start_time": "2022-06-19T07:36:35.699Z"
   },
   {
    "duration": 49850,
    "start_time": "2022-06-19T07:36:50.727Z"
   },
   {
    "duration": 678465,
    "start_time": "2022-06-19T07:37:40.578Z"
   },
   {
    "duration": 87,
    "start_time": "2022-06-19T07:48:59.044Z"
   },
   {
    "duration": 29924,
    "start_time": "2022-06-19T07:48:59.133Z"
   },
   {
    "duration": 5184,
    "start_time": "2022-06-19T07:49:29.059Z"
   },
   {
    "duration": 42928,
    "start_time": "2022-06-19T07:49:34.327Z"
   },
   {
    "duration": 6,
    "start_time": "2022-06-19T07:50:17.256Z"
   },
   {
    "duration": 8,
    "start_time": "2022-06-19T07:50:17.327Z"
   },
   {
    "duration": 172,
    "start_time": "2022-06-19T07:50:17.337Z"
   },
   {
    "duration": 9,
    "start_time": "2022-06-19T08:09:37.420Z"
   },
   {
    "duration": 160,
    "start_time": "2022-06-19T08:09:40.126Z"
   }
  ],
  "kernelspec": {
   "display_name": "Python 3 (ipykernel)",
   "language": "python",
   "name": "python3"
  },
  "language_info": {
   "codemirror_mode": {
    "name": "ipython",
    "version": 3
   },
   "file_extension": ".py",
   "mimetype": "text/x-python",
   "name": "python",
   "nbconvert_exporter": "python",
   "pygments_lexer": "ipython3",
   "version": "3.9.7"
  },
  "toc": {
   "base_numbering": 1,
   "nav_menu": {},
   "number_sections": true,
   "sideBar": true,
   "skip_h1_title": true,
   "title_cell": "Table of Contents",
   "title_sidebar": "Contents",
   "toc_cell": false,
   "toc_position": {
    "height": "calc(100% - 180px)",
    "left": "10px",
    "top": "150px",
    "width": "310.042px"
   },
   "toc_section_display": true,
   "toc_window_display": true
  }
 },
 "nbformat": 4,
 "nbformat_minor": 2
}
